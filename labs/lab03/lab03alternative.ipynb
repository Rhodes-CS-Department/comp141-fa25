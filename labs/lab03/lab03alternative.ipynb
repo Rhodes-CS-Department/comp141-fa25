{
 "cells": [
  {
   "cell_type": "markdown",
   "metadata": {
    "deletable": false,
    "editable": false,
    "run_control": {
     "frozen": true
    }
   },
   "source": [
    "# Lab 03 Alternative: Your First Game - Darts\n",
    "\n",
    "In this lab you're going to work through a step-by-step way to put together a fully working game using functions.\n",
    "We'll start off by writing our code just in `main()`, and then move the correct pieces to a function. You'll modify the function to take in various parameters, so that the drawing that the function produces can be fully customized."
   ]
  },
  {
   "cell_type": "markdown",
   "metadata": {},
   "source": [
    "__You should work with a partner on this lab. Put your partner's name in the cell below.__"
   ]
  },
  {
   "cell_type": "code",
   "execution_count": null,
   "metadata": {},
   "outputs": [],
   "source": [
    "#Partner's name here"
   ]
  },
  {
   "attachments": {
    "target.png": {
     "image/png": "[encoded data removed]"
    }
   },
   "cell_type": "markdown",
   "metadata": {
    "deletable": false,
    "editable": false,
    "run_control": {
     "frozen": true
    }
   },
   "source": [
    "## Step 1: The Bullseye\n",
    "Create a program to draw a bullseye (looks like the Target logo) on the screen.\n",
    "\n",
    "![target.png](attachment:target.png)\n",
    "\n",
    "\n",
    "First, the program below already defines a `main()` function that opens a canvas of size 500 x 500 and draws one circle\n",
    "using `draw_filled_circle` at (250, 250) with a radius of 50. (Run this prgram just to make sure your graphics are working correctly.)\n",
    "\n",
    "Then, modify `main()` so it draws five concentric circles using the `draw_filled_circle`\n",
    "function. The circles should have radii of 10, 20, 30, 40, and 50, and should alternate colors\n",
    "(use `set_color`) so you get a bullseye effect (see the picture above).\n",
    "\n",
    "__Render Order:__ Graphics usually render *back* to *front*, so whatever is drawn *last* appears on top of everything.\n"
   ]
  },
  {
   "cell_type": "code",
   "execution_count": 1,
   "metadata": {
    "code_folding": []
   },
   "outputs": [
    {
     "data": {
      "application/vnd.jupyter.widget-view+json": {
       "model_id": "dfb6ebe5028341eaafd4e9e208da4839",
       "version_major": 2,
       "version_minor": 0
      },
      "text/plain": [
       "AppLayout(children=(MultiCanvas(layout=Layout(grid_area='center'), sync_image_data=True, width=500),), layout=…"
      ]
     },
     "metadata": {},
     "output_type": "display_data"
    }
   ],
   "source": [
    "# Be sure the following import statement is at the top of all the code you write today.\n",
    "# It allows you to call the functions in the cs1.graphics library.\n",
    "from cs1.graphics import *\n",
    "\n",
    "def main():\n",
    "    open_canvas(500, 500)\n",
    "    \n",
    "    # This sets the drawing color.\n",
    "    set_color(\"red\")\n",
    "    \n",
    "    # This draws a circle of radius 50 at the point 250, 250.\n",
    "    draw_filled_circle(250, 250, 50)\n",
    "\n",
    "\n",
    "main()"
   ]
  },
  {
   "cell_type": "markdown",
   "metadata": {
    "deletable": false,
    "editable": false,
    "run_control": {
     "frozen": true
    }
   },
   "source": [
    "## Step 2: Reusable Bullseye Code\n",
    "* Define a function called `draw_bullseye` that takes two parameters that will represent the x and y-coordinates of the center of the bullseye. Add code to the body of `draw_bullseye` so that when called, it draws a bullseye at the (x, y) location specified by the parameters. \n",
    "* Test your code with `test()` to see if you get two different bullseyes at different locations."
   ]
  },
  {
   "cell_type": "code",
   "execution_count": 4,
   "metadata": {},
   "outputs": [
    {
     "data": {
      "application/vnd.jupyter.widget-view+json": {
       "model_id": "161648a872e742e688756de077be1c1e",
       "version_major": 2,
       "version_minor": 0
      },
      "text/plain": [
       "AppLayout(children=(MultiCanvas(height=300, layout=Layout(grid_area='center'), sync_image_data=True, width=500…"
      ]
     },
     "metadata": {},
     "output_type": "display_data"
    }
   ],
   "source": [
    "# Copy your code from Step 1 to here and modify it as specified.\n",
    "def draw_bullseye(x, y):\n",
    "    pass # what should you do with x and y?\n",
    "\n",
    "\n",
    "def test():\n",
    "    open_canvas(500, 300) # this should happen whenever you want a new display space, which for this test is exactly once\n",
    "    draw_bullseye(100, 100)\n",
    "    draw_bullseye(200, 0)\n",
    "\n",
    "\n",
    "test() # your test should reveal two bullseyes in different locations"
   ]
  },
  {
   "cell_type": "markdown",
   "metadata": {
    "deletable": false,
    "editable": false,
    "run_control": {
     "frozen": true
    }
   },
   "source": [
    "## Step 3: Taking Aim\n",
    "\n",
    "* Write a function `take_player_turn(bullseye_x, bullseye_y, bullseye_radius)` which:\n",
    "    * Asks the user for an `x` and `y` coordinate (where they think the bullseye is)\n",
    "    * Draws a little black circle at that coordinate to show the user where they aimed\n",
    "    * Tells the player if they're on the bullseye or not. To do this last step, you can either:\n",
    "        1. Just check the difference between the `bullseye_x` and the player's `x` and then the `bullseye_y` and the player's `y`. If either is bigger than the `bullseye_radius`, the player missed.\n",
    "        2. Use the distance formula for `(bullseye_x, bullseye_y)` and `(player_x, player_y)`\n",
    "* Check whether:\n",
    "    * The program tells you that you've missed when you miss\n",
    "    * The program tells you that you've hit when you've hit\n",
    "    * The program works with different locations for the bullseye"
   ]
  },
  {
   "cell_type": "code",
   "execution_count": 5,
   "metadata": {},
   "outputs": [
    {
     "data": {
      "application/vnd.jupyter.widget-view+json": {
       "model_id": "b46f598de6a94edeb8810242ce2d7bd7",
       "version_major": 2,
       "version_minor": 0
      },
      "text/plain": [
       "AppLayout(children=(MultiCanvas(height=300, layout=Layout(grid_area='center'), sync_image_data=True, width=500…"
      ]
     },
     "metadata": {},
     "output_type": "display_data"
    }
   ],
   "source": [
    "def take_player_turn(bullseye_x, bullseye_y, bullseye_radius):\n",
    "    set_color('black')\n",
    "    draw_filled_circle(100, 100, 3)\n",
    "\n",
    "\n",
    "def test():\n",
    "    open_canvas(500, 300)\n",
    "    bullseye_x = 100\n",
    "    bullseye_y = 100\n",
    "    bullseye_radius = 10 # is this correct?\n",
    "    draw_bullseye(100, 100)\n",
    "    take_player_turn(100, 100, 10)\n",
    "\n",
    "test()"
   ]
  },
  {
   "cell_type": "markdown",
   "metadata": {},
   "source": [
    "# Step 4: Draw the Dart\n",
    "\n",
    "Instead of a drawing a black circle when the player guesses, draw a dart whose tip is located at the player's guess. Good luck!\n",
    "\n",
    "* Copy your `take_player_turn` function here. In additional to `draw_filled_cirlce(player_x, player_y)` to show where the player aimed, also call `draw_dart(player_x, player_y)`. That way you can see where your dart is *supposed* to land.\n",
    "\n",
    "* Test it again to make sure it all looks right and works correctly!"
   ]
  },
  {
   "cell_type": "code",
   "execution_count": 3,
   "metadata": {},
   "outputs": [
    {
     "data": {
      "application/vnd.jupyter.widget-view+json": {
       "model_id": "994b4274ca754fa4854397596928864f",
       "version_major": 2,
       "version_minor": 0
      },
      "text/plain": [
       "AppLayout(children=(MultiCanvas(height=300, layout=Layout(grid_area='center'), sync_image_data=True, width=500…"
      ]
     },
     "metadata": {},
     "output_type": "display_data"
    },
    {
     "ename": "NameError",
     "evalue": "name 'draw_bullseye' is not defined",
     "output_type": "error",
     "traceback": [
      "\u001b[31m---------------------------------------------------------------------------\u001b[39m",
      "\u001b[31mNameError\u001b[39m                                 Traceback (most recent call last)",
      "\u001b[36mCell\u001b[39m\u001b[36m \u001b[39m\u001b[32mIn[3]\u001b[39m\u001b[32m, line 17\u001b[39m\n\u001b[32m     13\u001b[39m     draw_bullseye(\u001b[32m100\u001b[39m, \u001b[32m100\u001b[39m)\n\u001b[32m     14\u001b[39m     take_player_turn(\u001b[32m100\u001b[39m, \u001b[32m100\u001b[39m, \u001b[32m10\u001b[39m)\n\u001b[32m---> \u001b[39m\u001b[32m17\u001b[39m \u001b[43mtest\u001b[49m\u001b[43m(\u001b[49m\u001b[43m)\u001b[49m    \n",
      "\u001b[36mCell\u001b[39m\u001b[36m \u001b[39m\u001b[32mIn[3]\u001b[39m\u001b[32m, line 13\u001b[39m, in \u001b[36mtest\u001b[39m\u001b[34m()\u001b[39m\n\u001b[32m     11\u001b[39m bullseye_y = \u001b[32m100\u001b[39m\n\u001b[32m     12\u001b[39m bullseye_radius = \u001b[32m10\u001b[39m \u001b[38;5;66;03m# is this correct?\u001b[39;00m\n\u001b[32m---> \u001b[39m\u001b[32m13\u001b[39m \u001b[43mdraw_bullseye\u001b[49m(\u001b[32m100\u001b[39m, \u001b[32m100\u001b[39m)\n\u001b[32m     14\u001b[39m take_player_turn(\u001b[32m100\u001b[39m, \u001b[32m100\u001b[39m, \u001b[32m10\u001b[39m)\n",
      "\u001b[31mNameError\u001b[39m: name 'draw_bullseye' is not defined"
     ]
    }
   ],
   "source": [
    "# copy and modify take_player_turn here\n",
    "def take_player_turn(bullseye_x, bullseye_y, bullseye_radius):\n",
    "    pass\n",
    "\n",
    "def draw_dart(x, y):\n",
    "    pass\n",
    "\n",
    "def test():\n",
    "    open_canvas(500, 300)\n",
    "    bullseye_x = 100\n",
    "    bullseye_y = 100\n",
    "    bullseye_radius = 10 # is this correct?\n",
    "    draw_bullseye(100, 100)\n",
    "    take_player_turn(100, 100, 10)\n",
    "\n",
    "\n",
    "test()    "
   ]
  },
  {
   "cell_type": "markdown",
   "metadata": {},
   "source": [
    "# Step 5: Randomly Choose a Bullseye Location\n",
    "\n",
    "Good games have variety! One easy way to add variety is **random numbers**. Use the following code snippet to draw a bullseye randomly on the canvas."
   ]
  },
  {
   "cell_type": "code",
   "execution_count": 1,
   "metadata": {},
   "outputs": [
    {
     "name": "stdout",
     "output_type": "stream",
     "text": [
      "304 107\n"
     ]
    }
   ],
   "source": [
    "from random import randint\n",
    "\n",
    "def example():\n",
    "    random_x = randint(100, 400)\n",
    "    random_y = randint(100, 200)\n",
    "    print(random_x, random_y)\n",
    "    # can you use these random numbers yourself to move the bullseye around at random?\n",
    "\n",
    "example()"
   ]
  },
  {
   "cell_type": "markdown",
   "metadata": {},
   "source": [
    "# Step 6: Put it All Together!\n",
    "\n",
    "Open `darts.py`. Paste your `draw_dart`, `draw_bullseye`, and `take_player_turn` functions.\n",
    "\n",
    "Write `main`:\n",
    "* Open the canvas exactly once!\n",
    "* Draw a single bullseye at a random location\n",
    "* Let the player take their turn (call `take_player_turn` with the correct arguments!)\n",
    "* Ask the player if they want to play again\n",
    "\n",
    "Run the next cell. Your game should work!"
   ]
  },
  {
   "cell_type": "code",
   "execution_count": null,
   "metadata": {},
   "outputs": [],
   "source": [
    "%run darts.py"
   ]
  },
  {
   "cell_type": "markdown",
   "metadata": {
    "deletable": false,
    "editable": false,
    "run_control": {
     "frozen": true
    }
   },
   "source": [
    "#### Challenge Questions\n",
    "\n",
    "Modify your solutions in `darts.py` for the following problems:\n",
    "\n",
    "* **Difficulty Levels:** Ask the user what difficulty they want (Easy, Regular, Hard). Rewrite `draw_bullseye` so that it takes a third argument, `radius`, and creates a very large bullseye on Easy, a regular one on Regular, and a small one on Hard.\n",
    "\n",
    "* **Dart Customization:** Ask the user what dart color / style they want, and draw a different dart depending on their answer.\n",
    "\n",
    "* **Play Again:** What if the player want to play again?\n"
   ]
  },
  {
   "cell_type": "markdown",
   "metadata": {
    "deletable": false,
    "editable": false,
    "run_control": {
     "frozen": true
    }
   },
   "source": [
    "## Feedback Questions\n",
    "\n",
    "Please answer the following questions in the cell below.\n",
    "1. Are there any particular steps you would like to go over in class?\n",
    "2. About how long did this lab take you to complete?\n",
    "3. Did you receive any assistance with this lab?\n",
    "4. How long did you spend on the lab?"
   ]
  },
  {
   "cell_type": "markdown",
   "metadata": {},
   "source": [
    " Answers to feedback:  (double click this cell to edit it)\n",
    " \n",
    " 1.\n",
    " \n",
    " 2.\n",
    "\n",
    " 3.\n",
    "\n",
    " 4.\n",
    "\n",
    " \n",
    " "
   ]
  },
  {
   "cell_type": "markdown",
   "metadata": {
    "deletable": false,
    "editable": false
   },
   "source": [
    "## Turn it in!\n",
    "When you're done with the lab, run the following cell to turn in your lab.\n"
   ]
  },
  {
   "cell_type": "code",
   "execution_count": null,
   "metadata": {
    "deletable": false,
    "editable": false
   },
   "outputs": [],
   "source": [
    "# Run this cell to log in to okpy.org, and submit your lab.\n",
    "from cs1.notebooks import *\n",
    "ok_submit('lab03.ok')"
   ]
  },
  {
   "cell_type": "code",
   "execution_count": null,
   "metadata": {},
   "outputs": [],
   "source": []
  }
 ],
 "metadata": {
  "kernelspec": {
   "display_name": "Python 3",
   "language": "python",
   "name": "python3"
  },
  "language_info": {
   "codemirror_mode": {
    "name": "ipython",
    "version": 3
   },
   "file_extension": ".py",
   "mimetype": "text/x-python",
   "name": "python",
   "nbconvert_exporter": "python",
   "pygments_lexer": "ipython3",
   "version": "3.11.9"
  },
  "varInspector": {
   "cols": {
    "lenName": 16,
    "lenType": 16,
    "lenVar": 40
   },
   "kernels_config": {
    "python": {
     "delete_cmd_postfix": "",
     "delete_cmd_prefix": "del ",
     "library": "var_list.py",
     "varRefreshCmd": "print(var_dic_list())"
    },
    "r": {
     "delete_cmd_postfix": ") ",
     "delete_cmd_prefix": "rm(",
     "library": "var_list.r",
     "varRefreshCmd": "cat(var_dic_list()) "
    }
   },
   "types_to_exclude": [
    "module",
    "function",
    "builtin_function_or_method",
    "instance",
    "_Feature"
   ],
   "window_display": false
  }
 },
 "nbformat": 4,
 "nbformat_minor": 2
}
