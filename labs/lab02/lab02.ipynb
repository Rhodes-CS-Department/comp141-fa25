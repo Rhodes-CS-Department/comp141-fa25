{
 "cells": [
  {
   "cell_type": "markdown",
   "id": "cf1f3807",
   "metadata": {},
   "source": [
    "# Lab 02: Using Conditional Statements\n",
    "\n",
    "The following lab is designed to help you practice writing code that requires conditional statements. You do not need to use functions for any of the problems on this lab.\n",
    "\n",
    "Please let me know if you struggled with writing any of the following programs in the feedback cell at the bottom of the page.\n",
    "\n",
    "__For each of the following problems, please put a comment at the top of your code explaining the purpose of the program.__\n",
    "\n"
   ]
  },
  {
   "cell_type": "markdown",
   "id": "0e1c8670",
   "metadata": {},
   "source": [
    "### 1. Day of the Week\n",
    "Write a Python program that asks the user to enter a number (1-7) and prints the corresponding day of the week:\n",
    "1. Monday\n",
    "2. Tuesday\n",
    "3. Wednesday\n",
    "4. Thursday\n",
    "5. Friday\n",
    "6. Saturday\n",
    "7. Sunday\n",
    " \n",
    "If the user types in anything except a number from 1-7, your program should tell them that it is not a valid option. \n",
    "\n",
    "Here's an example run of the program:\n",
    "```\n",
    "Enter the day of week as a number (1-7): 3\n",
    "It is Wednesday!\n",
    "```"
   ]
  },
  {
   "cell_type": "code",
   "execution_count": null,
   "id": "ee11a891",
   "metadata": {},
   "outputs": [],
   "source": [
    "# Write your program in this cell. Be sure to test your program!\n"
   ]
  },
  {
   "cell_type": "markdown",
   "id": "84d67cd4",
   "metadata": {},
   "source": [
    "### 2. Body Mass Index (BMI) Calculator\n",
    "Write a Python program that calculates a person’s Body Mass Index (BMI) based on their weight (in kilograms) and height (in meters). Then classify the BMI into categories:\n",
    "* BMI < 18.5: Underweight\n",
    "* 18.5 ≤ BMI < 24.9: Normal weight\n",
    "* 25 ≤ BMI < 29.9: Overweight\n",
    "* BMI ≥ 30: Obese\n",
    "\n",
    "__Formula:__ BMI = weight / (height * height)\n",
    "\n",
    "In the U.S., we typically report weight in pounds (lbs) rather than kilograms. Therefore, you should prompt the user for their weight in pounds and convert it to kilograms. \n",
    "\n",
    "Similarly, in the U.S., we typically report our height as feet and inches. Therefore, you should prompt the user for their height in feet and inches (2 separate inputs) and convert the height into meters.\n",
    "\n",
    "Here are some conversions you may need to do these calculations: \n",
    "\n",
    "* 1 lb = 0.454 kg\n",
    "* 1 in = 0.0254 m\n",
    "* 1 ft = 0.3048 m\n",
    "\n",
    "Here's an example run of the program. \n",
    "```\n",
    "Let's calculate your Body Mass Index based on your height and weight. \n",
    "Please enter these values when prompted. You'll need to enter your height in feet and then inches.\n",
    "\n",
    "Weight (in pounds): 160\n",
    "Height (feet): 5\n",
    "Height (inches): 8\n",
    "\n",
    "Your BMI is: 24.349529667917473\n",
    "This BMI is considered to be: Normal weight\n",
    "'''\n",
    "\n"
   ]
  },
  {
   "cell_type": "code",
   "execution_count": null,
   "id": "3666d877",
   "metadata": {},
   "outputs": [],
   "source": [
    "# Write your program in this cell. Be sure to test your program!\n"
   ]
  },
  {
   "cell_type": "markdown",
   "id": "3295c2b0",
   "metadata": {},
   "source": [
    "### 3. Voter-eligibility by age\n",
    "Write a program that prompts the user to enter the month, day, and year in which they were born (get each as a separate input). \n",
    "\n",
    "Based on the user's inputs, determine if they are age-eligible to vote in the upcoming presidential election on Tuesday, November 5, 2024. The age criteria is that they must be 18 years old on or before Election Day. \n",
    "\n",
    "Here's an example run of the program. \n",
    "```\n",
    "Let's see if you are age eligible to participate in the upcoming U.S. presidential election.\n",
    "\n",
    "\n",
    "Month you were born (1-12): 2\n",
    "Day of month you were born (1-31): 28\n",
    "Year you were born (ex: 2001): 1990\n",
    "\n",
    "You will be 34 on Nov. 5, 2024, so be sure to get out and cast your vote!\n",
    "```"
   ]
  },
  {
   "cell_type": "code",
   "execution_count": null,
   "id": "51352a3a",
   "metadata": {},
   "outputs": [],
   "source": [
    "# Write your program in this cell. Be sure to test your program!\n"
   ]
  },
  {
   "cell_type": "markdown",
   "id": "494335b4",
   "metadata": {},
   "source": [
    "### 4. MLGW needs your help!\n",
    "Write a program to help Memphis Lights, Gas, & Water (MLGW) calculate the cost of a water bill based on the number of gallons that a customer used that month. \n",
    "\n",
    "Your program should get as input the number of gallons of water that a customer used that month. (This will always be an integer with no decimal part. You may assume the user will enter a positive integer.)\n",
    "\n",
    "It should output the amount of the water bill.\n",
    "\n",
    "The water company uses this pricing structure:\n",
    "\n",
    "\n",
    "| Tier | Amount in gallons | Price per 1000 gallons|\n",
    "|:---------:|:---------------------:|:--------------------:|\n",
    "| Tier 1 | 0 - 8,000 | \\$5 |\n",
    "| Tier 2 | 8,001 - 22,000 |             \\$6             \t|\n",
    "| Tier 3 |    22,001 - 30,000    \t|             \\$7             \t|\n",
    "| Tier 4 |        30,001+        \t|             \\$10            \t|\n",
    "\n",
    "For example:\n",
    "\n",
    "Someone who uses 10,000 gallons of water in a month is placed in Tier 2, and needs to pay a water bill of $6 * 10 = \\$60$. In other words:\n",
    "\n",
    "```\n",
    "Please enter the number of gallons of water used this month (integers only): 10000\n",
    "\n",
    "Your water bill this month is $60.00\n",
    "```\n",
    "\n",
    "Someone who uses 25,000 gallons of water in a month is placed in Tier 3, and needs to pay a water bill of $7 * 25 = \\$175$. In other words:\n",
    "```\n",
    "Please enter the number of gallons of water used this month (integers only): 25000\n",
    "\n",
    "Your water bill this month is $175.00\n",
    "```\n",
    "\n",
    "Be sure to format your output to use a dollar sign an 2 decimal places. "
   ]
  },
  {
   "cell_type": "code",
   "execution_count": null,
   "id": "d7cd31fc",
   "metadata": {},
   "outputs": [],
   "source": [
    "# Write your program in this cell. Be sure to test your program!\n"
   ]
  },
  {
   "cell_type": "markdown",
   "id": "3135bb23",
   "metadata": {},
   "source": [
    "## Feedback Questions\n",
    "\n",
    "Please answer the following questions in the cell below.\n",
    "1. Are there any particular steps you would like to go over in class?\n",
    "2. Do you have any questions about the material we have covered so far?"
   ]
  },
  {
   "cell_type": "markdown",
   "id": "651dc6a8",
   "metadata": {},
   "source": [
    "Answers to feedback:  (double click this cell to edit it)\n",
    " \n",
    " 1.\n",
    " \n",
    " 2.\n",
    " "
   ]
  },
  {
   "cell_type": "markdown",
   "id": "baba6264",
   "metadata": {},
   "source": [
    "## Turn it in!\n",
    "When you're done with the lab, run the following cell to turn in your lab."
   ]
  },
  {
   "cell_type": "code",
   "execution_count": null,
   "id": "5c0f1d9d",
   "metadata": {},
   "outputs": [],
   "source": [
    "# Run this cell to log in to okpy.org, and submit your lab.\n",
    "from cs1.notebooks import *\n",
    "ok_submit('lab02.ok')"
   ]
  }
 ],
 "metadata": {
  "kernelspec": {
   "display_name": "Python 3 (ipykernel)",
   "language": "python",
   "name": "python3"
  },
  "language_info": {
   "codemirror_mode": {
    "name": "ipython",
    "version": 3
   },
   "file_extension": ".py",
   "mimetype": "text/x-python",
   "name": "python",
   "nbconvert_exporter": "python",
   "pygments_lexer": "ipython3",
   "version": "3.11.4"
  },
  "varInspector": {
   "cols": {
    "lenName": 16,
    "lenType": 16,
    "lenVar": 40
   },
   "kernels_config": {
    "python": {
     "delete_cmd_postfix": "",
     "delete_cmd_prefix": "del ",
     "library": "var_list.py",
     "varRefreshCmd": "print(var_dic_list())"
    },
    "r": {
     "delete_cmd_postfix": ") ",
     "delete_cmd_prefix": "rm(",
     "library": "var_list.r",
     "varRefreshCmd": "cat(var_dic_list()) "
    }
   },
   "types_to_exclude": [
    "module",
    "function",
    "builtin_function_or_method",
    "instance",
    "_Feature"
   ],
   "window_display": false
  }
 },
 "nbformat": 4,
 "nbformat_minor": 5
}
