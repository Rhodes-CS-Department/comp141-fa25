{
 "cells": [
  {
   "cell_type": "markdown",
   "id": "cf1f3807",
   "metadata": {},
   "source": [
    "# Lab 02: Using Conditional Statements\n",
    "\n",
    "The following lab is designed to help you practice writing code that requires conditional statements. You do not need to use functions for any of the problems on this lab.\n",
    "\n",
    "Please let me know if you struggled with writing any of the following programs in the feedback cell at the bottom of the page.\n",
    "\n",
    "__For each of the following problems, please put a comment at the top of your code explaining the purpose of the program.__\n",
    "\n"
   ]
  },
  {
   "cell_type": "markdown",
   "id": "0e1c8670",
   "metadata": {},
   "source": [
    "### 1. Day of the Week\n",
    "Write a Python program that asks the user to enter a number (1-7) and prints the corresponding day of the week:\n",
    "1. Monday\n",
    "2. Tuesday\n",
    "3. Wednesday\n",
    "4. Thursday\n",
    "5. Friday\n",
    "6. Saturday\n",
    "7. Sunday\n",
    " \n",
    "If the user types in anything except a number from 1-7, your program should tell them that it is not a valid option. \n",
    "\n",
    "Here's an example run of the program:\n",
    "```\n",
    "Enter the day of week as a number (1-7): 3\n",
    "It is Wednesday!\n",
    "```"
   ]
  },
  {
   "cell_type": "code",
   "execution_count": null,
   "id": "ee11a891",
   "metadata": {},
   "outputs": [],
   "source": [
    "# Write your program in this cell. Be sure to test your program!\n"
   ]
  },
  {
   "cell_type": "markdown",
   "id": "84d67cd4",
   "metadata": {},
   "source": [
    "### 2. Tax Bracket Calculator\n",
    "Write a Python program that calculates a person’s tax bracket based on their income. A person's tax bracket changes based on both their income and their filing status:\n",
    "* Single:\n",
    "  | Tax rate | On taxable income from... | up to...  |\n",
    "  | -------- | ------------------------- | --------- |\n",
    "  | 10%      | \\$0                       | \\$11,600  |\n",
    "  | 12%      | \\$11,601                  | \\$47,150  |\n",
    "  | 22%      | \\$47,151                  | \\$100,525 |\n",
    "  | 24%      | \\$100,526                 | \\$191,950 |\n",
    "  | 32%      | \\$191,951                 | \\$243,745 |\n",
    "  | 35%      | \\$243,726                 | \\$609,350 |\n",
    "  | 37%      | \\$609,351                 | And up    |\n",
    "  \n",
    "* Married (Joint Filing):\n",
    "  | Tax rate | On taxable income from... | up to...  |\n",
    "  | -------- | ------------------------- | --------- |\n",
    "  | 10%      | \\$0                       | \\$23,200  |\n",
    "  | 12%      | \\$23,201                  | \\$94,300  |\n",
    "  | 22%      | \\$94,301                  | \\$201,050 |\n",
    "  | 24%      | \\$201,051                 | \\$383,900 |\n",
    "  | 32%      | \\$383,901                 | \\$487,450 |\n",
    "  | 35%      | \\$487,451                 | \\$731,200 |\n",
    "  | 37%      | \\$731,201                 | And up    |\n",
    "\n",
    "  \n",
    "* Married (Separate Filing):\n",
    "  | Tax rate | On taxable income from... | up to...  |\n",
    "  | -------- | ------------------------- | --------- |\n",
    "  | 10%      | \\$0                       | \\$11,600  |\n",
    "  | 12%      | \\$11,601                  | \\$47,150  |\n",
    "  | 22%      | \\$47,151                  | \\$100,525 |\n",
    "  | 24%      | \\$100,526                 | \\$191,950 |\n",
    "  | 32%      | \\$191,951                 | \\$243,725 |\n",
    "  | 35%      | \\$243,726                 | \\$365,600 |\n",
    "  | 37%      | \\$365,601                 | And up    |\n",
    "\n",
    "  \n",
    "* Head of Household:\n",
    "  | Tax rate | On taxable income from... | up to...  |\n",
    "  | -------- | ------------------------- | --------- |\n",
    "  | 10%      | \\$0                       | \\$16,550  |\n",
    "  | 12%      | \\$16,551                  | \\$63,100  |\n",
    "  | 22%      | \\$63,101                  | \\$100,500 |\n",
    "  | 24%      | \\$100,501                 | \\$191,950 |\n",
    "  | 32%      | \\$191,951                 | \\$243,700 |\n",
    "  | 35%      | \\$243,701                 | \\$609,350 |\n",
    "  \n",
    "For example, this is how a single person with taxable income of \\$58,000 would be taxed.\n",
    "\n",
    "![image](images/tax-brackets-14nt-en.jpg)\n",
    "\n",
    "Write a program that asks the user for their filing status and their income, then calculates the amount of taxes that they should pay.\n",
    "\n",
    "Here's an example run of the program. \n",
    "```\n",
    "Let's calculate the amount of taxes you owe based on your filing status and taxable income. \n",
    "Please enter these values when prompted. You'll need to enter your status as \"Single\", \"Married (Joint Filing)\", \"Married (Separate Filing)\", or \"Head of Household\". Enter your taxable income in US dollars.\n",
    "\n",
    "Filing Status: Single\n",
    "Taxable Income: 58000\n",
    "\n",
    "You owe $7813 in taxes.\n",
    "```\n",
    "\n"
   ]
  },
  {
   "cell_type": "code",
   "execution_count": null,
   "id": "3666d877",
   "metadata": {},
   "outputs": [],
   "source": [
    "# Write your program in this cell. Be sure to test your program!\n"
   ]
  },
  {
   "cell_type": "markdown",
   "id": "3295c2b0",
   "metadata": {},
   "source": [
    "### 3. Voter-eligibility by age\n",
    "Write a program that prompts the user to enter the month, day, and year in which they were born (get each as a separate input). \n",
    "\n",
    "Based on the user's inputs, determine if they are age-eligible to vote in the upcoming presidential election on Tuesday, November 5, 2024. The age criteria is that they must be 18 years old on or before Election Day. \n",
    "\n",
    "Here's an example run of the program. \n",
    "```\n",
    "Let's see if you are age eligible to participate in the upcoming U.S. presidential election.\n",
    "\n",
    "\n",
    "Month you were born (1-12): 2\n",
    "Day of month you were born (1-31): 28\n",
    "Year you were born (ex: 2001): 1990\n",
    "\n",
    "You will be 34 on Nov. 5, 2024, so be sure to get out and cast your vote!\n",
    "```"
   ]
  },
  {
   "cell_type": "code",
   "execution_count": null,
   "id": "51352a3a",
   "metadata": {},
   "outputs": [],
   "source": [
    "# Write your program in this cell. Be sure to test your program!\n"
   ]
  },
  {
   "cell_type": "markdown",
   "id": "494335b4",
   "metadata": {},
   "source": [
    "### 4. MLGW needs your help!\n",
    "Write a program to help Memphis Lights, Gas, & Water (MLGW) calculate the cost of a water bill based on the number of gallons that a customer used that month. \n",
    "\n",
    "Your program should get as input the number of gallons of water that a customer used that month. (This will always be an integer with no decimal part. You may assume the user will enter a positive integer.)\n",
    "\n",
    "It should output the amount of the water bill.\n",
    "\n",
    "The water company uses this pricing structure:\n",
    "\n",
    "\n",
    "| Tier | Amount in gallons | Price per 1000 gallons|\n",
    "|:---------:|:---------------------:|:--------------------:|\n",
    "| Tier 1 | 0 - 8,000 | \\$5 |\n",
    "| Tier 2 | 8,001 - 22,000 |             \\$6             \t|\n",
    "| Tier 3 |    22,001 - 30,000    \t|             \\$7             \t|\n",
    "| Tier 4 |        30,001+        \t|             \\$10            \t|\n",
    "\n",
    "For example:\n",
    "\n",
    "Someone who uses 10,000 gallons of water in a month is placed in Tier 2, and needs to pay a water bill of $6 * 10 = \\$60$. In other words:\n",
    "\n",
    "```\n",
    "Please enter the number of gallons of water used this month (integers only): 10000\n",
    "\n",
    "Your water bill this month is $60.00\n",
    "```\n",
    "\n",
    "Someone who uses 25,000 gallons of water in a month is placed in Tier 3, and needs to pay a water bill of $7 * 25 = \\$175$. In other words:\n",
    "```\n",
    "Please enter the number of gallons of water used this month (integers only): 25000\n",
    "\n",
    "Your water bill this month is $175.00\n",
    "```\n",
    "\n",
    "Be sure to format your output to use a dollar sign an 2 decimal places. "
   ]
  },
  {
   "cell_type": "code",
   "execution_count": null,
   "id": "d7cd31fc",
   "metadata": {},
   "outputs": [],
   "source": [
    "# Write your program in this cell. Be sure to test your program!\n"
   ]
  },
  {
   "cell_type": "markdown",
   "id": "3135bb23",
   "metadata": {},
   "source": [
    "## Feedback Questions\n",
    "\n",
    "Please answer the following questions in the cell below.\n",
    "1. Are there any particular steps you would like to go over in class?\n",
    "2. Do you have any questions about the material we have covered so far?"
   ]
  },
  {
   "cell_type": "markdown",
   "id": "651dc6a8",
   "metadata": {},
   "source": [
    "Answers to feedback:  (double click this cell to edit it)\n",
    " \n",
    " 1.\n",
    " \n",
    " 2.\n",
    " "
   ]
  },
  {
   "cell_type": "markdown",
   "id": "55596f31-e036-4fd9-9b0a-890d404e3598",
   "metadata": {},
   "source": [
    "## AI statement\n",
    "Describe in detail any ways you used AI/LLMs for this assignment, and justify why you think you did the majority of the assignment and should get credit for it. If you did not use AI, just state that. **Do not leave this question blank.**\n",
    "\n",
    "Describe your use of AI here:"
   ]
  },
  {
   "cell_type": "code",
   "execution_count": null,
   "id": "c2333af6-abf8-408d-92da-a6f476e7b829",
   "metadata": {},
   "outputs": [],
   "source": []
  },
  {
   "cell_type": "markdown",
   "id": "baba6264",
   "metadata": {},
   "source": [
    "## Turn it in!\n",
    "When you're done with the lab, run the following cell to turn in your lab."
   ]
  },
  {
   "cell_type": "code",
   "execution_count": null,
   "id": "5c0f1d9d",
   "metadata": {},
   "outputs": [],
   "source": [
    "# Run this cell to log in to okpy.org, and submit your lab.\n",
    "from cs1.notebooks import *\n",
    "ok_submit('lab02.ok')"
   ]
  }
 ],
 "metadata": {
  "kernelspec": {
   "display_name": "Python 3 (ipykernel)",
   "language": "python",
   "name": "python3"
  },
  "language_info": {
   "codemirror_mode": {
    "name": "ipython",
    "version": 3
   },
   "file_extension": ".py",
   "mimetype": "text/x-python",
   "name": "python",
   "nbconvert_exporter": "python",
   "pygments_lexer": "ipython3",
   "version": "3.12.3"
  },
  "varInspector": {
   "cols": {
    "lenName": 16,
    "lenType": 16,
    "lenVar": 40
   },
   "kernels_config": {
    "python": {
     "delete_cmd_postfix": "",
     "delete_cmd_prefix": "del ",
     "library": "var_list.py",
     "varRefreshCmd": "print(var_dic_list())"
    },
    "r": {
     "delete_cmd_postfix": ") ",
     "delete_cmd_prefix": "rm(",
     "library": "var_list.r",
     "varRefreshCmd": "cat(var_dic_list()) "
    }
   },
   "types_to_exclude": [
    "module",
    "function",
    "builtin_function_or_method",
    "instance",
    "_Feature"
   ],
   "window_display": false
  }
 },
 "nbformat": 4,
 "nbformat_minor": 5
}
