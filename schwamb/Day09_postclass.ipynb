{
 "cells": [
  {
   "attachments": {},
   "cell_type": "markdown",
   "metadata": {},
   "source": [
    "# Day 9: While Loops\n",
    "\n",
    "Our programs will often require that we write code that performs the same task multiple times. Duplicating code has a number of disadvantages including it's time consuming, it makes your program needlessly long, and if you make a mistake, you'll need to fix it in multiple locations. \n",
    "\n",
    "If you find yourself writing the same code over and over like this, you'll want to consider writing a loop.\n",
    "```\n",
    "x = 1\n",
    "if x < 10:\n",
    "    x += 1 #this line of code is equivalent to x = x + 1\n",
    "    print(x)\n",
    "if x < 10:\n",
    "    x += 1\n",
    "    print(x)\n",
    "if x < 10:\n",
    "    x += 1\n",
    "    print(x)\n",
    "if x < 10:\n",
    "    x += 1\n",
    "    print(x)\n",
    "if x < 10:\n",
    "    x += 1\n",
    "    print(x)\n",
    "if x < 10:\n",
    "    x += 1\n",
    "    print(x)\n",
    "if x < 10:\n",
    "    x += 1\n",
    "    print(x)\n",
    "```\n",
    "\n",
    "## Introduction to Repetition Structures\n",
    "__Repetition structure:__ makes computer repeat included code as necessary\n",
    "* Includes condition-controlled loops and count-controlled loops\n",
    "* We'll learn about condition-controlled loops today and count-controlled loops tomorrow\n",
    "\n",
    "## While Loops\n",
    "\n",
    "Syntax:\n",
    "```\n",
    "while __test__: #test is a boolean expression (evaluates to True or False)\n",
    "    statement 1\n",
    "    statement 2\n",
    "    statement 3 \n",
    "statement 4\n",
    "statement 5\n",
    "```\n",
    "In the above example, statements 1-3 are part of the body of the loop (indented). Statements 4 and 5 will only execute after the loop body is completely done executing.\n",
    "\n",
    "Below are flow charts for while loops (the left shows a general flow chart), the right shows the flow chart for a specific program. Let's trace through the code for the example on the right and then we can run the code below to verify our solution.\n",
    "\n",
    "![whileLoop.png](attachment:whileLoop.png)"
   ]
  },
  {
   "cell_type": "code",
   "execution_count": 2,
   "metadata": {},
   "outputs": [],
   "source": [
    "#Program from right example above\n",
    "number = 6\n",
    "count = 7\n",
    "\n",
    "while count <= number:\n",
    "    print(count, end=', ')\n",
    "    count += 1 # increment the count by 1\n"
   ]
  },
  {
   "cell_type": "markdown",
   "metadata": {},
   "source": [
    "## More about While Loops\n",
    "* In order for a loop to stop executing, something has to happen inside the loop to make the condition `False`\n",
    "* __Iteration:__ one execution of the body of a loop\n",
    "* while loop is known as a pretest loop (tests condition before performing an iteration)\n",
    "<ul>\n",
    "    <li> Will never execute if condition is false to start with </li>\n",
    "    <li> Requires performing some steps prior to the loop </li>\n",
    "</ul>\n",
    "\n",
    "## Common Uses of Loop\n",
    "* Count the number of times something happens\n",
    "* Ask the user if they'd like to keep going\n"
   ]
  },
  {
   "cell_type": "code",
   "execution_count": 3,
   "metadata": {},
   "outputs": [
    {
     "name": "stdout",
     "output_type": "stream",
     "text": [
      "0\n",
      "1\n",
      "2\n",
      "3\n",
      "4\n",
      "5\n",
      "6\n",
      "7\n",
      "8\n",
      "9\n"
     ]
    }
   ],
   "source": [
    "#Count by 1s example\n",
    "# Set up a variable to count\n",
    "count = 0\n",
    "while count < 10:\n",
    "    #Do something here\n",
    "    print(count) #an example of a statement \n",
    "    #update count value so that loop will eventually end\n",
    "    count += 1 #This is equivalent to count = count + 1"
   ]
  },
  {
   "cell_type": "code",
   "execution_count": 4,
   "metadata": {},
   "outputs": [
    {
     "name": "stdout",
     "output_type": "stream",
     "text": [
      "5\n",
      "10\n",
      "15\n",
      "20\n",
      "25\n",
      "30\n",
      "35\n",
      "40\n",
      "45\n",
      "50\n",
      "55\n",
      "60\n",
      "65\n",
      "70\n",
      "75\n",
      "80\n",
      "85\n",
      "90\n",
      "95\n"
     ]
    }
   ],
   "source": [
    "#Count by Fives Example\n",
    "# Set up a variable to count, want to count by fives this time\n",
    "count = 5\n",
    "while count < 100:\n",
    "    #Do something here\n",
    "    print(count)  #an example of a statement \n",
    "    #update count value so that loop will eventually end\n",
    "    count += 5    #This is equivalent to count = count + 5"
   ]
  },
  {
   "cell_type": "code",
   "execution_count": null,
   "metadata": {},
   "outputs": [],
   "source": [
    "count = 1\n",
    "while count < 100:\n",
    "    #Do something here\n",
    "    print(count) #an example of a statement \n",
    "    #update count value so that loop will eventually end\n",
    "    count *= 2 #This is equivalent to count = count * 2"
   ]
  },
  {
   "cell_type": "markdown",
   "metadata": {},
   "source": [
    "## Example: Bean burritos for all my friends\n",
    "Let's say that me and 21,000 of my friends are all having a party downtown this Saturday. I want to make bean burritos for everyone so they're not hungry at the party. How many bags of beans do I need to buy to make 21,000 burritos? Let's use a while loop to calculate it!\n",
    "\n",
    "__Challenge:__ Also calculate the amount of salsa and rice I need for these burritos! Assume that each burrito gets 1/4 c rice and 1 Tbsp salsa."
   ]
  },
  {
   "cell_type": "code",
   "execution_count": 8,
   "metadata": {},
   "outputs": [
    {
     "name": "stdout",
     "output_type": "stream",
     "text": [
      "How many people do you want to feed?1800\n",
      "To make 1800 burritos with 1/2c of beans per burrito, you will need 30 5lb bags of beans.\n"
     ]
    }
   ],
   "source": [
    "# bean burritos\n",
    "# each 5lb bag of dried beans makes 30c of cooked beans\n",
    "# each burrito should have 1/2c of cooked beans in it\n",
    "\n",
    "def main():\n",
    "    burritos = 0\n",
    "    bags = 0\n",
    "    people = int(input(\"How many people do you want to feed?\"))\n",
    "    beans_per_burrito = 1/2 # in cups\n",
    "    beans_per_bag = 30 # in cups\n",
    "    burritos_per_bag = beans_per_bag/beans_per_burrito\n",
    "    \n",
    "    while burritos < people:\n",
    "        if burritos % burritos_per_bag == 0:\n",
    "            bags += 1\n",
    "        burritos += 1\n",
    "    print(f\"To make {people} burritos with 1/2c of beans per burrito, you will need {bags} 5lb bags of beans.\")\n",
    "\n",
    "main()"
   ]
  },
  {
   "cell_type": "code",
   "execution_count": 11,
   "metadata": {},
   "outputs": [
    {
     "name": "stdout",
     "output_type": "stream",
     "text": [
      "How many people do you want to feed?21000\n",
      "To make 21000 burritos with 1/2c of beans per burrito, you will need 350 5lb bags of beans.\n",
      "Do you want to keep going? (yes or no)yes\n",
      "How many people do you want to feed?30000\n",
      "To make 30000 burritos with 1/2c of beans per burrito, you will need 500 5lb bags of beans.\n",
      "Do you want to keep going? (yes or no)no\n"
     ]
    }
   ],
   "source": [
    "#Keep Going Loop Example\n",
    "# Set up a variable to manage the loop\n",
    "keep_going = \"yes\"\n",
    "while keep_going == \"yes\":\n",
    "    burritos = 0\n",
    "    bags = 0\n",
    "    people = int(input(\"How many people do you want to feed?\"))\n",
    "    beans_per_burrito = 1/2 # in cups\n",
    "    beans_per_bag = 30 # in cups\n",
    "    burritos_per_bag = beans_per_bag/beans_per_burrito\n",
    "    \n",
    "    while burritos < people:\n",
    "        if burritos % burritos_per_bag == 0:\n",
    "            bags += 1\n",
    "        burritos += 1\n",
    "    print(f\"To make {people} burritos with 1/2c of beans per burrito, you will need {bags} 5lb bags of beans.\")\n",
    "    # Put whatever you want to happen\n",
    "    # multiple times in this space.\n",
    "\n",
    "    #Ask the user if they want to do it again\n",
    "    keep_going = input(\"Do you want to keep going? (yes or no)\")\n"
   ]
  },
  {
   "attachments": {
    "whileLoop2.png": {
     "image/png": "[encoded data removed]"
    }
   },
   "cell_type": "markdown",
   "metadata": {},
   "source": [
    "## Flowchart for Example Program\n",
    "![whileLoop2.png](attachment:whileLoop2.png)"
   ]
  },
  {
   "cell_type": "code",
   "execution_count": null,
   "metadata": {},
   "outputs": [],
   "source": [
    "# This program calculates sales commission based on user inputs \n",
    "\n",
    "def main():\n",
    "    keep_going = 'y'\n",
    "  \n",
    "    #Calculate a series of commissions\n",
    "    while keep_going == 'y':\n",
    "        sales = float(input(\"Enter the amount of sales: \"))\n",
    "        comm_rate = float(input(\"Enter the commission rate: \"))\n",
    "    \n",
    "        #Calculate the commission\n",
    "        commission = sales * comm_rate\n",
    "    \n",
    "        print(\"The commission is $\", format(commission, '.2f'), '.', sep='')\n",
    "    \n",
    "        #See if the user wants to do another one.\n",
    "        keep_going = input(\"Do you want to calculate another commission (y for yes)? \")\n",
    "    \n",
    "main()"
   ]
  },
  {
   "cell_type": "markdown",
   "metadata": {},
   "source": [
    "## Infinite Loops\n",
    "* Loops must contain within themselves a way to terminate (something inside a while loop must eventually make the condition false)\n",
    "* __Infinite loop:__ loop that does not have a way of stopping\n",
    "<ul>\n",
    "    <li> Repeats until program is interrupted </li>\n",
    "    <li> Occurs when programmer forgets to include stopping code in the loop </li>\n",
    "</ul>"
   ]
  },
  {
   "cell_type": "code",
   "execution_count": 1,
   "metadata": {
    "scrolled": false
   },
   "outputs": [
    {
     "name": "stdout",
     "output_type": "stream",
     "text": [
      "5\n",
      "6\n",
      "7\n",
      "8\n",
      "9\n"
     ]
    }
   ],
   "source": [
    "# Infinite Loop Example - be ready to stop this\n",
    "\n",
    "x = 5\n",
    "while x < 10:\n",
    "    print(x)\n",
    "    #To fix it, don't forget to update the value of x (uncomment the line below)\n",
    "    x += 1\n",
    "  "
   ]
  },
  {
   "cell_type": "code",
   "execution_count": 2,
   "metadata": {
    "scrolled": true
   },
   "outputs": [
    {
     "name": "stdout",
     "output_type": "stream",
     "text": [
      "Please enter an integer: 4\n",
      "4\n",
      "Please enter another integer: 6\n",
      "10\n",
      "Please enter another integer: 2\n",
      "12\n",
      "Please enter another integer: 1\n",
      "13\n",
      "Please enter another integer: 0\n",
      "Temp:  13\n"
     ]
    }
   ],
   "source": [
    "# Trace this code (Assume inputs are 4, 6, 2, 1, 0, 5, -1)\n",
    "\n",
    "def main():\n",
    "    input1 = int(input(\"Please enter an integer: \"))\n",
    "    temp = 0\n",
    "    while input1 > 0:\n",
    "        # accumulation pattern\n",
    "        temp += input1 # same as temp = temp + input1 (it's a handy shortcut)\n",
    "        print(temp)\n",
    "        input1 = int(input(\"Please enter another integer: \"))\n",
    "    \n",
    "    print(\"Temp: \", temp)\n",
    "main()\n",
    "# input1 = 4, 6, 2, 1, 0\n",
    "# temp = 0, 4, 10, 12, 13, \n",
    "# output: Temp: 13"
   ]
  },
  {
   "cell_type": "code",
   "execution_count": null,
   "metadata": {},
   "outputs": [],
   "source": [
    "# Trace this code (Assume inputs are 4, 3, 8, 1, -1)\n",
    "\n",
    "def main():\n",
    "    input1 = int(input(\"Please enter an integer: \"))\n",
    "    temp = 0\n",
    "    while input1 > 0:\n",
    "        if input1 >= 3:\n",
    "            # counting pattern\n",
    "            temp += 1 # like counting how many numbers >= 3 there are\n",
    "        input1 = int(input(\"Please enter another integer: \"))\n",
    "\n",
    "    print(\"Temp: \", temp)\n",
    "main()\n",
    "# temp = 0, 1, 2, 3\n",
    "# output: Temp: 3"
   ]
  },
  {
   "cell_type": "markdown",
   "metadata": {},
   "source": [
    "## Calling Functions in a Loop\n",
    "* Functions can be called from statements in the body of a loop (Often improves the design)\n",
    "* Example: Write a function to calculate then display the commission for a sales amount (Call the function inside a loop)\n"
   ]
  },
  {
   "cell_type": "code",
   "execution_count": null,
   "metadata": {},
   "outputs": [],
   "source": [
    "# This program calculates sales commission based on user inputs \n",
    "\n",
    "def calculate_commission(sales_amt, commission_rate):\n",
    "    #Calculate the commission\n",
    "    commission = sales_amt * commission_rate\n",
    "    return commission\n",
    "\n",
    "def main():\n",
    "    keep_going = 'y'\n",
    "\n",
    "    #Calculate a series of commissions\n",
    "    while keep_going == 'y':\n",
    "        sales = float(input(\"Enter the amount of sales: \"))\n",
    "        comm_rate = float(input(\"Enter the commission rate: \"))\n",
    "\n",
    "        commission = calculate_commission(sales, comm_rate)\n",
    "\n",
    "        print(\"The commission is $\", format(commission, '.2f'), '.', sep='')\n",
    "\n",
    "        #See if the user wants to do another one.\n",
    "        keep_going = input(\"Do you want to calculate another commission (y for yes)? \")\n",
    "\n",
    "main()"
   ]
  },
  {
   "cell_type": "markdown",
   "metadata": {},
   "source": [
    "## While Loop General Algorithm\n",
    "\n",
    "```\n",
    "while  some condition is true :\t\n",
    "    # Do this code  \n",
    "\t#Something here should modify the condition above\n",
    "```"
   ]
  },
  {
   "cell_type": "code",
   "execution_count": null,
   "metadata": {},
   "outputs": [],
   "source": [
    "# write a while loop which asks the user for numbers over and over\n",
    "# and computes the average once the user types -1"
   ]
  },
  {
   "cell_type": "code",
   "execution_count": null,
   "metadata": {},
   "outputs": [],
   "source": []
  },
  {
   "cell_type": "code",
   "execution_count": null,
   "metadata": {},
   "outputs": [],
   "source": []
  }
 ],
 "metadata": {
  "kernelspec": {
   "display_name": "Python 3 (ipykernel)",
   "language": "python",
   "name": "python3"
  },
  "language_info": {
   "codemirror_mode": {
    "name": "ipython",
    "version": 3
   },
   "file_extension": ".py",
   "mimetype": "text/x-python",
   "name": "python",
   "nbconvert_exporter": "python",
   "pygments_lexer": "ipython3",
   "version": "3.11.4"
  },
  "varInspector": {
   "cols": {
    "lenName": 16,
    "lenType": 16,
    "lenVar": 40
   },
   "kernels_config": {
    "python": {
     "delete_cmd_postfix": "",
     "delete_cmd_prefix": "del ",
     "library": "var_list.py",
     "varRefreshCmd": "print(var_dic_list())"
    },
    "r": {
     "delete_cmd_postfix": ") ",
     "delete_cmd_prefix": "rm(",
     "library": "var_list.r",
     "varRefreshCmd": "cat(var_dic_list()) "
    }
   },
   "types_to_exclude": [
    "module",
    "function",
    "builtin_function_or_method",
    "instance",
    "_Feature"
   ],
   "window_display": false
  }
 },
 "nbformat": 4,
 "nbformat_minor": 4
}
