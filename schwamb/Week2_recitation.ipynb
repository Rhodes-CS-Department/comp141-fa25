{
 "cells": [
  {
   "cell_type": "markdown",
   "id": "31749a5f-984a-488c-b213-d0d519dd9ceb",
   "metadata": {},
   "source": [
    "# Welcome to Recitation!\n",
    "## Order of Business:\n",
    "1. What examples would you like?\n",
    "2. Examples (input, math, variables?)\n",
    "3. Time for questions\n",
    "4. Time for labwork"
   ]
  },
  {
   "cell_type": "markdown",
   "id": "27067795-9896-427e-993a-523722dd05c0",
   "metadata": {},
   "source": [
    "# Input Examples"
   ]
  },
  {
   "cell_type": "code",
   "execution_count": null,
   "id": "a5ff060f-8ac5-46c5-b5b7-e7c9acd51ecb",
   "metadata": {},
   "outputs": [],
   "source": [
    "name = input(\"What is your name? \")\n",
    "print(\"Your name is\", name, \".\")\n",
    "message = input(\"What would you like to say to the world? \")\n",
    "print(message)"
   ]
  },
  {
   "cell_type": "markdown",
   "id": "d577211f-0012-4670-bef3-a822be9bddf4",
   "metadata": {},
   "source": [
    "# Math Examples"
   ]
  },
  {
   "cell_type": "code",
   "execution_count": null,
   "id": "0448f82a-7b19-4c77-9e26-7638d813b4d6",
   "metadata": {},
   "outputs": [],
   "source": [
    "# Example 1: addition\n",
    "float_a = 3.2\n",
    "float_b = 9.1\n",
    "float_c = float_a + float_b\n",
    "print(float_c)\n",
    "print(float_a + float_b)\n",
    "\n",
    "# Example 2: exponents\n",
    "int_a = 5\n",
    "int_b = 7\n",
    "int_c = int_a ** int_b\n",
    "print(int_c)\n",
    "print(int_a ** int_b)\n",
    "\n",
    "# Example 3: square roots\n",
    "import math\n",
    "float_x = 16.0\n",
    "float_y = math.sqrt(float_x)\n",
    "print(float_y)\n",
    "print(math.sqrt(float_x))"
   ]
  },
  {
   "cell_type": "markdown",
   "id": "fdf9299b-0c33-40d4-994d-9712477219a7",
   "metadata": {},
   "source": [
    "# Variables vs. Statements vs. Functions\n",
    "**Statement**: any line of code that executes\n",
    "- Ex: `print(\"Hello, World!\")` -> print statement\n",
    "- Ex `import math` -> import statement\n",
    "\n",
    "**Variable**: a named value\n",
    "- Ex: `name = \"Addison\"` -> name is the variable here\n",
    "- Ex: `age = 27`\n",
    "- Ex: `GPA = 3.84`\n",
    "\n",
    "**Assignment**: a statement that *assigns* a variable name to a value\n",
    "- Ex: `name = \"Addison\"` -> this whole line is an assignment statement\n",
    "\n",
    "**Function**: a piece of code that takes an input (an *argument* or *arguments*) and does something with it. The argument(s) go in between the parentheses. If there are multiple arguments, they're separated by commas, `(like, this)`. Functions can be nested like this: `function1(function2(arg1,arg2,arg3))`\n",
    "- Ex: `print(var)` -> the print function takes one or more arguments and prints them sequentially. If there are multiple arguments, it automatically prints a space between them\n",
    "- Ex: `input(prompt)` -> the input function takes one argument (the prompt text to display) and waits for the user to input a text response. It then returns that response as a string.\n",
    "- Ex: `math.sqrt(number)` -> the square root function takes one argument (an int or a float) and returns the square root of it."
   ]
  },
  {
   "cell_type": "code",
   "execution_count": null,
   "id": "4df5fc9b-8e1f-4063-8035-4984303dea4c",
   "metadata": {},
   "outputs": [],
   "source": [
    "# Examples\n",
    "int_a = 64 #\n",
    "\n",
    "print(int_a) #\n",
    "\n",
    "float_b = math.sqrt(int_a) #\n",
    "\n",
    "print(math.sqrt(float(input(\"Input a number\")))) # "
   ]
  }
 ],
 "metadata": {
  "kernelspec": {
   "display_name": "Python 3 (ipykernel)",
   "language": "python",
   "name": "python3"
  },
  "language_info": {
   "codemirror_mode": {
    "name": "ipython",
    "version": 3
   },
   "file_extension": ".py",
   "mimetype": "text/x-python",
   "name": "python",
   "nbconvert_exporter": "python",
   "pygments_lexer": "ipython3",
   "version": "3.12.3"
  }
 },
 "nbformat": 4,
 "nbformat_minor": 5
}
