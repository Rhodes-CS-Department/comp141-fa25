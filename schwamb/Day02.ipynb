{
 "cells": [
  {
   "cell_type": "markdown",
   "id": "1627e4ce",
   "metadata": {},
   "source": [
    "# Welcome to Day 2!\n",
    "## Order of Business\n",
    "### Questions about last week's lab?\n",
    "### Project Discussion\n",
    "### Lecture Content:\n",
    "   Parts of a program:\n",
    "   - Variables\n",
    "   - Functions\n",
    "   - Libraries\n",
    "   - Comments"
   ]
  },
  {
   "cell_type": "markdown",
   "id": "54f0afcb",
   "metadata": {},
   "source": [
    "## Variables\n",
    "\n",
    "**Variable:** name that represents a value stored in the computer memory\n",
    "\n",
    "   - Used to access and manipulate data stored in memory\n",
    "   - A variable references the value it represents\n",
    "\n",
    "**Assignment statement:** used to create a variable and make it reference data\n",
    "\n",
    "   - General format is variable = expression\n",
    "   - Example: age = 29\n",
    "   - Assignment operator: the equal sign (=)\n",
    "\n",
    "**Info about variables:**\n",
    "\n",
    "   - In assignment statements, variable receiving value must be on left side\n",
    "   - A variable can be passed as an argument to a function\n",
    "   - Variable names should not be enclosed in quote marks\n",
    "   - You can only use a variable if a value is assigned to it\n",
    "\n",
    "**Variable Naming Rules:**\n",
    "\n",
    "   - Variable names cannot be a Python key word\n",
    "   - Variable names cannot contain spaces\n",
    "   - First character must be a letter or an underscore\n",
    "   - After first character may use letters, digits, or underscores\n",
    "   - Variable names are case sensitive\n",
    "   - Variable names should reflect its use!\n",
    "\n",
    "**Displaying Multiple Items with the `print` Function**\n",
    "\n",
    "   - Python allows one to display multiple items with a single call to print\n",
    "   - Items are separated by commas when passed as arguments\n",
    "   - Arguments are displayed in the order they are passed to the function\n",
    "   - Items are automatically separated by a space when displayed on screen"
   ]
  },
  {
   "cell_type": "code",
   "execution_count": 25,
   "id": "4d4a4bd1-199d-4817-bf53-1b9308ccfd29",
   "metadata": {},
   "outputs": [
    {
     "name": "stdout",
     "output_type": "stream",
     "text": [
      "my age is 18\n",
      "in a year, I'll be 19\n"
     ]
    }
   ],
   "source": [
    "age = 18\n",
    "print(\"my age is\", age)\n",
    "print(\"in a year, I'll be\", age+1)"
   ]
  },
  {
   "cell_type": "code",
   "execution_count": 26,
   "id": "74fcd01e",
   "metadata": {},
   "outputs": [
    {
     "name": "stdout",
     "output_type": "stream",
     "text": [
      "My dog's name is Ruby\n",
      "\n"
     ]
    }
   ],
   "source": [
    "dog_name = \"Ruby\"\n",
    "# dogName = \"Ruby\"\n",
    "print(\"My dog's name is\", dog_name)\n",
    "print()"
   ]
  },
  {
   "cell_type": "code",
   "execution_count": 27,
   "id": "1dfb5e2e-94c4-451b-b679-7f2df9b4be53",
   "metadata": {},
   "outputs": [
    {
     "name": "stdout",
     "output_type": "stream",
     "text": [
      "You died.\n"
     ]
    }
   ],
   "source": [
    "# Choose your own adventure - character dies sequence\n",
    "\n",
    "################Death Function ################\n",
    "dieMessage = \"You died.\"\n",
    "# do things to display box onto screen\n",
    "print(dieMessage)\n",
    "# display button for user to click continue/new game\n",
    "###################################################"
   ]
  },
  {
   "cell_type": "code",
   "execution_count": null,
   "id": "414b3036",
   "metadata": {},
   "outputs": [],
   "source": [
    "my_var_1234 = \"hello\"\n",
    "print(my_var_1234)\n",
    "# 1234_my_var = \"hello\""
   ]
  },
  {
   "cell_type": "markdown",
   "id": "9515a174",
   "metadata": {},
   "source": [
    "## Data Types\n",
    "\n",
    "Categorize value in memory\n",
    "\n",
    "   - Integers(int) - whole numbers; may be negative\n",
    "   - Floats(float) - any number with a decimal point; may be negative\n",
    "   - Strings (str) - Any sequence of letters, numbers, or punctuation.\n",
    "\n",
    "Some operations behave differently depending on data type\n"
   ]
  },
  {
   "cell_type": "code",
   "execution_count": 36,
   "id": "e1a56fe9-4f22-4f4b-9044-089e175d354a",
   "metadata": {},
   "outputs": [
    {
     "name": "stdout",
     "output_type": "stream",
     "text": [
      "0.7142857142857143\n",
      "25\n"
     ]
    }
   ],
   "source": [
    "#Example showing the differences between integer and string variables\n",
    "a = 5\n",
    "b = 7\n",
    "print(a / b)\n",
    "print(a * 5)"
   ]
  },
  {
   "cell_type": "code",
   "execution_count": 41,
   "id": "b7beb0f4-aaaf-4546-a909-9939233bfa20",
   "metadata": {},
   "outputs": [
    {
     "name": "stdout",
     "output_type": "stream",
     "text": [
      "a7\n"
     ]
    },
    {
     "ename": "ValueError",
     "evalue": "invalid literal for int() with base 10: 'a'",
     "output_type": "error",
     "traceback": [
      "\u001b[31m---------------------------------------------------------------------------\u001b[39m",
      "\u001b[31mValueError\u001b[39m                                Traceback (most recent call last)",
      "\u001b[36mCell\u001b[39m\u001b[36m \u001b[39m\u001b[32mIn[41]\u001b[39m\u001b[32m, line 4\u001b[39m\n\u001b[32m      2\u001b[39m b = \u001b[33m\"\u001b[39m\u001b[33m7\u001b[39m\u001b[33m\"\u001b[39m\n\u001b[32m      3\u001b[39m \u001b[38;5;28mprint\u001b[39m(a+b)\n\u001b[32m----> \u001b[39m\u001b[32m4\u001b[39m \u001b[38;5;28mprint\u001b[39m(\u001b[38;5;28;43mint\u001b[39;49m\u001b[43m(\u001b[49m\u001b[43ma\u001b[49m\u001b[43m)\u001b[49m * \u001b[32m5\u001b[39m)\n",
      "\u001b[31mValueError\u001b[39m: invalid literal for int() with base 10: 'a'"
     ]
    }
   ],
   "source": [
    "a = \"a\"\n",
    "b = \"7\"\n",
    "print(a+b)\n",
    "print(int(a) * 5)"
   ]
  },
  {
   "cell_type": "markdown",
   "id": "a23f8372",
   "metadata": {},
   "source": [
    "A variable in Python can refer to items of any type\n",
    "\n",
    "**If you’re using the same variable name for different uses, Python will assume you mean the most recent use**"
   ]
  },
  {
   "cell_type": "code",
   "execution_count": 39,
   "id": "f8a83db3",
   "metadata": {},
   "outputs": [
    {
     "name": "stdout",
     "output_type": "stream",
     "text": [
      "90\n",
      "Take me to your leader\n",
      "90\n"
     ]
    }
   ],
   "source": [
    "x = 90\n",
    "print(x)\n",
    "x = \"Take me to your leader\"\n",
    "print(x)\n",
    "x = 90\n",
    "print(x)"
   ]
  },
  {
   "cell_type": "markdown",
   "id": "8753e0fd",
   "metadata": {},
   "source": [
    "## Functions\n",
    "**Function:** A part of a program that takes an input (the **argument(s)**) and does something with it\n",
    "\n",
    "Example: the `print` function takes the input and displays it.\n",
    "\n",
    "You use functions (**call** them) by printing their name and putting the argument in between the parentheses, like so: `print('Hello, World')`"
   ]
  },
  {
   "cell_type": "markdown",
   "id": "cf630698",
   "metadata": {},
   "source": [
    "## Nested function call:\n",
    "\n",
    "You can pass functions into other functions! In this case, the value returned by the inner function is the argument of the outer function.\n",
    "\n",
    "general format: function1(function2(argument))\n",
    "\n",
    "   - value returned by function2 is passed to function1\n",
    "   - Type conversion only works if item is valid numeric value, otherwise, throws exception\n"
   ]
  },
  {
   "cell_type": "markdown",
   "id": "9dadcfb3",
   "metadata": {},
   "source": [
    "## Reading Numbers with the input Function\n",
    "\n",
    "   - input function always returns a string\n",
    "\n",
    "Python has built-in functions to convert between data types\n",
    "\n",
    "   - int(item) converts item to an int\n",
    "   - float(item) converts item to a float\n",
    "\n",
    "Input from Keyboard:\n",
    "\n",
    "   - For integers: variable = int(input(\"Prompt\"))\n",
    "   - For ﬂoats: variable = float(input(\"Prompt\"))\n",
    "   - For strings: variable = input(\"Prompt\")\n"
   ]
  },
  {
   "cell_type": "code",
   "execution_count": 44,
   "id": "26b77dec",
   "metadata": {},
   "outputs": [
    {
     "name": "stdin",
     "output_type": "stream",
     "text": [
      "How old are you?  age\n"
     ]
    },
    {
     "ename": "ValueError",
     "evalue": "invalid literal for int() with base 10: 'age'",
     "output_type": "error",
     "traceback": [
      "\u001b[31m---------------------------------------------------------------------------\u001b[39m",
      "\u001b[31mValueError\u001b[39m                                Traceback (most recent call last)",
      "\u001b[36mCell\u001b[39m\u001b[36m \u001b[39m\u001b[32mIn[44]\u001b[39m\u001b[32m, line 2\u001b[39m\n\u001b[32m      1\u001b[39m \u001b[38;5;66;03m#Prompt the user for their age\u001b[39;00m\n\u001b[32m----> \u001b[39m\u001b[32m2\u001b[39m age = \u001b[38;5;28;43mint\u001b[39;49m\u001b[43m(\u001b[49m\u001b[38;5;28;43minput\u001b[39;49m\u001b[43m(\u001b[49m\u001b[33;43m\"\u001b[39;49m\u001b[33;43mHow old are you? \u001b[39;49m\u001b[33;43m\"\u001b[39;49m\u001b[43m)\u001b[49m\u001b[43m)\u001b[49m\n\u001b[32m      4\u001b[39m \u001b[38;5;28mprint\u001b[39m(\u001b[33m\"\u001b[39m\u001b[33mYou will be\u001b[39m\u001b[33m\"\u001b[39m, age+\u001b[32m1\u001b[39m, \u001b[33m\"\u001b[39m\u001b[33mon your next birthday.\u001b[39m\u001b[33m\"\u001b[39m)\n",
      "\u001b[31mValueError\u001b[39m: invalid literal for int() with base 10: 'age'"
     ]
    }
   ],
   "source": [
    "#Prompt the user for their age\n",
    "age = int(input(\"How old are you? \"))\n",
    "\n",
    "print(\"You will be\", age+1, \"on your next birthday.\")"
   ]
  },
  {
   "cell_type": "code",
   "execution_count": 47,
   "id": "d68982f9",
   "metadata": {},
   "outputs": [],
   "source": [
    "# Comments\n",
    "# age = 18\n",
    "# print(age)"
   ]
  },
  {
   "cell_type": "code",
   "execution_count": null,
   "id": "af189d3b-6551-4b90-8d1a-5c694ea9335e",
   "metadata": {},
   "outputs": [],
   "source": []
  }
 ],
 "metadata": {
  "kernelspec": {
   "display_name": "Python 3 (ipykernel)",
   "language": "python",
   "name": "python3"
  },
  "language_info": {
   "codemirror_mode": {
    "name": "ipython",
    "version": 3
   },
   "file_extension": ".py",
   "mimetype": "text/x-python",
   "name": "python",
   "nbconvert_exporter": "python",
   "pygments_lexer": "ipython3",
   "version": "3.12.3"
  }
 },
 "nbformat": 4,
 "nbformat_minor": 5
}
