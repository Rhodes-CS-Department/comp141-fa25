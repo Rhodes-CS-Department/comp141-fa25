{
 "cells": [
  {
   "cell_type": "markdown",
   "id": "31749a5f-984a-488c-b213-d0d519dd9ceb",
   "metadata": {},
   "source": [
    "# Welcome to Recitation!\n",
    "## Order of Business:\n",
    "1. What examples would you like?\n",
    "2. Examples (functions)\n",
    "3. Examples (graphics)\n",
    "4. Time for questions\n",
    "5. Time for labwork"
   ]
  },
  {
   "cell_type": "markdown",
   "id": "27067795-9896-427e-993a-523722dd05c0",
   "metadata": {},
   "source": [
    "# Function Examples"
   ]
  },
  {
   "cell_type": "code",
   "execution_count": null,
   "id": "02533230-96a6-42a5-b03f-ecd92e215487",
   "metadata": {},
   "outputs": [],
   "source": [
    "def do_math(num1, num2, operator):\n",
    "    if operator == '+':\n",
    "        result = num1 + num2\n",
    "        print('Adding two numbers:', num1, '+', num2, '=', result)\n",
    "    elif operator == '-':\n",
    "        result = num1 - num2\n",
    "        print('Subtracting num2 from num1:', num1, '-', num2, '=', result)\n",
    "    elif operator == '*':\n",
    "        result = num1 * num2\n",
    "        print('Multiplying two numbers:', num1, '*', num2, '=', result)\n",
    "    elif operator == '/':\n",
    "        result = num1 / num2\n",
    "        print('Dividing num1 by num2:', num1, '/', num2, '=', result)\n",
    "    else:\n",
    "        print('Invalid operator. Please enter either \\'+\\', \\'-\\', \\'*\\', or \\'/\\'')\n",
    "\n",
    "def main():\n",
    "    num1 = float(input('Input the first number:'))\n",
    "    num2 = float(input('Input the second number:'))\n",
    "    op = input('Input the desired operator:')\n",
    "\n",
    "    do_math(num1, num2, op)\n",
    "\n",
    "main()"
   ]
  },
  {
   "cell_type": "code",
   "execution_count": null,
   "id": "3626b615-4970-4712-8b21-6fbb8c0741f8",
   "metadata": {},
   "outputs": [],
   "source": [
    "#Trace through the following tricky example by hand and predict \n",
    "#the output before running the code\n",
    "\n",
    "def mystery(x, z, y):\n",
    "    print(z, y-x)\n",
    "\n",
    "def main():\n",
    "    x = 9\n",
    "    y = 2 \n",
    "    z = 5\n",
    "    mystery(z, y, x)\n",
    "    mystery(y, x, z)\n",
    "    mystery(x+z, y-x, y)\n",
    "\n",
    "main()"
   ]
  },
  {
   "cell_type": "markdown",
   "id": "ca973a99-5c44-4f90-80b9-57ecc765fd69",
   "metadata": {},
   "source": [
    "# Graphics Examples"
   ]
  },
  {
   "cell_type": "markdown",
   "id": "dc1cbb13-9fe9-42c8-9c2c-9a985c959d18",
   "metadata": {},
   "source": [
    "## Example from Wednesday (we didn't get to this)\n",
    "\n",
    "My example is meant to draw 2 mountains and 2 trees, although, using functions, it becomes very easy to draw more!\n",
    "\n",
    "Unfortunately, I have quite a few problems. To name a few:\n",
    "* The trees are sideways!!\n",
    "* The mountains are upside down!!\n",
    "* All the leaves are brown!!\n",
    "* I want more trees!!\n",
    "    \n",
    "Maybe you can figure out what's wrong, and in doing so, learn a thing or two about documentation."
   ]
  },
  {
   "cell_type": "code",
   "execution_count": null,
   "id": "eab5f787-7705-4a84-ac38-60445d61adb8",
   "metadata": {},
   "outputs": [],
   "source": [
    "# my example\n",
    "from cs1.graphics import *\n",
    "\n",
    "def draw_mountain(x, y):\n",
    "    # will draw a mountain at coordinate (x, y)\n",
    "    set_color(\"gray\")\n",
    "    draw_filled_polygon(x, y, x + 50, y + 100, x + 100, y)\n",
    "\n",
    "def draw_trunk(x, y):\n",
    "    # will draw a tree trunk at coordinate (x, y)\n",
    "    set_color(\"brown\")\n",
    "    draw_filled_rect(x, y, 50, 10)\n",
    "    \n",
    "def draw_leaves(x, y):\n",
    "    # will draw leaves at coordinate (x, y)\n",
    "    draw_filled_circle(x, y, 10)\n",
    "\n",
    "def draw_mountains():\n",
    "    draw_mountain(100, 100)\n",
    "    draw_mountain(200, 100)\n",
    "\n",
    "def draw_tree(x, y):\n",
    "    draw_trunk(x, y)\n",
    "    draw_leaves(x, y)\n",
    "    \n",
    "def draw_trees():\n",
    "    draw_tree(300, 100)\n",
    "    draw_tree(50, 50)\n",
    "\n",
    "def main():\n",
    "    open_canvas(500, 200)\n",
    "    draw_mountains()\n",
    "    draw_trees()\n",
    "    \n",
    "  \n",
    "main()"
   ]
  },
  {
   "cell_type": "code",
   "execution_count": 12,
   "id": "079601a5-3980-499a-bef6-1a8b784b2b96",
   "metadata": {},
   "outputs": [
    {
     "data": {
      "application/vnd.jupyter.widget-view+json": {
       "model_id": "85e539e5f0a7496bb4d93b4ac6b97311",
       "version_major": 2,
       "version_minor": 0
      },
      "text/plain": [
       "AppLayout(children=(MultiCanvas(layout=Layout(grid_area='center'), sync_image_data=True, width=500),), layout=…"
      ]
     },
     "metadata": {},
     "output_type": "display_data"
    }
   ],
   "source": [
    "# This program draws a balloon\n",
    "from cs1.graphics import *\n",
    "\n",
    "def draw_balloon():\n",
    "    set_color(\"red\")\n",
    "    draw_filled_circle(250,125,25)\n",
    "    draw_filled_polygon(250,150,245,155,255,155)\n",
    "    set_color(\"black\")\n",
    "    draw_line(250,155,250,230)\n",
    "\n",
    "def main():\n",
    "    open_canvas(500, 500)\n",
    "    draw_balloon()\n",
    "\n",
    "main()"
   ]
  },
  {
   "cell_type": "code",
   "execution_count": null,
   "id": "3a6fcaf9-3b17-4beb-b911-e38d60fe7d6a",
   "metadata": {},
   "outputs": [],
   "source": []
  }
 ],
 "metadata": {
  "kernelspec": {
   "display_name": "Python 3 (ipykernel)",
   "language": "python",
   "name": "python3"
  },
  "language_info": {
   "codemirror_mode": {
    "name": "ipython",
    "version": 3
   },
   "file_extension": ".py",
   "mimetype": "text/x-python",
   "name": "python",
   "nbconvert_exporter": "python",
   "pygments_lexer": "ipython3",
   "version": "3.12.3"
  }
 },
 "nbformat": 4,
 "nbformat_minor": 5
}
