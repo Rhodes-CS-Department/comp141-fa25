{
 "cells": [
  {
   "cell_type": "markdown",
   "id": "31749a5f-984a-488c-b213-d0d519dd9ceb",
   "metadata": {},
   "source": [
    "# Welcome to Recitation!\n",
    "## Order of Business:\n",
    "1. What examples would you like?\n",
    "2. Examples (`for` loops)\n",
    "3. Examples (nested loops)\n",
    "4. Examples (midterm problems)\n",
    "5. Time for questions\n",
    "6. Time for labwork"
   ]
  },
  {
   "cell_type": "markdown",
   "id": "27067795-9896-427e-993a-523722dd05c0",
   "metadata": {},
   "source": [
    "# For loop examples"
   ]
  },
  {
   "cell_type": "code",
   "execution_count": 2,
   "id": "3a6fcaf9-3b17-4beb-b911-e38d60fe7d6a",
   "metadata": {},
   "outputs": [],
   "source": [
    "for num in range(1, 8, 1):\n",
    "    square = num * num\n",
    "    if square % 3 != 0:\n",
    "        print(\"The square of\", num, \"is\", square)"
   ]
  },
  {
   "cell_type": "markdown",
   "id": "5dafe89d-3c87-4c2a-9e49-f6587ff75231",
   "metadata": {},
   "source": [
    "Write a program that takes a minimum temperature and a maximum temperature (both in Fahrenheit) from the user, and prints out the Celsius temperature in ten degree increments for the whole range. A function converting Fahrenheit to Celsius is given\n",
    "Example:\n",
    "if the user enters 10 as the min temp and 50 as the max temp, the program will output:\n",
    "```\n",
    "10 -12.222222222222221\n",
    "20 -6.666666666666667\n",
    "30 -1.1111111111111112\n",
    "40 4.444444444444445\n",
    "50 10.0\n",
    "```"
   ]
  },
  {
   "cell_type": "code",
   "execution_count": null,
   "id": "f612b3d6-36a4-4d41-9361-0038371d854b",
   "metadata": {},
   "outputs": [],
   "source": [
    "#This function converts a temperature in Fahrenheit to its Celcius equivalent\n",
    "#Parameters: degrees_f is a valid Fahrenheit temperature floating-point value \n",
    "#Returns: the celcius equivalent temperature as a floating-point value\n",
    "def f_to_c(degrees_f):\n",
    "    c = (degrees_f - 32)  * 5/9\n",
    "    return c\n",
    "\n",
    "def main():\n",
    "    \n",
    "main()"
   ]
  },
  {
   "cell_type": "markdown",
   "id": "238d4ae0-b0f4-4f5a-bc0e-045b060d7400",
   "metadata": {},
   "source": [
    "## Nested Loop Examples"
   ]
  },
  {
   "cell_type": "code",
   "execution_count": null,
   "id": "9f01c748-2ee9-44c2-9b86-1ac291d29b2d",
   "metadata": {},
   "outputs": [],
   "source": [
    "# Clock Example\n",
    "for hrs in range(0, 12):\n",
    "    for mins in range(0, 60):\n",
    "        for secs in range(0, 60):\n",
    "            print (hrs, \":\", mins, \":\", secs)\n"
   ]
  },
  {
   "cell_type": "code",
   "execution_count": null,
   "id": "8cbce1b3-495f-4dc4-be73-ac4af31a7cf5",
   "metadata": {},
   "outputs": [],
   "source": [
    "# This example draws a right triangle made up of equilateral triangles\n",
    "# Don't worry too much about the draw_triangle() function - though you can examine it and try to figure out how it works if you'd like!\n",
    "from cs1.graphics import *\n",
    "import math\n",
    "\n",
    "# draws an equilateral triangle with the given height centered at centerx, centery\n",
    "def draw_triangle(centerx,centery,height):\n",
    "    y_offset = height/2\n",
    "    x_offset = height/math.tan(math.radians(60))\n",
    "    # top vertex\n",
    "    v1_x = centerx\n",
    "    v1_y = centery - y_offset\n",
    "    # bottom left vertex\n",
    "    v2_x = centerx - x_offset\n",
    "    v2_y = centery + y_offset\n",
    "    # bottom right vertex\n",
    "    v3_x = centerx + x_offset\n",
    "    v3_y = centery + y_offset\n",
    "\n",
    "    draw_polygon(v1_x,v1_y,v2_x,v2_y,v3_x,v3_y)\n",
    "\n",
    "def main():\n",
    "    open_canvas(500,500)\n",
    "    y = 25 # initial y coordinate\n",
    "    spacing = 50 # space between centers\n",
    "    for row in range(10):\n",
    "        x = 25 # initial x coordinate\n",
    "        for col in range(row+1):\n",
    "            draw_triangle(x,y,15)\n",
    "            x += spacing\n",
    "        y += spacing\n",
    "\n",
    "main()"
   ]
  },
  {
   "cell_type": "code",
   "execution_count": 2,
   "id": "d972cf65-af73-49b0-a7d8-02bc93e377b3",
   "metadata": {},
   "outputs": [],
   "source": [
    "# How can we change this program to do the \"upper right\" version of this triangle of triangles instead of the \"lower left\" version?\n",
    "# Let's code it here\n",
    "\n",
    "\n"
   ]
  },
  {
   "cell_type": "markdown",
   "id": "c625cbb9-faa1-4fd7-ab96-ecf3ccea184f",
   "metadata": {},
   "source": [
    "# Midterm Practice Problems"
   ]
  },
  {
   "cell_type": "markdown",
   "id": "d586022b-ba50-4154-a2b3-68f73a5e1779",
   "metadata": {},
   "source": [
    "1. What will be displayed after the following loop terminates?\n",
    "```\n",
    "number = 25\n",
    "isPrime = True\n",
    "i = 2\n",
    "while i < number and isPrime:\n",
    "    if number % i == 0:\n",
    "        isPrime = False\n",
    "    i += 1\n",
    "    print(\"i is\", i, \"isPrime is\", isPrime)\n",
    "```"
   ]
  },
  {
   "cell_type": "markdown",
   "id": "28a56ebe-f8b0-4ba1-9284-303bf9e588d4",
   "metadata": {},
   "source": [
    "2. Rewrite the code for the previous problem using a `for` loop rather than a `while` loop"
   ]
  },
  {
   "cell_type": "markdown",
   "id": "cfd8052e-0bb9-4575-b68a-0f111d864f87",
   "metadata": {},
   "source": [
    "3. Let's say I want to outsource the decision to wear a coat or not to a computer program. If the temperature is under 45 degrees (Fahrenheit), I want to wear it. Otherwise, I don't want to wear it. Write a program that allows me to enter the temperature (in degrees Fahrenheit), and then will tell me whether or not to wear a coat."
   ]
  },
  {
   "cell_type": "markdown",
   "id": "3102d989-6853-4828-825e-dc76b6c2cdc5",
   "metadata": {},
   "source": [
    "4. My coat-decision program is working great! I love it. But sometimes I might not want to wear a coat but I would want to wear a light jacket. Specifically, if it's under 60 degrees Fahrenheit, I'd like to wear a jacket. Modify the program so that it will tell me to wear a coat, a jacket, or no outerwear."
   ]
  },
  {
   "cell_type": "markdown",
   "id": "fae7542b-178e-4e02-9cc4-5c7b1758bb0b",
   "metadata": {},
   "source": [
    "5. Checking for errors is great. Edit my outerwear-decision program so that if I enter an invalid input it will give me an error message. Also describe what an \"invalid input\" means to you (there are multiple correct answers!)"
   ]
  },
  {
   "cell_type": "markdown",
   "id": "8c120789-26bb-4a63-a998-936b7a2a7c3f",
   "metadata": {},
   "source": [
    "Challenge Problem: I want to have a picnic with my friends on Saturday. We want to make sure we have enough food to feed at least 50 people. Write a program that will take in the name of a person bringing a dish, what that dish is, and how many people it will feed until the user enters \"end\". Then, output the total number of people that will be fed. If that number is more than 50, indicate that there's enough food. If not, indicate that more food is needed.\n",
    "\n",
    "Example:\n",
    "```\n",
    "Who is bringing the food? Addison\n",
    "What is Addison bringing? veggie salad\n",
    "How many people will it feed? 6\n",
    "Addison is bringing veggie salad which will feed 6 people. The total number of people fed so far is 6.\n",
    "Who is bringing the food? Jace\n",
    "What is Jace bringing? beans & rice\n",
    "How many people will it feed? 20\n",
    "Jace is bringing beans & rice which will feed 20 people. The total number of people fed so far is 26.\n",
    "Who is bringing the food? Glenn\n",
    "What is Glenn bringing? mac & cheese\n",
    "How many people will it feed? 25\n",
    "Glenn is bringing mac & cheese which will feed 25 people. The total number of people fed so far is 51.\n",
    "Who is bringing the food? end\n",
    "\n",
    "You can feed 51 people with the food entered so far - have a great picnic!!\n",
    "```"
   ]
  },
  {
   "cell_type": "code",
   "execution_count": null,
   "id": "1fe7797f-9093-46f4-9fdf-b5c31941ed5e",
   "metadata": {},
   "outputs": [],
   "source": []
  }
 ],
 "metadata": {
  "kernelspec": {
   "display_name": "Python 3 (ipykernel)",
   "language": "python",
   "name": "python3"
  },
  "language_info": {
   "codemirror_mode": {
    "name": "ipython",
    "version": 3
   },
   "file_extension": ".py",
   "mimetype": "text/x-python",
   "name": "python",
   "nbconvert_exporter": "python",
   "pygments_lexer": "ipython3",
   "version": "3.12.3"
  }
 },
 "nbformat": 4,
 "nbformat_minor": 5
}
