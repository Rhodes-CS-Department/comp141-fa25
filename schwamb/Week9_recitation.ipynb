{
 "cells": [
  {
   "cell_type": "markdown",
   "id": "31749a5f-984a-488c-b213-d0d519dd9ceb",
   "metadata": {},
   "source": [
    "# Welcome to Recitation!\n",
    "## Order of Business:\n",
    "1. What examples would you like?\n",
    "2. Examples (lists)\n",
    "5. Time for questions\n",
    "6. Time for labwork"
   ]
  },
  {
   "cell_type": "markdown",
   "id": "27067795-9896-427e-993a-523722dd05c0",
   "metadata": {},
   "source": [
    "# List examples"
   ]
  },
  {
   "cell_type": "code",
   "execution_count": null,
   "id": "1fe7797f-9093-46f4-9fdf-b5c31941ed5e",
   "metadata": {},
   "outputs": [],
   "source": [
    "# Examples using del, min, max, sum, and sort\n",
    "\n",
    "def main():\n",
    "    my_list = [5, 4, 3, 2, 50, 40, 30]\n",
    "    print(\"Before Deletion: \", my_list)\n",
    "    del my_list[2]\n",
    "    print(\"After Deletion: \", my_list)\n",
    "\n",
    "    print(\"The lowest value is\", min(my_list))\n",
    "    print(\"The highest value is\", max(my_list))\n",
    "    print(\"The sum of the values in my list is\", sum(my_list))\n",
    "\n",
    "    #Sorting a list - this will permanately change the order of the items in my_list \n",
    "    #There is no way to return my_list to it's orginal order after running the sort function\n",
    "    my_list.sort()\n",
    "    print(\"The sorted list is: \", my_list)\n",
    "    print()\n",
    "\n",
    "    alpha_list = ['a', 'b','c', 'd']\n",
    "    print(\"The lowest value is\", min(alpha_list))\n",
    "    print(\"The highest value is\", max(alpha_list))\n",
    "    #You cannot take the sum of a list that has strings in it.\n",
    "\n",
    "main()"
   ]
  },
  {
   "cell_type": "code",
   "execution_count": null,
   "id": "1c15274b-7820-4ab0-a957-29e2a1beb69f",
   "metadata": {},
   "outputs": [],
   "source": [
    "# Get number of players playing a game - example using append\n",
    "def get_player_names(n_players):\n",
    "    player_names = []\n",
    "    for i in range(n_players):\n",
    "        if i == 0:\n",
    "            player_names.append(input(\"What is the 1st player's name?\"))\n",
    "        elif i == 1:\n",
    "            player_names.append(input(\"What is the 2nd player's name?\"))\n",
    "        elif i == 2:\n",
    "            player_names.append(input(\"What is the 3rd player's name?\"))\n",
    "        else:\n",
    "            player_names.append(input(f\"What is the {i+1}th player's name?\"))\n",
    "    return player_names\n",
    "\n",
    "def main():\n",
    "    n_players = int(input(\"How many people are playing?\"))\n",
    "    player_names = get_player_names(n_players)\n",
    "    print(player_names)\n",
    "\n",
    "main()"
   ]
  },
  {
   "cell_type": "code",
   "execution_count": 2,
   "id": "923d92fc-db6d-4abe-ac38-32ff8b88ece7",
   "metadata": {},
   "outputs": [
    {
     "name": "stdout",
     "output_type": "stream",
     "text": [
      "Golden;HUNTR/X: EJAE, Audrey Nuna & REI AMI;1;15\n",
      "Ordinary;Alex Warren;2;34\n",
      "Tit For Tat;Tate McRae;-1;1\n",
      "What I Want;Morgan Wallen Featuring Tate McRae;4;20\n",
      "Daisies;Justin Bieber;8;12\n",
      "Lose Control;Teddy Swims;7;111\n",
      "Soda Pop;Saja Boys: Andrew Choi, Neckwav, Danny Chung, Kevin Woo & samUIL Lee;3;14\n",
      "I Got Better;Morgan Wallen;11;20\n",
      "Love Me Not;Ravyn Lenae;9;27\n",
      "Your Idol;Saja Boys: Andrew Choi, Neckwav, Danny Chung, Kevin Woo & samUIL Lee;5;15\n",
      "Mutt;Leon Thomas;12;35\n",
      "Man I Need;Olivia Dean;25;6\n",
      "Die With a Smile;Lady Gaga & Bruno Mars;10;59\n",
      "Manchild;Sabrina Carpenter;6;17\n",
      "Beautiful Things;Benson Boone;14;88\n",
      "A Bar Song (Tipsy);Shaboozey;15;77\n",
      "How It's Done;HUNTR/X: EJAE, Audrey Nuna & REI AMI;13;14\n",
      "Folded;Kehlani;22;16\n",
      "Just In Case;Morgan Wallen;18;28\n",
      "Pink Pony Club;Chappell Roan;19;68\n",
      "['Golden;HUNTR/X: EJAE, Audrey Nuna & REI AMI;1;15', 'Ordinary;Alex Warren;2;34', 'Tit For Tat;Tate McRae;-1;1', 'What I Want;Morgan Wallen Featuring Tate McRae;4;20', 'Daisies;Justin Bieber;8;12', 'Lose Control;Teddy Swims;7;111', 'Soda Pop;Saja Boys: Andrew Choi, Neckwav, Danny Chung, Kevin Woo & samUIL Lee;3;14', 'I Got Better;Morgan Wallen;11;20', 'Love Me Not;Ravyn Lenae;9;27', 'Your Idol;Saja Boys: Andrew Choi, Neckwav, Danny Chung, Kevin Woo & samUIL Lee;5;15', 'Mutt;Leon Thomas;12;35', 'Man I Need;Olivia Dean;25;6', 'Die With a Smile;Lady Gaga & Bruno Mars;10;59', 'Manchild;Sabrina Carpenter;6;17', 'Beautiful Things;Benson Boone;14;88', 'A Bar Song (Tipsy);Shaboozey;15;77', \"How It's Done;HUNTR/X: EJAE, Audrey Nuna & REI AMI;13;14\", 'Folded;Kehlani;22;16', 'Just In Case;Morgan Wallen;18;28', 'Pink Pony Club;Chappell Roan;19;68']\n"
     ]
    }
   ],
   "source": [
    "# Read file lines and save in a list\n",
    "file = open('songs.txt','r')\n",
    "lines = []\n",
    "for line in file:\n",
    "    line = line.rstrip()\n",
    "    lines.append(line)\n",
    "    print(line)\n",
    "print(lines)"
   ]
  },
  {
   "cell_type": "code",
   "execution_count": 6,
   "id": "32b5969b-51cd-4656-adaf-5d02cdfc1c38",
   "metadata": {},
   "outputs": [
    {
     "name": "stdout",
     "output_type": "stream",
     "text": [
      "['Golden', 'Ordinary', 'Tit For Tat', 'What I Want', 'Daisies', 'Lose Control', 'Soda Pop', 'I Got Better', 'Love Me Not', 'Your Idol', 'Mutt', 'Man I Need', 'Die With a Smile', 'Manchild', 'Beautiful Things', 'A Bar Song (Tipsy)', \"How It's Done\", 'Folded', 'Just In Case', 'Pink Pony Club']\n",
      "['HUNTR/X: EJAE, Audrey Nuna & REI AMI', 'Alex Warren', 'Tate McRae', 'Morgan Wallen Featuring Tate McRae', 'Justin Bieber', 'Teddy Swims', 'Saja Boys: Andrew Choi, Neckwav, Danny Chung, Kevin Woo & samUIL Lee', 'Morgan Wallen', 'Ravyn Lenae', 'Saja Boys: Andrew Choi, Neckwav, Danny Chung, Kevin Woo & samUIL Lee', 'Leon Thomas', 'Olivia Dean', 'Lady Gaga & Bruno Mars', 'Sabrina Carpenter', 'Benson Boone', 'Shaboozey', 'HUNTR/X: EJAE, Audrey Nuna & REI AMI', 'Kehlani', 'Morgan Wallen', 'Chappell Roan']\n",
      "[1, 2, -1, 4, 8, 7, 3, 11, 9, 5, 12, 25, 10, 6, 14, 15, 13, 22, 18, 19]\n",
      "[15, 34, 1, 20, 12, 111, 14, 20, 27, 15, 35, 6, 59, 17, 88, 77, 14, 16, 28, 68]\n"
     ]
    }
   ],
   "source": [
    "# Read the song titles, artists, previous rankings, and weeks on the chart, and save in lists\n",
    "file = open('songs.txt','r')\n",
    "songs = []\n",
    "artists = []\n",
    "prev_rankings = []\n",
    "weeks_on_chart = []\n",
    "for line in file:\n",
    "    line = line.rstrip()\n",
    "    song, artist, prev_rank, weeks = line.split(\";\")\n",
    "    songs.append(song)\n",
    "    artists.append(artist)\n",
    "    prev_rankings.append(int(prev_rank))\n",
    "    weeks_on_chart.append(int(weeks))\n",
    "\n",
    "print(songs)\n",
    "print(artists)\n",
    "print(prev_rankings)\n",
    "print(weeks_on_chart)"
   ]
  },
  {
   "cell_type": "code",
   "execution_count": null,
   "id": "75b05dda-1f1a-482e-b1b6-2853a77e5a41",
   "metadata": {},
   "outputs": [],
   "source": []
  }
 ],
 "metadata": {
  "kernelspec": {
   "display_name": "Python 3 (ipykernel)",
   "language": "python",
   "name": "python3"
  },
  "language_info": {
   "codemirror_mode": {
    "name": "ipython",
    "version": 3
   },
   "file_extension": ".py",
   "mimetype": "text/x-python",
   "name": "python",
   "nbconvert_exporter": "python",
   "pygments_lexer": "ipython3",
   "version": "3.12.3"
  }
 },
 "nbformat": 4,
 "nbformat_minor": 5
}
