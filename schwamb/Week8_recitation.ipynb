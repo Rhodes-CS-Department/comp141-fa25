{
 "cells": [
  {
   "cell_type": "markdown",
   "id": "31749a5f-984a-488c-b213-d0d519dd9ceb",
   "metadata": {},
   "source": [
    "# Welcome to Recitation!\n",
    "## Order of Business:\n",
    "1. What examples would you like?\n",
    "2. Examples (file I/O)\n",
    "5. Time for questions\n",
    "6. Time for labwork"
   ]
  },
  {
   "cell_type": "markdown",
   "id": "27067795-9896-427e-993a-523722dd05c0",
   "metadata": {},
   "source": [
    "# File Writing Examples"
   ]
  },
  {
   "cell_type": "markdown",
   "id": "0129c120-c354-409c-91af-1457bb8fae6f",
   "metadata": {},
   "source": [
    "## Practice 1\n",
    "* Write a program that writes a series of random numbers to a file. \n",
    "* Each random number should be in the range of 1 through 100. \n",
    "* Write at least 5 random numbers to the file – 1 number per line.\n",
    "* Call your output file __randomNums.txt__\n",
    "\n",
    "## Practice 2\n",
    "* Write a program that lets the user create their own shopping list, writing it to a file called __shopping_list.txt__."
   ]
  },
  {
   "cell_type": "code",
   "execution_count": null,
   "id": "1fe7797f-9093-46f4-9fdf-b5c31941ed5e",
   "metadata": {},
   "outputs": [],
   "source": []
  },
  {
   "cell_type": "markdown",
   "id": "dfbfbeb2-2809-4b99-a2c1-7bd1c0013d1d",
   "metadata": {},
   "source": [
    "# File Reading Examples\n",
    "## Practice 1\n",
    "* Write a program that will sort the dogs in dogs.txt alphabetically by age\n",
    "* Change this to sort the dogs chronologically by birth year"
   ]
  },
  {
   "cell_type": "code",
   "execution_count": null,
   "id": "923d92fc-db6d-4abe-ac38-32ff8b88ece7",
   "metadata": {},
   "outputs": [],
   "source": []
  }
 ],
 "metadata": {
  "kernelspec": {
   "display_name": "Python 3 (ipykernel)",
   "language": "python",
   "name": "python3"
  },
  "language_info": {
   "codemirror_mode": {
    "name": "ipython",
    "version": 3
   },
   "file_extension": ".py",
   "mimetype": "text/x-python",
   "name": "python",
   "nbconvert_exporter": "python",
   "pygments_lexer": "ipython3",
   "version": "3.12.3"
  }
 },
 "nbformat": 4,
 "nbformat_minor": 5
}
