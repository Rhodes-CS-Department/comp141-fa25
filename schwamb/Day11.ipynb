{
 "cells": [
  {
   "attachments": {},
   "cell_type": "markdown",
   "metadata": {},
   "source": [
    "# Day 11: More about loops\n",
    "## For-Loops\n",
    "\n",
    "__Count-Controlled loop:__ iterates a specific number of times\n",
    "* Use a for statement to write count-controlled loop \n",
    "* Designed to work with sequence of data items\n",
    "* Iterates once for each item in the sequence\n",
    "* General Format: \n",
    "```\n",
    "for variable in [val1, val2, etc]:\n",
    "\tstatements\n",
    "```\n",
    "* In the format above, variable is a new variable that gets created as part of this for statement - you can use this variable anywhere inside the loop body or after the loop is done iterating\n"
   ]
  },
  {
   "cell_type": "code",
   "execution_count": null,
   "metadata": {},
   "outputs": [],
   "source": [
    "for num in [1, 2, 3, 4, 5]:\n",
    "    print(num)"
   ]
  },
  {
   "cell_type": "markdown",
   "metadata": {},
   "source": [
    "## Using the range function\n",
    "\n",
    "* The range function simplifies the process of writing a for loop\n",
    "* range returns an iterable object\n",
    "* __Iterable:__ contains a sequence of values that can be iterated over\n",
    "\n",
    "__range characteristics:__\n",
    "* One argument: used as ending limit \n",
    "* Two arguments: starting value and ending limit\n",
    "* Three arguments: third argument is step value\n",
    "\n",
    "`range(start=0, end, step=1)` shows that range can take in up to 3 arguments, and if not specified the default value for start is 0, and the default value for step is 1"
   ]
  },
  {
   "cell_type": "code",
   "execution_count": null,
   "metadata": {},
   "outputs": [],
   "source": [
    "# When you using a single argument, it describes the end value\n",
    "#The default value for start is used (0), and the default value for step is used (1)\n",
    "\n",
    "#equivalent while loop to the below for loop\n",
    "print(\"here's the while loop: \")\n",
    "i = 0\n",
    "while i < 5:\n",
    "    print(i)\n",
    "    i += 1\n",
    "\n",
    "print(\"here's the for loop: \")\n",
    "for i in range(5):\n",
    "    print(i)"
   ]
  },
  {
   "cell_type": "markdown",
   "metadata": {},
   "source": [
    "## While loops vs. for loops\n",
    "\n",
    "While loops can do anything for loops can do! A while loop is a more general formulation - a for loop is just a count-controlled while loop that handles the counting for you.\n",
    "\n",
    "Let's look at one of our lab exercises to see how we can do it with either a while loop or a for loop"
   ]
  },
  {
   "cell_type": "markdown",
   "metadata": {},
   "source": [
    "### Exercise 4\n",
    "\n",
    "Use `cs1.graphics` to draw any __2__ of the following images. These were all drawn using for loops. No nested loops are required for these.\n",
    "\n",
    "   <table>\n",
    "     <tr>\n",
    "       <td><img src=\"https://catiewelsh.github.io/cs141/for-loops0.png\"/></td>\n",
    "       <td><img src=\"https://catiewelsh.github.io/cs141/for-loops1.png\"/></td>\n",
    "       <td><img src=\"https://catiewelsh.github.io/cs141/for-loops2.png\"/></td>\n",
    "       <td><img src=\"https://catiewelsh.github.io/cs141/for-loops3.png\"/></td>\n",
    "     </tr>\n",
    "     <tr>\n",
    "       <td><img src=\"https://catiewelsh.github.io/cs141/for-loops4.png\"/></td>\n",
    "       <td><img src=\"https://catiewelsh.github.io/cs141/for-loops5.png\"/></td>\n",
    "       <td><img src=\"https://catiewelsh.github.io/cs141/for-loops6.png\"/></td>\n",
    "       <td><img src=\"https://catiewelsh.github.io/cs141/for-loops7.png\"/></td>\n",
    "     </tr>\n",
    "   </table>"
   ]
  },
  {
   "cell_type": "code",
   "execution_count": null,
   "metadata": {},
   "outputs": [],
   "source": [
    "# Solve any one of these with a while loop here\n"
   ]
  },
  {
   "cell_type": "code",
   "execution_count": null,
   "metadata": {},
   "outputs": [],
   "source": [
    "# Solve the same image with a for loop here\n"
   ]
  }
 ],
 "metadata": {
  "kernelspec": {
   "display_name": "Python 3 (ipykernel)",
   "language": "python",
   "name": "python3"
  },
  "language_info": {
   "codemirror_mode": {
    "name": "ipython",
    "version": 3
   },
   "file_extension": ".py",
   "mimetype": "text/x-python",
   "name": "python",
   "nbconvert_exporter": "python",
   "pygments_lexer": "ipython3",
   "version": "3.12.3"
  },
  "varInspector": {
   "cols": {
    "lenName": 16,
    "lenType": 16,
    "lenVar": 40
   },
   "kernels_config": {
    "python": {
     "delete_cmd_postfix": "",
     "delete_cmd_prefix": "del ",
     "library": "var_list.py",
     "varRefreshCmd": "print(var_dic_list())"
    },
    "r": {
     "delete_cmd_postfix": ") ",
     "delete_cmd_prefix": "rm(",
     "library": "var_list.r",
     "varRefreshCmd": "cat(var_dic_list()) "
    }
   },
   "types_to_exclude": [
    "module",
    "function",
    "builtin_function_or_method",
    "instance",
    "_Feature"
   ],
   "window_display": false
  }
 },
 "nbformat": 4,
 "nbformat_minor": 4
}
