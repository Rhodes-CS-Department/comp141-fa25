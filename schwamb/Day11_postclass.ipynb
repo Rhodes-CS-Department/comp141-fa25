{
 "cells": [
  {
   "cell_type": "markdown",
   "metadata": {},
   "source": [
    "# Day 11: More about loops\n",
    "## For-Loops\n",
    "\n",
    "__Count-Controlled loop:__ iterates a specific number of times\n",
    "* Use a for statement to write count-controlled loop \n",
    "* Designed to work with sequence of data items\n",
    "* Iterates once for each item in the sequence\n",
    "* General Format: \n",
    "```\n",
    "for variable in [val1, val2, etc]:\n",
    "\tstatements\n",
    "```\n",
    "* In the format above, variable is a new variable that gets created as part of this for statement - you can use this variable anywhere inside the loop body or after the loop is done iterating\n"
   ]
  },
  {
   "cell_type": "code",
   "execution_count": 1,
   "metadata": {},
   "outputs": [
    {
     "name": "stdout",
     "output_type": "stream",
     "text": [
      "1\n",
      "2\n",
      "3\n",
      "4\n",
      "5\n"
     ]
    }
   ],
   "source": [
    "for num in [1, 2, 3, 4, 5]:\n",
    "    print(num)"
   ]
  },
  {
   "cell_type": "code",
   "execution_count": 4,
   "metadata": {},
   "outputs": [
    {
     "name": "stdout",
     "output_type": "stream",
     "text": [
      "Schwamb\n",
      "King\n",
      "Cooper\n"
     ]
    }
   ],
   "source": [
    "for name in ['Schwamb','King','Cooper']:\n",
    "    print(name)"
   ]
  },
  {
   "cell_type": "markdown",
   "metadata": {},
   "source": [
    "## Using the range function\n",
    "\n",
    "* The range function simplifies the process of writing a for loop\n",
    "* range returns an iterable object\n",
    "* __Iterable:__ contains a sequence of values that can be iterated over\n",
    "\n",
    "__range characteristics:__\n",
    "* One argument: used as ending limit \n",
    "* Two arguments: starting value and ending limit\n",
    "* Three arguments: third argument is step value\n",
    "\n",
    "`range(start=0, end, step=1)` shows that range can take in up to 3 arguments, and if not specified the default value for start is 0, and the default value for step is 1"
   ]
  },
  {
   "cell_type": "code",
   "execution_count": 3,
   "metadata": {},
   "outputs": [
    {
     "name": "stdout",
     "output_type": "stream",
     "text": [
      "here's the while loop: \n",
      "0\n",
      "1\n",
      "2\n",
      "3\n",
      "4\n",
      "here's the for loop: \n",
      "0\n",
      "1\n",
      "2\n",
      "3\n",
      "4\n"
     ]
    }
   ],
   "source": [
    "# When you using a single argument, it describes the end value\n",
    "#The default value for start is used (0), and the default value for step is used (1)\n",
    "\n",
    "#equivalent while loop to the below for loop\n",
    "print(\"here's the while loop: \")\n",
    "i = 0\n",
    "while i < 5:\n",
    "    print(i)\n",
    "    i += 1\n",
    "\n",
    "print(\"here's the for loop: \")\n",
    "for j in range(5):\n",
    "    print(j)"
   ]
  },
  {
   "cell_type": "markdown",
   "metadata": {},
   "source": [
    "## While loops vs. for loops\n",
    "\n",
    "While loops can do anything for loops can do! A while loop is a more general formulation - a for loop is just a count-controlled while loop that handles the counting for you.\n",
    "\n",
    "Let's look at one of our lab exercises to see how we can do it with either a while loop or a for loop"
   ]
  },
  {
   "cell_type": "markdown",
   "metadata": {},
   "source": [
    "### Exercise 4\n",
    "\n",
    "Use `cs1.graphics` to draw any __2__ of the following images. These were all drawn using for loops. No nested loops are required for these.\n",
    "\n",
    "   <table>\n",
    "     <tr>\n",
    "       <td><img src=\"https://catiewelsh.github.io/cs141/for-loops0.png\"/></td>\n",
    "       <td><img src=\"https://catiewelsh.github.io/cs141/for-loops1.png\"/></td>\n",
    "       <td><img src=\"https://catiewelsh.github.io/cs141/for-loops2.png\"/></td>\n",
    "       <td><img src=\"https://catiewelsh.github.io/cs141/for-loops3.png\"/></td>\n",
    "     </tr>\n",
    "     <tr>\n",
    "       <td><img src=\"https://catiewelsh.github.io/cs141/for-loops4.png\"/></td>\n",
    "       <td><img src=\"https://catiewelsh.github.io/cs141/for-loops5.png\"/></td>\n",
    "       <td><img src=\"https://catiewelsh.github.io/cs141/for-loops6.png\"/></td>\n",
    "       <td><img src=\"https://catiewelsh.github.io/cs141/for-loops7.png\"/></td>\n",
    "     </tr>\n",
    "   </table>"
   ]
  },
  {
   "cell_type": "code",
   "execution_count": 7,
   "metadata": {},
   "outputs": [
    {
     "data": {
      "application/vnd.jupyter.widget-view+json": {
       "model_id": "f03ddbd61f7f4816a4f9a3f8d32e8171",
       "version_major": 2,
       "version_minor": 0
      },
      "text/plain": [
       "AppLayout(children=(MultiCanvas(height=300, layout=Layout(grid_area='center'), sync_image_data=True, width=300…"
      ]
     },
     "metadata": {},
     "output_type": "display_data"
    },
    {
     "data": {
      "application/vnd.jupyter.widget-view+json": {
       "model_id": "721797c8063648c2bacddc26382d4bcb",
       "version_major": 2,
       "version_minor": 0
      },
      "text/plain": [
       "AppLayout(children=(MultiCanvas(height=300, layout=Layout(grid_area='center'), sync_image_data=True, width=300…"
      ]
     },
     "metadata": {},
     "output_type": "display_data"
    }
   ],
   "source": [
    "# Solve any one of these with a while loop here\n",
    "from cs1.graphics import *\n",
    "\n",
    "open_canvas(300,300)\n",
    "count = 25\n",
    "\n",
    "# vertical\n",
    "while count < 300:\n",
    "    draw_line(count,0,count,300)\n",
    "    count += 25\n",
    "\n",
    "# horizontal\n",
    "open_canvas(300,300)\n",
    "count = 25\n",
    "while count < 300:\n",
    "    draw_line(0,count,300,count)\n",
    "    count += 25"
   ]
  },
  {
   "cell_type": "code",
   "execution_count": 8,
   "metadata": {},
   "outputs": [
    {
     "data": {
      "application/vnd.jupyter.widget-view+json": {
       "model_id": "1313ac3d4ac44f558681e51ae3469308",
       "version_major": 2,
       "version_minor": 0
      },
      "text/plain": [
       "AppLayout(children=(MultiCanvas(height=300, layout=Layout(grid_area='center'), sync_image_data=True, width=300…"
      ]
     },
     "metadata": {},
     "output_type": "display_data"
    }
   ],
   "source": [
    "# Solve the same image with a for loop here\n",
    "from cs1.graphics import *\n",
    "\n",
    "open_canvas(300,300)\n",
    "\n",
    "# vertical\n",
    "for count in range(25,300,25):\n",
    "    draw_line(count,0,count,300)"
   ]
  },
  {
   "cell_type": "code",
   "execution_count": 11,
   "metadata": {},
   "outputs": [
    {
     "data": {
      "application/vnd.jupyter.widget-view+json": {
       "model_id": "96c17e5f9615478d93ddcb571aa17de4",
       "version_major": 2,
       "version_minor": 0
      },
      "text/plain": [
       "AppLayout(children=(MultiCanvas(height=200, layout=Layout(grid_area='center'), sync_image_data=True, width=200…"
      ]
     },
     "metadata": {},
     "output_type": "display_data"
    },
    {
     "data": {
      "application/vnd.jupyter.widget-view+json": {
       "model_id": "5fb4cd7953bf42318b491c02dd5366cd",
       "version_major": 2,
       "version_minor": 0
      },
      "text/plain": [
       "AppLayout(children=(MultiCanvas(height=200, layout=Layout(grid_area='center'), sync_image_data=True, width=200…"
      ]
     },
     "metadata": {},
     "output_type": "display_data"
    }
   ],
   "source": [
    "# Solve the same image with a for loop here\n",
    "from cs1.graphics import *\n",
    "\n",
    "open_canvas(200,200)\n",
    "\n",
    "# while loop\n",
    "count = 0\n",
    "x = 10\n",
    "while count < 20:\n",
    "    draw_line(x,0,x,200)\n",
    "    x += 10\n",
    "    count += 1\n",
    "\n",
    "# for loop\n",
    "open_canvas(200,200)\n",
    "x = 10\n",
    "for count in range(20):\n",
    "    draw_line(x,0,x,200)\n",
    "    x += 10"
   ]
  },
  {
   "cell_type": "code",
   "execution_count": null,
   "metadata": {},
   "outputs": [],
   "source": []
  }
 ],
 "metadata": {
  "kernelspec": {
   "display_name": "Python 3 (ipykernel)",
   "language": "python",
   "name": "python3"
  },
  "language_info": {
   "codemirror_mode": {
    "name": "ipython",
    "version": 3
   },
   "file_extension": ".py",
   "mimetype": "text/x-python",
   "name": "python",
   "nbconvert_exporter": "python",
   "pygments_lexer": "ipython3",
   "version": "3.11.4"
  },
  "varInspector": {
   "cols": {
    "lenName": 16,
    "lenType": 16,
    "lenVar": 40
   },
   "kernels_config": {
    "python": {
     "delete_cmd_postfix": "",
     "delete_cmd_prefix": "del ",
     "library": "var_list.py",
     "varRefreshCmd": "print(var_dic_list())"
    },
    "r": {
     "delete_cmd_postfix": ") ",
     "delete_cmd_prefix": "rm(",
     "library": "var_list.r",
     "varRefreshCmd": "cat(var_dic_list()) "
    }
   },
   "types_to_exclude": [
    "module",
    "function",
    "builtin_function_or_method",
    "instance",
    "_Feature"
   ],
   "window_display": false
  }
 },
 "nbformat": 4,
 "nbformat_minor": 4
}
