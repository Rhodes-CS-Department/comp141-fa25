{
 "cells": [
  {
   "cell_type": "markdown",
   "id": "31749a5f-984a-488c-b213-d0d519dd9ceb",
   "metadata": {},
   "source": [
    "# Welcome to Recitation!\n",
    "## Order of Business:\n",
    "~1. Make sure everyone can open Jupyter notebooks~\n",
    "\n",
    "~2. Do a couple examples of print() statements~\n",
    "\n",
    "3. Time for questions\n",
    "4. Time for labwork"
   ]
  },
  {
   "cell_type": "markdown",
   "id": "27067795-9896-427e-993a-523722dd05c0",
   "metadata": {},
   "source": [
    "# Print statements"
   ]
  },
  {
   "cell_type": "code",
   "execution_count": 3,
   "id": "a5ff060f-8ac5-46c5-b5b7-e7c9acd51ecb",
   "metadata": {},
   "outputs": [
    {
     "name": "stdout",
     "output_type": "stream",
     "text": [
      "Hello, World!\n",
      "COMP-141-01: CSI: Introduction to Programming\n",
      "2+5\n"
     ]
    }
   ],
   "source": [
    "print(\"Hello, World!\") #This line prints \"Hello, World!\"\n",
    "print('COMP-141-01: CSI: Introduction to Programming')\n",
    "print(\"2+5\")"
   ]
  },
  {
   "cell_type": "code",
   "execution_count": 4,
   "id": "0448f82a-7b19-4c77-9e26-7638d813b4d6",
   "metadata": {},
   "outputs": [
    {
     "name": "stdout",
     "output_type": "stream",
     "text": [
      "Hello, World!\n",
      "146\n"
     ]
    }
   ],
   "source": [
    "# Variables\n",
    "a = \"Hello, World!\"\n",
    "b = 141\n",
    "\n",
    "print(a)\n",
    "print(b+5)"
   ]
  },
  {
   "cell_type": "markdown",
   "id": "fdf9299b-0c33-40d4-994d-9712477219a7",
   "metadata": {},
   "source": [
    "# User Input"
   ]
  },
  {
   "cell_type": "code",
   "execution_count": null,
   "id": "4df5fc9b-8e1f-4063-8035-4984303dea4c",
   "metadata": {},
   "outputs": [],
   "source": []
  }
 ],
 "metadata": {
  "kernelspec": {
   "display_name": "Python 3 (ipykernel)",
   "language": "python",
   "name": "python3"
  },
  "language_info": {
   "codemirror_mode": {
    "name": "ipython",
    "version": 3
   },
   "file_extension": ".py",
   "mimetype": "text/x-python",
   "name": "python",
   "nbconvert_exporter": "python",
   "pygments_lexer": "ipython3",
   "version": "3.12.3"
  }
 },
 "nbformat": 4,
 "nbformat_minor": 5
}
