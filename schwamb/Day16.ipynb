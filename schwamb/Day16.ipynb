{
 "cells": [
  {
   "cell_type": "markdown",
   "metadata": {},
   "source": [
    "# Day 16: Lists continued (and random numbers!)\n",
    "__List:__ an object that contains multiple data items\n",
    "* __Element:__ An item in a list\n",
    "* Format: `list = [item1, item2, etc.]`\n",
    "* Can hold items of different types\n",
    "* `print` function can be used to display an entire list\n",
    "* `list()` function can convert certain types of objects to lists\n",
    "  \n",
    "## Simple list problem\n",
    "How would we write a function to convert a number from 1-12 into the corresponding month of the year as a string? \n",
    "\n",
    "Ex: getmonth(2) should return \"February\"\n"
   ]
  },
  {
   "cell_type": "code",
   "execution_count": 2,
   "metadata": {},
   "outputs": [
    {
     "name": "stdout",
     "output_type": "stream",
     "text": [
      "May\n",
      "October\n"
     ]
    }
   ],
   "source": [
    "def getmonth(month):\n",
    "    months = ['January', 'February', 'March', 'April', 'May', 'June', 'July', \\\n",
    "            'August', 'September', 'October', 'November', 'December']\n",
    "    \n",
    "    answer = months[month-1]\n",
    "    return answer\n",
    "\n",
    "print(getmonth(5))\n",
    "print(getmonth(10))"
   ]
  },
  {
   "cell_type": "markdown",
   "metadata": {},
   "source": [
    "## Aside from Lists: Random Number Generation\n",
    "We can use the `random` library to generate random numbers. This library will be imported similarly to the `math` library. For most of the problems in this class we'll use the `random.randint()` function. Let's try it below!"
   ]
  },
  {
   "cell_type": "code",
   "execution_count": 19,
   "metadata": {},
   "outputs": [
    {
     "name": "stdout",
     "output_type": "stream",
     "text": [
      "2\n",
      "10\n"
     ]
    }
   ],
   "source": [
    "# This program generates and prints random numbers between 1 and 10 (inclusive) until a 10 is generated.\n",
    "import random\n",
    "\n",
    "num = 0\n",
    "while num != 10:\n",
    "    num = random.randint(1,10)\n",
    "    print(num)"
   ]
  },
  {
   "cell_type": "markdown",
   "metadata": {},
   "source": [
    "## List Concatenation\n",
    "You can \"add\" 2 lists together. It creates a new 1-D list with all the items from both lists in it.\n"
   ]
  },
  {
   "cell_type": "code",
   "execution_count": null,
   "metadata": {},
   "outputs": [],
   "source": [
    "a = [1,2,3]\n",
    "b = [4,5,6]\n",
    "c = a + b\n",
    "print(c)# prints [1, 2, 3, 4, 5, 6]\n",
    "\n",
    "mylist = ['a','b','c']\n",
    "other = ['d','e','f']\n",
    "print(mylist + other)  #['a', 'b', 'c', 'd', 'e', 'f']\n"
   ]
  },
  {
   "cell_type": "markdown",
   "metadata": {},
   "source": [
    "## Three common ways to make a list\n",
    "\n",
    "1. Make a list that already has stuff in it:\n",
    "```\n",
    "lst = [4, 7, 3, 8]\n",
    "```\n",
    "2. Make a list of a certain length that has the same element in all positions:\n",
    "```\n",
    "lst = [0] * 4 \t#makes the list [0,0,0,0]\n",
    "```\n",
    "<ul>\n",
    "    <li>Common when you need a list of a certain length ahead of time.) </li>\n",
    "    <li>Uses the repetition operator, similarly to strings</li>\n",
    "</ul>\n",
    "\n",
    "3. Make an empty list: \n",
    "```\n",
    "lst = [] \n",
    "```\n",
    "<ul>\n",
    "    <li>Common when you're going to put things in the list coming from the user or a file.</li>\n",
    "</ul>"
   ]
  },
  {
   "cell_type": "code",
   "execution_count": null,
   "metadata": {},
   "outputs": [],
   "source": [
    "#What will this code output?\n",
    "\n",
    "lst = [2] * 3\n",
    "lst2 = [4] * 2\n",
    "lst3 = lst + lst2\n",
    "for x in range(0, len(lst3), 2):\n",
    "    lst3[x] = -1\n",
    "\n",
    "print(lst3)"
   ]
  },
  {
   "cell_type": "markdown",
   "metadata": {},
   "source": [
    "## Slicing: aka the colon operator\n",
    "You can use a : to get multiple items from a list. Let's look at the example below and see if we can figure out how the colon works in various situations"
   ]
  },
  {
   "cell_type": "code",
   "execution_count": 4,
   "metadata": {},
   "outputs": [
    {
     "name": "stdout",
     "output_type": "stream",
     "text": [
      "[3, 4, 5, 6, 7, 8, 9, 10]\n",
      "[1, 2, 3, 4, 5, 6, 7, 8]\n",
      "[2, 4, 6, 8]\n",
      "[6, 5, 4, 3, 2, 1]\n",
      "[10, 9, 8, 7, 6, 5, 4, 3, 2, 1]\n",
      "[6, 5, 4]\n"
     ]
    }
   ],
   "source": [
    "# Examples of list slices \n",
    "# What will the following print statements output?\n",
    "numbers = [1, 2, 3, 4, 5, 6, 7, 8, 9, 10]\n",
    "print(numbers[2:])\n",
    "print(numbers[:-2])\n",
    "print(numbers[1:8:2])\n",
    "print(numbers[5::-1])\n",
    "print(numbers[::-1])\n",
    "print(numbers[5:2:-1])"
   ]
  },
  {
   "cell_type": "markdown",
   "metadata": {},
   "source": [
    "## Finding Items in Lists with the in Operator\n",
    "* You can use the `in` operator to determine whether an item is contained in a list\n",
    "* General format: `item in list`\n",
    "* Returns True if the item is in the list, or False if it is not in the list\n",
    "* Similarly you can use the `not in` operator to determine whether an item is not in a list"
   ]
  },
  {
   "cell_type": "code",
   "execution_count": 5,
   "metadata": {},
   "outputs": [
    {
     "name": "stdin",
     "output_type": "stream",
     "text": [
      "Enter a product number:  V475\n"
     ]
    },
    {
     "name": "stdout",
     "output_type": "stream",
     "text": [
      "V475 was found in the list.\n"
     ]
    }
   ],
   "source": [
    "# Example using the in operator\n",
    "def main():\n",
    "    prod_nums = ['V475', 'F987', 'Q143', 'R688']\n",
    "  \n",
    "    search = input(\"Enter a product number: \")\n",
    "  \n",
    "    if search in prod_nums:\n",
    "        print(search, \"was found in the list.\")\n",
    "    else:\n",
    "        print(search, \"was not found in the list.\")\n",
    "\n",
    "main()"
   ]
  },
  {
   "cell_type": "markdown",
   "metadata": {},
   "source": [
    "## List Methods and Useful Built-in Functions\n",
    "(See [list reference](https://rhodes.instructure.com/courses/9028/files/1155524?module_item_id=286967) for a complete list of list methods)\n",
    "\n",
    "* `append(item):` used to add items to a list – item is appended to the end of the existing list\n",
    "* `index(item):` used to determine where an item is located in a list. It returns the index of the first element in the list containing item, and raises ValueError exception if item not in the list\n",
    "* `insert(index, item):` used to insert item at position index in the list\n",
    "* `sort():` used to sort the elements of the list in ascending order\n",
    "* `remove(item):` removes the first occurrence of item in the list\n",
    "* `reverse():` reverses the order of the elements in the list\n",
    "* `del` statement: removes an element from a specific index in a list (General format: `del list[i]`)\n",
    "* `min` and `max` functions: built-in functions that returns the item that has the lowest or highest value in a sequence. The sequence is passed as an argument (General format: `min(lst)`)\n",
    "* `sum` function: built-in functions that returns the total of all the values in a sequence. The sequence is passed as an argument (General format: `sum(lst)`)\n"
   ]
  },
  {
   "cell_type": "code",
   "execution_count": null,
   "metadata": {},
   "outputs": [],
   "source": [
    "b = [4, 6, 2, 9, 1]\n",
    "b.sort() \n",
    "print(b)\n",
    "b.reverse()\n",
    "print(b)"
   ]
  },
  {
   "cell_type": "code",
   "execution_count": null,
   "metadata": {},
   "outputs": [],
   "source": [
    "# Example using the sort and insert methods\n",
    "\n",
    "def main():\n",
    "    names = ['James', 'Kathryn', 'Bill']\n",
    "    names.sort()\n",
    "\n",
    "    print(\"The list before the insert: \", names)\n",
    "  \n",
    "    names.insert(0, 'Joe')\n",
    "  \n",
    "    print(\"The list after the first insert: \", names)\n",
    "  \n",
    "    names.insert(2, 'Mary')\n",
    "  \n",
    "    print(\"The list after the second insert:\", names)\n",
    "\n",
    "main()"
   ]
  },
  {
   "cell_type": "code",
   "execution_count": null,
   "metadata": {},
   "outputs": [],
   "source": [
    "# Examples using del, min, max, sum, and sort\n",
    "\n",
    "def main():\n",
    "    my_list = [5, 4, 3, 2, 50, 40, 30]\n",
    "    print(\"Before Deletion: \", my_list)\n",
    "    del my_list[2]\n",
    "    print(\"After Deletion: \", my_list)\n",
    "\n",
    "    print(\"The lowest value is\", min(my_list))\n",
    "    print(\"The highest value is\", max(my_list))\n",
    "    print(\"The sum of the values in my list is\", sum(my_list))\n",
    "\n",
    "    #Sorting a list - this will permanately change the order of the items in my_list \n",
    "    #There is no way to return my_list to it's orginal order after running the sort function\n",
    "    my_list.sort()\n",
    "    print(\"The sorted list is: \", my_list)\n",
    "    print()\n",
    "\n",
    "    alpha_list = ['a', 'b','c', 'd']\n",
    "    print(\"The lowest value is\", min(alpha_list))\n",
    "    print(\"The highest value is\", max(alpha_list))\n",
    "    #You cannot take the sum of a list that has strings in it.\n",
    "\n",
    "main()"
   ]
  },
  {
   "cell_type": "code",
   "execution_count": 8,
   "metadata": {},
   "outputs": [
    {
     "name": "stdin",
     "output_type": "stream",
     "text": [
      "How many people are playing? 6\n",
      "What is the 1st player's name? Addison\n",
      "What is the 2nd player's name? Blake\n",
      "What is the 3rd player's name? Jace\n",
      "What is the 4th player's name? Shay\n",
      "What is the 5th player's name? Mat\n",
      "What is the 6th player's name? Jessie\n"
     ]
    },
    {
     "name": "stdout",
     "output_type": "stream",
     "text": [
      "['Addison', 'Blake', 'Jace', 'Shay', 'Mat', 'Jessie']\n"
     ]
    }
   ],
   "source": [
    "# Get number of players playing a game - example using append\n",
    "def get_player_names(n_players):\n",
    "    player_names = []\n",
    "    for i in range(n_players):\n",
    "        if i == 0:\n",
    "            player_names.append(input(\"What is the 1st player's name?\"))\n",
    "        elif i == 1:\n",
    "            player_names.append(input(\"What is the 2nd player's name?\"))\n",
    "        elif i == 2:\n",
    "            player_names.append(input(\"What is the 3rd player's name?\"))\n",
    "        else:\n",
    "            player_names.append(input(f\"What is the {i+1}th player's name?\"))\n",
    "    return player_names\n",
    "\n",
    "def main():\n",
    "    n_players = int(input(\"How many people are playing?\"))\n",
    "    player_names = get_player_names(n_players)\n",
    "    print(player_names)\n",
    "\n",
    "main()"
   ]
  },
  {
   "cell_type": "markdown",
   "metadata": {},
   "source": [
    "### Practice\n",
    "The following program has the main function written for you and stubs for 2 other functions that you will need to write.\n",
    "* `findAverage(numbers)` – will return the average of all the numbers in the list\n",
    "* `countNumbers(numbers, average)` - will return 2 values; it counts the number of above average and below average numbers in a list"
   ]
  },
  {
   "cell_type": "code",
   "execution_count": 9,
   "metadata": {},
   "outputs": [
    {
     "name": "stdout",
     "output_type": "stream",
     "text": [
      "Average is: None\n",
      "Below Average: 0 \n",
      "Above Average: 0\n"
     ]
    }
   ],
   "source": [
    "#Fill in the code for the following 2 functions, findAverage and countNumbers\n",
    "\n",
    "#This function finds the average of a list of numbers\n",
    "#Parameters: numbers, a list of integers\n",
    "#Returns: average, a floating point number \n",
    "def findAverage(numbers):\n",
    "    #REPLACE the pass call with your code\n",
    "    pass\n",
    "  \n",
    "\n",
    "#This function counts the number of above average and below average numbers in a list\n",
    "#Parameters: numbers, a list of integers; average, the average of the values in the list\n",
    "#Returns: numBelow, the # of values below average; numAbove, the number of values above average\n",
    "def countNumbers(numbers, average):\n",
    "    numBelow = 0\n",
    "    numAbove = 0\n",
    "\n",
    "    #YOUR CODE GOES HERE\n",
    "    \n",
    "    return numBelow, numAbove\n",
    "\n",
    "def main():\n",
    "    numList = [62, 57, 35, 27, 45, 44, 46, 68, 86, 27, 88, 33,\n",
    "               11, 61, 64, 45, 56, 9, 33, 32, 56, 63, 24, 26,\n",
    "               100, 95, 62, 10, 87, 58, 69, 54, 75, 41, 22, 93,\n",
    "               82, 16, 92, 49, 6, 71, 85, 59, 56, 22, 3, 50, 1,\n",
    "               20, 54, 18, 27, 78, 17, 7, 41, 83, 92, 38, 5, 64,\n",
    "               60, 92, 15, 26, 57, 39, 80, 41, 67, 56, 24, 77,\n",
    "               28, 90, 24, 72, 2, 46, 75, 53, 58, 47, 50, 18,\n",
    "               40, 65, 24, 58, 4, 58, 81, 40, 6, 77, 85, 86, 68]\n",
    "    \n",
    "    avg = findAverage(numList)\n",
    "    print(\"Average is:\", avg)\n",
    "    below, above = countNumbers(numList, avg)\n",
    "    print(\"Below Average:\", below, \"\\nAbove Average:\", above)\n",
    "\n",
    "main()"
   ]
  },
  {
   "cell_type": "markdown",
   "metadata": {},
   "source": [
    "#### Reminders for the Lab\n",
    "* You can \"build\" a new list from an empty list using `append` (see the list reference)\n",
    "* You can initialize a full-length list with all 0s (or any other placeholder) using `*`\n",
    "* `for i in range(len(my_list)):` is a very common pattern! It loops over all indexes of the list.\n",
    "* You can either use the previous value technique or do math on `i` to look at neighbors"
   ]
  }
 ],
 "metadata": {
  "kernelspec": {
   "display_name": "Python 3 (ipykernel)",
   "language": "python",
   "name": "python3"
  },
  "language_info": {
   "codemirror_mode": {
    "name": "ipython",
    "version": 3
   },
   "file_extension": ".py",
   "mimetype": "text/x-python",
   "name": "python",
   "nbconvert_exporter": "python",
   "pygments_lexer": "ipython3",
   "version": "3.12.3"
  },
  "varInspector": {
   "cols": {
    "lenName": 16,
    "lenType": 16,
    "lenVar": 40
   },
   "kernels_config": {
    "python": {
     "delete_cmd_postfix": "",
     "delete_cmd_prefix": "del ",
     "library": "var_list.py",
     "varRefreshCmd": "print(var_dic_list())"
    },
    "r": {
     "delete_cmd_postfix": ") ",
     "delete_cmd_prefix": "rm(",
     "library": "var_list.r",
     "varRefreshCmd": "cat(var_dic_list()) "
    }
   },
   "types_to_exclude": [
    "module",
    "function",
    "builtin_function_or_method",
    "instance",
    "_Feature"
   ],
   "window_display": false
  }
 },
 "nbformat": 4,
 "nbformat_minor": 4
}
