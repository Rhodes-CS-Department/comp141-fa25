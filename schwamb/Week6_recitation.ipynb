{
 "cells": [
  {
   "cell_type": "markdown",
   "id": "31749a5f-984a-488c-b213-d0d519dd9ceb",
   "metadata": {},
   "source": [
    "# Welcome to Recitation!\n",
    "## Order of Business:\n",
    "1. What examples would you like?\n",
    "2. Examples (`while` loops)\n",
    "3. Time for questions\n",
    "4. Time for labwork"
   ]
  },
  {
   "cell_type": "markdown",
   "id": "27067795-9896-427e-993a-523722dd05c0",
   "metadata": {},
   "source": [
    "# While loop examples"
   ]
  },
  {
   "cell_type": "markdown",
   "id": "6e8e5a43-b18a-4e8d-9c7c-07e171843747",
   "metadata": {},
   "source": [
    "## More practice\n",
    "Try these problems:\n",
    "\n",
    "Write a program that asks the user to type in two integers, over and over again. Print the sum of the two integers. Make the loop stop when the second integer is less than zero (and don’t print the sum in this case).\n",
    "\n",
    "a. Change the loop so the sum is printed when the second integer is less than zero.\n",
    "\n",
    "b. Make the loop stop when the sum of the two integers is odd. (try it both with printing the sum and not printing).\n",
    "\n",
    "c. Make the loop stop when the first integer is less than zero (and then don’t ask for the second one)."
   ]
  },
  {
   "cell_type": "code",
   "execution_count": 2,
   "id": "3a6fcaf9-3b17-4beb-b911-e38d60fe7d6a",
   "metadata": {},
   "outputs": [],
   "source": [
    "# Lets code these examples here\n"
   ]
  },
  {
   "cell_type": "markdown",
   "id": "793d5557-7bef-4e79-b204-09e1e9621bb9",
   "metadata": {},
   "source": [
    "## Accumulating a String\n",
    "In addition to accumlating number values inside a loop, you can also accumulate a string using string concatenation.  One way to do this is to initialize an empty string and then accumulate the value inside the loop.\n",
    "\n",
    "` s = ''`\n",
    "\n",
    "` s = s + '*'  #the order of the additions here matters`\n",
    "\n",
    "### Practice\n",
    "Now you try.   Create a snippet of code that asks the user for the length of a fence.  The posts will be the '|' character and the beams will be the '-' character.   When the user gives the value 5, the fence that will be printed will look like:  '|-|-|-|-|-|'  (it has 6 posts and 5 beams).   For this problem, I want you to use a loop to solve it.  There is a shorter way to do it."
   ]
  },
  {
   "cell_type": "code",
   "execution_count": 3,
   "id": "01a1a911-182a-43b4-b385-a8f289774a18",
   "metadata": {},
   "outputs": [],
   "source": [
    "# Write a loop to print the multiples of 5 (between 5 and 60, inclusive).\n"
   ]
  },
  {
   "cell_type": "code",
   "execution_count": 4,
   "id": "cff68f4e-661c-4f5e-bee9-c1d3b5ef96d2",
   "metadata": {},
   "outputs": [],
   "source": [
    "# Write a loop to print the multiples of 3 and/or 5 (between 3 and 60, inclusive).\n",
    "# (This should be one single increasing list of numbers.)\n",
    "# Hint: a value is a multiple of 3 if value % 3 == 0:\n"
   ]
  },
  {
   "cell_type": "code",
   "execution_count": 5,
   "id": "3a43c8f6-c79d-4b24-8507-1905528babb7",
   "metadata": {},
   "outputs": [],
   "source": [
    "#  Write a loop to print the numbers from 1 to 30, each labeled with the word\n",
    "# \"even\" or \"odd\" depending on the number.\n"
   ]
  },
  {
   "cell_type": "code",
   "execution_count": 6,
   "id": "59dc7366-7b88-4e6f-90e1-4a6dbb4bf9a8",
   "metadata": {},
   "outputs": [],
   "source": [
    "# Write a loop to print the numbers from 1 to 30, each labeled with whether the number is \n",
    "# divisible by 3, by 5, by both 3 and 5, or neither 3 nor 5.\n"
   ]
  },
  {
   "cell_type": "code",
   "execution_count": null,
   "id": "d0ffafd6-28dd-49c4-a025-c990d67f4aad",
   "metadata": {},
   "outputs": [],
   "source": [
    "def main():\n",
    "    x = int(input(\"Length of fence: \"))\n",
    "    # what next?\n",
    "\n",
    "main()"
   ]
  }
 ],
 "metadata": {
  "kernelspec": {
   "display_name": "Python 3 (ipykernel)",
   "language": "python",
   "name": "python3"
  },
  "language_info": {
   "codemirror_mode": {
    "name": "ipython",
    "version": 3
   },
   "file_extension": ".py",
   "mimetype": "text/x-python",
   "name": "python",
   "nbconvert_exporter": "python",
   "pygments_lexer": "ipython3",
   "version": "3.12.3"
  }
 },
 "nbformat": 4,
 "nbformat_minor": 5
}
