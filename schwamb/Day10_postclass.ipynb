{
 "cells": [
  {
   "cell_type": "markdown",
   "metadata": {},
   "source": [
    "# Day 10: More about loops\n",
    "## Calling Functions in a Loop\n",
    "* Functions can be called from statements in the body of a loop (Often improves the design)\n",
    "* Example: Write a function to calculate then display the commission for a sales amount (Call the function inside a loop)"
   ]
  },
  {
   "cell_type": "code",
   "execution_count": 5,
   "metadata": {},
   "outputs": [
    {
     "name": "stdout",
     "output_type": "stream",
     "text": [
      "Enter the amount of sales: 100\n",
      "Enter the commission rate: 0.1\n",
      "The commission is $10.00.\n",
      "Do you want to calculate another commission (y for yes)? y\n",
      "Enter the amount of sales: 1000\n",
      "Enter the commission rate: 0.2\n",
      "The commission is $200.00.\n",
      "Do you want to calculate another commission (y for yes)? y\n",
      "Enter the amount of sales: 5\n",
      "Enter the commission rate: 0.1\n",
      "The commission is $0.50.\n",
      "Do you want to calculate another commission (y for yes)? n\n"
     ]
    }
   ],
   "source": [
    "# This program calculates sales commission based on user inputs \n",
    "\n",
    "def main():\n",
    "    keep_going = 'y'\n",
    "  \n",
    "    #Calculate a series of commissions\n",
    "    while keep_going == 'y':\n",
    "        sales = float(input(\"Enter the amount of sales: \"))\n",
    "        comm_rate = float(input(\"Enter the commission rate: \"))\n",
    "    \n",
    "        #Calculate the commission\n",
    "        commission = sales * comm_rate\n",
    "    \n",
    "        print(\"The commission is $\", format(commission, '.2f'), '.', sep='')\n",
    "    \n",
    "        #See if the user wants to do another one.\n",
    "        keep_going = input(\"Do you want to calculate another commission (y for yes)? \")\n",
    "    \n",
    "main()"
   ]
  },
  {
   "cell_type": "code",
   "execution_count": 1,
   "metadata": {},
   "outputs": [
    {
     "name": "stdout",
     "output_type": "stream",
     "text": [
      "Enter the amount of sales: 10000000\n",
      "Enter the commission rate: 0.06\n",
      "The commission is $600000.00.\n",
      "Do you want to calculate another commission (y for yes)? y\n",
      "Enter the amount of sales: 50000\n",
      "Enter the commission rate: 0.02\n",
      "The commission is $1000.00.\n",
      "Do you want to calculate another commission (y for yes)? n\n"
     ]
    }
   ],
   "source": [
    "# This program calculates sales commission based on user inputs \n",
    "def calculate_commission():\n",
    "    sales = float(input(\"Enter the amount of sales: \"))\n",
    "    comm_rate = float(input(\"Enter the commission rate: \"))\n",
    "    \n",
    "    #Calculate the commission\n",
    "    commission = sales * comm_rate\n",
    "    \n",
    "    print(\"The commission is $\", format(commission, '.2f'), '.', sep='')\n",
    "\n",
    "def main():\n",
    "    keep_going = 'y'\n",
    "  \n",
    "    #Calculate a series of commissions\n",
    "    while keep_going == 'y':\n",
    "        calculate_commission()\n",
    "        \n",
    "        #See if the user wants to do another one.\n",
    "        keep_going = input(\"Do you want to calculate another commission (y for yes)? \")\n",
    "    \n",
    "main()"
   ]
  },
  {
   "cell_type": "markdown",
   "metadata": {},
   "source": [
    "## While Loop General Algorithm\n",
    "\n",
    "```\n",
    "while  some condition is true :\t\n",
    "    # Do this code  \n",
    "    #Something here should modify the condition above\n",
    "```"
   ]
  },
  {
   "cell_type": "markdown",
   "metadata": {},
   "source": [
    "## Pseudo-code\n",
    "* An informal way of writing algorithms for humans to read (not computers!)\n",
    "* Illustrates the logic of an algorithm, but omits details that people can fill in automatically.\n",
    "* You get to make it up as you go along, as long as you (and other people) can easily understand it. \n",
    "\n",
    "Example: \n",
    "* Instead of saying: `name = input(\"What is your name? \")`, pseudocode might use a line that says `name = ask user for name`\n",
    "* Instead of saying: `if x >= 0 and x <= 100: print(\"$%.2f\" % x)`, pseudocode might say\n",
    "```\n",
    "if x is between 0 and 100:\n",
    "\tprint x with 2 decimal places\n",
    "```\n",
    "* The point is to get your ideas down on paper quickly, so you can worry about the programming details and exact syntax later.\n"
   ]
  },
  {
   "cell_type": "markdown",
   "metadata": {},
   "source": [
    "__To write any while loop:__\n",
    "1. Write out pseudocode for what the loop does, that is, what code you will repeat over and over.\n",
    "2. Include an \"if\" statement in your code that will be True if you want the loop to keep going.\n",
    "3. Make sure the code repeats the \"if\" statement at least twice. \n",
    "4. Find the statements between consecutive \"if\" statements. These statements will become the body of the loop.\n",
    "5. The \"if\" test will become the \"while\" test.\n",
    "6. If there's anything before the first \"if\" test, it will go immediately before the while loop (outside of the body). \n"
   ]
  },
  {
   "cell_type": "code",
   "execution_count": null,
   "metadata": {},
   "outputs": [],
   "source": [
    "# write a while loop which asks the user for numbers over and over\n",
    "# and computes the average once the user types -1\n",
    "# Let's pseudocode this first!\n",
    "# Put your pseudocode in the markdown cell below"
   ]
  },
  {
   "cell_type": "markdown",
   "metadata": {},
   "source": []
  },
  {
   "cell_type": "code",
   "execution_count": 2,
   "metadata": {},
   "outputs": [
    {
     "name": "stdout",
     "output_type": "stream",
     "text": [
      "What is the first number you would like to average?5\n",
      "What is the next number you would like to average? (Enter -1 to stop.)7\n",
      "What is the next number you would like to average? (Enter -1 to stop.)9\n",
      "What is the next number you would like to average? (Enter -1 to stop.)-1\n",
      "The average of the numbers you entered is:  7.0\n"
     ]
    }
   ],
   "source": [
    "# now let's code it!\n",
    "# Put your code in this cell\n",
    "\n",
    "def main():\n",
    "    sum_of_numbers = 0\n",
    "    number = float(input(\"What is the first number you would like to average?\"))\n",
    "    count = 0\n",
    "    while number != -1:\n",
    "        sum_of_numbers = sum_of_numbers + number # eq. syntax: sum_of_numbers += number\n",
    "        count += 1\n",
    "        number = float(input(\"What is the next number you would like to average? (Enter -1 to stop.)\"))\n",
    "    average = sum_of_numbers / count\n",
    "    print(\"The average of the numbers you entered is: \", average)\n",
    "\n",
    "main()"
   ]
  },
  {
   "cell_type": "markdown",
   "metadata": {},
   "source": [
    "## For-Loops\n",
    "\n",
    "__Count-Controlled loop:__ iterates a specific number of times\n",
    "* Use a for statement to write count-controlled loop \n",
    "* Designed to work with sequence of data items\n",
    "* Iterates once for each item in the sequence\n",
    "* General Format: \n",
    "```\n",
    "for variable in [val1, val2, etc]:\n",
    "\tstatements\n",
    "```\n",
    "* In the format above, variable is a new variable that gets created as part of this for statement - you can use this variable anywhere inside the loop body or after the loop is done iterating\n"
   ]
  },
  {
   "cell_type": "code",
   "execution_count": null,
   "metadata": {},
   "outputs": [],
   "source": [
    "for num in [1, 2, 3, 4, 5]:\n",
    "    print(num)"
   ]
  },
  {
   "cell_type": "markdown",
   "metadata": {},
   "source": [
    "## Using the range function\n",
    "\n",
    "* The range function simplifies the process of writing a for loop\n",
    "* range returns an iterable object\n",
    "* __Iterable:__ contains a sequence of values that can be iterated over\n",
    "\n",
    "__range characteristics:__\n",
    "* One argument: used as ending limit \n",
    "* Two arguments: starting value and ending limit\n",
    "* Three arguments: third argument is step value\n",
    "\n",
    "`range(start=0, end, step=1)` shows that range can take in up to 3 arguments, and if not specified the default value for start is 0, and the default value for step is 1"
   ]
  },
  {
   "cell_type": "code",
   "execution_count": null,
   "metadata": {},
   "outputs": [],
   "source": [
    "# When you using a single argument, it describes the end value\n",
    "#The default value for start is used (0), and the default value for step is used (1)\n",
    "\n",
    "#equivalent while loop to the below for loop\n",
    "print(\"here's the while loop: \")\n",
    "i = 0\n",
    "while i < 5:\n",
    "    print(i)\n",
    "    i += 1\n",
    "\n",
    "print(\"here's the for loop: \")\n",
    "for i in range(5):\n",
    "    print(i)"
   ]
  }
 ],
 "metadata": {
  "kernelspec": {
   "display_name": "Python 3 (ipykernel)",
   "language": "python",
   "name": "python3"
  },
  "language_info": {
   "codemirror_mode": {
    "name": "ipython",
    "version": 3
   },
   "file_extension": ".py",
   "mimetype": "text/x-python",
   "name": "python",
   "nbconvert_exporter": "python",
   "pygments_lexer": "ipython3",
   "version": "3.11.4"
  },
  "varInspector": {
   "cols": {
    "lenName": 16,
    "lenType": 16,
    "lenVar": 40
   },
   "kernels_config": {
    "python": {
     "delete_cmd_postfix": "",
     "delete_cmd_prefix": "del ",
     "library": "var_list.py",
     "varRefreshCmd": "print(var_dic_list())"
    },
    "r": {
     "delete_cmd_postfix": ") ",
     "delete_cmd_prefix": "rm(",
     "library": "var_list.r",
     "varRefreshCmd": "cat(var_dic_list()) "
    }
   },
   "types_to_exclude": [
    "module",
    "function",
    "builtin_function_or_method",
    "instance",
    "_Feature"
   ],
   "window_display": false
  }
 },
 "nbformat": 4,
 "nbformat_minor": 4
}
