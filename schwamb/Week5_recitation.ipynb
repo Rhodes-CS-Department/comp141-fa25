{
 "cells": [
  {
   "cell_type": "markdown",
   "id": "31749a5f-984a-488c-b213-d0d519dd9ceb",
   "metadata": {},
   "source": [
    "# Welcome to Recitation!\n",
    "## Order of Business:\n",
    "1. What examples would you like?\n",
    "2. Examples (functions with return)\n",
    "3. Time for questions\n",
    "4. Time for labwork"
   ]
  },
  {
   "cell_type": "markdown",
   "id": "27067795-9896-427e-993a-523722dd05c0",
   "metadata": {},
   "source": [
    "# Function Examples"
   ]
  },
  {
   "cell_type": "code",
   "execution_count": null,
   "id": "02533230-96a6-42a5-b03f-ecd92e215487",
   "metadata": {},
   "outputs": [],
   "source": [
    "# trace this code\n",
    "def foo(x, y):\n",
    "    y = y + 1\n",
    "    x = 2 * (y + 3)\n",
    "    return (x,y)\n",
    "\n",
    "def main():\n",
    "    x = 5\n",
    "    y = 4\n",
    "    x,y = foo(x, y)\n",
    "    print(x, y)\n",
    "\n",
    "main()"
   ]
  },
  {
   "cell_type": "markdown",
   "id": "95a7d44b-c444-40fb-a4f8-0aaae3d130be",
   "metadata": {},
   "source": [
    "# Project 2: Resource Consumption Calculator (We didn't get to this Wednesday)\n",
    "\n",
    "## Computing for the Social Good\n",
    "\n",
    "Understanding technology's potential for good (and harm) is one of the learning goals for this class.   We should understand the role that computing plays in responding to social, ecological, political, and other challenges.  As you use computer science in the future, we hope you’ll analyze each situation with an eye for the ethics and potential consequences. \n",
    "\n",
    "__We will use Python to answer the following questions:__\n",
    "* How many \"full-sized\" power plants are required for a given entity\n",
    "* How many \"Memphis aquifers\" are required for a given entity\n",
    "* How do two different entities compare in their consumption\n",
    "\n",
    "Using **functions** and **if statements**, we will write a program which lets the user choose one of three options:\n",
    "* Given consumption per household and number of households, calculate total consumption.\n",
    "* Given power demand and water consumption for a single entity, calculate total consumption.\n",
    "* Compare the consumption of two entities.\n",
    "\n",
    "An \"entity\" could be: a city, a town, a neighborhood, a factory, etc. For example, the Ford Blue Oval factory doesn't correspond to a \"number of households\", but maybe you could find the total power (in MW) and water (in gallons) demand.\n",
    "\n",
    "The program will compute the number of average natural gas power plants as well as number of solar panels required to power the entity, and it will calculate how many years it would take to deplete the Memphis aquifer."
   ]
  },
  {
   "cell_type": "markdown",
   "id": "ca973a99-5c44-4f90-80b9-57ecc765fd69",
   "metadata": {},
   "source": [
    "### Example 1\n",
    "\n",
    "<pre>\n",
    "What is the name of the entity in question?  <b>Rhodes</b>\n",
    "\n",
    "Choose an option:\n",
    "  (1) I have the consumption per household (KWh, gallons) and number of households.\n",
    "  (2) I have the entity's maximum power and water demand (MW, gallons).\n",
    "  (3) I want to compare two entities.\n",
    "<b>1</b>\n",
    "\n",
    "Enter daily consumption per household (KWh): <b>41</b>\n",
    "\n",
    "Enter gallons of water consumed per day: <b>100</b>\n",
    "\n",
    "Enter the number of households: <b>4000</b>\n",
    "\n",
    "Rhodes consumes 1460 MWh and 146000000 gallons per year.\n",
    "\n",
    "That is equivalent to 0.001 natural gas power plants or 416.67 solar panels.\n",
    "\n",
    "Without replenishment, Rhodes would consume the entire Memphis aquifer in 684931 years.\n",
    "</pre>"
   ]
  },
  {
   "cell_type": "markdown",
   "id": "dc1cbb13-9fe9-42c8-9c2c-9a985c959d18",
   "metadata": {},
   "source": [
    "### Example 2\n",
    "\n",
    "<pre>\n",
    "What is the name of the entity in question?  <b>Colossus Supercomputer</b>\n",
    "\n",
    "Choose an option:\n",
    "  (1) I have the consumption per household (KWh, gallons) and number of households.\n",
    "  (2) I have the entity's maximum power and water demand (MW, gallons).\n",
    "  (3) I want to compare two entities.\n",
    "<b>2</b>\n",
    "\n",
    "Maximum Power Demand (MW): <b>300</b>\n",
    "\n",
    "Maximum Water Demand (gallons per day): <b>1000000</b>\n",
    "\n",
    "Colossus Supercomputer consumes 2628000 MWh and 365000000 gallons per year.\n",
    "\n",
    "That is equivalent to 3.26 natural gas power plants or 750000 solar panels.\n",
    "\n",
    "Without replenishment, Colossus Supercomputer would consume the entire Memphis aquifer in 999999 years."
   ]
  },
  {
   "cell_type": "markdown",
   "id": "7ee7e5a0-33f3-4b40-afa9-04da4050c034",
   "metadata": {},
   "source": [
    "### Example 3\n",
    "\n",
    "<pre>\n",
    "What is the name of the entity in question?  <b>Memphis</b>\n",
    "\n",
    "Choose an option:\n",
    "  (1) I have the consumption per household (KWh, gallons) and number of households.\n",
    "  (2) I have the entity's maximum power and water demand (MW, gallons).\n",
    "  (3) I want to compare two entities.\n",
    "<b>2</b>\n",
    "\n",
    "What is the name of the second entity? <b>Colossus Supercomputer</b>\n",
    "\n",
    "Total Power Plants for Memphis: <b>2</b>\n",
    "\n",
    "Total Power Plants for Colossus Supercomputer: <b>1</b>\n",
    "\n",
    "Gallons per Day for Memphis: <b>10000</b>\n",
    "\n",
    "Gallons per Day for Colossus Supercomputer: <b>3000</b>\n",
    "\n",
    "Colossus Supercomputer requires 0.5 times as many power plants and 0.3 times as much water as Memphis."
   ]
  },
  {
   "cell_type": "code",
   "execution_count": 12,
   "id": "079601a5-3980-499a-bef6-1a8b784b2b96",
   "metadata": {},
   "outputs": [
    {
     "data": {
      "application/vnd.jupyter.widget-view+json": {
       "model_id": "85e539e5f0a7496bb4d93b4ac6b97311",
       "version_major": 2,
       "version_minor": 0
      },
      "text/plain": [
       "AppLayout(children=(MultiCanvas(layout=Layout(grid_area='center'), sync_image_data=True, width=500),), layout=…"
      ]
     },
     "metadata": {},
     "output_type": "display_data"
    }
   ],
   "source": [
    "def calculate_consumption(par1,par2,etc):\n",
    "    # average capacity of a natural gas power plant: 92MW\n",
    "    # average capacity of a solar panel: 400W\n",
    "    # size of the Memphis aquifer: 100 trillion gallons\n",
    "\n",
    "    return # put the names of variables to return here\n",
    "\n",
    "def main():\n",
    "    entity = input(\"What is the name of the entity in question?\")\n",
    "    option = int(input(\"Choose an option: \\n\\t \\\n",
    "    (1) I have the consumption per household (KWh, gallons) and number of households. \\n\\t \\\n",
    "    (2) I have the entity's maximum power and water demand (MW, gallons). \\n\\t \\\n",
    "    (3) I want to compare two entities.\"))\n",
    "    # more statements here - should include at least one call to calculate_consumption(arg1,arg2,etc).\n",
    "    # remember: since calculate_consumption() returns one or more values, we should probably assign these to variables in our function call!\n",
    "\n",
    "main()"
   ]
  },
  {
   "cell_type": "code",
   "execution_count": null,
   "id": "3a6fcaf9-3b17-4beb-b911-e38d60fe7d6a",
   "metadata": {},
   "outputs": [],
   "source": []
  }
 ],
 "metadata": {
  "kernelspec": {
   "display_name": "Python 3 (ipykernel)",
   "language": "python",
   "name": "python3"
  },
  "language_info": {
   "codemirror_mode": {
    "name": "ipython",
    "version": 3
   },
   "file_extension": ".py",
   "mimetype": "text/x-python",
   "name": "python",
   "nbconvert_exporter": "python",
   "pygments_lexer": "ipython3",
   "version": "3.12.3"
  }
 },
 "nbformat": 4,
 "nbformat_minor": 5
}
