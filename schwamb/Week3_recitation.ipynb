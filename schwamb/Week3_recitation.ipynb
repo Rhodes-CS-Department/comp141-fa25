{
 "cells": [
  {
   "cell_type": "markdown",
   "id": "31749a5f-984a-488c-b213-d0d519dd9ceb",
   "metadata": {},
   "source": [
    "# Welcome to Recitation!\n",
    "## Order of Business:\n",
    "1. What examples would you like?\n",
    "2. Examples (if-elif-else)\n",
    "3. Time for questions\n",
    "4. Time for labwork"
   ]
  },
  {
   "cell_type": "markdown",
   "id": "27067795-9896-427e-993a-523722dd05c0",
   "metadata": {},
   "source": [
    "# If-Elif-Else Examples"
   ]
  },
  {
   "cell_type": "code",
   "execution_count": null,
   "id": "a5ff060f-8ac5-46c5-b5b7-e7c9acd51ecb",
   "metadata": {},
   "outputs": [],
   "source": [
    "# boolean variable\n",
    "a = True\n",
    "\n",
    "if a:\n",
    "    print(\"a is true\")\n",
    "else:\n",
    "    print(\"a is false\")"
   ]
  },
  {
   "cell_type": "code",
   "execution_count": null,
   "id": "af3e30fb-ec24-4f34-b07e-c55a3d548432",
   "metadata": {},
   "outputs": [],
   "source": [
    "# with input\n",
    "do_print = input(\"Should we print something? (yes or no)\")\n",
    "if do_print == \"yes\":\n",
    "    print(\"As you wish\")"
   ]
  },
  {
   "cell_type": "code",
   "execution_count": null,
   "id": "88dc1445-d557-4b6b-a352-798f7fa0f4e7",
   "metadata": {},
   "outputs": [],
   "source": [
    "# multiple options (elif)\n",
    "a = 4\n",
    "b = 9\n",
    "if a > b:\n",
    "    print(\"a is greater than b\")\n",
    "elif a < b:\n",
    "    print(\"a is less than b\")\n",
    "else:\n",
    "    print(\"a is equal to b\")"
   ]
  },
  {
   "cell_type": "code",
   "execution_count": null,
   "id": "f8a9bf6e-6043-413a-afe5-50b689ff04bb",
   "metadata": {},
   "outputs": [],
   "source": [
    "# nested\n",
    "lie = input(\"do you want me to lie to you?\")\n",
    "num1 = float(input(\"enter the first number\"))\n",
    "num2 = float(input(\"enter the second number\"))\n",
    "\n",
    "if lie == \"yes\":\n",
    "    if num1 > num2:\n",
    "        print(\"the first number is less than the second number\")\n",
    "    elif num1 < num2:\n",
    "        print(\"the first number is greater than the second number\")\n",
    "    else:\n",
    "        print(\"the first number is unequal to the second number\")\n",
    "else:\n",
    "    if num1 > num2:\n",
    "        print(\"the first number is greater than the second number\")\n",
    "    elif num1 < num2:\n",
    "        print(\"the first number is less than the second number\")\n",
    "    else:\n",
    "        print(\"the first number is equal to the second number\")"
   ]
  },
  {
   "cell_type": "code",
   "execution_count": null,
   "id": "3dec163e-144b-45b8-bd69-7fd1494e28db",
   "metadata": {},
   "outputs": [],
   "source": [
    "# multiple comparisons\n",
    "lie = input(\"do you want me to lie to you?\")\n",
    "num1 = float(input(\"enter the first number\"))\n",
    "num2 = float(input(\"enter the second number\"))\n",
    "\n",
    "if lie == \"yes\" and num1 > num2:\n",
    "    print(\"the first number is less than the second number\")\n",
    "elif lie == \"yes\" and num1 < num2:\n",
    "    print(\"the first number is greater than the second number\")\n",
    "elif lie == \"yes\":\n",
    "    print(\"the first number is unequal to the second number\")\n",
    "elif lie == \"no\" and num1 > num2:\n",
    "    print(\"the first number is greater than the second number\")\n",
    "elif lie == \"no\" and num1 < num2:\n",
    "    print(\"the first number is less than the second number\")\n",
    "elif lie == \"no\":\n",
    "    print(\"the first number is equal to the second number\")\n",
    "else:\n",
    "    print(\"invalid response to question about lying. please answer either yes or no.\")"
   ]
  },
  {
   "cell_type": "code",
   "execution_count": null,
   "id": "6c1e0ee7-2e77-4619-88b1-4ccb3f0b7e86",
   "metadata": {},
   "outputs": [],
   "source": [
    "# and vs or\n",
    "a = 7\n",
    "b = 5\n",
    "\n",
    "if a >= b:\n",
    "    print(\"a is greater than or equal to b (>= operator)\")\n",
    "\n",
    "if a > b or a == b:\n",
    "    print(\"a is greater than or equal to b (> or == operators)\")\n",
    "\n",
    "if a > b and a == b:\n",
    "    print(\"a is greater than b and a is equal to b\")"
   ]
  },
  {
   "cell_type": "code",
   "execution_count": null,
   "id": "b2fe36cd-1530-4b4c-ac72-b1dd698a906a",
   "metadata": {},
   "outputs": [],
   "source": [
    "# quadratic formula problem from last lab\n",
    "import math\n",
    "\n",
    "a = input(\"enter the first coefficient\")\n",
    "b = input(\"enter the second coefficient\")\n",
    "c = input(\"enter the third coefficient\")\n",
    "\n",
    "radical = b**2 - 4*a*c\n",
    "if radical < 0:\n",
    "    print(\"no real solutions. choose other coefficients\")\n",
    "else:\n",
    "    sol1 = (-b + math.sqrt(radical))/(2*a)\n",
    "    sol2 = (-b - math.sqrt(radical))/(2*a)"
   ]
  }
 ],
 "metadata": {
  "kernelspec": {
   "display_name": "Python 3 (ipykernel)",
   "language": "python",
   "name": "python3"
  },
  "language_info": {
   "codemirror_mode": {
    "name": "ipython",
    "version": 3
   },
   "file_extension": ".py",
   "mimetype": "text/x-python",
   "name": "python",
   "nbconvert_exporter": "python",
   "pygments_lexer": "ipython3",
   "version": "3.12.3"
  }
 },
 "nbformat": 4,
 "nbformat_minor": 5
}
