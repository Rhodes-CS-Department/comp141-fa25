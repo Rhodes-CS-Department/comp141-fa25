{
 "cells": [
  {
   "cell_type": "markdown",
   "id": "395c21a8-91c1-4f13-857a-119c7b31a0f8",
   "metadata": {},
   "source": [
    "## In-Class Exercise\n",
    "\n",
    "Write a program that computes the annual household income for a family with 2 working adults.\n",
    "1. Prompt the user for their and their partner’s hourly wage, as well as the tax rate.\n",
    "2. Calculate the total income for each of the adults after taxes. (Assume 40 hours/week and 52 weeks/year).\n",
    "3. Output the total household income."
   ]
  },
  {
   "cell_type": "code",
   "execution_count": null,
   "id": "3fbff72c-1def-4f38-8ba5-1dd8d60009da",
   "metadata": {},
   "outputs": [],
   "source": [
    "# review: the syntax of functions\n",
    "def function_name():\n",
    "    # statements to run\n",
    "    value = 10\n",
    "    return value\n",
    "\n",
    "def function_name(a, b, c):\n",
    "    # statements to run\n",
    "    value = a + b + c\n",
    "    return value"
   ]
  },
  {
   "cell_type": "code",
   "execution_count": null,
   "id": "1a2cb889-f4cf-4c74-af4d-550da606f289",
   "metadata": {},
   "outputs": [],
   "source": [
    "#We'll do this as a class\n",
    "def calculate_net_income(wage1, wage2, tax_rate): # turn wages into a gross income, deduct taxes\n",
    "    gross1 = wage1 * 40 * 52\n",
    "    gross2 = wage2 * 40 * 52\n",
    "    # gross = (wage1 * 40 * 52) + (wage2 * 40 * 52)\n",
    "    # gross = (wage1 + wage2) * 40 * 52\n",
    "    total = gross1 + gross2\n",
    "    net = total * (1 - tax_rate)\n",
    "    return net\n",
    "\n",
    "def main(): # ask for the wages, calculate the net income\n",
    "    wage1 = float(input(\"Enter your hourly wages:\"))\n",
    "    wage2 = float(input(\"Enter your partner's hourly wages:\"))\n",
    "    tax_rate = float(input(\"Enter the tax rate as a percentage:\"))/100\n",
    "    net_income = calculate_net_income(wage1, wage2, tax_rate)\n",
    "    print(\"Your net income is:\", net_income)\n",
    "\n",
    "main()\n"
   ]
  },
  {
   "cell_type": "markdown",
   "id": "46481e1d-6245-466d-b554-d9fb1fa92569",
   "metadata": {},
   "source": [
    "## Trace this Code Example\n",
    "Trace the following code by hand to determine the output. Run the code to verify your solution."
   ]
  },
  {
   "cell_type": "code",
   "execution_count": null,
   "id": "5e4d9d33-da55-4d7d-b059-20d85a3000c7",
   "metadata": {},
   "outputs": [],
   "source": [
    "def foo(x, y):\n",
    "    y = y + 1\n",
    "    x = 2 * (y + 3)\n",
    "    return (x,y)\n",
    "\n",
    "def main():\n",
    "    x = 5\n",
    "    y = 4\n",
    "    x,y = foo(x, y)\n",
    "    print(x, y)\n",
    "\n",
    "main()"
   ]
  },
  {
   "cell_type": "markdown",
   "id": "c47cc6d5-c80e-4bb0-aa15-2a1328a3ef8e",
   "metadata": {},
   "source": [
    "# Project 2: Resource Consumption Calculator\n",
    "\n",
    "## Computing for the Social Good\n",
    "\n",
    "Understanding technology's potential for good (and harm) is one of the learning goals for this class.   We should understand the role that computing plays in responding to social, ecological, political, and other challenges.  As you use computer science in the future, we hope you’ll analyze each situation with an eye for the ethics and potential consequences. \n",
    "\n",
    "__We will use Python to answer the following questions:__\n",
    "* How many \"full-sized\" power plants are required for a given entity\n",
    "* How many \"Memphis aquifers\" are required for a given entity\n",
    "* How do two different entities compare in their consumption\n",
    "\n",
    "Using **functions** and **if statements**, we will write a program which lets the user choose one of three options:\n",
    "* Given consumption per household and number of households, calculate total consumption.\n",
    "* Given power demand and water consumption for a single entity, calculate total consumption.\n",
    "* Compare the consumption of two entities.\n",
    "\n",
    "An \"entity\" could be: a city, a town, a neighborhood, a factory, etc. For example, the Ford Blue Oval factory doesn't correspond to a \"number of households\", but maybe you could find the total power (in MW) and water (in gallons) demand.\n",
    "\n",
    "The program will compute the number of average natural gas power plants as well as number of solar panels required to power the entity, and it will calculate how many years it would take to deplete the Memphis aquifer."
   ]
  },
  {
   "cell_type": "markdown",
   "id": "7ff583bd-ffb2-4c50-be18-bcb11f3ab64a",
   "metadata": {},
   "source": [
    "### Example 1\n",
    "\n",
    "<pre>\n",
    "What is the name of the entity in question?  <b>Rhodes</b>\n",
    "\n",
    "Choose an option:\n",
    "  (1) I have the consumption per household (KWh, gallons) and number of households.\n",
    "  (2) I have the entity's maximum power and water demand (MW, gallons).\n",
    "  (3) I want to compare two entities.\n",
    "<b>1</b>\n",
    "\n",
    "Enter daily consumption per household (KWh): <b>41</b>\n",
    "\n",
    "Enter gallons of water consumed per day: <b>100</b>\n",
    "\n",
    "Enter the number of households: <b>4000</b>\n",
    "\n",
    "Rhodes consumes 1460 MWh and 146000000 gallons per year.\n",
    "\n",
    "That is equivalent to 0.001 natural gas power plants or 416.67 solar panels.\n",
    "\n",
    "Without replenishment, Rhodes would consume the entire Memphis aquifer in 684931 years.\n",
    "</pre>"
   ]
  },
  {
   "cell_type": "markdown",
   "id": "af30c5e2-bfba-4bd5-85fd-79085b7484b4",
   "metadata": {},
   "source": [
    "### Example 2\n",
    "\n",
    "<pre>\n",
    "What is the name of the entity in question?  <b>Colossus Supercomputer</b>\n",
    "\n",
    "Choose an option:\n",
    "  (1) I have the consumption per household (KWh, gallons) and number of households.\n",
    "  (2) I have the entity's maximum power and water demand (MW, gallons).\n",
    "  (3) I want to compare two entities.\n",
    "<b>2</b>\n",
    "\n",
    "Maximum Power Demand (MW): <b>300</b>\n",
    "\n",
    "Maximum Water Demand (gallons per day): <b>1000000</b>\n",
    "\n",
    "Colossus Supercomputer consumes 2628000 MWh and 365000000 gallons per year.\n",
    "\n",
    "That is equivalent to 3.26 natural gas power plants or 750000 solar panels.\n",
    "\n",
    "Without replenishment, Colossus Supercomputer would consume the entire Memphis aquifer in 999999 years."
   ]
  },
  {
   "cell_type": "markdown",
   "id": "a1c026d3-e50b-4138-8727-21f7de1d3def",
   "metadata": {},
   "source": [
    "### Example 3\n",
    "\n",
    "<pre>\n",
    "What is the name of the entity in question?  <b>Memphis</b>\n",
    "\n",
    "Choose an option:\n",
    "  (1) I have the consumption per household (KWh, gallons) and number of households.\n",
    "  (2) I have the entity's maximum power and water demand (MW, gallons).\n",
    "  (3) I want to compare two entities.\n",
    "<b>2</b>\n",
    "\n",
    "What is the name of the second entity? <b>Colossus Supercomputer</b>\n",
    "\n",
    "Total Power Plants for Memphis: <b>2</b>\n",
    "\n",
    "Total Power Plants for Colossus Supercomputer: <b>1</b>\n",
    "\n",
    "Gallons per Day for Memphis: <b>10000</b>\n",
    "\n",
    "Gallons per Day for Colossus Supercomputer: <b>3000</b>\n",
    "\n",
    "Colossus Supercomputer requires 0.5 times as many power plants and 0.3 times as much water as Memphis."
   ]
  },
  {
   "cell_type": "code",
   "execution_count": 2,
   "id": "09c97f0b-dc98-4a94-9a39-b7078eb1523a",
   "metadata": {},
   "outputs": [
    {
     "ename": "SyntaxError",
     "evalue": "incomplete input (2240693752.py, line 1)",
     "output_type": "error",
     "traceback": [
      "  \u001b[36mCell\u001b[39m\u001b[36m \u001b[39m\u001b[32mIn[2]\u001b[39m\u001b[32m, line 1\u001b[39m\n\u001b[31m    \u001b[39m\u001b[31mdef main():\u001b[39m\n               ^\n\u001b[31mSyntaxError\u001b[39m\u001b[31m:\u001b[39m incomplete input\n"
     ]
    }
   ],
   "source": [
    "def calculate_consumption(par1,par2,etc):\n",
    "    # average capacity of a natural gas power plant: 92MW\n",
    "    # average capacity of a solar panel: 400W\n",
    "    # size of the Memphis aquifer: 100 trillion gallons\n",
    "\n",
    "    return # put the names of variables to return here\n",
    "\n",
    "def main():\n",
    "    entity = input(\"What is the name of the entity in question?\")\n",
    "    option = int(input(\"Choose an option: \\n\\t \\\n",
    "    (1) I have the consumption per household (KWh, gallons) and number of households. \\n\\t \\\n",
    "    (2) I have the entity's maximum power and water demand (MW, gallons). \\n\\t \\\n",
    "    (3) I want to compare two entities.\"))\n",
    "    # more statements here - should include at least one call to calculate_consumption(arg1,arg2,etc).\n",
    "    # remember: since calculate_consumption() returns one or more values, we should probably assign these to variables in our function call!\n",
    "\n",
    "main()"
   ]
  },
  {
   "cell_type": "code",
   "execution_count": null,
   "id": "b4dc981f-6802-4e7b-ad11-535642e02e5f",
   "metadata": {},
   "outputs": [],
   "source": []
  }
 ],
 "metadata": {
  "kernelspec": {
   "display_name": "Python 3 (ipykernel)",
   "language": "python",
   "name": "python3"
  },
  "language_info": {
   "codemirror_mode": {
    "name": "ipython",
    "version": 3
   },
   "file_extension": ".py",
   "mimetype": "text/x-python",
   "name": "python",
   "nbconvert_exporter": "python",
   "pygments_lexer": "ipython3",
   "version": "3.12.3"
  }
 },
 "nbformat": 4,
 "nbformat_minor": 5
}
