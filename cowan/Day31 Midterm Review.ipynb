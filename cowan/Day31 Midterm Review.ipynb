{
 "cells": [
  {
   "cell_type": "markdown",
   "metadata": {},
   "source": [
    "# Day 31: Midterm 2 Review"
   ]
  },
  {
   "cell_type": "markdown",
   "metadata": {},
   "source": [
    "## Midterm 2 practice problems"
   ]
  },
  {
   "cell_type": "code",
   "execution_count": null,
   "metadata": {},
   "outputs": [],
   "source": [
    "# Problem 1\n",
    "\n",
    "# FIGURE THIS OUT ON PAPER FIRST, BEFORE RUNNING THIS CELL.\n",
    "\n",
    "# What does this code print?\n",
    "\n",
    "x = 0\n",
    "while x < 10:\n",
    "    x += 1\n",
    "    if x % 2 == 0:\n",
    "        x += 2 \n",
    "    print(x)"
   ]
  },
  {
   "cell_type": "code",
   "execution_count": null,
   "metadata": {},
   "outputs": [],
   "source": [
    "# Problem 2\n",
    "\n",
    "# FIGURE THIS OUT ON PAPER FIRST, BEFORE RUNNING THIS CELL.\n",
    "\n",
    "# What does this code print?\n",
    "\n",
    "for i in range(0, 3):\n",
    "    for j in range(i+1, 5):\n",
    "        print(i, j)"
   ]
  },
  {
   "cell_type": "code",
   "execution_count": null,
   "metadata": {},
   "outputs": [],
   "source": [
    "# Problem 3\n",
    "\n",
    "# Write a loop to print the following sequence of numbers:\n",
    "# 1, 2, 4, 7, 11, 16, 22, 29, 37, 46, ... etc, \n",
    "# stopping when the number 100 (or more) is reached. That is, do not print \n",
    "# any number greater than or equal to 100. Formatting doesn’t matter \n",
    "# (one number per line is fine). \n",
    "\n",
    "# Hint: Figure out the pattern between the numbers. This can be done with \n",
    "# a for loop or while loop, though I think a while loop makes more sense.\n",
    "\n",
    "\n",
    "# Your code here."
   ]
  },
  {
   "cell_type": "code",
   "execution_count": null,
   "metadata": {},
   "outputs": [],
   "source": [
    "# Problem 4\n",
    "\n",
    "# Write a function called count_evens which counts the number of even-numbered \n",
    "# digits in a string. Example: count_evens(\"abc425a\")  would return 2.\n",
    "\n",
    "\n",
    "def count_evens(string):\n",
    "    # your code here\n",
    "    \n",
    "count_evens(\"abc425a\")"
   ]
  },
  {
   "cell_type": "code",
   "execution_count": null,
   "metadata": {},
   "outputs": [],
   "source": [
    "# Problem 5\n",
    "\n",
    "# Write a function called common_factors that takes two arguments. \n",
    "# This function counts the number of factors greater than or equal to 1 \n",
    "# that divide evenly into both arguments.\n",
    "# Example: common_factors(12, 18) returns 4 because both numbers have factors of 1, 2, 3, and 6.\n",
    "\n",
    "\n",
    "def common_factors(num1, num2):\n",
    "    # your code here\n",
    "    \n",
    "common_factors(12, 18)"
   ]
  },
  {
   "cell_type": "code",
   "execution_count": null,
   "metadata": {},
   "outputs": [],
   "source": [
    "# Problem 6\n",
    "\n",
    "# Alice and Bob are running in an election. You have a file called results.txt that \n",
    "# stores the election results. (This file is in this folder.) Each line of the file \n",
    "# contains the time of day that someone voted, along with the name of the person \n",
    "# whom they voted for. Each line has three pieces: the hour [24-hour format], \n",
    "# the minute, and the name Alice or Bob. The file is sorted by time. \n",
    "\n",
    "# Write a program to answer the following questions (I suggest solving each part in order, \n",
    "# not writing all parts at once).\n",
    "\n",
    "# a. Print out who won the election (Alice or Bob).\n",
    "# b. Print out all the times where two people cast ballots at the exact same time (two consecutive identical\n",
    "# times in row).\n",
    "# c. Print out the largest gap in time between ballots being cast (the largest amount of time between two\n",
    "# consecutive ballot castings).\n",
    "# d. Print out the total number of consecutive ballots cast for Alice, and the number for Bob. (The total\n",
    "# number of times Alice or Bob received multiple votes in a row.)\n",
    "\n",
    "\n",
    "\n",
    "# Your code here."
   ]
  },
  {
   "cell_type": "code",
   "execution_count": null,
   "metadata": {},
   "outputs": [],
   "source": [
    "# Problem 7\n",
    "\n",
    "# Suppose you want to write a program that contains a part where the user \n",
    "# must enter their age. You know that everyone using this computer system \n",
    "# must be at least 18 years old. Write a piece of code (can be a function \n",
    "# or just a section of code) that asks the user for their age and uses \n",
    "# input validation to continue asking for it until they type in an age that \n",
    "# is at least 18.\n",
    "\n",
    "\n",
    "# Your code here."
   ]
  },
  {
   "cell_type": "code",
   "execution_count": null,
   "metadata": {},
   "outputs": [],
   "source": []
  },
  {
   "cell_type": "code",
   "execution_count": null,
   "metadata": {},
   "outputs": [],
   "source": []
  },
  {
   "cell_type": "markdown",
   "metadata": {},
   "source": [
    "Please do the following:\n",
    "1. Study for Midterm 2 - in-class Wednesday\n",
    "2. Complete Project 7 - due Thursday by 11:59pm"
   ]
  }
 ],
 "metadata": {
  "kernelspec": {
   "display_name": "Python 3 (ipykernel)",
   "language": "python",
   "name": "python3"
  },
  "language_info": {
   "codemirror_mode": {
    "name": "ipython",
    "version": 3
   },
   "file_extension": ".py",
   "mimetype": "text/x-python",
   "name": "python",
   "nbconvert_exporter": "python",
   "pygments_lexer": "ipython3",
   "version": "3.11.4"
  },
  "varInspector": {
   "cols": {
    "lenName": 16,
    "lenType": 16,
    "lenVar": 40
   },
   "kernels_config": {
    "python": {
     "delete_cmd_postfix": "",
     "delete_cmd_prefix": "del ",
     "library": "var_list.py",
     "varRefreshCmd": "print(var_dic_list())"
    },
    "r": {
     "delete_cmd_postfix": ") ",
     "delete_cmd_prefix": "rm(",
     "library": "var_list.r",
     "varRefreshCmd": "cat(var_dic_list()) "
    }
   },
   "types_to_exclude": [
    "module",
    "function",
    "builtin_function_or_method",
    "instance",
    "_Feature"
   ],
   "window_display": false
  }
 },
 "nbformat": 4,
 "nbformat_minor": 2
}
