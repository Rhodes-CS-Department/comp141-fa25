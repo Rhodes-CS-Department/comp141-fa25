{
 "cells": [
  {
   "cell_type": "code",
   "execution_count": null,
   "metadata": {},
   "outputs": [],
   "source": [
    "#Quiz 3, Question 2\n",
    "x = 0\n",
    "a = 7\n",
    "b = -5\n",
    "if a > 0:\n",
    "    if b < 0: \n",
    "        x = x + 5 \n",
    "    elif a > 5:\n",
    "        x = x + 4\n",
    "    else:\n",
    "        x = x + 3\n",
    "else:\n",
    "    x = x + 2\n",
    "print(x)"
   ]
  },
  {
   "cell_type": "code",
   "execution_count": null,
   "metadata": {},
   "outputs": [],
   "source": [
    "#Quiz 3, Question 3\n",
    "def mystery(a, c, b):\n",
    "    wacky(c, b+a)\n",
    "\n",
    "def wacky(a, b):\n",
    "    print(b * a + a)\n",
    "\n",
    "def main():\n",
    "    x = 1\n",
    "    y = 2 \n",
    "    z = 3\n",
    "    mystery(z+1, y-1, x*2)\n",
    "main()"
   ]
  },
  {
   "cell_type": "code",
   "execution_count": null,
   "metadata": {},
   "outputs": [],
   "source": [
    "#Quiz 3, Question 4\n",
    "def print_info(name, salary):\n",
    "    print(\"Name:\",name,\"Salary:\",salary, end=\" \")\n",
    "    salary = salary * 5\n",
    "\n",
    "def main():\n",
    "    name = \"Mambo\"\n",
    "    salary = 100\n",
    "    print_info(name, salary)\n",
    "    print(\"After call:\",salary)\n",
    "main()"
   ]
  },
  {
   "cell_type": "code",
   "execution_count": null,
   "metadata": {},
   "outputs": [],
   "source": [
    "#Quiz 3, Question 5\n",
    "def colors(x):\n",
    "    x = x + 1\n",
    "    if x > 5: \n",
    "        print(\"red\", end=' ')\n",
    "    if x < 0:\n",
    "        print(\"green\", end=' ')\n",
    "    elif x > 12:\n",
    "        print(\"blue\", end=' ')\n",
    "    else:\n",
    "        print(\"purple\", end=' ')\n",
    "        \n",
    "def main():\n",
    "    y = 10\n",
    "    colors(y)\n",
    "\n",
    "main()"
   ]
  },
  {
   "cell_type": "markdown",
   "metadata": {},
   "source": [
    "__Please do the following__:\n",
    "* Lab 03 - complete with a partner - due tomorrow by 11:59pm\n",
    "* Project 3 has been assigned - due 2/11 by 11:59pm\n"
   ]
  },
  {
   "cell_type": "code",
   "execution_count": null,
   "metadata": {},
   "outputs": [],
   "source": []
  }
 ],
 "metadata": {
  "kernelspec": {
   "display_name": "Python 3 (ipykernel)",
   "language": "python",
   "name": "python3"
  },
  "language_info": {
   "codemirror_mode": {
    "name": "ipython",
    "version": 3
   },
   "file_extension": ".py",
   "mimetype": "text/x-python",
   "name": "python",
   "nbconvert_exporter": "python",
   "pygments_lexer": "ipython3",
   "version": "3.11.4"
  },
  "varInspector": {
   "cols": {
    "lenName": 16,
    "lenType": 16,
    "lenVar": 40
   },
   "kernels_config": {
    "python": {
     "delete_cmd_postfix": "",
     "delete_cmd_prefix": "del ",
     "library": "var_list.py",
     "varRefreshCmd": "print(var_dic_list())"
    },
    "r": {
     "delete_cmd_postfix": ") ",
     "delete_cmd_prefix": "rm(",
     "library": "var_list.r",
     "varRefreshCmd": "cat(var_dic_list()) "
    }
   },
   "types_to_exclude": [
    "module",
    "function",
    "builtin_function_or_method",
    "instance",
    "_Feature"
   ],
   "window_display": false
  }
 },
 "nbformat": 4,
 "nbformat_minor": 2
}
