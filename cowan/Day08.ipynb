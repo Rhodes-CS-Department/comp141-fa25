{
 "cells": [
  {
   "cell_type": "markdown",
   "metadata": {},
   "source": [
    "## Solutions from Lab 02"
   ]
  },
  {
   "cell_type": "code",
   "execution_count": null,
   "metadata": {},
   "outputs": [],
   "source": [
    "# 1. Day of the Week - this program takes an integer between 1-7 and outputs the corresponding day of week\n",
    "# Note that 1 = Monday and the program outputs an error message if the user inputs anything other than 1-7.\n",
    "\n",
    "day = int(input(\"Enter the day of week as a number (1-7): \"))\n",
    "\n",
    "if day == 1:\n",
    "    print(\"It is Monday!\")\n",
    "elif day == 2:\n",
    "    print(\"It is Tuesday!\")\n",
    "elif day == 3:\n",
    "    print(\"It is Wednesday!\")\n",
    "elif day == 4:\n",
    "    print(\"It is Thursday!\")\n",
    "elif day == 5:\n",
    "    print(\"It is Friday!\")\n",
    "elif day == 6:\n",
    "    print(\"It is Saturday!\")\n",
    "elif day == 7:\n",
    "    print(\"It is Sunday!\")\n",
    "else:\n",
    "    print(\"That is not a valid option.\")"
   ]
  },
  {
   "cell_type": "code",
   "execution_count": null,
   "metadata": {},
   "outputs": [],
   "source": [
    "# 2. BMI Calculator\n",
    "\n",
    "print(\"Let's calculate your Body Mass Index based on your height and weight.\")\n",
    "print(\"Please enter these values when prompted. You'll need to enter your height in feet and then inches.\")\n",
    "\n",
    "\n",
    "weight_lbs = float(input(\"Weight (in pounds): \"))\n",
    "height_ft = int(input(\"Height (feet): \"))\n",
    "height_in = int(input(\"Height (inches): \"))\n",
    "\n",
    "#calculate the weight and height by converting to the right measurements\n",
    "weight_kg = weight_lbs * 0.454\n",
    "height_m = height_ft * 0.3048 + height_in * 0.0254\n",
    "\n",
    "#use formula provided\n",
    "BMI = weight_kg / (height_m * height_m)\n",
    "print(\"Your BMI is:\", BMI)\n",
    "\n",
    "#check BMI based on scale provided\n",
    "if BMI < 18.5:\n",
    "    print(\"This BMI is considered to be: Underweight\")\n",
    "elif BMI >= 18.5 and BMI < 25:\n",
    "    print(\"This BMI is considered to be: Normal weight\")\n",
    "elif BMI >= 25 and BMI < 30:\n",
    "    print(\"This BMI is considered to be: Overweight\")\n",
    "else:\n",
    "    print(\"This BMI is considered to be: Obese\")\n"
   ]
  },
  {
   "cell_type": "code",
   "execution_count": null,
   "metadata": {},
   "outputs": [],
   "source": [
    "# 3. Voter-eligibility by age\n",
    "\n",
    "print(\"Let's see if you are age eligible to participate in the upcoming U.S. presidential election.\")\n",
    "\n",
    "bmonth = int(input(\"Month you were born (1-12): \"))\n",
    "bday = int(input(\"Day of month you were born (1-31): \"))\n",
    "byear = int(input(\"Year you were born (ex: 2001): \"))\n",
    "\n",
    "#calculate their age based on the year\n",
    "ageOnElectionDay = 2024 - byear\n",
    "\n",
    "if bmonth > 11 or (bmonth == 11 and bday > 5): #birthday has yet to come\n",
    "    ageOnElectionDay = ageOnElectionDay - 1 #you can also write this as ageOnElectionDay -= 1\n",
    "\n",
    "if ageOnElectionDay >= 18:\n",
    "    print(\"You will be\", ageOnElectionDay, \"on Nov. 5, 2024, so be sure to get out and cast your vote!\")\n",
    "else:\n",
    "    print(\"Sorry, you will only be \", ageOnElectionDay, \"on Nov. 5, 2024, so you are not eligible to vote.\")"
   ]
  },
  {
   "cell_type": "code",
   "execution_count": null,
   "metadata": {},
   "outputs": [],
   "source": [
    "# 4. MLGW needs your help!\n",
    "\n",
    "num_gallons = int(input(\"Please enter the number of gallons of water used this month (integers only): \"))\n",
    "\n",
    "if num_gallons <= 8000:\n",
    "    bill = 5 * num_gallons/1000\n",
    "    print(\"Your water bill this month is $\", format(bill, '.2f'), \".\", sep='')\n",
    "    \n",
    "elif num_gallons > 8000 and num_gallons <= 22000:\n",
    "    bill = 6 * num_gallons/1000\n",
    "    print(\"Your water bill this month is $\", format(bill, '.2f'), \".\", sep='')\n",
    "    \n",
    "elif num_gallons > 22000 and num_gallons <= 30000:\n",
    "    bill = 7 * num_gallons/1000\n",
    "    print(\"Your water bill this month is $\", format(bill, '.2f'), \".\", sep='')\n",
    "    \n",
    "else:\n",
    "    bill = 10 * num_gallons/1000\n",
    "    print(\"Your water bill this month is $\", format(bill, '.2f'), \".\", sep='')\n",
    "    "
   ]
  },
  {
   "cell_type": "markdown",
   "metadata": {},
   "source": [
    "## Practice\n",
    "\n",
    "__Average.py using functions example__\n",
    "* Using functions, write a program that prompts the user for 3 numbers and outputs the average of those numbers.\n"
   ]
  },
  {
   "cell_type": "code",
   "execution_count": null,
   "metadata": {},
   "outputs": [],
   "source": [
    " #First think about what makes sense to be an independent function\n",
    "#Then, write and test that function \n",
    "#Now add a main function - be sure to get any input from the user in main\n",
    "#Be sure to call main as the last line of your program!\n"
   ]
  },
  {
   "cell_type": "code",
   "execution_count": null,
   "metadata": {},
   "outputs": [],
   "source": [
    "#Test your function here by calling it\n"
   ]
  },
  {
   "cell_type": "code",
   "execution_count": null,
   "metadata": {},
   "outputs": [],
   "source": [
    "#Trace through the following tricky example by hand and predict \n",
    "#the output before running the code\n",
    "\n",
    "def mystery(x, z, y):\n",
    "    print(z, y-x)\n",
    "\n",
    "def main():\n",
    "    x = 9\n",
    "    y = 2 \n",
    "    z = 5\n",
    "    mystery(z, y, x)\n",
    "    mystery(y, x, z)\n",
    "    mystery(x+z, y-x, y)\n",
    "\n",
    "main()"
   ]
  },
  {
   "cell_type": "markdown",
   "metadata": {},
   "source": [
    "## More Practice\n",
    "\n",
    "* The code below sings \"Happy birthday\" to you and your twin. It has added a final line to the song that says how old you are now. \n",
    "\n",
    "THIS CODE DOES NOT CURRENTLY WORK (as described above)\n",
    "\n",
    "\n",
    "\n",
    "* MODIFY the code below. Make it work for the following scenario:\n",
    "* You have a sibling that is two years older than you (not a twin), and you share the same birthday.\n",
    "* Make sure that the age that is sung in the song is correct for both you and your sibling.\n",
    "\n",
    "TO DO:\n",
    "* Add a second parameter to sing_song called age. \n",
    "* Edit main() to ask for your age, as well as your name and sibling's name\n",
    "* Edit the two calls to sing_song so appropriate ages are passed as arguments.\n",
    "* Do NOT ask for the sibling's age (they are always 2 years older than you). \n"
   ]
  },
  {
   "cell_type": "code",
   "execution_count": null,
   "metadata": {},
   "outputs": [],
   "source": [
    "#Description: This program 'sings' Happy birthday to you and your twin\n",
    "#Input: Your name and your twin's name\n",
    "#Output: Happy birthday song for both you and your twin.\n",
    "\n",
    "def sing_song(name):\n",
    "    print(\"Happy birthday to you!\\\n",
    "          \\nHappy birthday to you!\")\n",
    "    print(\"Happy birthday dear\", name, \\\n",
    "          \"\\nHappy birthday to you!\")\n",
    "    print(\"You are \", age, \"years old now!\") # I have added this line\n",
    "\n",
    "def main():\n",
    "    my_name = input(\"What is your name? \")\n",
    "    sing_song(my_name)\n",
    "    twin_name = input(\"What is your twin's name? \")\n",
    "    sing_song(twin_name)\n",
    "\n",
    "main()"
   ]
  },
  {
   "attachments": {
    "canvas.png": {
     "image/png": "[encoded data removed]"
    }
   },
   "cell_type": "markdown",
   "metadata": {},
   "source": [
    "# Day 8: Graphics\n",
    "\n",
    "* Many programming languages include a library for computer graphics \n",
    "* A __library__ is a pre-written collection of functions usually centered around a theme (graphics, networking, math, sound, etc.)\n",
    "* Python provides many libraries: https://docs.python.org/3/library/\n",
    "* Using libraries (rather than starting from scratch) enables you to write programs faster\n",
    "* Libraries are centered around functions because we know functions are abstractions of algorithms.\n",
    "\n",
    "## The Canvas\n",
    "* All graphics in Python are drawn in a separate window called the canvas.\n",
    "* The canvas is laid out similarly to the Cartesian plane, but with a flipped y-axis.\n",
    "![canvas.png](attachment:canvas.png)\n",
    "\n",
    "\n",
    "## Graphics and Colors\n",
    "* Everything represented by a computer is fundamentally comprised of discrete numeric values… Including things like music, images, sounds, etc.\n",
    "* A color, for example, is represented by three values (between 0 and 255).\n",
    "* These values dictate how much Red, Green, and Blue comprise the color. What are these colors? \n",
    "```\n",
    "0, 0, 0 #black\n",
    "255, 255, 255 #white\n",
    "255, 0, 0 #red\n",
    "0, 255, 0 #green\n",
    "0, 0, 255 #blue\n",
    "255, 0, 255 #purple\n",
    "```\n",
    "\n",
    "## Your first Graphics program\n",
    "\n",
    "For more information about the functions included in our cs1.graphics library, please see the reference link on Canvas (Graphics Reference)."
   ]
  },
  {
   "cell_type": "code",
   "execution_count": null,
   "metadata": {},
   "outputs": [],
   "source": [
    "from cs1.graphics import *\n",
    "\n",
    "def main():\n",
    "    open_canvas(500, 200)\n",
    "    #set_color_rgb(255,0,255)\n",
    "    set_color(\"purple\")\n",
    "    draw_line(25, 25, 150, 150)\n",
    "    draw_circle(250, 100, 50)\n",
    "    set_color('red')\n",
    "    draw_filled_rect(240, 90, 20, 40)\n",
    "    \n",
    "    set_color(\"blue\")\n",
    "    draw_filled_polygon(100, 50, 50, 100, 150, 100, 100, 50)\n",
    "    draw_filled_polygon(100, 150, 50, 100, 150, 100, 100, 150)\n",
    "\n",
    "main()"
   ]
  },
  {
   "cell_type": "markdown",
   "metadata": {},
   "source": [
    "## Practice\n",
    "\n",
    "In the cell below, use the cs1.graphics library to draw whatever you'd like! Experiment with as many of the functions as possible. Here are some ideas for drawing inspiration!\n",
    "* a landscape (mountains, trees, houses, a cityscape, or something like that)\n",
    "* a self-portrait\n",
    "* A depiction of the solar system\n",
    "* the Mona Lisa\n",
    "* something else of your choice "
   ]
  },
  {
   "cell_type": "code",
   "execution_count": null,
   "metadata": {},
   "outputs": [],
   "source": [
    "from cs1.graphics import *\n",
    "\n",
    "def main():\n",
    "    open_canvas(500, 200)\n",
    "    #Your code goes here\n",
    "    \n",
    "  \n",
    "  \n",
    "main()"
   ]
  },
  {
   "cell_type": "markdown",
   "metadata": {},
   "source": [
    "__Please do the following__:\n",
    "* Finish Project 2 - due tomorrow by 11:59pm\n",
    "* Quiz 3 - due tomorrow by 11:59pm"
   ]
  },
  {
   "cell_type": "code",
   "execution_count": null,
   "metadata": {},
   "outputs": [],
   "source": []
  }
 ],
 "metadata": {
  "kernelspec": {
   "display_name": "Python 3 (ipykernel)",
   "language": "python",
   "name": "python3"
  },
  "language_info": {
   "codemirror_mode": {
    "name": "ipython",
    "version": 3
   },
   "file_extension": ".py",
   "mimetype": "text/x-python",
   "name": "python",
   "nbconvert_exporter": "python",
   "pygments_lexer": "ipython3",
   "version": "3.11.4"
  },
  "varInspector": {
   "cols": {
    "lenName": 16,
    "lenType": 16,
    "lenVar": 40
   },
   "kernels_config": {
    "python": {
     "delete_cmd_postfix": "",
     "delete_cmd_prefix": "del ",
     "library": "var_list.py",
     "varRefreshCmd": "print(var_dic_list())"
    },
    "r": {
     "delete_cmd_postfix": ") ",
     "delete_cmd_prefix": "rm(",
     "library": "var_list.r",
     "varRefreshCmd": "cat(var_dic_list()) "
    }
   },
   "types_to_exclude": [
    "module",
    "function",
    "builtin_function_or_method",
    "instance",
    "_Feature"
   ],
   "window_display": false
  }
 },
 "nbformat": 4,
 "nbformat_minor": 2
}
