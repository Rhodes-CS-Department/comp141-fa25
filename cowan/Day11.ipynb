{
 "cells": [
  {
   "cell_type": "markdown",
   "metadata": {},
   "source": [
    "## In-Class Exercise\n",
    "\n",
    "Write a program that computes the annual household income for a family with 2 working adults.\n",
    "1. Prompt the user for their and their partner’s hourly wage, as well as the tax rate.\n",
    "2. Calculate the total income for each of the adults after taxes. (Assume 40 hours/week and 52 weeks/year).\n",
    "3. Output the total household income."
   ]
  },
  {
   "cell_type": "code",
   "execution_count": null,
   "metadata": {},
   "outputs": [],
   "source": [
    "#We'll do this as a class\n",
    "\n",
    "    \n",
    "def main():\n",
    "    wage1 = float(input(\"Hourly wage? \"))\n",
    "    wage2 = float(input(\"Hourly wage? \"))\n",
    "    tax = float(input(\"Enter tax rate (as a decimal)? \"))\n",
    "    #calculate net and gross income for first person\n",
    "    income1 = wage1*40*52\n",
    "    taxed =(income1*tax)\n",
    "    total1 = income1-taxed\n",
    "    \n",
    "    #calculate net and gross income for second person\n",
    "    income2 = wage2*40*52\n",
    "    taxed2 =(income2*tax)\n",
    "    total2 = income2-taxed2\n",
    "    total_income = total1+total2\n",
    "    print(\"Net and gross income for 1st person: $\", total1,\", gross: $\", income1,sep=\"\")\n",
    "    print(\"Net and gross income for 1st person: $\", total2,\", gross: $\", income2, sep=\"\")\n",
    "    print(\"Total household income: \", total_income)\n",
    "main()\n"
   ]
  },
  {
   "cell_type": "code",
   "execution_count": null,
   "metadata": {},
   "outputs": [],
   "source": [
    "#Take a look at the solution with functions created.\n",
    "\n",
    "def total (w1, tax):\n",
    "    income = w1*40*52\n",
    "    taxed = tax * income\n",
    "    gross = income - taxed\n",
    "    print(income, taxed, gross)\n",
    "    return (gross)\n",
    "\n",
    "    \n",
    "def main():\n",
    "    wage1 = float(input(\"Hourly wage? \"))\n",
    "    wage2 = float(input(\"Hourly wage? \"))\n",
    "    tax = float(input(\"Enter tax rate (as a decimal)? \"))\n",
    "    income1 = total(wage1,tax)\n",
    "    income2 = total(wage2,tax)\n",
    "    total_income = income1 + income2\n",
    "    print(total_income)\n",
    "main()\n"
   ]
  },
  {
   "cell_type": "markdown",
   "metadata": {},
   "source": [
    "## Trace this Code Example\n",
    "Trace the following code by hand to determine the output. Run the code to verify your solution."
   ]
  },
  {
   "cell_type": "code",
   "execution_count": null,
   "metadata": {},
   "outputs": [],
   "source": [
    "def foo(x, y):\n",
    "    y = y + 1\n",
    "    x = 2 * (y + 3)\n",
    "    return (x,y)\n",
    "\n",
    "def main():\n",
    "    x = 5\n",
    "    y = 4\n",
    "    x,y = foo(x, y)\n",
    "    print(x, y)\n",
    "\n",
    "main()"
   ]
  },
  {
   "cell_type": "markdown",
   "metadata": {},
   "source": [
    "## Day 11"
   ]
  },
  {
   "cell_type": "markdown",
   "metadata": {},
   "source": [
    "## Practice\n",
    "1. Write a function called `direction` that takes two float arguments, `x` and `y`. Consider an arrow  on the Cartesian plane pointing from (0,0) to (x, y). This function should return the string \"NE\", \"SE\", \"SW\", or \"NW\" depending on the direction that the arrow points. Assume `x` and `y` will never be 0. The def line will be: `def direction(x, y):`"
   ]
  },
  {
   "cell_type": "code",
   "execution_count": null,
   "metadata": {},
   "outputs": [],
   "source": []
  },
  {
   "cell_type": "markdown",
   "metadata": {},
   "source": [
    "2. Write a function called `area_of_circle` that takes in one float argument `radius`. This function should return the area of a circle with that radius ($area= \\pi ∗ 𝑟^2$). The def line will be: `def area_of_circle(radius):`"
   ]
  },
  {
   "cell_type": "code",
   "execution_count": null,
   "metadata": {},
   "outputs": [],
   "source": [
    "\n",
    "\n"
   ]
  },
  {
   "cell_type": "markdown",
   "metadata": {},
   "source": [
    "Please do the following:\n",
    "1. Keep working on Project 3 (project-03) - due Tuesday by 11:59pm\n",
    "2. Work on Lab 04 - due before class on Wednesday.\n",
    "3. Quiz due before class on Wednesday.\n"
   ]
  },
  {
   "cell_type": "code",
   "execution_count": null,
   "metadata": {},
   "outputs": [],
   "source": []
  }
 ],
 "metadata": {
  "kernelspec": {
   "display_name": "Python 3 (ipykernel)",
   "language": "python",
   "name": "python3"
  },
  "language_info": {
   "codemirror_mode": {
    "name": "ipython",
    "version": 3
   },
   "file_extension": ".py",
   "mimetype": "text/x-python",
   "name": "python",
   "nbconvert_exporter": "python",
   "pygments_lexer": "ipython3",
   "version": "3.11.4"
  },
  "varInspector": {
   "cols": {
    "lenName": 16,
    "lenType": 16,
    "lenVar": 40
   },
   "kernels_config": {
    "python": {
     "delete_cmd_postfix": "",
     "delete_cmd_prefix": "del ",
     "library": "var_list.py",
     "varRefreshCmd": "print(var_dic_list())"
    },
    "r": {
     "delete_cmd_postfix": ") ",
     "delete_cmd_prefix": "rm(",
     "library": "var_list.r",
     "varRefreshCmd": "cat(var_dic_list()) "
    }
   },
   "types_to_exclude": [
    "module",
    "function",
    "builtin_function_or_method",
    "instance",
    "_Feature"
   ],
   "window_display": false
  }
 },
 "nbformat": 4,
 "nbformat_minor": 2
}
