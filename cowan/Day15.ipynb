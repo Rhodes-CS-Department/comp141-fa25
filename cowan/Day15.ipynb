{
 "cells": [
  {
   "cell_type": "code",
   "execution_count": null,
   "metadata": {},
   "outputs": [],
   "source": [
    "#Quiz 5, Question 1\n",
    "def main():\n",
    "    x = 3\n",
    "    y = 0\n",
    "    while x < 9:\n",
    "        y += x\n",
    "        x += 2        \n",
    "    print(x, y)\n",
    "main()"
   ]
  },
  {
   "cell_type": "code",
   "execution_count": null,
   "metadata": {},
   "outputs": [],
   "source": [
    "#Quiz 5, Question 2\n",
    "counter = 1\n",
    "while counter < 11:\n",
    "    counter += 1\n",
    "print(counter)"
   ]
  },
  {
   "cell_type": "code",
   "execution_count": null,
   "metadata": {},
   "outputs": [],
   "source": [
    "#Quiz 5, Question 3\n",
    "output = \"\"\n",
    "x = -5\n",
    "while x < 0:\n",
    "    x = x + 1\n",
    "    output = output + str(x) + \" \"\n",
    "    \n",
    "print(output)"
   ]
  },
  {
   "cell_type": "code",
   "execution_count": null,
   "metadata": {},
   "outputs": [],
   "source": [
    "#Quiz 5, Question 4\n",
    "cat = 0\n",
    "while cat > 5:\n",
    "    cat = cat + 1\n",
    "    print(cat, end=\"\")\n",
    "print(\"Meow\")"
   ]
  },
  {
   "cell_type": "code",
   "execution_count": null,
   "metadata": {},
   "outputs": [],
   "source": [
    "#Quiz 5, Question 5\n",
    "apples = 1\n",
    "bananas = 4\n",
    "count = 0\n",
    "while apples < bananas:\n",
    "    apples = apples * 2\n",
    "    bananas = bananas + 2\n",
    "    count += 1\n",
    "print(count)"
   ]
  },
  {
   "cell_type": "markdown",
   "metadata": {},
   "source": [
    "# Day 15: Count-Controlled Loops\n",
    "\n"
   ]
  },
  {
   "cell_type": "markdown",
   "metadata": {},
   "source": [
    "## Accumulating a String\n",
    "In addition to accumlating number values inside a loop, you can also accumulate a string using string concatenation.  One way to do this is to initialize an empty string and then accumulate the value inside the loop.\n",
    "\n",
    "` s = ''`\n",
    "\n",
    "` s = s + '*'  #the order of the additions here matters sometimes`\n",
    "\n",
    "### Practice as a class\n",
    "Now you try.   Create a snippet of code that asks the user for the length of a fence.  The posts will be the '|' character and the beams will be the '-' character.   When the user gives the value 5, the fence that will be printed will look like:  '|-|-|-|-|-|'  (it has 6 posts and 5 beams).   For this problem, I want you to use a loop to solve it.  There is a shorter way to do it."
   ]
  },
  {
   "cell_type": "code",
   "execution_count": null,
   "metadata": {},
   "outputs": [],
   "source": [
    "#Your solution goes here \n",
    "x = int(input(\"Enter a number: \"))\n",
    "fence = \"\"\n",
    "post = \"|\"\n",
    "beam = \"-\"\n",
    "\n",
    "while x > 0:\n",
    "    x -= 1\n",
    "    fence = fence + post + beam \n",
    "    #fence = fence + \"|-\"\n",
    "#fence = fence + post\n",
    "print(fence+post)\n",
    "    \n"
   ]
  },
  {
   "cell_type": "code",
   "execution_count": null,
   "metadata": {},
   "outputs": [],
   "source": [
    "num = int(input(\"Enter a number: \"))\n",
    "fence = \"\"\n",
    "post = \"|\"\n",
    "beam = \"-\"\n",
    "fence = (post + beam) * num\n",
    "print(fence+post)"
   ]
  },
  {
   "cell_type": "markdown",
   "metadata": {},
   "source": [
    "### Practice\n",
    "Write code to find the gcd of any 2 numbers.\n",
    "\n",
    "1. Start by writing a loop that prints all divisors of 30. Your code should print out the following: 1, 2, 3, 5, 6, 10, 15, 30\n",
    "2. Next, modify this loop to print out all common divisors of 30 AND 50. Your code should print out 1, 2, 5, 10.\n",
    "3. Now let the user select any 2 integers and print out the common divisors of these 2 integers\n",
    "4. Finally, modify your code so it only prints out the largest of the common divisors of these 2 numbers"
   ]
  },
  {
   "cell_type": "code",
   "execution_count": null,
   "metadata": {},
   "outputs": [],
   "source": [
    "#This is the solution to Step 1 above (finding all divisors of 30)\n",
    "def main():\n",
    "    cnt = 1\n",
    "    while cnt <= 30:\n",
    "        if 30 % cnt == 0:\n",
    "            print(cnt)\n",
    "        cnt += 1\n",
    "main()"
   ]
  },
  {
   "cell_type": "code",
   "execution_count": null,
   "metadata": {},
   "outputs": [],
   "source": [
    "#Put your solution to Step 2 here (finding all divisors of 30 AND 50)\n"
   ]
  },
  {
   "cell_type": "code",
   "execution_count": null,
   "metadata": {},
   "outputs": [],
   "source": [
    "#Put your solution to Step 3 here\n"
   ]
  },
  {
   "cell_type": "code",
   "execution_count": null,
   "metadata": {},
   "outputs": [],
   "source": [
    "#Put your solution to Step 4 here\n"
   ]
  },
  {
   "cell_type": "markdown",
   "metadata": {},
   "source": [
    "### More Practice as a class\n",
    "### Simulating Flipping Coins\n",
    "* Simulate a coin flip by randomly selecting between 0 (heads) and 1 (tails).\n",
    "* After you get that working, write a program that counts the number of times it takes to get 3 consecutive heads.\n",
    "* Hints:\n",
    "    * What is the condition of the while?\n",
    "    * A variable needs to initialized before the while and updated inside the while loop. What sort of information should this variable store?\n",
    "    * When a person gets tails what happens to the total count of heads?\n",
    "    * When a person gets heads what happens to the total count of heads?"
   ]
  },
  {
   "cell_type": "code",
   "execution_count": null,
   "metadata": {},
   "outputs": [],
   "source": [
    "import random\n",
    "\n",
    "#global constants to use in your program\n",
    "HEADS = 0\n",
    "TAILS = 1\n",
    "\n"
   ]
  },
  {
   "cell_type": "markdown",
   "metadata": {},
   "source": [
    "__Class Practice__\n",
    "\n",
    "Often loops are used to compute running totals. The general syntax for this is as follows:\n",
    "```\n",
    "#must initialize total to something before the loop, 0 ensures that it won't affect the overall sum that you compute\n",
    "total = 0  \n",
    "while __test__:\n",
    "    total += some_value\n",
    "    some_value gets updated\n",
    "```"
   ]
  },
  {
   "cell_type": "code",
   "execution_count": null,
   "metadata": {},
   "outputs": [],
   "source": [
    "# Example with Running Total\n",
    "total = 0\n",
    "\n",
    "cnt = 1\n",
    "while cnt <= 10:\n",
    "    total += cnt\n",
    "    cnt += 1\n",
    "\n",
    "print(\"The total of the first 10 counting numbers is: \", total)"
   ]
  },
  {
   "cell_type": "markdown",
   "metadata": {},
   "source": [
    "When writing loops, you should be careful not to make any 1 variable do too many things. It's okay to use 1 variable to control the loop, another to keep track of total, and a 3rd variable to handle some other functionality. Here's an example of a loop we can write that is easiest to write with a few different variables.\n",
    "\n",
    "Write a while loop that will compute the sum of the first $n$ positive odd numbers.  For example, if $n$ is 5, you should compute 1 + 3 + 5 + 7 + 9."
   ]
  },
  {
   "cell_type": "code",
   "execution_count": null,
   "metadata": {},
   "outputs": [],
   "source": [
    "n = int(input(\"N: \")) #assume we get n from the user\n",
    "\n"
   ]
  },
  {
   "cell_type": "code",
   "execution_count": null,
   "metadata": {},
   "outputs": [],
   "source": []
  },
  {
   "cell_type": "markdown",
   "metadata": {},
   "source": [
    "Please do the following:\n",
    "* Study for the midterm! You have a practice exam in Canvas\n",
    "* You can do problems #2 & #3 from Lab 05 for extra practice."
   ]
  },
  {
   "cell_type": "code",
   "execution_count": null,
   "metadata": {},
   "outputs": [],
   "source": []
  }
 ],
 "metadata": {
  "kernelspec": {
   "display_name": "Python 3 (ipykernel)",
   "language": "python",
   "name": "python3"
  },
  "language_info": {
   "codemirror_mode": {
    "name": "ipython",
    "version": 3
   },
   "file_extension": ".py",
   "mimetype": "text/x-python",
   "name": "python",
   "nbconvert_exporter": "python",
   "pygments_lexer": "ipython3",
   "version": "3.11.4"
  },
  "varInspector": {
   "cols": {
    "lenName": 16,
    "lenType": 16,
    "lenVar": 40
   },
   "kernels_config": {
    "python": {
     "delete_cmd_postfix": "",
     "delete_cmd_prefix": "del ",
     "library": "var_list.py",
     "varRefreshCmd": "print(var_dic_list())"
    },
    "r": {
     "delete_cmd_postfix": ") ",
     "delete_cmd_prefix": "rm(",
     "library": "var_list.r",
     "varRefreshCmd": "cat(var_dic_list()) "
    }
   },
   "types_to_exclude": [
    "module",
    "function",
    "builtin_function_or_method",
    "instance",
    "_Feature"
   ],
   "window_display": false
  }
 },
 "nbformat": 4,
 "nbformat_minor": 2
}
