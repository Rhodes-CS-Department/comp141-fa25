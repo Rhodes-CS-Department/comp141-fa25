{
 "cells": [
  {
   "cell_type": "code",
   "execution_count": 2,
   "metadata": {},
   "outputs": [
    {
     "data": {
      "text/plain": [
       "322"
      ]
     },
     "execution_count": 2,
     "metadata": {},
     "output_type": "execute_result"
    }
   ],
   "source": [
    "#Write total_seconds here\n",
    "def total_seconds(s):\n",
    "    minutes = int(s[0])\n",
    "    seconds = int(s[2:])\n",
    "    return minutes * 60 + seconds\n",
    "\n",
    "#Below is an example call to your function that you should uncomment to test your function.\n",
    "total_seconds(\"5:22\")"
   ]
  },
  {
   "cell_type": "code",
   "execution_count": 5,
   "metadata": {},
   "outputs": [
    {
     "data": {
      "text/plain": [
       "4"
      ]
     },
     "execution_count": 5,
     "metadata": {},
     "output_type": "execute_result"
    }
   ],
   "source": [
    "#Write count_digits here\n",
    "def count_digits(s):\n",
    "    count = 0\n",
    "    for i in range(len(s)):\n",
    "        character = s[i]\n",
    "        if character.isdigit():\n",
    "            count += 1\n",
    "    return count\n",
    "\n",
    "#Below is an example call to your function that you should uncomment to test your function.\n",
    "count_digits(\"abc123def5\")"
   ]
  },
  {
   "cell_type": "code",
   "execution_count": null,
   "metadata": {},
   "outputs": [
    {
     "data": {
      "text/plain": [
       "11"
      ]
     },
     "execution_count": 6,
     "metadata": {},
     "output_type": "execute_result"
    }
   ],
   "source": [
    "#Write sum_digits here, don't forget to test it!\n",
    "def sum_digits(s):\n",
    "    total = 0\n",
    "    for i in range(len(s)):\n",
    "        character = s[i]\n",
    "        if character.isdigit():\n",
    "            total += int(character)\n",
    "    return total\n",
    "\n",
    "#Below is an example call to your function that you should uncomment to test your function.\n",
    "sum_digits(\"abc123def5\")"
   ]
  },
  {
   "cell_type": "markdown",
   "metadata": {},
   "source": [
    "#  Strings III\n",
    "\n",
    "Here's a summary of everything you should be able to do with strings so far:\n",
    "* `len(s)`: get the length of a string\n",
    "* `s[i]`: get the ith character of a string\n",
    "* `s[i:j]`: slice a string from i to j\n",
    "* `s[i:j:step]`: slice a string from i to j, skipping step characters in between\n",
    "* string testing methods, eg `isdigit`, `isalnum`, etc (see [string reference](https://rhodes.box.com/s/3kkkxgmikkw5a5vduqoroimjjkyz731c) )\n",
    "* string modificiation methods, eg `rstrip`, `lower`, `upper`, etc (see [string reference](https://rhodes.box.com/s/3kkkxgmikkw5a5vduqoroimjjkyz731c) )\n",
    "\n",
    "You also need to familiarize yourself with the rest of the string methods in the reference, including:\n",
    "* `find`: returns the first index of a substring\n",
    "* `replace`: returns a copy of the string with a substring replaced"
   ]
  },
  {
   "cell_type": "markdown",
   "metadata": {},
   "source": [
    "Please do the following:\n",
    "1. Complete Project 6 - now due Friday"
   ]
  }
 ],
 "metadata": {
  "kernelspec": {
   "display_name": "Python 3",
   "language": "python",
   "name": "python3"
  },
  "language_info": {
   "codemirror_mode": {
    "name": "ipython",
    "version": 3
   },
   "file_extension": ".py",
   "mimetype": "text/x-python",
   "name": "python",
   "nbconvert_exporter": "python",
   "pygments_lexer": "ipython3",
   "version": "3.13.1"
  }
 },
 "nbformat": 4,
 "nbformat_minor": 2
}
