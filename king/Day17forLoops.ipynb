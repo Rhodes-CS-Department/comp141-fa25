{
 "cells": [
  {
   "cell_type": "markdown",
   "metadata": {},
   "source": [
    "# Test Material\n",
    "- ~6-10 trace questions (on paper)\n",
    "- ~3-5 coding exercises (on Jupyter)"
   ]
  },
  {
   "cell_type": "markdown",
   "metadata": {},
   "source": [
    "# Practice Solution"
   ]
  },
  {
   "cell_type": "code",
   "execution_count": null,
   "metadata": {},
   "outputs": [],
   "source": [
    "# multiples of 30\n",
    "def main():\n",
    "    cnt = 1\n",
    "    while cnt <= 30:\n",
    "        if 30 % cnt == 0:\n",
    "            print(cnt)\n",
    "        cnt += 1\n",
    "\n",
    "# multiples of 30 and 50\n",
    "def main():\n",
    "    cnt = 1\n",
    "    while cnt <= 30:\n",
    "        if 50 % cnt == 0 and 30 % cnt == 0:\n",
    "            print(cnt)\n",
    "        cnt += 1\n",
    "\n",
    "# multiples of any 2 integers\n",
    "def main():\n",
    "    num_1 = 30\n",
    "    num_2 = 50\n",
    "    count = 1\n",
    "    while count <= num_1 and count <= num_2:\n",
    "        if num_1 % count == 0 and num_2 % count == 0:\n",
    "            print(count)\n",
    "        count += 1\n",
    "        \n",
    "# gcd of any 2 integers\n",
    "def main():\n",
    "    num_1 = 20\n",
    "    num_2 = 24\n",
    "    count = 1\n",
    "    answer = 0\n",
    "    while count <= num_1 and count <= num_2:\n",
    "        if num_1 % count == 0 and num_2 % count == 0:\n",
    "            answer = count\n",
    "        count += 1\n",
    "    print(answer)\n",
    "\n",
    "main()"
   ]
  },
  {
   "cell_type": "markdown",
   "metadata": {
    "deletable": false,
    "editable": false
   },
   "source": [
    "# Day 16: For Loops\n"
   ]
  },
  {
   "cell_type": "code",
   "execution_count": null,
   "metadata": {},
   "outputs": [],
   "source": [
    "# Warmup: trace the following code\n",
    "def MORE_FUN(a, b, c):\n",
    "    print(a, b, c)\n",
    "    count = 0\n",
    "    while (a % b) > c:\n",
    "        a -= 2\n",
    "        b += 1\n",
    "        count += 1\n",
    "        print(a, b, c)\n",
    "    print(\"Total:\", count)\n",
    "\n",
    "print(\"first:\")\n",
    "MORE_FUN(29, 10, 4)\n",
    "print(\"second:\")\n",
    "MORE_FUN(35, 12, 2)\n"
   ]
  },
  {
   "cell_type": "markdown",
   "metadata": {
    "deletable": false,
    "editable": false
   },
   "source": [
    "## For-Loops\n",
    "\n",
    "__Count-Controlled loop:__ iterates a specific number of times\n",
    "* Use a for statement to write count-controlled loop \n",
    "* Designed to work with sequence of data items\n",
    "* Iterates once for each item in the sequence\n",
    "* General Format: \n",
    "```\n",
    "for variable in [val1, val2, etc]:\n",
    "\tstatements\n",
    "```\n",
    "* In the format above, variable is a new variable that gets created as part of this for statement - you can use this variable anywhere inside the loop body or after the loop is done iterating\n"
   ]
  },
  {
   "cell_type": "code",
   "execution_count": null,
   "metadata": {},
   "outputs": [],
   "source": [
    "for num in [1, 2, 3, 4, 5]: # num is a new variable that takes on every value in the list [1, 2, 3, 4, 5] in turn\n",
    "    print(num)"
   ]
  },
  {
   "cell_type": "markdown",
   "metadata": {},
   "source": [
    "## Iterables\n",
    "\n",
    "* __Iterable:__ contains a sequence of values that can be iterated over\n",
    "* Any `for` loop needs an iterable: `for x in iterable`\n",
    "* `[5, 12, 9, 6]` is a type of iterable called a **list**\n",
    "* The `range` function produces an iterable following a regular pattern\n",
    "\n",
    "__`range` characteristics:__\n",
    "* One argument: used as ending limit \n",
    "* Two arguments: starting value and ending limit\n",
    "* Three arguments: third argument is step value\n",
    "\n",
    "`range(start=0, stop, step=1)` shows that range can take in up to 3 arguments, and if not specified the default value for start is 0, and the default value for step is 1"
   ]
  },
  {
   "cell_type": "code",
   "execution_count": null,
   "metadata": {},
   "outputs": [],
   "source": [
    "# When you using a single argument, it describes the end value\n",
    "#The default value for start is used (0), and the default value for step is used (1)\n",
    "\n",
    "#equivalent while loop to the below for loop\n",
    "i = 0\n",
    "while i < 5:\n",
    "    print(i)\n",
    "    i += 1\n",
    "\n",
    "print(\"here's the for loop: \")\n",
    "for i in range(5): # this produces the iterable [0, 1, 2, 3, 4]\n",
    "    print(i)"
   ]
  },
  {
   "cell_type": "code",
   "execution_count": null,
   "metadata": {},
   "outputs": [],
   "source": [
    "# When using range with 2 arguments, they describe the start and end values\n",
    "#The default value for step is used (1)\n",
    "for i in range(2, 10): # this produces the iterable [2, 3, 4, 5, 6, 7, 8, 9, 10]\n",
    "    print(i)\n",
    "    x = 5\n",
    "print(i)"
   ]
  },
  {
   "cell_type": "code",
   "execution_count": null,
   "metadata": {},
   "outputs": [],
   "source": [
    "# While loop equivalent for the above for loop\n",
    "i = 2\n",
    "while i < 10:\n",
    "    print(i)\n",
    "    i += 1\n",
    "print(i)"
   ]
  },
  {
   "cell_type": "code",
   "execution_count": null,
   "metadata": {},
   "outputs": [],
   "source": [
    "# When using range with 3 arguments, all values are specified\n",
    "# Including the step value, allows you to count by 2s, or 3s, or any integer value you'd like\n",
    "\n",
    "for i in range(2, 16, 3): # this produces the iterable [2, 5, 8, 11, 14]\n",
    "    print(i)\n",
    "\n",
    "print(i)\n"
   ]
  },
  {
   "cell_type": "code",
   "execution_count": null,
   "metadata": {},
   "outputs": [],
   "source": [
    "# While loop equivalent of the above for loop\n",
    "\n",
    "i = 2\n",
    "while i < 16:\n",
    "    print(i)\n",
    "    i += 3"
   ]
  },
  {
   "cell_type": "markdown",
   "metadata": {},
   "source": [
    "The range function can be used to generate a sequence with numbers in descending order\n",
    "* Make sure starting number is larger than end limit, and step value is negative\n"
   ]
  },
  {
   "cell_type": "code",
   "execution_count": null,
   "metadata": {},
   "outputs": [],
   "source": [
    "for i in range(10, 0, -1):\n",
    "    print(i)"
   ]
  },
  {
   "cell_type": "code",
   "execution_count": null,
   "metadata": {},
   "outputs": [],
   "source": [
    "#While loop equivalent of the above for loop\n",
    "i = 10\n",
    "while i > 0:\n",
    "    print(i)\n",
    "    i -= 1"
   ]
  },
  {
   "cell_type": "code",
   "execution_count": null,
   "metadata": {},
   "outputs": [],
   "source": [
    "#Doesn't do anything\n",
    "for i in range(10, 5): # step is not negative or our start is above our stop and we're stepping up\n",
    "    print(i)"
   ]
  },
  {
   "cell_type": "markdown",
   "metadata": {},
   "source": [
    "## Graphics in Loops\n",
    "You can call graphics functions within loops! Let's try some examples using our graphics library functions:"
   ]
  },
  {
   "cell_type": "code",
   "execution_count": 1,
   "metadata": {},
   "outputs": [
    {
     "data": {
      "application/vnd.jupyter.widget-view+json": {
       "model_id": "de222b802eef4266bbf2b0ac4bfb19d7",
       "version_major": 2,
       "version_minor": 0
      },
      "text/plain": [
       "AppLayout(children=(MultiCanvas(layout=Layout(grid_area='center'), sync_image_data=True, width=500),), layout=…"
      ]
     },
     "metadata": {},
     "output_type": "display_data"
    }
   ],
   "source": [
    "# This program draws a line of circles diagonally from the top left corner of the canvas to the bottom right corner of the canvas\n",
    "from cs1.graphics import *\n",
    "\n",
    "def main():\n",
    "    open_canvas(500,500)\n",
    "    x = 25 # initial x coordinate\n",
    "    y = 25 # initial y coordinate\n",
    "    spacing = 50 # space between centers\n",
    "    for i in range(10):\n",
    "        draw_circle(x,y,10)\n",
    "        x += spacing\n",
    "        y += spacing\n",
    "\n",
    "main()"
   ]
  },
  {
   "cell_type": "code",
   "execution_count": 8,
   "metadata": {},
   "outputs": [
    {
     "data": {
      "application/vnd.jupyter.widget-view+json": {
       "model_id": "2b3c7d789f78459e8b6b29764c51d00f",
       "version_major": 2,
       "version_minor": 0
      },
      "text/plain": [
       "AppLayout(children=(MultiCanvas(layout=Layout(grid_area='center'), sync_image_data=True, width=500),), layout=…"
      ]
     },
     "metadata": {},
     "output_type": "display_data"
    }
   ],
   "source": [
    "# This program draws a series of triangles across the canvas from left to right.\n",
    "# Don't worry too much about the draw_triangle() function - though you can examine it and try to figure out how it works if you'd like!\n",
    "from cs1.graphics import *\n",
    "import math\n",
    "\n",
    "# draws an equilateral triangle with the given height centered at centerx, centery\n",
    "def draw_triangle(centerx,centery,height):\n",
    "    y_offset = height/2\n",
    "    x_offset = height/math.tan(math.radians(60))\n",
    "    # top vertex\n",
    "    v1_x = centerx\n",
    "    v1_y = centery - y_offset\n",
    "    # bottom left vertex\n",
    "    v2_x = centerx - x_offset\n",
    "    v2_y = centery + y_offset\n",
    "    # bottom right vertex\n",
    "    v3_x = centerx + x_offset\n",
    "    v3_y = centery + y_offset\n",
    "\n",
    "    draw_polygon(v1_x,v1_y,v2_x,v2_y,v3_x,v3_y)\n",
    "\n",
    "def main():\n",
    "    open_canvas(500,500)\n",
    "    x = 25 # initial x coordinate\n",
    "    spacing = 50 # space between centers\n",
    "    for i in range(10):\n",
    "        draw_triangle(x,250,15)\n",
    "        x += spacing\n",
    "\n",
    "main()"
   ]
  },
  {
   "cell_type": "markdown",
   "metadata": {},
   "source": [
    "## Trace\n",
    "Let's trace through the following programs to see what they output\n"
   ]
  },
  {
   "cell_type": "code",
   "execution_count": null,
   "metadata": {},
   "outputs": [],
   "source": [
    "for num in range(1, 8, 1):\n",
    "    square = num * num\n",
    "    if square % 3 != 0:\n",
    "        print(\"The square of\", num, \"is\", square)"
   ]
  },
  {
   "cell_type": "code",
   "execution_count": null,
   "metadata": {},
   "outputs": [],
   "source": [
    "total = 0\n",
    "for num in range(2, 10, 2):\n",
    "    total += num\n",
    "print(total, num)"
   ]
  },
  {
   "cell_type": "code",
   "execution_count": null,
   "metadata": {},
   "outputs": [],
   "source": [
    "#This function converts a temperature in Fahrenheit to its Celcius equivalent\n",
    "#Parameters: degrees_f is a valid Fahrenheit temperature floating-point value \n",
    "#Returns: the celcius equivalent temperature as a floating-point value\n",
    "def f_to_c(degrees_f):\n",
    "    c = (degrees_f - 32)  * 5/9\n",
    "    return c\n",
    "\n",
    "def main():\n",
    "    fmin = int(input(\"Min temp: \"))\n",
    "    fmax = int(input(\"Max temp: \"))\n",
    "  \n",
    "    for fah_temp in range(fmin, fmax+1, 10):\n",
    "        cel_temp = f_to_c(fah_temp)\n",
    "        print(fah_temp, cel_temp)\n",
    "    \n",
    "main()"
   ]
  },
  {
   "cell_type": "markdown",
   "metadata": {},
   "source": [
    "## Graphics in nested loops\n",
    "You can use graphics functions within loops! Let's do some practice with the cs1 graphics functions"
   ]
  },
  {
   "cell_type": "code",
   "execution_count": 4,
   "metadata": {},
   "outputs": [
    {
     "data": {
      "application/vnd.jupyter.widget-view+json": {
       "model_id": "15694046f8f94e6f8f978d378f217ebc",
       "version_major": 2,
       "version_minor": 0
      },
      "text/plain": [
       "AppLayout(children=(MultiCanvas(layout=Layout(grid_area='center'), sync_image_data=True, width=500),), layout=…"
      ]
     },
     "metadata": {},
     "output_type": "display_data"
    }
   ],
   "source": [
    "# This program draws a line of circles diagonally from the top left of the canvas to the bottom right\n",
    "from cs1.graphics import *\n",
    "\n",
    "def main():\n",
    "    open_canvas(500,500)\n",
    "\n",
    "    x = 25 # initial x value\n",
    "    y = 25 # initial y value\n",
    "    spacing = 50 # space between centers of the circles\n",
    "    for i in range(10):\n",
    "        draw_circle(x,y,10)\n",
    "        x += spacing\n",
    "        y += spacing\n",
    "\n",
    "main()"
   ]
  },
  {
   "cell_type": "code",
   "execution_count": 5,
   "metadata": {},
   "outputs": [
    {
     "data": {
      "application/vnd.jupyter.widget-view+json": {
       "model_id": "d2c159d151684ecc906c13e955b6a7a6",
       "version_major": 2,
       "version_minor": 0
      },
      "text/plain": [
       "AppLayout(children=(MultiCanvas(layout=Layout(grid_area='center'), sync_image_data=True, width=500),), layout=…"
      ]
     },
     "metadata": {},
     "output_type": "display_data"
    }
   ],
   "source": [
    "# This example draws a line of equilateral triangles across the middle of the canvas\n",
    "# Don't worry too much about the draw_triangle() function - though you can examine it and try to figure out how it works if you'd like!\n",
    "from cs1.graphics import *\n",
    "import math\n",
    "\n",
    "# draws an equilateral triangle with the given height centered at centerx, centery\n",
    "def draw_triangle(centerx,centery,height):\n",
    "    y_offset = height/2\n",
    "    x_offset = height/math.tan(math.radians(60))\n",
    "    # top vertex\n",
    "    v1_x = centerx\n",
    "    v1_y = centery - y_offset\n",
    "    # bottom left vertex\n",
    "    v2_x = centerx - x_offset\n",
    "    v2_y = centery + y_offset\n",
    "    # bottom right vertex\n",
    "    v3_x = centerx + x_offset\n",
    "    v3_y = centery + y_offset\n",
    "\n",
    "    draw_polygon(v1_x,v1_y,v2_x,v2_y,v3_x,v3_y)\n",
    "\n",
    "def main():\n",
    "    open_canvas(500,500)\n",
    "    x = 25 # initial x coordinate\n",
    "    spacing = 50 # space between centers\n",
    "    for i in range(10):\n",
    "        draw_triangle(x,250,15)\n",
    "        x += spacing\n",
    "\n",
    "main()"
   ]
  },
  {
   "cell_type": "markdown",
   "metadata": {},
   "source": [
    "## Practice\n",
    "\n",
    "1. Re-write the GCD program from before with a for loop instead of a while loop."
   ]
  },
  {
   "cell_type": "code",
   "execution_count": null,
   "metadata": {},
   "outputs": [],
   "source": [
    "#This is the GCD program using a while loop - modify it to use a for loop instead\n",
    "def main():\n",
    "\n",
    "    num1 = int(input(\"Integer 1: \"))\n",
    "    num2 = int(input(\"Integer 2: \"))\n",
    "    \n",
    "    #I found the smaller number here first, to make it easier to write as a for loop\n",
    "    if num1 < num2:\n",
    "        smaller = num1\n",
    "    else:\n",
    "        smaller = num2\n",
    "    #Initialize gcd to 1 here, so it always has a value after the loop\n",
    "    gcd = 1\n",
    "    cnt = 1\n",
    "    while cnt <= smaller:\n",
    "        if num1 % cnt == 0 and num2 % cnt == 0:\n",
    "            gcd = cnt\n",
    "        cnt += 1\n",
    "    print(\"GCD: \", gcd)   \n",
    "main()"
   ]
  },
  {
   "cell_type": "markdown",
   "metadata": {},
   "source": [
    "Please do the following:\n",
    "1. Project 4 due in class Wednesday Oct 1\n",
    "2. Midterm 1 in class Monday Oct 6"
   ]
  },
  {
   "cell_type": "code",
   "execution_count": null,
   "metadata": {},
   "outputs": [],
   "source": []
  }
 ],
 "metadata": {
  "kernelspec": {
   "display_name": "Python 3 (ipykernel)",
   "language": "python",
   "name": "python3"
  },
  "language_info": {
   "codemirror_mode": {
    "name": "ipython",
    "version": 3
   },
   "file_extension": ".py",
   "mimetype": "text/x-python",
   "name": "python",
   "nbconvert_exporter": "python",
   "pygments_lexer": "ipython3",
   "version": "3.12.3"
  },
  "varInspector": {
   "cols": {
    "lenName": 16,
    "lenType": 16,
    "lenVar": 40
   },
   "kernels_config": {
    "python": {
     "delete_cmd_postfix": "",
     "delete_cmd_prefix": "del ",
     "library": "var_list.py",
     "varRefreshCmd": "print(var_dic_list())"
    },
    "r": {
     "delete_cmd_postfix": ") ",
     "delete_cmd_prefix": "rm(",
     "library": "var_list.r",
     "varRefreshCmd": "cat(var_dic_list()) "
    }
   },
   "types_to_exclude": [
    "module",
    "function",
    "builtin_function_or_method",
    "instance",
    "_Feature"
   ],
   "window_display": false
  }
 },
 "nbformat": 4,
 "nbformat_minor": 4
}
