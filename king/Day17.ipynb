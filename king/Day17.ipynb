{
 "cells": [
  {
   "cell_type": "code",
   "execution_count": null,
   "metadata": {},
   "outputs": [],
   "source": []
  },
  {
   "cell_type": "markdown",
   "metadata": {},
   "source": [
    "## Solutions to Lab 05: \n",
    "### Exercise 1\n",
    "Write a function called count_factors that takes a single parameter called num. This function should return the number of positive factors of num. A positive factor is a number between 1 and num that divides num. For example, the number 10 has 4 factors: 1, 2, 5, and 10. So calling count_factors(10) should return 4.\n",
    "\n",
    "Hint: Write a loop that counts from 1 to num and tests the remainder of dividing num by whatever the counting variable is."
   ]
  },
  {
   "cell_type": "code",
   "execution_count": null,
   "metadata": {},
   "outputs": [],
   "source": [
    "def count_factors(num):\n",
    "    cnt = 0\n",
    "    for i in range(1, num+1):\n",
    "        if num % i == 0:\n",
    "            cnt += 1\n",
    "            \n",
    "    return cnt\n",
    "\n",
    "print(\"Number of factors of 10: \", count_factors(10))\n",
    "print(\"Number of factors of 30: \", count_factors(30))"
   ]
  },
  {
   "cell_type": "markdown",
   "metadata": {},
   "source": [
    "### Exercise 2\n",
    "\n",
    "Write a function called `roman` that takes a single parameter called `num`. This function should print out the pseudo-Roman numeral equivalent of a number. \n",
    "\n",
    "Note that we are going to call this \"pseudo-Roman\", because we will get rid of the weird subtraction rules for Roman numbers. For example, normally 9 is written as IX (10-1). But we can just print VIIII. \n",
    "\n",
    "Use a loop that runs until the parameter becomes equal to zero. Inside the loop, write `if` statements that test how big the number is (compared to the letter numeral values). Print the first numeral it is larger than or equal to, and then subtract that numeral's value.\n",
    "\n",
    "e.g., if the number is 127, my program would first print C (127 > 100), then X (27 > 10), then X (17 > 10), then V (7 > 5), then I (2 > 1), and finally I (1 >= 1).\n",
    "\n",
    "So, `roman(127)` should print `CXXVII`.\n",
    "\n",
    "Reference: M = 1000, D = 500, C = 100, L = 50, X = 10, V = 5, I = 1"
   ]
  },
  {
   "cell_type": "code",
   "execution_count": null,
   "metadata": {},
   "outputs": [],
   "source": [
    "def roman(num):\n",
    "    s = ''\n",
    "    while num > 0:\n",
    "        if num >= 1000:\n",
    "            s += 'M'\n",
    "            num -= 1000\n",
    "        elif num >= 500:\n",
    "            s += 'D'\n",
    "            num -= 500\n",
    "        elif num >= 100:\n",
    "            s += 'C'\n",
    "            num -= 100\n",
    "        elif num >= 50:\n",
    "            s += \"L\"\n",
    "            num -= 50\n",
    "        elif num >= 10:\n",
    "            s += 'X'\n",
    "            num -= 10\n",
    "        elif num >= 5:\n",
    "            s += 'V'\n",
    "            num -= 5\n",
    "        else:\n",
    "            s += 'I'\n",
    "            num -= 1\n",
    "    print(s)\n",
    "    \n",
    "    \n",
    "roman(127)\n",
    "roman(2021)\n",
    "roman(7)"
   ]
  },
  {
   "cell_type": "markdown",
   "metadata": {},
   "source": [
    "### Exercise 3\n",
    "\n",
    "Write a program that starts off by asking the user how much money they have in their bank account. Then enter a loop that continuously asks the user to enter an amount of money they want to withdraw from an ATM. Keep looping until the account is empty.\n",
    "\n",
    "Next, add a menu that allows a user to add money, subtract money, or quit the ATM program. Let the user keep going until they choose to quit. If the user requests to withdraw more money than is the account, the code should reject the request and withdraw nothing. "
   ]
  },
  {
   "cell_type": "code",
   "execution_count": null,
   "metadata": {},
   "outputs": [],
   "source": [
    "#This is a solution to the first part of the exercise. This program will ask the user how much money they have in the bank\n",
    "#Then it allows the user to keep withdrawing money until the account it empty. It keeps the user from withdrawing more\n",
    "#money than they have in their account\n",
    "\n",
    "def main():\n",
    "    money = float(input(\"How many much do you have in your bank account? \"))\n",
    "    while money > 0:\n",
    "        print(\"You currently have $\", format(money, '.2f'), \"in your account.\")\n",
    "        withdraw = int(input(\"How much money would you like to withdraw? \"))\n",
    "        if withdraw > money:\n",
    "            print(\"You don't have enough money in your account.\")\n",
    "        else:\n",
    "            money -= withdraw\n",
    "\n",
    "main()"
   ]
  },
  {
   "cell_type": "code",
   "execution_count": null,
   "metadata": {},
   "outputs": [],
   "source": [
    "#I used input validation to ensure that the user enters a positive value for the deposit/withdrawal amount\n",
    "def check_val(num):\n",
    "    while num < 0:\n",
    "        print(\"You must enter a positive value.\")\n",
    "        num = float(input(\"Try again: \"))\n",
    "    return num\n",
    "\n",
    "def main():\n",
    "    money = float(input(\"How many much do you have in your bank account? \"))\n",
    "    option = input(\"What would you like to do?\\n1. Deposit money\\n2. Withdraw money\\n3. Quit\\n\")\n",
    "    while option != '3':        \n",
    "        if option == '1':\n",
    "            deposit = int(input(\"How much money would you like to deposit? \"))\n",
    "            deposit = check_val(deposit)\n",
    "            money += deposit        \n",
    "\n",
    "        elif option == '2':\n",
    "                    \n",
    "            withdraw = int(input(\"How much money would you like to withdraw? \"))\n",
    "            withdraw = check_val(withdraw)\n",
    "            if withdraw > money:\n",
    "                print(\"You don't have enough money in your account.\")\n",
    "            else:\n",
    "                money -= withdraw\n",
    "            \n",
    "        print(\"You currently have $\", format(money, '.2f'), \"in your account.\")    \n",
    "        option = input(\"What would you like to do?\\n1. Deposit money\\n2. Withdraw money\\n3. Quit\\n\")\n",
    "\n",
    "    print(\"Good bye. Thanks for using our ATM.\")\n",
    "\n",
    "main()"
   ]
  },
  {
   "cell_type": "markdown",
   "metadata": {},
   "source": [
    "### Exercise 4\n",
    "\n",
    "Use `cs1.graphics` to draw any __2__ of the following images. These were all drawn using for loops. No nested loops are required for these.\n",
    "\n",
    "   <table>\n",
    "     <tr>\n",
    "       <td><img src=\"https://catiewelsh.github.io/cs141/for-loops0.png\"/></td>\n",
    "       <td><img src=\"https://catiewelsh.github.io/cs141/for-loops1.png\"/></td>\n",
    "       <td><img src=\"https://catiewelsh.github.io/cs141/for-loops2.png\"/></td>\n",
    "       <td><img src=\"https://catiewelsh.github.io/cs141/for-loops3.png\"/></td>\n",
    "     </tr>\n",
    "     <tr>\n",
    "       <td><img src=\"https://catiewelsh.github.io/cs141/for-loops4.png\"/></td>\n",
    "       <td><img src=\"https://catiewelsh.github.io/cs141/for-loops5.png\"/></td>\n",
    "       <td><img src=\"https://catiewelsh.github.io/cs141/for-loops6.png\"/></td>\n",
    "       <td><img src=\"https://catiewelsh.github.io/cs141/for-loops7.png\"/></td>\n",
    "     </tr>\n",
    "   </table>"
   ]
  },
  {
   "cell_type": "code",
   "execution_count": null,
   "metadata": {},
   "outputs": [],
   "source": [
    "from cs1.graphics import *\n",
    "\n",
    "def main():\n",
    "    open_canvas(300, 300)\n",
    "    set_color(\"black\")\n",
    "    for r in range(10, 101, 10):\n",
    "        draw_circle(150, 150, r)\n",
    "main()"
   ]
  },
  {
   "cell_type": "code",
   "execution_count": null,
   "metadata": {},
   "outputs": [],
   "source": [
    "from cs1.graphics import *\n",
    "def main():\n",
    "    open_canvas(300, 300)\n",
    "    set_color(\"black\")\n",
    "    x = 0\n",
    "    y1 = 10\n",
    "    y2 = 300\n",
    "    for i in range(19):\n",
    "        draw_line(x, y1, x, y2)\n",
    "        x += 15\n",
    "        y1 += 15\n",
    "\n",
    "main()"
   ]
  },
  {
   "cell_type": "code",
   "execution_count": null,
   "metadata": {},
   "outputs": [],
   "source": [
    "from cs1.graphics import *\n",
    "\n",
    "def main():\n",
    "    # Drawing 1\n",
    "    open_canvas(300, 300)\n",
    "    x1 = 0\n",
    "    x2 = 10\n",
    "    y1 = 0\n",
    "    y2 = 300\n",
    "    for i in range(20):\n",
    "        draw_line(x1, y1, x2, y2) \n",
    "        x2 += 15\n",
    "        y1 += 15 \n",
    "main()"
   ]
  },
  {
   "cell_type": "markdown",
   "metadata": {},
   "source": [
    "# Day 17: Loops, Range, and Midterm Review"
   ]
  },
  {
   "cell_type": "markdown",
   "metadata": {},
   "source": [
    "## Topics (be able to use each term in a sentence!):\n",
    "* Data types: int, float, bool, string\n",
    "* Built-in functions: print, input, int, float, str, round\n",
    "* Functions: how to define them, giving them arguments, getting returns\n",
    "* Conditions: boolean expressions, and/or/not/==/!=/>/<, etc\n",
    "* If/Elif/Else: if-if vs if-elif, using conditions\n",
    "* While Loops: using conditions to control execution\n",
    "* Range: range(start, stop, step)"
   ]
  },
  {
   "cell_type": "markdown",
   "metadata": {},
   "source": [
    "## Breakdown:\n",
    "* ~15% vocab/concepts (multiple choice)\n",
    "* ~70% tracing\n",
    "* ~15% write your own code"
   ]
  },
  {
   "cell_type": "markdown",
   "metadata": {},
   "source": [
    "## Trace Practice"
   ]
  },
  {
   "cell_type": "code",
   "execution_count": null,
   "metadata": {},
   "outputs": [],
   "source": [
    "def x(s, t):\n",
    "  s = 2*t\n",
    "  t = -s\n",
    "  value = 10*s + 5*t\n",
    "  print(value)\n",
    "\n",
    "def y(s, t):\n",
    "  s = -s\n",
    "  t = s / 4\n",
    "  value = 6*s - 10*t\n",
    "  print(value)\n",
    "\n",
    "def m():\n",
    "  s = 4\n",
    "  t = 2\n",
    "  x(s, t)\n",
    "  x(s, t)\n",
    "  y(s, t)\n",
    "  y(2*s, 3*t)\n",
    "\n",
    "m()"
   ]
  },
  {
   "cell_type": "code",
   "execution_count": null,
   "metadata": {},
   "outputs": [],
   "source": [
    "def do_i_change_anything(a, b, c):\n",
    "  x = a + b\n",
    "  y = b - c\n",
    "  z = a * b * c\n",
    "  return x + y + z\n",
    "\n",
    "def main():\n",
    "  x = 3\n",
    "  y = 1\n",
    "  z = 10\n",
    "  z = do_i_change_anything(x, y, z)\n",
    "\n",
    "main()"
   ]
  },
  {
   "cell_type": "code",
   "execution_count": 2,
   "metadata": {},
   "outputs": [],
   "source": [
    "def helper(n):\n",
    "  if n % 2 == 0: # n is even\n",
    "    return n / 2\n",
    "  else: # n is odd\n",
    "    return 3*n + 1\n",
    "\n",
    "def collatz(n):\n",
    "  n = helper(n) # so we can see what happens when n = 1\n",
    "  steps = 1\n",
    "  while n > 1:\n",
    "    n = helper(n)\n",
    "    steps += 1\n",
    "  return steps\n",
    "\n",
    "def main():\n",
    "  collatz(1)\n",
    "  collatz(16)\n",
    "  collatz(12)\n",
    "\n",
    "main()"
   ]
  },
  {
   "cell_type": "code",
   "execution_count": null,
   "metadata": {},
   "outputs": [],
   "source": [
    "def find_biggest_power_of_2(below):\n",
    "  guess = 1\n",
    "  while guess < below:\n",
    "    guess *= 2\n",
    "  return guess\n",
    "\n",
    "def main():\n",
    "  keep_going = True\n",
    "  limit = 10000\n",
    "  while keep_going:\n",
    "    power = find_biggest_power_of_2(limit)\n",
    "    print(power)\n",
    "    limit /= 10\n",
    "    keep_going = limit > 1\n",
    "    \n",
    "main()"
   ]
  },
  {
   "cell_type": "code",
   "execution_count": null,
   "metadata": {},
   "outputs": [],
   "source": [
    "def my_first_for_loops(a):\n",
    "  # range syntax: range(start=0, stop, step=1) <- start, step have default values\n",
    "  ## NOTE: stop is EXCLUDED from the range\n",
    "  for x in range(a):\n",
    "    print(x)\n",
    "\n",
    "  for y in range(2, a, 2):\n",
    "    print(y)\n",
    "\n",
    "  for var_name in range(a, 0, -2):\n",
    "    print(var_name)\n",
    "\n",
    "def main():\n",
    "  my_first_for_loop(10)\n",
    "\n",
    "main()"
   ]
  },
  {
   "cell_type": "markdown",
   "metadata": {},
   "source": [
    "## Write your own code"
   ]
  },
  {
   "cell_type": "code",
   "execution_count": null,
   "metadata": {},
   "outputs": [],
   "source": [
    "# Write a function which takes in 3 integers and returns the largest integer (hint: use if-elif-else)\n",
    "\n",
    "# test your function!"
   ]
  },
  {
   "cell_type": "code",
   "execution_count": null,
   "metadata": {},
   "outputs": [],
   "source": [
    "# Write a function which asks the user to input items for a shopping list until they say \"STOP\" (hint: use while)\n",
    "\n",
    "# test your function!"
   ]
  },
  {
   "cell_type": "code",
   "execution_count": null,
   "metadata": {},
   "outputs": [],
   "source": [
    "# Write a function which takes in 2 even numbers and prints out every odd number in between them (hint: use range)\n",
    "\n",
    "# test your function!"
   ]
  },
  {
   "cell_type": "markdown",
   "metadata": {},
   "source": [
    "# Midterm 1 on Wednesday!"
   ]
  }
 ],
 "metadata": {
  "kernelspec": {
   "display_name": "Python 3 (ipykernel)",
   "language": "python",
   "name": "python3"
  },
  "language_info": {
   "codemirror_mode": {
    "name": "ipython",
    "version": 3
   },
   "file_extension": ".py",
   "mimetype": "text/x-python",
   "name": "python",
   "nbconvert_exporter": "python",
   "pygments_lexer": "ipython3",
   "version": "3.11.4"
  },
  "varInspector": {
   "cols": {
    "lenName": 16,
    "lenType": 16,
    "lenVar": 40
   },
   "kernels_config": {
    "python": {
     "delete_cmd_postfix": "",
     "delete_cmd_prefix": "del ",
     "library": "var_list.py",
     "varRefreshCmd": "print(var_dic_list())"
    },
    "r": {
     "delete_cmd_postfix": ") ",
     "delete_cmd_prefix": "rm(",
     "library": "var_list.r",
     "varRefreshCmd": "cat(var_dic_list()) "
    }
   },
   "types_to_exclude": [
    "module",
    "function",
    "builtin_function_or_method",
    "instance",
    "_Feature"
   ],
   "window_display": false
  }
 },
 "nbformat": 4,
 "nbformat_minor": 2
}
