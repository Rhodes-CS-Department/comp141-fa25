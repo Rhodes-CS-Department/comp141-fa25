{
 "cells": [
  {
   "cell_type": "markdown",
   "metadata": {},
   "source": [
    "# Test Material\n",
    "- ~15% is vocab (functions, calls, arguments, passing, variables, types, loops, conditionals etc)\n",
    "- ~70% is tracing code (just like quizzes)\n",
    "- ~15% is writing your own code (like practice problems)"
   ]
  },
  {
   "cell_type": "markdown",
   "metadata": {},
   "source": [
    "# Practice Solution"
   ]
  },
  {
   "cell_type": "code",
   "execution_count": 15,
   "metadata": {},
   "outputs": [
    {
     "name": "stdout",
     "output_type": "stream",
     "text": [
      "4\n"
     ]
    }
   ],
   "source": [
    "# multiples of 30\n",
    "def main():\n",
    "    cnt = 1\n",
    "    while cnt <= 30:\n",
    "        if 30 % cnt == 0:\n",
    "            print(cnt)\n",
    "        cnt += 1\n",
    "\n",
    "# multiples of 30 and 50\n",
    "def main():\n",
    "    cnt = 1\n",
    "    while cnt <= 30:\n",
    "        if 50 % cnt == 0 and 30 % cnt == 0:\n",
    "            print(cnt)\n",
    "        cnt += 1\n",
    "\n",
    "# multiples of any 2 integers\n",
    "def main():\n",
    "    num_1 = 30\n",
    "    num_2 = 50\n",
    "    count = 1\n",
    "    while count <= num_1 and count <= num_2:\n",
    "        if num_1 % count == 0 and num_2 % count == 0:\n",
    "            print(count)\n",
    "        count += 1\n",
    "        \n",
    "# gcd of any 2 integers\n",
    "def main():\n",
    "    num_1 = 20\n",
    "    num_2 = 24\n",
    "    count = 1\n",
    "    answer = 0\n",
    "    while count <= num_1 and count <= num_2:\n",
    "        if num_1 % count == 0 and num_2 % count == 0:\n",
    "            answer = count\n",
    "        count += 1\n",
    "    print(answer)\n",
    "\n",
    "main()"
   ]
  },
  {
   "cell_type": "markdown",
   "metadata": {
    "deletable": false,
    "editable": false
   },
   "source": [
    "# Day 16: For Loops, break, continue\n"
   ]
  },
  {
   "cell_type": "markdown",
   "metadata": {
    "deletable": false,
    "editable": false
   },
   "source": [
    "## For-Loops\n",
    "\n",
    "__Count-Controlled loop:__ iterates a specific number of times\n",
    "* Use a for statement to write count-controlled loop \n",
    "* Designed to work with sequence of data items\n",
    "* Iterates once for each item in the sequence\n",
    "* General Format: \n",
    "```\n",
    "for variable in [val1, val2, etc]:\n",
    "\tstatements\n",
    "```\n",
    "* In the format above, variable is a new variable that gets created as part of this for statement - you can use this variable anywhere inside the loop body or after the loop is done iterating\n"
   ]
  },
  {
   "cell_type": "code",
   "execution_count": null,
   "metadata": {},
   "outputs": [],
   "source": [
    "for num in [1, 2, 3, 4, 5]:\n",
    "    print(num)"
   ]
  },
  {
   "cell_type": "markdown",
   "metadata": {},
   "source": [
    "## Using the range function\n",
    "\n",
    "* The range function simplifies the process of writing a for loop\n",
    "* range returns an iterable object\n",
    "* __Iterable:__ contains a sequence of values that can be iterated over\n",
    "\n",
    "__range characteristics:__\n",
    "* One argument: used as ending limit \n",
    "* Two arguments: starting value and ending limit\n",
    "* Three arguments: third argument is step value\n",
    "\n",
    "`range(start=0, end, step=1)` shows that range can take in up to 3 arguments, and if not specified the default value for start is 0, and the default value for step is 1"
   ]
  },
  {
   "cell_type": "code",
   "execution_count": 3,
   "metadata": {},
   "outputs": [
    {
     "name": "stdout",
     "output_type": "stream",
     "text": [
      "0\n",
      "1\n",
      "2\n",
      "3\n",
      "4\n",
      "here's the for loop: \n",
      "0\n",
      "1\n",
      "2\n",
      "3\n",
      "4\n"
     ]
    }
   ],
   "source": [
    "# When you using a single argument, it describes the end value\n",
    "#The default value for start is used (0), and the default value for step is used (1)\n",
    "\n",
    "#equivalent while loop to the below for loop\n",
    "i = 0\n",
    "while i < 5:\n",
    "    print(i)\n",
    "    i += 1\n",
    "\n",
    "print(\"here's the for loop: \")\n",
    "for i in range(5):\n",
    "    print(i)"
   ]
  },
  {
   "cell_type": "code",
   "execution_count": 4,
   "metadata": {},
   "outputs": [
    {
     "name": "stdout",
     "output_type": "stream",
     "text": [
      "2\n",
      "3\n",
      "4\n",
      "5\n",
      "6\n",
      "7\n",
      "8\n",
      "9\n",
      "9\n"
     ]
    }
   ],
   "source": [
    "# When using range with 2 arguments, they describe the start and end values\n",
    "#The default value for step is used (1)\n",
    "for i in range(2, 10):\n",
    "    print(i)\n",
    "    x = 5\n",
    "print(i)"
   ]
  },
  {
   "cell_type": "code",
   "execution_count": null,
   "metadata": {},
   "outputs": [],
   "source": [
    "# While loop equivalent for the above for loop\n",
    "i = 2\n",
    "while i < 10:\n",
    "    print(i)\n",
    "    i += 1\n",
    "print(i)"
   ]
  },
  {
   "cell_type": "code",
   "execution_count": 5,
   "metadata": {},
   "outputs": [
    {
     "name": "stdout",
     "output_type": "stream",
     "text": [
      "2\n",
      "5\n",
      "8\n",
      "11\n",
      "14\n",
      "14\n"
     ]
    }
   ],
   "source": [
    "# When using range with 3 arguments, all values are specified\n",
    "# Including the step value, allows you to count by 2s, or 3s, or any integer value you'd like\n",
    "\n",
    "for i in range(2, 16, 3):\n",
    "    print(i)\n",
    "\n",
    "print(i)\n"
   ]
  },
  {
   "cell_type": "code",
   "execution_count": null,
   "metadata": {},
   "outputs": [],
   "source": [
    "# While loop equivalent of the above for loop\n",
    "\n",
    "i = 2\n",
    "while i < 16:\n",
    "    print(i)\n",
    "    i += 3"
   ]
  },
  {
   "cell_type": "markdown",
   "metadata": {},
   "source": [
    "The range function can be used to generate a sequence with numbers in descending order\n",
    "* Make sure starting number is larger than end limit, and step value is negative\n"
   ]
  },
  {
   "cell_type": "code",
   "execution_count": 18,
   "metadata": {},
   "outputs": [
    {
     "name": "stdout",
     "output_type": "stream",
     "text": [
      "10\n",
      "9\n",
      "8\n",
      "7\n",
      "6\n",
      "5\n",
      "4\n",
      "3\n",
      "2\n",
      "1\n"
     ]
    }
   ],
   "source": [
    "for i in range(10, 0, -1):\n",
    "    print(i)"
   ]
  },
  {
   "cell_type": "code",
   "execution_count": null,
   "metadata": {},
   "outputs": [],
   "source": [
    "#While loop equivalent of the above for loop\n",
    "i = 10\n",
    "while i > 0:\n",
    "    print(i)\n",
    "    i -= 1"
   ]
  },
  {
   "cell_type": "code",
   "execution_count": 17,
   "metadata": {},
   "outputs": [],
   "source": [
    "#Doesn't do anything\n",
    "for i in range(10, 5): # step is not negative or our start is above our stop and we're stepping up\n",
    "    print(i)"
   ]
  },
  {
   "cell_type": "markdown",
   "metadata": {},
   "source": [
    "## Trace\n",
    "Let's trace through the following programs to see what they output\n"
   ]
  },
  {
   "cell_type": "code",
   "execution_count": null,
   "metadata": {},
   "outputs": [],
   "source": [
    "for num in range(1, 8, 1):\n",
    "    square = num * num\n",
    "    if square % 3 != 0:\n",
    "        print(\"The square of\", num, \"is\", square)"
   ]
  },
  {
   "cell_type": "code",
   "execution_count": null,
   "metadata": {},
   "outputs": [],
   "source": [
    "total = 0\n",
    "for num in range(2, 10, 2):\n",
    "    total += num\n",
    "print(total, num)"
   ]
  },
  {
   "cell_type": "code",
   "execution_count": 7,
   "metadata": {},
   "outputs": [
    {
     "name": "stdout",
     "output_type": "stream",
     "text": [
      "Min temp: 32\n",
      "Max temp: 212\n",
      "32 0.0\n",
      "42 5.555555555555555\n",
      "52 11.11111111111111\n",
      "62 16.666666666666668\n",
      "72 22.22222222222222\n",
      "82 27.77777777777778\n",
      "92 33.333333333333336\n",
      "102 38.888888888888886\n",
      "112 44.44444444444444\n",
      "122 50.0\n",
      "132 55.55555555555556\n",
      "142 61.111111111111114\n",
      "152 66.66666666666667\n",
      "162 72.22222222222223\n",
      "172 77.77777777777777\n",
      "182 83.33333333333333\n",
      "192 88.88888888888889\n",
      "202 94.44444444444444\n",
      "212 100.0\n"
     ]
    }
   ],
   "source": [
    "#This function converts a temperature in Fahrenheit to its Celcius equivalent\n",
    "#Parameters: degrees_f is a valid Fahrenheit temperature floating-point value \n",
    "#Returns: the celcius equivalent temperature as a floating-point value\n",
    "def f_to_c(degrees_f):\n",
    "    c = (degrees_f - 32)  * 5/9\n",
    "    return c\n",
    "\n",
    "def main():\n",
    "    fmin = int(input(\"Min temp: \"))\n",
    "    fmax = int(input(\"Max temp: \"))\n",
    "  \n",
    "    for fah_temp in range(fmin, fmax+1, 10):\n",
    "        cel_temp = f_to_c(fah_temp)\n",
    "        print(fah_temp, cel_temp)\n",
    "    \n",
    "main()"
   ]
  },
  {
   "cell_type": "markdown",
   "metadata": {},
   "source": [
    "## Practice\n",
    "\n",
    "1. Re-write the GCD program from before with a for loop instead of a while loop."
   ]
  },
  {
   "cell_type": "code",
   "execution_count": null,
   "metadata": {},
   "outputs": [],
   "source": [
    "#This is the GCD program using a while loop - modify it to use a for loop instead\n",
    "def main():\n",
    "\n",
    "    num1 = int(input(\"Integer 1: \"))\n",
    "    num2 = int(input(\"Integer 2: \"))\n",
    "    \n",
    "    #I found the smaller number here first, to make it easier to write as a for loop\n",
    "    if num1 < num2:\n",
    "        smaller = num1\n",
    "    else:\n",
    "        smaller = num2\n",
    "    #Initialize gcd to 1 here, so it always has a value after the loop\n",
    "    gcd = 1\n",
    "    cnt = 1\n",
    "    while cnt <= smaller:\n",
    "        if num1 % cnt == 0 and num2 % cnt == 0:\n",
    "            gcd = cnt\n",
    "        cnt += 1\n",
    "    print(\"GCD: \", gcd)   \n",
    "main()"
   ]
  },
  {
   "cell_type": "markdown",
   "metadata": {},
   "source": [
    "Please do the following:\n",
    "1. Complete Lab 05 - due Monday before class\n",
    "2. Finish Project 04 - due Monday before class\n",
    "3. Study for Midterm 1 - Wednesday in class - See practice exam"
   ]
  },
  {
   "cell_type": "code",
   "execution_count": null,
   "metadata": {},
   "outputs": [],
   "source": []
  }
 ],
 "metadata": {
  "kernelspec": {
   "display_name": "Python 3 (ipykernel)",
   "language": "python",
   "name": "python3"
  },
  "language_info": {
   "codemirror_mode": {
    "name": "ipython",
    "version": 3
   },
   "file_extension": ".py",
   "mimetype": "text/x-python",
   "name": "python",
   "nbconvert_exporter": "python",
   "pygments_lexer": "ipython3",
   "version": "3.11.4"
  },
  "varInspector": {
   "cols": {
    "lenName": 16,
    "lenType": 16,
    "lenVar": 40
   },
   "kernels_config": {
    "python": {
     "delete_cmd_postfix": "",
     "delete_cmd_prefix": "del ",
     "library": "var_list.py",
     "varRefreshCmd": "print(var_dic_list())"
    },
    "r": {
     "delete_cmd_postfix": ") ",
     "delete_cmd_prefix": "rm(",
     "library": "var_list.r",
     "varRefreshCmd": "cat(var_dic_list()) "
    }
   },
   "types_to_exclude": [
    "module",
    "function",
    "builtin_function_or_method",
    "instance",
    "_Feature"
   ],
   "window_display": false
  }
 },
 "nbformat": 4,
 "nbformat_minor": 2
}
