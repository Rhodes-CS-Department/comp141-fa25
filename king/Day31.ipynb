{
 "cells": [
  {
   "cell_type": "markdown",
   "metadata": {},
   "source": [
    "# Day 33: Lists III"
   ]
  },
  {
   "attachments": {
    "copyingLists.png": {
     "image/png": "[encoded data removed]"
    }
   },
   "cell_type": "markdown",
   "metadata": {},
   "source": [
    "## Copying Lists\n",
    "Because lists are large, mutable, collections of objects, you may observe some undesirable behavior when using assignment statements with lists. In particular, unless you explicitly tell Python to copy a list element by element, it will assume that you want to refer to the same list that already exists in memory. \n",
    "\n",
    "![copyingLists.png](attachment:copyingLists.png)\n",
    "\n",
    "__To make a copy of a list you must copy each element of the list__. There are 2 common methods for doing this.\n",
    "1. Create a new empty list and use a for loop to add a copy of each element from the original list to the new list\n",
    "2. Creating a new empty list and concatenating the old list to the new empty list\n"
   ]
  },
  {
   "attachments": {
    "image.png": {
     "image/png": "[encoded data removed]"
    }
   },
   "cell_type": "markdown",
   "metadata": {},
   "source": [
    "## Copying Lists\n",
    "Because lists are large, mutable, collections of objects, you may observe some undesirable behavior when using assignment statements with lists. In particular, unless you explicitly tell Python to copy a list element by element, it will assume that you want to refer to the same list that already exists in memory. \n",
    "\n",
    "![image.png](attachment:image.png)\n",
    "\n",
    "__To make a copy of a list you must copy each element of the list__. There are 2 common methods for doing this.\n",
    "1. Create a new empty list and use a for loop to add a copy of each element from the original list to the new list\n",
    "2. Creating a new empty list and concatenating the old list to the new empty list\n"
   ]
  },
  {
   "cell_type": "code",
   "execution_count": null,
   "metadata": {},
   "outputs": [],
   "source": [
    "#Example of what happens when you use an assignment operator to copy one list into another\n",
    "\n",
    "list1 = [1,2,3,4]\n",
    "list2 = list1\n",
    "print(\"List 1:\", list1)\n",
    "print(\"List 2:\", list2)\n",
    "list1[0] = 99\n",
    "list2[2] = 7\n",
    "print(\"List 1:\", list1)\n",
    "print(\"List 2:\", list2)"
   ]
  },
  {
   "cell_type": "code",
   "execution_count": null,
   "metadata": {},
   "outputs": [],
   "source": [
    "#Example 1 of how to properly create a separate copy of a list\n",
    "\n",
    "list1 = [1,2,3,4]\n",
    "list2 = []\n",
    "for i in range(0, len(list1), 1):\n",
    "    list2.append(list1[i])\n",
    "\n",
    "print(\"List 1:\", list1)\n",
    "print(\"List 2:\", list2)\n",
    "list1[0] = 99\n",
    "print(\"List 1:\", list1)\n",
    "print(\"List 2:\", list2)"
   ]
  },
  {
   "cell_type": "code",
   "execution_count": null,
   "metadata": {},
   "outputs": [],
   "source": [
    "#Example 2 of how to properly create a separate copy of a list\n",
    "\n",
    "list1 = [1,2,3,4]\n",
    "list2 = []\n",
    "list2 += list1\n",
    "  \n",
    "print(\"List 1:\", list1)\n",
    "print(\"List 2:\", list2)\n",
    "list1[0] = 99\n",
    "list2[3] = 7\n",
    "print(\"List 1:\", list1)\n",
    "print(\"List 2:\", list2)"
   ]
  },
  {
   "cell_type": "code",
   "execution_count": null,
   "metadata": {},
   "outputs": [],
   "source": [
    "# Example 3\n",
    "list1 = [1,2,3,4]\n",
    "list2 = list1[:] # slice copy\n",
    "  \n",
    "print(\"List 1:\", list1)\n",
    "print(\"List 2:\", list2)\n",
    "list1[0] = 99\n",
    "list2[3] = 7\n",
    "print(\"List 1:\", list1)\n",
    "print(\"List 2:\", list2)"
   ]
  },
  {
   "cell_type": "markdown",
   "metadata": {},
   "source": [
    "## Savings lists to files\n",
    "Despite the fact that you could simply typecast a list into a string and write it out to a file object, you should avoid doing this. Recall that we always want our files to be nicely formatted so they are easy for a program to parse. If you simply typecast a list to string, the string will look as follows:\n"
   ]
  },
  {
   "cell_type": "code",
   "execution_count": 1,
   "metadata": {},
   "outputs": [
    {
     "name": "stdout",
     "output_type": "stream",
     "text": [
      "['a', 'b', 'c', 'd']\n"
     ]
    }
   ],
   "source": [
    "#Example of what not to do\n",
    "\n",
    "lst = ['a', 'b', 'c', 'd']\n",
    "print(str(lst))"
   ]
  },
  {
   "cell_type": "markdown",
   "metadata": {},
   "source": [
    "Instead, when you are writing a list out to a file, use a for loop to write each element and '\\n'\n"
   ]
  },
  {
   "cell_type": "code",
   "execution_count": null,
   "metadata": {},
   "outputs": [],
   "source": [
    "#Example of properly writing a list out to a file.\n",
    "def main():\n",
    "  \n",
    "    file = open(\"cities.txt\", 'w')\n",
    "    cities = ['New York', 'Boston', 'Atlanta', 'Chicago', 'Dallas']\n",
    "   \n",
    "    for i in range(len(cities)):\n",
    "        file.write(cities[i] + '\\n')  # write each element to a new line\n",
    "  \n",
    "    file.close()\n",
    "    \n",
    "main()"
   ]
  },
  {
   "cell_type": "markdown",
   "metadata": {},
   "source": [
    "## Reading Files into Lists\n",
    "Don’t read a file into a list more than once per program.\n",
    "* This is the true power of lists – you only need to create them once and then you can use them over and over.\n"
   ]
  },
  {
   "cell_type": "code",
   "execution_count": null,
   "metadata": {},
   "outputs": [],
   "source": [
    "#Example of reading a file into a list \n",
    "def main():\n",
    "  \n",
    "    file = open(\"cities.txt\", 'r')\n",
    "    cities = []\n",
    "    for line in file:\n",
    "        line = line.rstrip() # strip the newline character off\n",
    "        cities.append(line) # append each line into the list\n",
    "  \n",
    "    file.close()\n",
    "    print(cities)\n",
    "  \n",
    "    #Now we can easily sort the cities in alphabetical order using the sort function\n",
    "    cities.sort()\n",
    "    print(cities)\n",
    "\n",
    "main()"
   ]
  },
  {
   "cell_type": "markdown",
   "metadata": {},
   "source": [
    "### Practice\n",
    "<ol>\n",
    "    <li>Text Shorthand Generator: Write a program that creates a text shorthand message for a phrase using the first letters of each word from a phrase/sentence.</li>\n",
    "        \n",
    "__Hint:__ Using one of the string methods to break the phrase into a list of words, and another method to make the resulting phrase all lowercase.\n",
    "\n",
    "__Example interations:__\n",
    "```\n",
    "Enter a phrase: This phrase doesn't stand for anything\n",
    "Shorthand is: tpdsfa\n",
    "       \n",
    "Enter a phrase: Laughing out loud\n",
    "Shorthand is: lol\n",
    "```\n",
    "<li> Dot Products: The dot product of two vectors, $A = [A_1, A_2,...A_n]$ and $B=[B_1, B_2, ..., B_n]$, is defined as $A_1*B_1 + A_2 * B_2 + ... + A_n * B_n$. Write a function called `dot_product` that takes in 2 lists of equal length, and returns the dot product of these two lists (vectors). The dot product of two empty lists is 0.</li>\n",
    "\n",
    "__Example:__ `dot_product([2, 3, 4], [4, 5, 6])` returns 47\n",
    "</ol>"
   ]
  },
  {
   "cell_type": "code",
   "execution_count": null,
   "metadata": {},
   "outputs": [],
   "source": [
    "#1\n"
   ]
  },
  {
   "cell_type": "code",
   "execution_count": null,
   "metadata": {},
   "outputs": [],
   "source": [
    "#2 \n"
   ]
  },
  {
   "cell_type": "markdown",
   "metadata": {},
   "source": [
    "Please do the following:\n",
    "* Start working on Project 08 - due 11/26\n",
    "\n"
   ]
  }
 ],
 "metadata": {
  "kernelspec": {
   "display_name": "Python 3 (ipykernel)",
   "language": "python",
   "name": "python3"
  },
  "language_info": {
   "codemirror_mode": {
    "name": "ipython",
    "version": 3
   },
   "file_extension": ".py",
   "mimetype": "text/x-python",
   "name": "python",
   "nbconvert_exporter": "python",
   "pygments_lexer": "ipython3",
   "version": "3.11.4"
  },
  "varInspector": {
   "cols": {
    "lenName": 16,
    "lenType": 16,
    "lenVar": 40
   },
   "kernels_config": {
    "python": {
     "delete_cmd_postfix": "",
     "delete_cmd_prefix": "del ",
     "library": "var_list.py",
     "varRefreshCmd": "print(var_dic_list())"
    },
    "r": {
     "delete_cmd_postfix": ") ",
     "delete_cmd_prefix": "rm(",
     "library": "var_list.r",
     "varRefreshCmd": "cat(var_dic_list()) "
    }
   },
   "types_to_exclude": [
    "module",
    "function",
    "builtin_function_or_method",
    "instance",
    "_Feature"
   ],
   "window_display": false
  }
 },
 "nbformat": 4,
 "nbformat_minor": 2
}
