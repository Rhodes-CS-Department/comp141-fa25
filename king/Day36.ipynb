{
 "cells": [
  {
   "cell_type": "markdown",
   "id": "e4d35061",
   "metadata": {},
   "source": [
    "## Day 36: 2-D Lists (cont'd)\n"
   ]
  },
  {
   "cell_type": "code",
   "execution_count": null,
   "id": "77270ba6",
   "metadata": {},
   "outputs": [],
   "source": [
    "# Solution to Lab 10\n",
    "#This function translate an english word to a pirate word, if it's in the\n",
    "#list of english words\n",
    "#Parameters: word, the string you're trying to translate\n",
    "#english_words, a list of strings; pirate_words, a list of strings\n",
    "#Returns: a string that is the pirate equivalent of word\n",
    "def translate_word(word, english_words, pirate_words):\n",
    "    for i in range(0, len(english_words)):\n",
    "        if word == english_words[i]:\n",
    "            return pirate_words[i]\n",
    "    return word\n",
    "\n",
    "#This function takes in an entire sentence and translate it to pirate\n",
    "#Parameters: sentence, a string of words; english_words, a list of words\n",
    "#pirate_words, a list of words\n",
    "#Returns: a string that is the pirate equivalent of sentence\n",
    "def translate_sentence(sentence, english_words, pirate_words):\n",
    "    #Assume my sentence looks like \"Hello I'm a pirate\"\n",
    "    #If you call the split function, with no parameter, it uses a space\n",
    "    #If you return the results into a single variable, that variable\n",
    "    #is a list (i.e. words will be a list of the words in the sentence)\n",
    "    sentence = sentence.lower()\n",
    "    sentence = sentence.replace(\",\", '')\n",
    "    sentence = sentence.replace(\".\", '')\n",
    "    sentence = sentence.replace(\"!\", '')\n",
    "    sentence = sentence.replace(\"?\", '')\n",
    "    \n",
    "    words = sentence.split()    \n",
    "    s = ''\n",
    "    #for each word in the sentence, translate it and add it to the\n",
    "    #translated sentence with a space after, so each word has a space between\n",
    "    #for word in words:\n",
    "    for i in range(len(words)):\n",
    "        word = words[i]\n",
    "        s += translate_word(word, english_words, pirate_words) + ' ' \n",
    "    return s\n",
    "    \n",
    "def main():\n",
    "\n",
    "    file = open('pirate-dictionary.txt', 'r')\n",
    "    english_words = []\n",
    "    pirate_words = []\n",
    "\n",
    "    for line in file:\n",
    "        line = line.rstrip()\n",
    "        eng, pir = line.split('/')\n",
    "        english_words.append(eng)\n",
    "        pirate_words.append(pir)\n",
    "    file.close()\n",
    "    print(english_words)\n",
    "    print(pirate_words)\n",
    "\n",
    "    sent = input(\"Enter a sentence: \")\n",
    "    translated = translate_sentence(sent, english_words, pirate_words)\n",
    "    print(\"Translated: \", translated)\n",
    "main()"
   ]
  },
  {
   "cell_type": "markdown",
   "id": "a39a6b6c",
   "metadata": {},
   "source": [
    "## Practice from last time\n",
    "\n",
    "In the cell below, fill in the code for the 3 functions listed:\n",
    "* `sum_all` – returns the sum of all elements in the 2-D list\n",
    "* `sum_columns` – prints out the sums of each column\n",
    "* `max_row` – compute the sum of each row and return the index and sum of the maximum row\n",
    "* `add_diagonal` - that takes in a 2-D list and returns the total of the values on the upper-left to lower-right diagonal.\n",
    "\n",
    "The main function is already written for you."
   ]
  },
  {
   "cell_type": "code",
   "execution_count": 1,
   "id": "8a181599",
   "metadata": {},
   "outputs": [
    {
     "name": "stdout",
     "output_type": "stream",
     "text": [
      "Sum of all elements:  851\n",
      "Sum of all elements:  851\n",
      "144\n",
      "193\n",
      "290\n",
      "224\n"
     ]
    }
   ],
   "source": [
    "#This function computes the sum of all elements in a 2-d list\n",
    "#parameters - table, a 2-d list\n",
    "#returns - total, the sum of all elements in table\n",
    "def sum_all(table):\n",
    "    total = 0\n",
    "    for r in range(0, len(table)):\n",
    "        for c in range(0, len(table[r])):\n",
    "            total += table[r][c]\n",
    "    return total\n",
    "\n",
    "#This is an alternate way to solve sum_all\n",
    "\n",
    "def sum_all_2(table):\n",
    "    total = 0\n",
    "    for r in range(0, len(table)):\n",
    "        total += sum(table[r])\n",
    "    return total\n",
    "\n",
    "#This function computes the sum of the individual columns in a 2-d list\n",
    "#and it prints out the values\n",
    "#parameters - table, a 2-d list\n",
    "#returns - None\n",
    "def sum_columns(table):\n",
    "    for c in range(0, len(table[0])):\n",
    "        total = 0\n",
    "        for r in range(0, len(table)):\n",
    "            total += table[r][c]\n",
    "        print(total)\n",
    "        \n",
    "\n",
    "def main():\n",
    "    matrix = [[67, 89, 46, 43], [7, 58, 72, 100], [38, 39, 73, 75], [32, 7, 99, 6]]\n",
    "    sumElements = sum_all(matrix)\n",
    "    print(\"Sum of all elements: \", sumElements)\n",
    "    sumElements2 = sum_all_2(matrix)\n",
    "    print(\"Sum of all elements: \", sumElements)\n",
    "    sum_columns(matrix)\n",
    "    \n",
    "main()"
   ]
  },
  {
   "cell_type": "code",
   "execution_count": null,
   "id": "901b0efb",
   "metadata": {},
   "outputs": [],
   "source": [
    "#This function computes the max sum of an individual row in a 2-d list\n",
    "#and returns both the maximum sum and the index of the row\n",
    "#parameters - table, a 2-d list\n",
    "#returns - maxInd, the index of the max sum row, maxTotal, the max sum \n",
    "def max_row(table):\n",
    "    max_row_index = 0\n",
    "    max_row_sum = 0\n",
    "    return max_row_index, max_row_sum\n",
    "\n",
    "  \n",
    "#This function that takes in a 2-D list and returns the total of the values on the upper-left to lower-right diagonal. \n",
    "#parameters - table, a 2-d list\n",
    "#returns - the sum of the values in the upper-left to lower-right diagonal\n",
    "#Example: table = [[1, 3, 5], [2, 4, 6], [3, 6, 9]] returns 14 (since 1 + 4 + 9 = 14)\n",
    "def add_diagonal(table):\n",
    "    diagonal_sum = 0\n",
    "    return diagonal_sum\n",
    "\n",
    "\n",
    "def main():\n",
    "    matrix = [[67, 89, 46, 43], [7, 58, 72, 100], [38, 39, 73, 75], [32, 7, 99, 6]]\n",
    "    maxIndex, maxSum = max_row(matrix)\n",
    "    print(\"MaxSum:\", maxSum, \"Occurred in row:\", maxIndex)\n",
    "\n",
    "    diagonal = add_diagonal(matrix)\n",
    "    print(\"The sum of the values on the diagonal is: \", diagonal)\n",
    "    \n",
    "main()"
   ]
  },
  {
   "cell_type": "markdown",
   "id": "6855c22f",
   "metadata": {},
   "source": [
    "Please do the following:\n",
    "1. Lab 12 - due by the end of class next Monday Apr 21: make sure you are ready to finish it!\n",
    "3. Keep working on Project 8 - due in class next Wednesday Apr 23"
   ]
  },
  {
   "cell_type": "code",
   "execution_count": null,
   "id": "ac3f63d7",
   "metadata": {},
   "outputs": [],
   "source": []
  }
 ],
 "metadata": {
  "kernelspec": {
   "display_name": "Python 3 (ipykernel)",
   "language": "python",
   "name": "python3"
  },
  "language_info": {
   "codemirror_mode": {
    "name": "ipython",
    "version": 3
   },
   "file_extension": ".py",
   "mimetype": "text/x-python",
   "name": "python",
   "nbconvert_exporter": "python",
   "pygments_lexer": "ipython3",
   "version": "3.11.4"
  },
  "varInspector": {
   "cols": {
    "lenName": 16,
    "lenType": 16,
    "lenVar": 40
   },
   "kernels_config": {
    "python": {
     "delete_cmd_postfix": "",
     "delete_cmd_prefix": "del ",
     "library": "var_list.py",
     "varRefreshCmd": "print(var_dic_list())"
    },
    "r": {
     "delete_cmd_postfix": ") ",
     "delete_cmd_prefix": "rm(",
     "library": "var_list.r",
     "varRefreshCmd": "cat(var_dic_list()) "
    }
   },
   "types_to_exclude": [
    "module",
    "function",
    "builtin_function_or_method",
    "instance",
    "_Feature"
   ],
   "window_display": false
  }
 },
 "nbformat": 4,
 "nbformat_minor": 5
}
