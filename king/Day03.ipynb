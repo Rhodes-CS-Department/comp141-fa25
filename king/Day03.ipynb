{
 "cells": [
  {
   "cell_type": "markdown",
   "metadata": {},
   "source": [
    "# Day 3\n",
    "## Warm-up\n",
    "\n",
    "Suppose the fine for speeding is $15 per mile per hour over the speed limit.\n",
    "\n",
    "Write a program to calculate your fine, given a user-defined speed and speed limit.\n",
    "\n",
    "Hint: try picking concrete values and calculating the fine \"by hand\"."
   ]
  },
  {
   "cell_type": "code",
   "execution_count": 1,
   "metadata": {},
   "outputs": [],
   "source": [
    "# fine calculation:\n"
   ]
  },
  {
   "cell_type": "markdown",
   "metadata": {},
   "source": [
    "## Performing Calculations\n",
    "\n",
    "__Math expression:__ performs calculation and gives a value\n",
    "* __Math operator:__ tool for performing calculation\n",
    "* __Operands:__ values surrounding operator (Variables can be used as operands)\n",
    "* Resulting value typically assigned to variable\n",
    "\n",
    "__Addition, Subtraction, Multiplication Operators:__\n",
    "* Addition (+)\n",
    "* Subtraction (-)\n",
    "* Multiplication (*)\n",
    "\n",
    "__Division operators (2 types):__\n",
    "* / operator performs floating point division\n",
    "* // operator performs integer division (Positive results truncated, negative rounded away from zero)\n",
    "\n",
    "__Exponent operator (**):__ Raises a number to a power\n",
    "* Ex: $ x ** y = x^y$\n",
    "\n",
    "__Remainder operator (%):__ (modulus operator) \n",
    "* Performs division and returns the remainder\n",
    "* Ex: `4 % 2 = 0, 5 % 2 = 1`\n",
    "* Typically used to convert times and distances, and to detect odd or even numbers\n",
    "\n",
    "__Operator Precedence and Grouping with Parentheses__ (PEMMDAS)\n",
    "* Higher precedence performed first (same precedence executes from left to right)\n",
    "* Python operator precedence:\n",
    "<ol>\n",
    "<li> Operations enclosed in parentheses (forces operations to be performed before others) </li>\n",
    "<li> Exponentiation (**) </li>\n",
    "<li> Multiplication (*), division (/ and //), and remainder (%)</li>\n",
    "<li> Addition (+) and subtraction (-)</li>\n",
    "</ol>\n",
    "\n",
    "__Converting mathematical expressions to programming statements__\n",
    "* May need to add multiplication operators\n",
    "* May need to insert parentheses \n",
    "\n",
    "## Convert the Following into Python code\n",
    "$ 𝑧=  \\frac{3+4𝑥}{5} − \\frac{10 (𝑦−5)(𝑎+𝑏+𝑐)}{𝑥} + 9(\\frac{4}{𝑥} + \\frac{9+𝑥}{y})$"
   ]
  },
  {
   "cell_type": "code",
   "execution_count": null,
   "metadata": {},
   "outputs": [],
   "source": [
    "# hint: practice using variables to break the expression up into smaller pieces\n",
    "# eg, z = v1 - v2 + v3"
   ]
  },
  {
   "cell_type": "markdown",
   "metadata": {},
   "source": [
    "## Performing Calculation Practice\n",
    "\n",
    "* You’re working at a fast food restaurant where a burger costs `$3.99` and French fries cost `$1.99`.\n",
    "* Write a program (in the cell below) that uses 2 variables to store these two prices (already included below).\n",
    "* Your program should then print out the cost of buying 2 burgers and 3 fries.\n",
    "* If you finish early, make your program add in 9.25% sales tax.\n",
    "\n",
    "Don't forget to test your code!"
   ]
  },
  {
   "cell_type": "code",
   "execution_count": 1,
   "metadata": {},
   "outputs": [],
   "source": [
    "#Write your code here\n",
    "burger_cost = 3.99\n",
    "fries_cost = 1.99"
   ]
  },
  {
   "cell_type": "markdown",
   "metadata": {},
   "source": [
    "Remember the following from the last lecture about getting input from the user\n",
    "\n",
    "__Input from Keyboard:__\n",
    "* For integers: `variable = int(input(\"Prompt\"))`\n",
    "* For ﬂoats: `variable = float(input(\"Prompt\"))`\n",
    "* For strings: `variable = input(\"Prompt\")`\n",
    "\n",
    "Modify your food program above to prompt the user for how many burgers and orders of fries they want, and print the total cost. Retest your code with the modfications you made."
   ]
  },
  {
   "cell_type": "code",
   "execution_count": null,
   "metadata": {},
   "outputs": [],
   "source": [
    "#copy/paste your code from above and modify it as described above\n"
   ]
  },
  {
   "cell_type": "markdown",
   "metadata": {},
   "source": [
    "## More Practice\n",
    "Write a short program (in the cell below) that will calculate the proper tip on a bill.\n",
    "* Prompt the user for the total cost of the bill.\n",
    "* Assume you are leaving an 18% tip. \n",
    "* Calculate the total tip for the bill.\n",
    "* Output the tip amount\n",
    "* If you’re done early, prompt the user for the tax rate, then use it to calculate the total  cost of the bill with tax and tip."
   ]
  },
  {
   "cell_type": "code",
   "execution_count": null,
   "metadata": {},
   "outputs": [],
   "source": []
  },
  {
   "cell_type": "markdown",
   "metadata": {},
   "source": [
    "## String formatting\n",
    "\n",
    "Often, once we get the functionality of our program working, we want to go back and improve the user experience with our program. For instance, when I am first writing a program, I may simply type `print(x)` to verify that I'm getting the correct value for `x`. However, as a user of your program, I won't know what that output is actually referring to. Is it the value of x, or some other variable that's not related?\n",
    "\n",
    "You want to make it clear to the user exactly what you're outputting, and you may also want that output to look nice. This can include $ and rounding to 2 decimal places for monetary values, adding whitespace to make output look more tabular, or many other ways to make your output easier for the user to understand.\n",
    "\n",
    "Below are some examples of various formatting that one can use within a program.\n",
    "\n",
    "Read through the code in each cell and run them to understand what the output will look like."
   ]
  },
  {
   "cell_type": "code",
   "execution_count": 5,
   "metadata": {},
   "outputs": [
    {
     "name": "stdout",
     "output_type": "stream",
     "text": [
      "hello\n",
      "\n",
      "goodbye\n",
      "hello \n",
      "\n",
      "goodbye\n",
      "$ 16.78\n"
     ]
    }
   ],
   "source": [
    "#Formatting strings\n",
    "\n",
    "# new lines:\n",
    "print(\"hello\")\n",
    "print() # skips a line\n",
    "print('goodbye')\n",
    "\n",
    "# same as\n",
    "print(\"hello \\n\\ngoodbye\")\n",
    "\n",
    "amount = 16.77777\n",
    "print(\"$\", round(amount, 2))"
   ]
  },
  {
   "cell_type": "markdown",
   "metadata": {},
   "source": [
    "The `print` function in python automatically assumes two things:\n",
    "* It assumes that you want each print statement to end with a newline character, so each output will be on a separate line.\n",
    "* It assumes that you want each item that you're printing to have a space between it and the next item, so `print` automatically puts spaces between each item you've separated by commas in the function call.\n",
    "\n",
    "The reason these things happen automatically is because the `print` function has 2 optional arguments with default values.\n",
    "* `end` argument has the default value of '\\n' (newline character).\n",
    "* `sep` argument has the default value of ' ' (space).\n",
    "\n",
    "Most of the time, Python's assumption is correct and you don't need to change these arguments. However, if you would like different functionality, here are some examples of how to do that. Run the cell to see how the changes affect the output."
   ]
  },
  {
   "cell_type": "code",
   "execution_count": null,
   "metadata": {},
   "outputs": [],
   "source": [
    "#end and sep arguments with print examples\n",
    "\n",
    "#below I've overwritten the end argument to be an empty string instead\n",
    "print(\"I want the next output to appear on this line too: \", end='')\n",
    "print(\"Hello world\")\n",
    "\n",
    "#below I've overwritten the sep argument to be an empty string instead\n",
    "#the sep='' removes the space between the $ and the value\n",
    "#properly formatted money example\n",
    "print(\"The total cost is $\", format(num, '.2f'), sep='')\n",
    "                                                        "
   ]
  },
  {
   "cell_type": "markdown",
   "metadata": {},
   "source": [
    "## Differences between the `print` and `input` functions\n",
    "\n",
    "The `print` function allows you to enter as many arguments as you'd like, of whatever data type you would like, all separated by a comma. If you want to output both text and variable/mathematical expression values, you can simply separate them with a comma.\n",
    "\n",
    "However, the `input` function only takes in 1 argument, and that argument must be a string! If you'd like to make the input prompt very specific, it can be helpful to allow the value of a variable to be output to the user as part of the prompt. Since we can only use 1 argument for the input function, we must concatenate (or add (+)) all the strings together that we want to output. See the \"using variables in your input prompt\" example below. "
   ]
  },
  {
   "cell_type": "code",
   "execution_count": null,
   "metadata": {},
   "outputs": [],
   "source": [
    "#Interacting with input and output examples\n",
    "\n",
    "#Getting a string as input  \n",
    "color = input(\"What is your favorite color? \")\n",
    "\n",
    "#Using the value that the user entered as output (using a variable)\n",
    "print(\"Your favorite color is\", color)\n",
    "\n",
    "#Getting an integer as input\n",
    "numPets = int(input(\"How many pets do you have? \"))\n",
    "\n",
    "#Using the user inputted value in a mathematical formula and outputting\n",
    "print(numPets*2)\n",
    "\n",
    "#Using variables in your input prompt\n",
    "numColor = int(input(\"How many of your \" + str(numPets) + \" pets are \" \\\n",
    "                     + color + \"? \")) \n",
    "\n",
    "#Using variables in your output\n",
    "print(numColor, \"of your\", numPets, \"pets are\", color)  "
   ]
  },
  {
   "cell_type": "markdown",
   "metadata": {},
   "source": [
    "## Review of Intro Material\n",
    "\n",
    "__Terminology__\n",
    "* A __literal__ is a piece of data that you type directly into your program's code.(Ex: 6, 9.25, \"Blah blah blah\")\n",
    "* A __variable__ is a placeholder for a piece of data.\n",
    "* Every literal and variable in a program has a data type. \n",
    "\n",
    "__Comments__\n",
    "* Lines that Python ignores completely.\n",
    "* Used to tell a person reading your program what the program is doing.\n",
    "* For any line that has a `#` sign, Python will ignore everything to the right of the `#`. \n",
    "\n",
    "__Key concepts__ \n",
    "* algorithms, variables, data types (int/float/string), comments, literals\n",
    "* Python statements you should understand:\n",
    "<ul>\n",
    "    <li>print</li>\n",
    "    <li>input </li>\n",
    "    <li>math calculations</li>\n",
    "</ul>\n"
   ]
  },
  {
   "cell_type": "markdown",
   "metadata": {},
   "source": [
    "Please do the following:\n",
    "1. Do Lab 01 (lab01) - due by next class\n",
    "2. Project 1 (project01) - due in class on Wed Sept 10"
   ]
  },
  {
   "cell_type": "code",
   "execution_count": null,
   "metadata": {},
   "outputs": [],
   "source": []
  }
 ],
 "metadata": {
  "kernelspec": {
   "display_name": "Python 3",
   "language": "python",
   "name": "python3"
  },
  "language_info": {
   "codemirror_mode": {
    "name": "ipython",
    "version": 3
   },
   "file_extension": ".py",
   "mimetype": "text/x-python",
   "name": "python",
   "nbconvert_exporter": "python",
   "pygments_lexer": "ipython3",
   "version": "3.13.1"
  },
  "varInspector": {
   "cols": {
    "lenName": 16,
    "lenType": 16,
    "lenVar": 40
   },
   "kernels_config": {
    "python": {
     "delete_cmd_postfix": "",
     "delete_cmd_prefix": "del ",
     "library": "var_list.py",
     "varRefreshCmd": "print(var_dic_list())"
    },
    "r": {
     "delete_cmd_postfix": ") ",
     "delete_cmd_prefix": "rm(",
     "library": "var_list.r",
     "varRefreshCmd": "cat(var_dic_list()) "
    }
   },
   "types_to_exclude": [
    "module",
    "function",
    "builtin_function_or_method",
    "instance",
    "_Feature"
   ],
   "window_display": false
  }
 },
 "nbformat": 4,
 "nbformat_minor": 2
}
