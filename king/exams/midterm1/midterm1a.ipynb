{
 "cells": [
  {
   "cell_type": "markdown",
   "id": "standing-heater",
   "metadata": {},
   "source": [
    "# Midterm 1: Alternative Version\n",
    "\n",
    "* **You may not use any other assistance besides the Jupyter Notebook itself.**\n",
    "* Submissions will **lock** at the end of class: be sure you have submitted before that!\n",
    "* If you are having trouble, move on. **Make sure you do the most basic parts of every question.**\n",
    "* Do your best! Ask questions if you need to."
   ]
  },
  {
   "cell_type": "markdown",
   "id": "embedded-german",
   "metadata": {},
   "source": [
    "### Before you begin:\n",
    "\n",
    "\n",
    "\n",
    "Assign a fair numberic (out of 100) to each of the following possiblities:\n",
    "\n",
    "* 0 parts with correct output:\n",
    "* at least 1 part of each question with correct output: \n",
    "* at least 2 parts of each question with correct output:\n",
    "* at least 3 parts of each question with correct output:\n",
    "* all parts of all questions with correct output:\n",
    "\n",
    "Your grade on this portion of the exam will be averaged with your grade on the other portion according to a fair weighting scheme."
   ]
  },
  {
   "cell_type": "markdown",
   "id": "882422a3",
   "metadata": {},
   "source": [
    "### Question 1: Calculating Averages with Functions"
   ]
  },
  {
   "cell_type": "code",
   "execution_count": null,
   "id": "c1fc273c",
   "metadata": {},
   "outputs": [],
   "source": [
    "# Part 1:\n",
    "# Write a function powers(n) which prints out all powers of 2 up to a certain limit n.\n",
    "# Use a while loop. You will need a variable representing the current power of 2, and it must be initialized to 1.\n",
    "# Example: powers(100) should print 1, 2, 4, 8, 16, 32, 64\n",
    "# Hint: If you have a variable representing the CURRENT power of 2, what do you do to it to get the NEXT power of 2?\n",
    "#    Ex, if you have 16, what is the next power and how do you get it?\n"
   ]
  },
  {
   "cell_type": "code",
   "execution_count": null,
   "id": "3019b20f",
   "metadata": {},
   "outputs": [],
   "source": [
    "# Part 2:\n",
    "# Write a function sum_of_powers(n) which adds up and returns the powers of 2 up to a certain limit n.\n",
    "# Example: sum_of_powers(100) should RETURN 127\n",
    "\n"
   ]
  },
  {
   "cell_type": "code",
   "execution_count": null,
   "id": "6179fceb",
   "metadata": {},
   "outputs": [],
   "source": [
    "# Part 3:\n",
    "# Write a function average_of_powers(n) which averages and returns the powers of 2 up to a certain limit n.\n",
    "# Example: average_of_powers(100) should RETURN 18.142857...\n",
    "\n",
    "# testing Part 3\n",
    "answer = average_of_powers(100)\n",
    "print(answer) # should be 18.142857...\n",
    "answer = average_of_powers(1000)\n",
    "print(answer) # should be 204.6\n",
    "answer = average_of_powers(500)\n",
    "print(answer) # should be 113.555..."
   ]
  },
  {
   "cell_type": "markdown",
   "id": "a688b0d1",
   "metadata": {},
   "source": [
    "### Question 2: Bubbles\n",
    "\n",
    "* `open_canvas(width, height)` Opens a new canvas with the given size and displays it. It will be filled with the current background color.\n",
    "\n",
    "* `set_color(color_name)` Given a string like black, blue, etc., will set the current drawing color.\n",
    "\n",
    "* `set_background_color(color_name)` Given a string like black, blue, etc., will set the current background color.\n",
    "\n",
    "* `set_color_rgb(red, blue, green)` Given red, blue, and green between 0 and 255, will set the current drawing color to that value.\n",
    "\n",
    "* `set_background_color_rgb(red, blue, green)` Given red, blue, and green between 0 and 255, will set the current background color to that value.\n",
    "\n",
    "* `set_line_thickness(thickness)` Sets the thickness of the lines that are drawn.\n",
    "\n",
    "* `clear_canvas()` Clears the canvas with the current background color.\n",
    "\n",
    "* `draw_line(x0, y0, x1, y1)` Draws a line between (x0, y0) and (x1, y1).\n",
    "\n",
    "* `draw_polyline(x0, y0, x1, y1, ...)`Draws a sequence of lines where each point is connected to the previous.\n",
    "\n",
    "* `draw_circle(centerx, centery, radius)` Draws a circle at the given point, with the given radius.\n",
    "\n",
    "* `draw_filled_circle(centerx, centery, radius)` Like draw_circle but fills the circle.\n",
    "\n",
    "* `draw_oval(centerx, centery, radiusx, radiusy)` Draws an ellipse at the given center point with the provided radii.\n",
    "\n",
    "* `draw_filled_oval(centerx, centery, radiusx, radiusy)` Like draw_oval but fills the oval.\n",
    "\n",
    "* `draw_rect(x, y, width, height)` Draws a rectangle with upper corner at x, y. \n",
    "\n",
    "* `draw_filled_rect(x, y, width, height)` Like draw_rect but fills the rectangle.\n",
    "\n",
    "* `draw_polygon(x1, y1, x2, y2, ...)` Like draw_polyline but connects the last point to the first.\n",
    "\n",
    "* `draw_filled_polygon(x1, y1, x2, y2, ...)` Like draw_polygon but fills the polygon.\n",
    "\n",
    "* `draw_string(message, x, y, text_size)` Draws the given string centered at x, y with the given text size."
   ]
  },
  {
   "cell_type": "code",
   "execution_count": null,
   "id": "d5aceb1c",
   "metadata": {},
   "outputs": [],
   "source": [
    "# Part 1:\n",
    "# Write a function draw_bubble(), which draws a single bubble of a random radius in a randomly location on the screen.\n",
    "# Use random.randint(a, b) to generate a random number from a to b. \n",
    "# Example: random.randint(100, 400) will generate a reasonable x-coordinate. (why?)\n",
    "# Example: random.randint(10, 30) will generate a reasonable radius.\n",
    "from cs1.graphics import *\n",
    "import random\n",
    "\n",
    "\n",
    "open_canvas(500, 300)\n",
    "draw_bubble()"
   ]
  },
  {
   "cell_type": "code",
   "execution_count": null,
   "id": "24d3e99f",
   "metadata": {},
   "outputs": [],
   "source": [
    "# Part 2:\n",
    "# Write a function draw_bubbles(n) which takes in a number n and uses a loop to draw n bubbles.\n",
    "from cs1.graphics import *\n",
    "\n",
    "open_canvas(500, 300)\n",
    "draw_bubbles(30)"
   ]
  },
  {
   "cell_type": "code",
   "execution_count": null,
   "id": "4b427c2b",
   "metadata": {},
   "outputs": [],
   "source": [
    "# Part 3:\n",
    "# Write a while loop which asks for the user to input a number.\n",
    "# If the user enters a 0, clear the canvas.\n",
    "# If the user enters a number above 0, draw that many bubbles.\n",
    "# If the user enters a -1, the loop should quit.\n",
    "from cs1.graphics import *\n",
    "\n",
    "open_canvas(500, 300)\n"
   ]
  },
  {
   "cell_type": "markdown",
   "id": "66ed8db5",
   "metadata": {},
   "source": [
    "### Question 3: Debugging\n",
    "\n",
    "The following function `max_collatz` is meant to find the biggest number in a Collatz sequence.\n",
    "\n",
    "It uses the helper function `collatz` which calculates the next number in a Collatz sequence.\n",
    "\n",
    "`collatz` **works fines**. Do not modify it.\n",
    "\n",
    "`max_collatz` is broken! Can you fix it?\n",
    "Run the `# tests` cell to test the code."
   ]
  },
  {
   "cell_type": "code",
   "execution_count": null,
   "id": "db19fab9",
   "metadata": {},
   "outputs": [
    {
     "ename": "SyntaxError",
     "evalue": "expected ':' (3282415787.py, line 9)",
     "output_type": "error",
     "traceback": [
      "  \u001b[36mCell\u001b[39m\u001b[36m \u001b[39m\u001b[32mIn[10]\u001b[39m\u001b[32m, line 9\u001b[39m\n\u001b[31m    \u001b[39m\u001b[31mdef max_collatz(n)\u001b[39m\n                      ^\n\u001b[31mSyntaxError\u001b[39m\u001b[31m:\u001b[39m expected ':'\n"
     ]
    }
   ],
   "source": [
    "# Part 1: Make sure the program runs without error.\n",
    "# Part 2: Make sure the program does what it's supposed to.\n",
    "def collatz(n): # this function is correct: do not modify it\n",
    "    if n % 2 == 0:\n",
    "        return n // 2\n",
    "    else:\n",
    "        return 3 * n  + 1\n",
    "\n",
    "def max_collatz(n)\n",
    "    biggest_so_far = 0\n",
    "    while n != 1: # this condition is correct: do not modify it\n",
    "        n = collatz(n) # this line is correct: do not modify it\n",
    "        if n < biggest_so_far:\n",
    "            biggest_so_far == n\n",
    "    print(biggest_so_far)\n",
    "\n",
    "print(max_collatz(10)) # should be 16\n",
    "print(max_collatz(15)) # should be 160\n",
    "print(max_collatz(13)) # should be 40"
   ]
  },
  {
   "cell_type": "markdown",
   "id": "intelligent-japan",
   "metadata": {},
   "source": [
    "# Submitting\n",
    "\n",
    "To submit this portion of the midterm, run the cell below. **Verify that your notebook submitted.**"
   ]
  },
  {
   "cell_type": "code",
   "execution_count": null,
   "id": "c57d3541",
   "metadata": {},
   "outputs": [],
   "source": [
    "# Run this cell to submit\n",
    "from cs1.notebooks import *\n",
    "ok_submit('midterm1alternative.ok')"
   ]
  }
 ],
 "metadata": {
  "kernelspec": {
   "display_name": "Python 3",
   "language": "python",
   "name": "python3"
  },
  "language_info": {
   "codemirror_mode": {
    "name": "ipython",
    "version": 3
   },
   "file_extension": ".py",
   "mimetype": "text/x-python",
   "name": "python",
   "nbconvert_exporter": "python",
   "pygments_lexer": "ipython3",
   "version": "3.13.1"
  },
  "varInspector": {
   "cols": {
    "lenName": 16,
    "lenType": 16,
    "lenVar": 40
   },
   "kernels_config": {
    "python": {
     "delete_cmd_postfix": "",
     "delete_cmd_prefix": "del ",
     "library": "var_list.py",
     "varRefreshCmd": "print(var_dic_list())"
    },
    "r": {
     "delete_cmd_postfix": ") ",
     "delete_cmd_prefix": "rm(",
     "library": "var_list.r",
     "varRefreshCmd": "cat(var_dic_list()) "
    }
   },
   "types_to_exclude": [
    "module",
    "function",
    "builtin_function_or_method",
    "instance",
    "_Feature"
   ],
   "window_display": false
  }
 },
 "nbformat": 4,
 "nbformat_minor": 5
}
