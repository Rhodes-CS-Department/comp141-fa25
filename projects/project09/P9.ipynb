{
 "cells": [
  {
   "cell_type": "code",
   "execution_count": null,
   "id": "0f9fe83a",
   "metadata": {},
   "outputs": [],
   "source": [
    "# Run this cell to log in to okpy.org so that you can submit\n",
    "# at the end of the lab.  If you come back later, you may need to \n",
    "# re-run this cell.\n",
    "from cs1.notebooks import *\n",
    "ok_login('p9.ok')"
   ]
  },
  {
   "cell_type": "markdown",
   "id": "48eb8302",
   "metadata": {},
   "source": [
    "# Project 9: Predator-Prey Simulation\n",
    "\n",
    "Consider a 2D world consisting of empty space, prey, and predators. How much code do we need to get \"interesting\" behavior?\n",
    "\n",
    "You might be surprised!\n",
    "\n",
    "Everything except the visualization of this project is provided for you already. Read through to understand what the code does, and then implement your own visualization code, using 2D lists and dictionaries.\n",
    "\n",
    "Let's start by defining the `state` of our world:\n",
    "- 0s are empty space\n",
    "- 1s are prey\n",
    "- 2s are predators"
   ]
  },
  {
   "cell_type": "code",
   "execution_count": null,
   "id": "50b009cb",
   "metadata": {},
   "outputs": [],
   "source": [
    "example_state = [[0, 1, 0, 1, 0],\n",
    "                 [0, 0, 0, 0, 0],\n",
    "                 [2, 0, 0, 1, 1],\n",
    "                 [0, 0, 0, 1, 2]]\n",
    "# there are 5 prey (1s) and 2 predators (2s)"
   ]
  },
  {
   "cell_type": "markdown",
   "id": "6a5808ad",
   "metadata": {},
   "source": [
    "## World State\n",
    "First things first, let's start randomly generating world states.\n",
    "\n",
    "A random state has:\n",
    "- a height (number of rows)\n",
    "- a width (number of columns)\n",
    "- some prey\n",
    "- some predators\n",
    "\n",
    "You are given a function which generates a random state."
   ]
  },
  {
   "cell_type": "code",
   "execution_count": null,
   "id": "b56f01a8",
   "metadata": {},
   "outputs": [],
   "source": [
    "from simulation import *\n",
    "reload_functions('simulation.py')\n",
    "state = random_state(height=4, width=5, prey=3, predators=2)\n",
    "print_state(state)\n",
    "state = random_state(height=6, width=6, prey=8, predators=6)\n",
    "print_state(state)\n",
    "state = random_state(height=3, width=2, prey=1, predators=1)\n",
    "print_state(state)"
   ]
  },
  {
   "cell_type": "markdown",
   "id": "fcd7a2aa",
   "metadata": {},
   "source": [
    "## Artificial Life\n",
    "Now it's time for the cool stuff: *artificial life*. This is very similar to the garden you did in Project 7.\n",
    "\n",
    "Let's make a few rules. Predators and prey won't even move around at all: they'll just affect their neighbors according to fixed, simple rules:\n",
    "1. Empty cells neighboring prey turn into prey (prey reproduction).\n",
    "2. Prey neighboring predators turn into predators (predation + predator reproduction).\n",
    "3. All predators and prey die with a certain probability, making the cell empty (eg, 10% chance to die for predators, 50% chance to die for prey).\n",
    "\n",
    "You've been given these functions to make things easier which produce the behavior of artificial life. Namely:\n",
    "- `neighbors(state, r, c)` which returns a list of cell values of the (r, c)'s neighbors\n",
    "- `prey_in_neighborhood(state, r, c)` which counts the number of 1s in (r, c)'s neighbors\n",
    "- `predators_in_neighborhood(state, r, c)` which counts the number of 2s in (r, c)'s neighbors\n",
    "- `next_value(state, r, c)` which takes in a `state`, a row `r`, a column `c` and calculates what the value of this cell will be in the next iteration, according to the artificial life rules, using the above functions to do so\n",
    "- `main()` which iterates though the intended number of simulation iterations, calling `next_state(state)` in each iteration"
   ]
  },
  {
   "cell_type": "code",
   "execution_count": null,
   "id": "0c4b9c48",
   "metadata": {},
   "outputs": [],
   "source": [
    "from simulation import *\n",
    "reload_functions('simulation.py')\n",
    "main()"
   ]
  },
  {
   "cell_type": "markdown",
   "id": "7f99f8a4",
   "metadata": {},
   "source": [
    "## Next State\n",
    "\n",
    "You need to finish the function `next_state`, which takes in one `state` and returns a `new_state.\n",
    "\n",
    "The idea is simple:\n",
    "* produce an empty 2D list of the right size (look at the GLOBAL variables for the size of the list)\n",
    "* for each row/col (double for loop), use the `next_value` function to populate the list\n",
    "\n",
    "But you'll need to devise a couple of tests, at least, or else how else do you know your function works?"
   ]
  },
  {
   "cell_type": "code",
   "execution_count": null,
   "id": "a3a235f3",
   "metadata": {},
   "outputs": [],
   "source": [
    "from simulation import *\n",
    "reload_functions('simulation.py')\n",
    "main()\n",
    "\n",
    "example_state = [[0, 1, 0, 1, 0],\n",
    "                 [0, 0, 0, 0, 0],\n",
    "                 [2, 0, 0, 1, 1],\n",
    "                 [0, 0, 0, 1, 2]]\n",
    "new_state = next_state(example_state)\n",
    "# should be: ? mean the cell has a random outcome and could be either 0 or unchanged\n",
    "# [[1, ?, 1, ?, 1],\n",
    "#  [1, 1, 1, 1, 1],\n",
    "#  [?, 0, 1, 2, 2],\n",
    "#  [0, 0, 1, 2, ?]]\n",
    "\n",
    "# make 2 new tests here. \n",
    "# can you tell if your results are correct?"
   ]
  },
  {
   "cell_type": "markdown",
   "id": "076592c3",
   "metadata": {},
   "source": [
    "## Visualization\n",
    "You'll notice it is very difficult to parse the state of the simulation. This is because our minds are more equipped for graphical representation than data displays. So let's make sure we can better visualize the `state`.\n",
    "\n",
    "Write 2 functions in `simulation.py` to help you do this:\n",
    "1. `draw_state(state)`: takes in a state, clears the canvas, and draws each cell\n",
    "2. `draw_cell(x, y, color)`: takes in PIXEL coordinates (eg, (240, 300)) and draws a colored square there (the coordinates can be the center, the top right, bottom left, etc: whatever you choose will determine how you use our drawing functions to draw the cell)\n",
    "\n",
    "\n",
    "Note:\n",
    "- Use a dictionary whose keys are 0, 1, 2 (space, prey, predator) and whose values are colors.\n",
    "- Before calling `draw_state` the very first time, you'll want to call `open_canvas`\n",
    "- `open_canvas` needs a certain height and width in pixels; the height in pixels of a single cell in the visual representation of the simulation is given as the global constant `CELL_LENGTH_PIXELS`. Use this, as well as the global constants `ROWS` and `COLS`, to determine the correct size of the canvas to open.\n",
    "- Each cell you draw needs to be a square whose side lengths are `CELL_LENGTH_PIXELS`.\n",
    "\n",
    "Here's an example of a state (as a 2D list) and its corresponding visualization using black, green, and pink:\n",
    "\n",
    "```\n",
    "state = [[0, 0, 1, 0],\n",
    "         [0, 1, 0, 2],\n",
    "         [0, 1, 1, 0],\n",
    "         [1, 0, 0, 0]]\n",
    "```\n",
    "\n",
    "![One Iteration](sample_visualization.png \"One Iteration\")\n"
   ]
  },
  {
   "cell_type": "code",
   "execution_count": null,
   "id": "fdf536eb",
   "metadata": {},
   "outputs": [],
   "source": [
    "# from simulation import *\n",
    "# reload_functions('simulation.py')\n",
    "\n",
    "open_canvas(64, 64)\n",
    "# draw_circle(10, 10, 10)\n",
    "# draw_cell(30, 30, 'black')\n",
    "# draw_filled_rect(10, 10, 16, 16)\n",
    "# test draw_state:\n",
    "state = [[0, 0, 1, 0],\n",
    "         [0, 1, 0, 2],\n",
    "         [0, 1, 1, 0],\n",
    "         [1, 0, 0, 0]]\n",
    "draw_state(state)\n",
    "input(\"Enter anything to continue: \")\n",
    "\n",
    "state = [[1, 1, 2, 1],\n",
    "         [1, 0, 1, 2],\n",
    "         [1, 1, 2, 1],\n",
    "         [0, 1, 1, 1]]\n",
    "draw_state(state)\n",
    "input(\"Enter anything to continue: \")\n",
    "\n",
    "state = [[0, 2, 2, 2],\n",
    "         [1, 1, 2, 2],\n",
    "         [1, 2, 2, 2],\n",
    "         [1, 2, 2, 2]]\n",
    "draw_state(state)\n",
    "input(\"Enter anything to continue: \")"
   ]
  },
  {
   "cell_type": "markdown",
   "id": "9aa2c769",
   "metadata": {},
   "source": [
    "## Put it All Together\n",
    "\n",
    "Now modify `main()` so that instead of printing the state, it draws the state. \n",
    "\n",
    "Notice the calls to `input` after each `draw_state` call above. You can add these to prevent further execution of the program until the user is ready to move on. Try including/exluding these in `main` to see if the program is more \"usable\".\n",
    "\n",
    "Play around with the parameters to see if you can get any interesting behaviors!"
   ]
  },
  {
   "cell_type": "code",
   "execution_count": null,
   "id": "68b47dbc",
   "metadata": {},
   "outputs": [],
   "source": [
    "# Run your full program. \n",
    "%run simulation.py"
   ]
  },
  {
   "cell_type": "code",
   "execution_count": null,
   "id": "55515f89",
   "metadata": {},
   "outputs": [],
   "source": [
    "# Run this cell to submit.\n",
    "from cs1.notebooks import *\n",
    "ok_submit('p9.ok')"
   ]
  },
  {
   "cell_type": "code",
   "execution_count": null,
   "id": "45f96251",
   "metadata": {},
   "outputs": [],
   "source": []
  }
 ],
 "metadata": {
  "kernelspec": {
   "display_name": "Python 3 (ipykernel)",
   "language": "python",
   "name": "python3"
  },
  "language_info": {
   "codemirror_mode": {
    "name": "ipython",
    "version": 3
   },
   "file_extension": ".py",
   "mimetype": "text/x-python",
   "name": "python",
   "nbconvert_exporter": "python",
   "pygments_lexer": "ipython3",
   "version": "3.11.4"
  },
  "varInspector": {
   "cols": {
    "lenName": 16,
    "lenType": 16,
    "lenVar": 40
   },
   "kernels_config": {
    "python": {
     "delete_cmd_postfix": "",
     "delete_cmd_prefix": "del ",
     "library": "var_list.py",
     "varRefreshCmd": "print(var_dic_list())"
    },
    "r": {
     "delete_cmd_postfix": ") ",
     "delete_cmd_prefix": "rm(",
     "library": "var_list.r",
     "varRefreshCmd": "cat(var_dic_list()) "
    }
   },
   "types_to_exclude": [
    "module",
    "function",
    "builtin_function_or_method",
    "instance",
    "_Feature"
   ],
   "window_display": false
  }
 },
 "nbformat": 4,
 "nbformat_minor": 5
}
