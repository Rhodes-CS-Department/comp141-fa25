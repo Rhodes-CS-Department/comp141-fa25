{
 "cells": [
  {
   "cell_type": "markdown",
   "id": "1034e004",
   "metadata": {},
   "source": [
    "# Project 5: Tanchi Boska (\"Corn Game\")\n",
    "\n",
    "## Introduction\n",
    "\n",
    "Memphis, TN, is located on the so-called \"Fourth Bluff\" of the traditional Chickasaw homelands. The Chickasaw traditionally occupied parts of north Misssissippi, Alabama, and west Tennessee. The Choctaw are a very closely related group of people who traditionally occupied parts of Mississippi and Alabama. These groups had rich political, economic, agricultural, and spiritual practices, including matrilineal inheritance, communal crop management, lunar calendars, and games which could prevent or substitute war.\n",
    "\n",
    "## Tanchi Boska\n",
    "\n",
    "Gambling games, with corn or peach pits or bone dice were very common among the Choctaw and Chickasaw. One simple game that the Choctaw played was called Tanchi Boska, the \"corn game\", which was a simple gambling game, similar to throwing dice. Here is an excerpt from the blog of a hobbyist researcher:\n",
    "\n",
    "*According to both Bushnell and Stewart Culin, the Choctaws had a game which resembled dice, and was called by the Choctaws “tanche boska” (or corn game). Bushnell’s description says in part: “This (game) was played with either five or seven kernels of corn blackened on one side. Holding all the kernels in one hand, the player tossed them onto the ground, each player having three throws. The one making the greatest number of points in the aggregate won. Each ‘black’ turned up counted one point; all ‘white’ up counted either five or seven points, according to the number of kernels used. Any number of persons could play, but usually there were only two.”*\n",
    "\n",
    "*Culin, in his description of the game, insists that it was played with eight grains of corn; so we can assume that the number of grains used were variable.*\n",
    "\n",
    "## Rules\n",
    "\n",
    "Let's enumerate the rules of this game:\n",
    "\n",
    "1. It is a 2-player game\n",
    "2. The players agree on how many corn kernels they will throw. \n",
    "3. Black kernels are 1 point each. The players agree what white kernels are worth. \n",
    "4. On a player's turn, they throw their corn kernels. Some will be \"black\" and some will be \"white\".\n",
    "5. Players count their score in each round and add them up for their total score at the end of the game.\n",
    "6. The player with the most points wins.\n",
    "\n",
    "## Goal:\n",
    "\n",
    "Write an interactive program that allows a player to play this game against the computer. Here's example output for the program:\n",
    "\n",
    "\n",
    "<pre>\n",
    "<img src=example_images/title.png>\n",
    "\n",
    "How many kernels will you play with? 7\n",
    "How many points is a white kernel worth? 5\n",
    "\n",
    "<img src=example_images/round_start.png>\n",
    "\n",
    "Player 1: press Enter to throw kernels.\n",
    "\n",
    "<img src=example_images/player1turn.png>\n",
    "\n",
    "Player 2: press Enter to throw kernels.\n",
    "\n",
    "<img src=example_images/player2turn.png>\n",
    "\n",
    "Press enter to finish the round.\n",
    "\n",
    "<img src=example_images/game_over.png>\n",
    "\n",
    "</pre>"
   ]
  },
  {
   "cell_type": "markdown",
   "id": "8e6ad37f",
   "metadata": {},
   "source": [
    "## How to write your program:\n",
    "\n",
    "We will write a series of functions that handle everything. You will **incrementally** develop this game, implementing bite-sized chunks at a time. Pay attention to our use of **functions** to build something complex out of simple parts.\n",
    "\n",
    "You have been provided with a **complete** `main` and `play_game` function. You do not need to modify these unless you know what you are doing. That said, **you should read them to understand what they do.**\n",
    "\n",
    "\n",
    "## Testing your program\n",
    "\n",
    "Each time you write a function, you will write tests to make sure your function works as intended. This is called **unit testing**. It lets you catch problems early and isolate them to singular functions, which makes testing and debugging easier overall.\n",
    "\n",
    "Remember to either **name your functions well** or include a **comment** that explains what it does."
   ]
  },
  {
   "cell_type": "markdown",
   "id": "723b63d4",
   "metadata": {},
   "source": [
    "# Step 0: Complete Header in `tanchi_boska.py`"
   ]
  },
  {
   "cell_type": "markdown",
   "id": "d43b1e71",
   "metadata": {},
   "source": [
    "# Step 1: Draw the Title\n",
    "\n",
    "Complete the `draw_title` function, which should **NOT** open a canvas, but should draw your own title screen.\n",
    "\n",
    "<img src=example_images/title.png>"
   ]
  },
  {
   "cell_type": "markdown",
   "id": "8d0d35f5",
   "metadata": {},
   "source": [
    "**Test your code below:**"
   ]
  },
  {
   "cell_type": "code",
   "execution_count": null,
   "id": "3714aaae",
   "metadata": {},
   "outputs": [],
   "source": [
    "# Reload all your functions.\n",
    "from cs1.notebooks import *\n",
    "from cs1.graphics import *\n",
    "reload_functions(\"tanchi_boska.py\")\n",
    "\n",
    "open_canvas(500, 200)\n",
    "draw_title()"
   ]
  },
  {
   "cell_type": "markdown",
   "id": "ccf89736",
   "metadata": {},
   "source": [
    "# Step 2: Draw a Kernel of Any Color\n",
    "\n",
    "Complete the `draw_kernel(x, y, color)` function which draws a single kernel at position `x, y` with color `color`.\n",
    "\n",
    "**Test your code below:**"
   ]
  },
  {
   "cell_type": "code",
   "execution_count": null,
   "id": "1c8af511",
   "metadata": {},
   "outputs": [],
   "source": [
    "# Reload all your functions.\n",
    "from cs1.notebooks import *\n",
    "from cs1.graphics import *\n",
    "reload_functions(\"tanchi_boska.py\")\n",
    "\n",
    "open_canvas(500, 200)\n",
    "draw_kernel(40, 40, \"black\")\n",
    "draw_kernel(100, 100, \"white\")\n",
    "draw_kernel(120, 80, \"blue\")"
   ]
  },
  {
   "cell_type": "markdown",
   "id": "acf874ff",
   "metadata": {},
   "source": [
    "# Step 3: Draw a Round\n",
    "\n",
    "Complete the `draw_round` function which should **NOT** open a canvas, but should:\n",
    "* clears the canvas\n",
    "* draw the round number at the top of the canvas\n",
    "* draw white kernels in a row (hint: use a for loop)\n",
    "* draw black kernels in a row (hint: use a for loop)\n",
    "* **DOES NOT** draw the scores\n",
    "\n",
    "<img src=example_images/round_start.png>\n",
    "\n",
    "<img src=example_images/player1turn.png>"
   ]
  },
  {
   "cell_type": "markdown",
   "id": "b972a1c6",
   "metadata": {},
   "source": [
    "**Test your code below:**"
   ]
  },
  {
   "cell_type": "code",
   "execution_count": null,
   "id": "7d3018d5",
   "metadata": {},
   "outputs": [],
   "source": [
    "# Reload all your functions.\n",
    "from cs1.notebooks import *\n",
    "reload_functions(\"tanchi_boska.py\")\n",
    "\n",
    "draw_round(10, 5, 5)\n",
    "input(\"press enter\") # this is so you can see the result above before redrawing\n",
    "draw_round(1, 8, 2)\n",
    "input(\"press enter\")\n",
    "draw_round(3, 0, 6)"
   ]
  },
  {
   "cell_type": "markdown",
   "id": "f471dfa7",
   "metadata": {},
   "source": [
    "## Step 4: Draw the Scores\n",
    "\n",
    "Since drawing a round clears the canvas, if we want the scores, we have to draw them back every time we draw a round. That means `draw_scores(score1, score2)`:\n",
    "* draws `score1` at the bottom left\n",
    "* draws `score2` at the bottom right\n",
    "\n",
    "<img src=example_images/round_start.png>\n",
    "\n",
    "<img src=example_images/player1turn.png>\n",
    "\n",
    "**Test your code below:**"
   ]
  },
  {
   "cell_type": "code",
   "execution_count": null,
   "id": "5273e1c0",
   "metadata": {},
   "outputs": [],
   "source": [
    "# Reload all your functions.\n",
    "from cs1.notebooks import *\n",
    "from cs1.graphics import *\n",
    "reload_functions(\"tanchi_boska.py\")\n",
    "\n",
    "open_canvas(500, 200)\n",
    "draw_scores(100, 200) # you should see NOTHING but the scores"
   ]
  },
  {
   "cell_type": "markdown",
   "id": "4de59335",
   "metadata": {},
   "source": [
    "## Step 5: Game Over\n",
    "\n",
    "All that's left is to draw the winner of the game once the game is over. You are welcome to change this function to display the winning score as well as the winning player.\n",
    "\n",
    "<img src=example_images/game_over.png>\n",
    "\n",
    "**Test your code below:**"
   ]
  },
  {
   "cell_type": "code",
   "execution_count": null,
   "id": "9ffb0d32",
   "metadata": {},
   "outputs": [],
   "source": [
    "# Reload all your functions.\n",
    "from cs1.notebooks import *\n",
    "from cs1.graphics import *\n",
    "reload_functions(\"tanchi_boska.py\")\n",
    "\n",
    "open_canvas(500, 200)\n",
    "game_over(\"Player 1\") # you should see NOTHING but the game over message when Player 1 wins\n",
    "clear_canvas()\n",
    "game_over(\"Player 2\")\n",
    "clear_canvas()\n",
    "game_over(\"Tie\")\n",
    "clear_canvas()\n",
    "game_over(\"My Cat\")"
   ]
  },
  {
   "cell_type": "code",
   "execution_count": null,
   "id": "e9d02900",
   "metadata": {},
   "outputs": [],
   "source": []
  }
 ],
 "metadata": {
  "kernelspec": {
   "display_name": "Python 3",
   "language": "python",
   "name": "python3"
  },
  "language_info": {
   "codemirror_mode": {
    "name": "ipython",
    "version": 3
   },
   "file_extension": ".py",
   "mimetype": "text/x-python",
   "name": "python",
   "nbconvert_exporter": "python",
   "pygments_lexer": "ipython3",
   "version": "3.11.9"
  },
  "varInspector": {
   "cols": {
    "lenName": 16,
    "lenType": 16,
    "lenVar": 40
   },
   "kernels_config": {
    "python": {
     "delete_cmd_postfix": "",
     "delete_cmd_prefix": "del ",
     "library": "var_list.py",
     "varRefreshCmd": "print(var_dic_list())"
    },
    "r": {
     "delete_cmd_postfix": ") ",
     "delete_cmd_prefix": "rm(",
     "library": "var_list.r",
     "varRefreshCmd": "cat(var_dic_list()) "
    }
   },
   "types_to_exclude": [
    "module",
    "function",
    "builtin_function_or_method",
    "instance",
    "_Feature"
   ],
   "window_display": false
  }
 },
 "nbformat": 4,
 "nbformat_minor": 5
}
