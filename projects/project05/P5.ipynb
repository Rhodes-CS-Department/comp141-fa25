{
 "cells": [
  {
   "cell_type": "markdown",
   "id": "1034e004",
   "metadata": {},
   "source": [
    "# Project 5: Tanchi Boska (\"Corn Game\")\n",
    "\n",
    "## Introduction\n",
    "\n",
    "Memphis, TN, is located on the so-called \"Fourth Bluff\" of the traditional Chickasaw homelands. The Chickasaw traditionally occupied parts of north Misssissippi, Alabama, and west Tennessee. The Choctaw are a very closely related group of people who traditionally occupied parts of Mississippi and Alabama. These groups had rich political, economic, agricultural, and spiritual practices, including matrilineal inheritance, communal crop management, lunar calendars, and games which could prevent or substitute war.\n",
    "\n",
    "## Tanchi Boska\n",
    "\n",
    "Gambling games, with corn or peach pits or bone dice were very common among the Choctaw and Chickasaw. One simple game that the Choctaw played was called Tanchi Boska, the \"corn game\", which was a simple gambling game, similar to throwing dice. Here is an excerpt from the blog of a hobbyist researcher:\n",
    "\n",
    "*According to both Bushnell and Stewart Culin, the Choctaws had a game which resembled dice, and was called by the Choctaws “tanche boska” (or corn game). Bushnell’s description says in part: “This (game) was played with either five or seven kernels of corn blackened on one side. Holding all the kernels in one hand, the player tossed them onto the ground, each player having three throws. The one making the greatest number of points in the aggregate won. Each ‘black’ turned up counted one point; all ‘white’ up counted either five or seven points, according to the number of kernels used. Any number of persons could play, but usually there were only two.”*\n",
    "\n",
    "*Culin, in his description of the game, insists that it was played with eight grains of corn; so we can assume that the number of grains used were variable.*\n",
    "\n",
    "## Rules\n",
    "\n",
    "Let's enumerate the rules of this game:\n",
    "\n",
    "1. It is a 2-player game\n",
    "2. The players agree on how many corn kernels they will throw. \n",
    "3. The players agree on how many rounds to play.\n",
    "4. Black kernels are 1 point each. The players agree what white kernels are worth. \n",
    "5. On a player's turn, they throw their corn kernels. Some will be \"black\" and some will be \"white\".\n",
    "6. Players count their score in each round and add them up for their total score at the end of the game.\n",
    "7. The player with the most points wins.\n",
    "\n",
    "## Goal:\n",
    "\n",
    "Write an interactive program that allows a player to play this game against the computer. Here's example output for the program:\n",
    "\n",
    "\n",
    "<pre>\n",
    "--- TANCHI BOSKA ---\n",
    "--- the corn game --- \n",
    "\n",
    "How many kernels will you play with? 8\n",
    "How many rounds will you play? 3\n",
    "How many points is a white kernel worth? 5\n",
    "\n",
    "- ROUND 1 -\n",
    "Player 1, it is your turn. Type 'throw' to throw your kernels: throw\n",
    "You threw: 6 black kernels, 2 white kernels\n",
    "You scored: 16 points\n",
    "\n",
    "Player 2, it is your turn.\n",
    "You threw: 3 black kernels, 5 white kernels\n",
    "You scored: 28 points\n",
    "\n",
    "The score is:\n",
    "16 to 28\n",
    "\n",
    "- ROUND 2 -\n",
    "Player 1, it is your turn. Type 'throw' to throw your kernels: throw\n",
    "You threw: 4 black kernels, 4 white kernels\n",
    "You scored: 24 points\n",
    "\n",
    "Player 2, it is your turn.\n",
    "You threw: 7 black kernels, 1 white kernels\n",
    "You scored: 12 points\n",
    "\n",
    "The score is:\n",
    "40 to 40\n",
    "\n",
    "- ROUND 3 -\n",
    "Player 1, it is your turn. Type 'throw' to throw your kernels: throw\n",
    "You threw: 5 black kernels, 3 white kernels\n",
    "You scored: 20 points\n",
    "\n",
    "Player 2, it is your turn.\n",
    "You threw: 4 black kernels, 4 white kernels\n",
    "You scored: 24 points\n",
    "\n",
    "The score is:\n",
    "60 to 64\n",
    "\n",
    "- FINAL SCORE -\n",
    "60 to 64\n",
    "\n",
    "PLAYER 2 WINS!!!\n",
    "</pre>"
   ]
  },
  {
   "cell_type": "markdown",
   "id": "8e6ad37f",
   "metadata": {},
   "source": [
    "## How to write your program:\n",
    "\n",
    "We will write a series of functions that handles everything, including a `main` function which handles the main game loop, asking for player inputs and keeping track of rounds and winners.\n",
    "\n",
    "You will **incrementally** develop this game, implementing bite-sized chunks at a time. Pay attention to our use of **functions** to build something complex out of simple parts.\n",
    "\n",
    "Here is a list of functions you will need:\n",
    "- a `main` function which sets up the necessary variables, controls the main game loop, and \n",
    "- a function `validate_user_input` which validates that a user types \"throw\", prompting them to re-enter their input if they say anything but \"throw\"\n",
    "- a function `take_turn` which simulates throwing corn kernels, randomly deciding how many are black and white\n",
    "- a function `take_player_turn` which validates that the user wants to take their turn and then takes their turn\n",
    "- a function `score` which takes in the number of black and white kernels and returns the score\n",
    "- a function `display_winner` which takes the scores at the end of the game and decides and displays the winner\n",
    "\n",
    "## Testing your program\n",
    "\n",
    "Each time you write a function, you will write tests to make sure your function works as intended. This is called **unit testing**. It lets you catch problems early and isolate them to singular functions, which makes testing and debugging easier overall.\n",
    "\n",
    "Remember to either **name your functions well** or include a **comment** that explains what it does."
   ]
  },
  {
   "cell_type": "markdown",
   "id": "723b63d4",
   "metadata": {},
   "source": [
    "## Step 0: Complete Header in `tanchi_boska.py`"
   ]
  },
  {
   "cell_type": "markdown",
   "id": "197f1e1e",
   "metadata": {},
   "source": [
    "## Step 1: Write a scoring function\n",
    "\n",
    "Write a function which takes in a number of black kernels, white kernels, and how many points the white kernels are worth and returns the score for that throw.\n",
    "\n",
    "For example: 5 black kernels are 5 points and 5 white kernels at 5 points each are worth 25 points for a total of 30 points\n",
    "\n",
    "Here is a **contract** for the scoring function. It tells you what the function takes in and what the function returns.\n",
    "\n",
    "`score(black, white, points_for_white) -> number_of_points`"
   ]
  },
  {
   "cell_type": "markdown",
   "id": "d2d1b8b0",
   "metadata": {},
   "source": [
    "**Test your code below:**"
   ]
  },
  {
   "cell_type": "code",
   "execution_count": null,
   "id": "4efd753c",
   "metadata": {},
   "outputs": [],
   "source": [
    "# Reload all your functions.\n",
    "from cs1.notebooks import *\n",
    "reload_functions(\"tanchi_boska.py\")\n",
    "\n",
    "print(score(5, 5, 5)) # 30\n",
    "print(score(1, 8, 6)) # 49"
   ]
  },
  {
   "cell_type": "code",
   "execution_count": null,
   "id": "922479da",
   "metadata": {},
   "outputs": [],
   "source": [
    "# test the scoring function\n",
    "from cs1.notebooks import *\n",
    "reload_functions('tanchi_boska.py')\n",
    "ok_runtests('p5.ok', 'q1')"
   ]
  },
  {
   "cell_type": "markdown",
   "id": "94c55a00",
   "metadata": {},
   "source": [
    "## Step 2: Ask the player to \"throw\"\n",
    "\n",
    "On the player's turn, the program should prompt the user to say \"throw\". Once they say \"throw\", the program will take their turn for them. If they do not say \"throw\", they should be prompted again, until they do say \"throw\".\n",
    "\n",
    "This is unnecessarily simple and not strictly necessary for the game to \"work\", but in general, waiting for the user to say the right thing before the program moves on is important to know about, and this is just practice.\n",
    "\n",
    "The function should be called something like `validate_user_input` with no arguments and should use a `while` loop to wait for the user to say \"throw\"."
   ]
  },
  {
   "cell_type": "markdown",
   "id": "21a91db6",
   "metadata": {},
   "source": [
    "**Test your code below:**"
   ]
  },
  {
   "cell_type": "code",
   "execution_count": null,
   "id": "d06d8b8e",
   "metadata": {},
   "outputs": [],
   "source": [
    "# Reload all your functions.\n",
    "from cs1.notebooks import *\n",
    "reload_functions(\"tanchi_boska.py\")\n",
    "\n",
    "print(validate_user_input()) # should keep asking for input until the user types \"throw\""
   ]
  },
  {
   "cell_type": "markdown",
   "id": "293addda",
   "metadata": {},
   "source": [
    "## Step 3: Taking Turns\n",
    "\n",
    "The player and the computer have different behaviors: the player needs to type the right thing in, but the computer should take its turn without hesitating. If we write these different behaviors as functions, we can re-use them and even modify our game later to be a \"2-player\" game instead of a \"player vs computer\" game.\n",
    "\n",
    "First, write a function according to the following **contract**:\n",
    "\n",
    "`take_turn(kernels_to_throw, points_for_white) -> number_of_points`\n",
    "\n",
    "This function should do three things: 1) randomly decide how many kernels are black, 2) print out the results of the random throw, 3) call, print, and return your `score` function's calculated score.\n",
    "\n",
    "This function is all you need for the computer turn.\n",
    "\n",
    "For the player turn, you will want a very similar function `take_player_turn` which: 1) calls `validate_user_input`, 2) calls and returns `take_turn`."
   ]
  },
  {
   "cell_type": "markdown",
   "id": "8d0d35f5",
   "metadata": {},
   "source": [
    "**Test your code below:**"
   ]
  },
  {
   "cell_type": "code",
   "execution_count": null,
   "id": "01ec82c2",
   "metadata": {},
   "outputs": [],
   "source": [
    "# Reload all your functions.\n",
    "from cs1.notebooks import *\n",
    "reload_functions(\"tanchi_boska.py\")\n",
    "\n",
    "print(take_turn(8, 5)) # should print the results of the turn (how many black and white kernels and how many points were scored)\n",
    "# must also RETURN the score, as well as DISPLAYING the score\n",
    "## example:\n",
    "## You threw: 4 black kernels and 4 white kernels.\n",
    "## You score: 24 points\n",
    "## 24\n",
    "print(take_player_turn(8, 5)) # as above, but should wait for the user to type \"throw\"\n",
    "## example:\n",
    "## Type 'throw' to take your turn: 'throw'\n",
    "## You threw: 4 black kernels and 4 white kernels.\n",
    "## You score: 24 points\n",
    "## 24"
   ]
  },
  {
   "cell_type": "markdown",
   "id": "f471dfa7",
   "metadata": {},
   "source": [
    "## Step 4: Displaying the winner\n",
    "\n",
    "Write a function which takes the points for player 1 and player 2 and decides and displays the winner."
   ]
  },
  {
   "cell_type": "markdown",
   "id": "bf92c8b7",
   "metadata": {},
   "source": [
    "**Test your code below:**"
   ]
  },
  {
   "cell_type": "code",
   "execution_count": null,
   "id": "5273e1c0",
   "metadata": {},
   "outputs": [],
   "source": [
    "# Reload all your functions.\n",
    "from cs1.notebooks import *\n",
    "reload_functions(\"tanchi_boska.py\")\n",
    "\n",
    "print(display_winner(30, 20))\n",
    "# example:\n",
    "## PLAYER 1 WINS!!!"
   ]
  },
  {
   "cell_type": "markdown",
   "id": "4de59335",
   "metadata": {},
   "source": [
    "## Step 5: Putting it all together\n",
    "\n",
    "If you did everything so far, all we need to do is connect everything together and let the `main` loop play the game for the right number of rounds. Here is what `main` should do:\n",
    "1. Ask for the number of rounds.\n",
    "2. Ask for the number of kernels.\n",
    "3. Ask for the number of points a white kernel is worth.\n",
    "4. While there are rounds left in the game:\n",
    "    - Take the player's turn\n",
    "    - Take the computer's turn\n",
    "    - Update/remember their scores (what do the `take_turn` functions return?)\n",
    "5. Display the final score.\n",
    "6. Decide/display the winner."
   ]
  },
  {
   "cell_type": "code",
   "execution_count": null,
   "id": "9ffb0d32",
   "metadata": {},
   "outputs": [],
   "source": [
    "# Run this cell to run your program.\n",
    "%run tanchi_boska.py"
   ]
  },
  {
   "cell_type": "code",
   "execution_count": null,
   "id": "e9d02900",
   "metadata": {},
   "outputs": [],
   "source": [
    "# Run this cell to submit.\n",
    "from cs1.notebooks import *\n",
    "ok_submit('project-5.ok')"
   ]
  }
 ],
 "metadata": {
  "kernelspec": {
   "display_name": "Python 3 (ipykernel)",
   "language": "python",
   "name": "python3"
  },
  "language_info": {
   "codemirror_mode": {
    "name": "ipython",
    "version": 3
   },
   "file_extension": ".py",
   "mimetype": "text/x-python",
   "name": "python",
   "nbconvert_exporter": "python",
   "pygments_lexer": "ipython3",
   "version": "3.11.4"
  },
  "varInspector": {
   "cols": {
    "lenName": 16,
    "lenType": 16,
    "lenVar": 40
   },
   "kernels_config": {
    "python": {
     "delete_cmd_postfix": "",
     "delete_cmd_prefix": "del ",
     "library": "var_list.py",
     "varRefreshCmd": "print(var_dic_list())"
    },
    "r": {
     "delete_cmd_postfix": ") ",
     "delete_cmd_prefix": "rm(",
     "library": "var_list.r",
     "varRefreshCmd": "cat(var_dic_list()) "
    }
   },
   "types_to_exclude": [
    "module",
    "function",
    "builtin_function_or_method",
    "instance",
    "_Feature"
   ],
   "window_display": false
  }
 },
 "nbformat": 4,
 "nbformat_minor": 5
}
