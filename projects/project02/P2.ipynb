{
 "cells": [
  {
   "cell_type": "code",
   "execution_count": null,
   "metadata": {},
   "outputs": [],
   "source": [
    "# Run this cell to log in to okpy.org so that you can submit\n",
    "# at the end of the project.\n",
    "from cs1.notebooks import *\n",
    "ok_login('p2.ok')"
   ]
  },
  {
   "cell_type": "markdown",
   "metadata": {},
   "source": [
    "# Project 2: Resource Consumption Calculator\n",
    "\n",
    "## Computing for the Social Good\n",
    "\n",
    "Understanding technology's potential for good (and harm) is one of the learning goals for this class.   We should understand the role that computing plays in responding to social, ecological, political, and other challenges.  As you use computer science in the future, we hope you’ll analyze each situation with an eye for the ethics and potential consequences. \n",
    "\n",
    "__We will use Python to answer the following questions:__\n",
    "* How many \"full-sized\" power plants are required for a given entity\n",
    "* How many \"Memphis aquifers\" are required for a given entity\n",
    "* How do two different entities compare in their consumption"
   ]
  },
  {
   "cell_type": "markdown",
   "metadata": {},
   "source": [
    "# Programming Assingment\n",
    "\n",
    "Using **functions** and **if statements**, write a program which lets the user choose one of three options:\n",
    "* Given consumption per household and number of households, calculate total consumption.\n",
    "* Given power demand and water consumption for a single entity, calculate total consumption.\n",
    "* Compare the consumption of two entities.\n",
    "\n",
    "An \"entity\" could be: a city, a town, a neighborhood, a factory, etc. For example, the Ford Blue Oval factory doesn't correspond to a \"number of households\", but maybe you could find the total power (in MW) and water (in gallons) demand.\n",
    "\n",
    "The program will compute the number of average natural gas power plants as well as number of solar panels required to power the entity, and it will calculate how many years it would take to deplete the Memphis aquifer."
   ]
  },
  {
   "cell_type": "markdown",
   "metadata": {},
   "source": [
    "### Example 1\n",
    "\n",
    "<pre>\n",
    "What is the name of the entity in question?  <b>Rhodes</b>\n",
    "\n",
    "Choose an option:\n",
    "  (1) I have the consumption per household (KWh, gallons) and number of households.\n",
    "  (2) I have the entity's maximum power and water demand (MW, gallons).\n",
    "  (3) I want to compare two entities.\n",
    "<b>1</b>\n",
    "\n",
    "Enter daily consumption per household (KWh): <b>1000</b>\n",
    "\n",
    "Enter gallons of water consumed per day: <b>100</b>\n",
    "\n",
    "Enter the number of households: <b>4000</b>\n",
    "\n",
    "Rhodes consumes 99999 MWh and 99999 gallons per year.\n",
    "\n",
    "That is equivalent to 10 natural gas power plants or 10000 solar panels.\n",
    "\n",
    "Without replenishment, Rhodes would consume the entire Memphis aquifer in 999999 years.\n",
    "</pre>"
   ]
  },
  {
   "cell_type": "markdown",
   "metadata": {},
   "source": [
    "### Example 2\n",
    "\n",
    "<pre>\n",
    "What is the name of the entity in question?  <b>Colossus Supercomputer</b>\n",
    "\n",
    "Choose an option:\n",
    "  (1) I have the consumption per household (KWh, gallons) and number of households.\n",
    "  (2) I have the entity's maximum power and water demand (MW, gallons).\n",
    "  (3) I want to compare two entities.\n",
    "<b>2</b>\n",
    "\n",
    "Maximum Power Demand (MW): <b>100</b>\n",
    "\n",
    "Maximum Water Demand (gallons per day): <b>1000</b>\n",
    "\n",
    "Colossus Supercomputer consumes 99999 MWh and 99999 gallons per year.\n",
    "\n",
    "That is equivalent to 10 natural gas power plants or 10000 solar panels.\n",
    "\n",
    "Without replenishment, Colossus Supercomputer would consume the entire Memphis aquifer in 999999 years."
   ]
  },
  {
   "cell_type": "markdown",
   "metadata": {},
   "source": [
    "### Example 3\n",
    "\n",
    "<pre>\n",
    "What is the name of the entity in question?  <b>Memphis</b>\n",
    "\n",
    "Choose an option:\n",
    "  (1) I have the consumption per household (KWh, gallons) and number of households.\n",
    "  (2) I have the entity's maximum power and water demand (MW, gallons).\n",
    "  (3) I want to compare two entities.\n",
    "<b>2</b>\n",
    "\n",
    "What is the name of the second entity? <b>Colossus Supercomputer</b>\n",
    "\n",
    "Total Power Plants for Memphis: <b>2</b>\n",
    "\n",
    "Total Power Plants for Colossus Supercomputer: <b>1</b>\n",
    "\n",
    "Gallons per Day for Memphis: <b>10000</b>\n",
    "\n",
    "Gallons per Day for Colossus Supercomputer: <b>3000</b>\n",
    "\n",
    "Colossus Supercomputer requires 0.5 times as many power plants and 0.3 times as much water as Memphis."
   ]
  },
  {
   "cell_type": "markdown",
   "metadata": {},
   "source": [
    "## Testing your program\n",
    "\n",
    "You now have all the information necessary to write your program.  Open `consumption.py` in the `project02` directory, and write your code there.  Don't forget to fill in the header information.\n",
    "\n",
    "As you are writing your program, you can test it by running the cell below. You should test your program frequently, even before you reach the end of writing all the code for the assignment. This will help you find bugs faster.  \n",
    "\n",
    "When you think your program works in all situations, run a few tests below."
   ]
  },
  {
   "cell_type": "code",
   "execution_count": null,
   "metadata": {},
   "outputs": [],
   "source": [
    "# Run this cell to run your program.  \n",
    "# Important: Do not type your program here.  Write your program in the payday.py file.\n",
    "%run consumption.py"
   ]
  },
  {
   "cell_type": "markdown",
   "metadata": {},
   "source": [
    "## Computing for the social good\n",
    "\n",
    "Memphis is in high demand these days! Read about the Colossus Supercomputer in South Memphis. Try to find good estimates for its power (MW) and water (gallons per day) consumption (cite your sources!), and try to answer the following questions:\n",
    "\n",
    "1. How much energy does the Colossus Supercomputer consume compared to all of Memphis? Is it reasonable that it could affect energy prices for Memphian)s?\n",
    "\n",
    "2. How much water does the Colossus Supercomputer consume compared to all of Memphis? Is it reasonable that it could affect water prices for Memphians?"
   ]
  },
  {
   "cell_type": "code",
   "execution_count": null,
   "metadata": {},
   "outputs": [],
   "source": [
    "# Use this cell to run your program using Option 1\n",
    "%run consumption.py"
   ]
  },
  {
   "cell_type": "code",
   "execution_count": null,
   "metadata": {},
   "outputs": [],
   "source": [
    "# Use this cell to run your program using Option 2 \n",
    "%run consumption.py"
   ]
  },
  {
   "cell_type": "code",
   "execution_count": null,
   "metadata": {},
   "outputs": [],
   "source": [
    "# Use this cell to run your program using Option 3 \n",
    "%run consumption.py"
   ]
  },
  {
   "cell_type": "markdown",
   "metadata": {},
   "source": [
    "__Put your answers here:__ (Double click to edit this Markdown cell.)\n",
    "\n",
    "Question 1: \n",
    "\n",
    "Question 2:"
   ]
  },
  {
   "cell_type": "markdown",
   "metadata": {},
   "source": [
    "## Submitting your program\n",
    "\n",
    "When you are confident your program works, and you have answered the two questions above, you may submit using the cell below."
   ]
  },
  {
   "cell_type": "code",
   "execution_count": null,
   "metadata": {},
   "outputs": [],
   "source": [
    "# Run this cell to submit.\n",
    "# If you get an error message saying that name 'ok' is not defined, you need to re-run \n",
    "# the very first code cell at the top of this notebook - it will log you into okpy, then you can \n",
    "# scroll back down here and submit.\n",
    "# Submit as frequently as you like; I will only grade the last submission.\n",
    "ok_submit('p2.ok')"
   ]
  },
  {
   "cell_type": "markdown",
   "metadata": {},
   "source": [
    "## Additional Challenges\n",
    "\n",
    "The very big and very small numbers can be difficult to read!\n",
    "\n",
    "**Easy Challenge:** figure out how to represnt numbers in **scientific notation**, so that `0.0000324` becomes `3.24e-5`.\n",
    "\n",
    "**Hard Challenge:** it would be nicer to *dynamically* change between units, depending on how big the number is. For example, if we have 72000000 KWh, we could convert to 72000 MWh, or better yet, we could convert it to 72 GWh. Likewise, 1 aquifer (1 aq) is HUGE. Maybe it would be easier to think about milliaquifers (maq), microaquifers (uaq), or even nanoaquifers (naq). How would you pick the largest possible unit to make the number as small as possible without becoming a decmial?"
   ]
  },
  {
   "cell_type": "markdown",
   "metadata": {},
   "source": []
  }
 ],
 "metadata": {
  "kernelspec": {
   "display_name": "Python 3 (ipykernel)",
   "language": "python",
   "name": "python3"
  },
  "language_info": {
   "codemirror_mode": {
    "name": "ipython",
    "version": 3
   },
   "file_extension": ".py",
   "mimetype": "text/x-python",
   "name": "python",
   "nbconvert_exporter": "python",
   "pygments_lexer": "ipython3",
   "version": "3.11.4"
  },
  "varInspector": {
   "cols": {
    "lenName": 16,
    "lenType": 16,
    "lenVar": 40
   },
   "kernels_config": {
    "python": {
     "delete_cmd_postfix": "",
     "delete_cmd_prefix": "del ",
     "library": "var_list.py",
     "varRefreshCmd": "print(var_dic_list())"
    },
    "r": {
     "delete_cmd_postfix": ") ",
     "delete_cmd_prefix": "rm(",
     "library": "var_list.r",
     "varRefreshCmd": "cat(var_dic_list()) "
    }
   },
   "types_to_exclude": [
    "module",
    "function",
    "builtin_function_or_method",
    "instance",
    "_Feature"
   ],
   "window_display": false
  }
 },
 "nbformat": 4,
 "nbformat_minor": 2
}
