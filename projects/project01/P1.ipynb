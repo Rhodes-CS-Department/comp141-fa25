{
 "cells": [
  {
   "cell_type": "code",
   "execution_count": null,
   "metadata": {},
   "outputs": [],
   "source": [
    "# Run this cell to log in to okpy.org so that you can submit\n",
    "# at the end of the lab.  If you come back later, you may need to \n",
    "# re-run this cell.\n",
    "from cs1.notebooks import *\n",
    "ok_login('project01.ok')"
   ]
  },
  {
   "cell_type": "markdown",
   "metadata": {},
   "source": [
    "## READ THIS FIRST\n",
    "\n",
    "`P1.ipynb` is a *workbook*, designed to lead you through the project toward the right ideas, with context and hints. All of **your** code needs to go in `consumption.py` (or whatever `.py` file is in the project folder for future projects).\n",
    "\n",
    "Only the code in `consumption.py` will be graded!!"
   ]
  },
  {
   "cell_type": "markdown",
   "metadata": {},
   "source": [
    "# Program 1: Power and Water\n",
    "\n",
    "## Power\n",
    "\n",
    "*Power*, measured in Watts, is the amount of *energy* transferred per unit time. A *power plant* has some amount of power production *capacity* in W (or MW or GW). When operated over time at a certain power level, the power plant produces some amount of *energy* in Wh (or MWh or GWh).\n",
    "\n",
    "For example, suppose we have Power Plant A, which has a 10 MW capacity, meaning it can produce at most 10 MW of power in any moment. For whatever reason (eg, changing demand), suppose the power plant produces *on average* 7.5 MW of power all day long for 24 hours. Then, the power plant has produced:\n",
    "\n",
    "$$ E = 24 \\cdot 7.5 \\text{ MWh} = 180 \\text{ MWh} $$\n",
    "\n",
    "in one day, even though it *could have* produced:\n",
    "\n",
    "$$ E = 24 \\cdot 10 \\text{ MWh} = 240 \\text{ MWh} $$\n",
    "\n",
    "if run at maximum capacity all day.\n",
    "\n",
    "## Water\n",
    "\n",
    "Water is a little easier to wrap your head around. We usually measure it in gallons, though sometimes you see it measured in \"Olympic swimming pools\" or other measurements, to better understand the scale. Memphis sits on top of an *aquifer*, which is a huge underground body of water. The aquifer is where most of our water in Memphis comes from. It recharges slowly over time due to rain and other effects."
   ]
  },
  {
   "cell_type": "markdown",
   "metadata": {},
   "source": [
    "## Reasonable Estimates\n",
    "\n",
    "Use the internet to find reasonable estimates for the following variables. If you use AI, double check it's answers somehow. Cite your sources in a comment."
   ]
  },
  {
   "cell_type": "code",
   "execution_count": null,
   "metadata": {},
   "outputs": [],
   "source": [
    "# Average Power Production for a Natural Gas Power Plant\n",
    "average_production_MW = 0 # my cat said so\n",
    "\n",
    "# Energy Consumption for an Average Household\n",
    "average_daily_energy_consumption_KWh = 0 # I counted the energy flowing into my house\n",
    "\n",
    "# Water Consumption for an Average Household\n",
    "average_daily_water_consumption_gallons = 0 # This is how much I drink, so it must be average.\n",
    "\n",
    "# Water Contained in the Memphis Aquifer\n",
    "gallons_per_aquifer = 0 # I watched a YouTube video about it\n",
    "\n",
    "# Households in Memphis, TN\n",
    "households = 0 # I asked my neighbor"
   ]
  },
  {
   "cell_type": "markdown",
   "metadata": {},
   "source": [
    "## Program Assignment\n",
    "\n",
    "Copy your estimates above into `consumption.py`\n",
    "\n",
    "You will write a simple program that will calculate and display a few interesting values.\n",
    "\n",
    "### Power\n",
    "In `consumption.py`, write code to calculate:\n",
    "* `daily_energy_production_MWh`: how much *energy* the power plant produces in a single day (24 hours)\n",
    "* `daily_energy_production_KWh`: as above, but convert the value to KWh (Hint: 1 MWh = 1000 KWh)\n",
    "* `potential_households`: how many households this single power plant can support\n",
    "* `daily_energy_consumption_KWh`: how much energy Memphis needs in a single day\n",
    "* `daily_energy_consumption_MWh`: as above but convert the value to MWh\n",
    "* `required_power_plants`: how many power plants Memphis needs to power it (Hint: use `daily_energy_production_MWh` and `daily_energy_consumption_MWh`)\n",
    "\n",
    "\n",
    "### Water\n",
    "In `consumption.py`, write code to calulate:\n",
    "* `daily_water_consumption_gallons`: how much water Memphis consumes each day\n",
    "* `yearly_water_consumption_gallons`: how much water Memphis consumes each year\n",
    "* `aquifers_per_year`: how many aquifers (or, how much of one aquifer) does Memphis consume in a year (Hint: divide total gallons per year by gallons per aquifer)\n",
    "* `yearly_gallons_per_household`: how many gallons of water a single household consumes in a full year (Hint: you have daily gallons per household)\n",
    "* `households_per_aquifer`: how many households can one full aquifer support for one full year (Hint: you have gallons per aquifer and yearly gallons per household)\n",
    "\n",
    "Neatly display the results using following this example (my math is all wrong!):\n",
    "\n",
    "`An average natural gas power plant produces 14 MWh of energy in a day, supplying power to 2200 average households.`\n",
    "\n",
    "`With 4200 households consuming on average 16 KWh of energy, the city of Memphis requires 27 MWh of energy.`\n",
    "\n",
    "`Therefore, Memphis requires 1.7 natural gas power plants.`\n",
    "\n",
    "`Memphis consumes 100 gallons of water each year, which is equivalent to 1 aquifer.`\n",
    "\n",
    "`One full aquifer could support 12000 households for one full year.`"
   ]
  },
  {
   "cell_type": "code",
   "execution_count": null,
   "metadata": {},
   "outputs": [],
   "source": [
    "# Run this cell to run your program. Your output should resemble the example output above.\n",
    "%run consumption.py"
   ]
  },
  {
   "cell_type": "markdown",
   "metadata": {},
   "source": [
    "Is anything surprising about any of these numbers?"
   ]
  },
  {
   "cell_type": "markdown",
   "metadata": {},
   "source": [
    "__Answer here:__"
   ]
  },
  {
   "cell_type": "markdown",
   "metadata": {},
   "source": [
    "## Feedback Questions\n",
    "\n",
    "__In the cell below, please answer the following questions about the program.__\n",
    "1. What did you struggle with the most?\n",
    "2. Do you wonder anything about Memphis' resource consumption that you haven't answered yet?\n",
    "3. Please estimate about how long you spent working on this assignment.\n",
    "4. Any other questions, concerns, comments about the program or material we have covered so far?"
   ]
  },
  {
   "cell_type": "markdown",
   "metadata": {},
   "source": [
    "__Answer feedback questions here:__"
   ]
  },
  {
   "cell_type": "code",
   "execution_count": null,
   "metadata": {},
   "outputs": [],
   "source": [
    "# Run this cell to submit.\n",
    "# If you get an error message saying that name 'ok' is not defined, you need to re-run \n",
    "# the very first code cell at the top of this notebook - it will log you into okpy, then you can \n",
    "# scroll back down here and submit.\n",
    "# Submit as frequently as you like; I will only grade the last submission.\n",
    "ok_submit('project01.ok')"
   ]
  },
  {
   "cell_type": "markdown",
   "metadata": {},
   "source": [
    "## Additional Challenges\n",
    "\n",
    "Look into Python's `round` function if you want to neatly round numbers.\n",
    "\n",
    "Look into Pyton's `input` function if you want to ask the user for input."
   ]
  },
  {
   "cell_type": "markdown",
   "metadata": {},
   "source": []
  }
 ],
 "metadata": {
  "kernelspec": {
   "display_name": "Python 3 (ipykernel)",
   "language": "python",
   "name": "python3"
  },
  "language_info": {
   "codemirror_mode": {
    "name": "ipython",
    "version": 3
   },
   "file_extension": ".py",
   "mimetype": "text/x-python",
   "name": "python",
   "nbconvert_exporter": "python",
   "pygments_lexer": "ipython3",
   "version": "3.11.4"
  },
  "varInspector": {
   "cols": {
    "lenName": 16,
    "lenType": 16,
    "lenVar": 40
   },
   "kernels_config": {
    "python": {
     "delete_cmd_postfix": "",
     "delete_cmd_prefix": "del ",
     "library": "var_list.py",
     "varRefreshCmd": "print(var_dic_list())"
    },
    "r": {
     "delete_cmd_postfix": ") ",
     "delete_cmd_prefix": "rm(",
     "library": "var_list.r",
     "varRefreshCmd": "cat(var_dic_list()) "
    }
   },
   "types_to_exclude": [
    "module",
    "function",
    "builtin_function_or_method",
    "instance",
    "_Feature"
   ],
   "window_display": false
  }
 },
 "nbformat": 4,
 "nbformat_minor": 2
}
