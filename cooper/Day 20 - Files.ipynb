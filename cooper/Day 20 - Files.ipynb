{
 "cells": [
  {
   "cell_type": "markdown",
   "metadata": {},
   "source": [
    "# Day 20: More on file reading, split function"
   ]
  },
  {
   "cell_type": "markdown",
   "metadata": {},
   "source": [
    "## Quick Detour: Assigning multiple variables\n",
    "You can assign values to multiple variables simultaneously by separating them with commas on the left side of the equals sign."
   ]
  },
  {
   "cell_type": "code",
   "execution_count": null,
   "metadata": {},
   "outputs": [],
   "source": [
    "a, b = 10, 20\n",
    "a = a + b\n",
    "b = 2 * b\n",
    "print(a, b)\n"
   ]
  },
  {
   "cell_type": "code",
   "execution_count": null,
   "metadata": {},
   "outputs": [],
   "source": [
    "a, b, c, d, e, f, g, h, i, j = \"text\", \"This\", \"how\", \"assign\", \"can\", \"is\", \"you\", \"values\", \"multiple\", \"simultaneously\"\n",
    "print(b, f, c, g, e, d, i, h, j)"
   ]
  },
  {
   "cell_type": "markdown",
   "metadata": {},
   "source": [
    "## Reading multiple values from the same line in a file\n",
    "\n",
    "When files contain multiple values on each line, it is necessary to split the values apart, so you can have access to each value separately. We'll use the built-in `split` function for this. \n",
    "\n",
    "\n",
    "### `split` function\n",
    "Splits a string into multiple string variables based on a separator. \n",
    "![split.png](attachment:split.png)"
   ]
  },
  {
   "cell_type": "markdown",
   "metadata": {},
   "source": [
    "### Reading multiple strings per line\n",
    "\n",
    "```\n",
    "file = open(\"filename.txt\", 'r')\n",
    "\n",
    "for line in file:\n",
    "    line = line.rstrip()\n",
    "    var1, var2,... = line.split(\"sep\")\n",
    "    #do something with var1, var2, etc.\n",
    "\n",
    "file.close()\n",
    "```\n"
   ]
  },
  {
   "cell_type": "markdown",
   "metadata": {},
   "source": [
    "## File Reading Essentials\n",
    "* Opening files\n",
    "* Reading files with loops\n",
    "* `split()`\n",
    "* Max/min finding"
   ]
  },
  {
   "cell_type": "code",
   "execution_count": 23,
   "metadata": {},
   "outputs": [
    {
     "name": "stdout",
     "output_type": "stream",
     "text": [
      "The Oldest Dog is: Lucy 2010\n"
     ]
    }
   ],
   "source": [
    "file = open(\"dogs.txt\", \"r\") # open in read mode, use \"w\" to overwrite, \"a\" to append\n",
    "oldest_dog = \"\"\n",
    "oldest_dog_year = 2025\n",
    "for line in file:\n",
    "    name, year = line.split(\",\")\n",
    "    if int(year) < oldest_dog_year:\n",
    "        oldest_dog_year = int(year)\n",
    "        oldest_dog = name\n",
    "file.close()\n",
    "print(\"The Oldest Dog is:\", oldest_dog, oldest_dog_year)"
   ]
  },
  {
   "cell_type": "markdown",
   "metadata": {},
   "source": [
    "## More Examples\n",
    "Open your __randomNums.txt__ file that you created previously and read in each number.\n",
    "1. Write a program that outputs the sum and average of the numbers in your file.\n",
    "2. Write a program that calculates the consecutive differences between numbers in the file. (Hint: use the previous value technique)\n",
    "3. __Challenge:__ Write a program to print out the largest value in the file. \n"
   ]
  },
  {
   "cell_type": "code",
   "execution_count": null,
   "metadata": {},
   "outputs": [],
   "source": [
    "#Finds and outputs the sum and average of the numbers in the randomNums.txt file\n",
    "def main():\n",
    "    file = open(\"randomNums.txt\", 'r')\n",
    "    total = 0\n",
    "    cnt = 0\n",
    "    for line in file:\n",
    "        value = int(line)\n",
    "        total += value\n",
    "        cnt += 1\n",
    "        \n",
    "    file.close()\n",
    "    print(\"The sum is: \", total)\n",
    "    print(\"The average is: \", total/cnt)\n",
    "    \n",
    "main()"
   ]
  },
  {
   "cell_type": "code",
   "execution_count": null,
   "metadata": {},
   "outputs": [],
   "source": [
    "#Calculates the consecutive differences between numbers in the randomNums.txt file\n",
    "def main():\n",
    "    file = open(\"randomNums.txt\", 'r')\n",
    "    prev = file.readline()\n",
    "    prev = int(prev)\n",
    "    for curr in file:\n",
    "        curr = int(curr)\n",
    "        print(\"Difference is: \", curr - prev)\n",
    "        prev = curr\n",
    "    file.close()\n",
    "main()"
   ]
  },
  {
   "cell_type": "markdown",
   "metadata": {},
   "source": [
    "__Pseudocode for finding the maximum__\n",
    "* __largest__ = [smallest possible number that you could ever see]\n",
    "* look at each number once (loop over all values):\n",
    "        if the current number > largest, then\n",
    "            largest = current number\n",
    "\n",
    "* after this loop, __largest__ will have the maximum number in it!"
   ]
  },
  {
   "cell_type": "code",
   "execution_count": null,
   "metadata": {},
   "outputs": [],
   "source": [
    "# Finds the maximum value in the randomNums.txt file\n",
    "def main():\n",
    "    file = open(\"randomNums.txt\", 'r')\n",
    "    maxVal = 0\n",
    "    for line in file:\n",
    "        value = int(line)\n",
    "        if value > maxVal:\n",
    "            maxVal = value\n",
    "    file.close()\n",
    "    print(\"The maximum value in the file is: \", maxVal)\n",
    "main()   "
   ]
  },
  {
   "cell_type": "code",
   "execution_count": null,
   "metadata": {},
   "outputs": [],
   "source": [
    "def main():\n",
    "    # calculate the average and max score for Team A\n",
    "    file = open(\"season_performance.txt\")\n",
    "    total = 0\n",
    "    count = 0\n",
    "    highest_score = 0\n",
    "    for line in file:\n",
    "        # print(line)\n",
    "        score_1, score_2 = line.split(',')\n",
    "        total += int(score_1)\n",
    "        count += 1\n",
    "        if int(score_1) > highest_score:\n",
    "            highest_score = int(score_1)\n",
    "    print(\"Average:\", total / count)\n",
    "    print(\"Highest:\", highest_score)\n",
    "main()"
   ]
  }
 ],
 "metadata": {
  "kernelspec": {
   "display_name": "Python 3",
   "language": "python",
   "name": "python3"
  },
  "language_info": {
   "codemirror_mode": {
    "name": "ipython",
    "version": 3
   },
   "file_extension": ".py",
   "mimetype": "text/x-python",
   "name": "python",
   "nbconvert_exporter": "python",
   "pygments_lexer": "ipython3",
   "version": "3.12.2"
  },
  "varInspector": {
   "cols": {
    "lenName": 16,
    "lenType": 16,
    "lenVar": 40
   },
   "kernels_config": {
    "python": {
     "delete_cmd_postfix": "",
     "delete_cmd_prefix": "del ",
     "library": "var_list.py",
     "varRefreshCmd": "print(var_dic_list())"
    },
    "r": {
     "delete_cmd_postfix": ") ",
     "delete_cmd_prefix": "rm(",
     "library": "var_list.r",
     "varRefreshCmd": "cat(var_dic_list()) "
    }
   },
   "types_to_exclude": [
    "module",
    "function",
    "builtin_function_or_method",
    "instance",
    "_Feature"
   ],
   "window_display": false
  }
 },
 "nbformat": 4,
 "nbformat_minor": 2
}
