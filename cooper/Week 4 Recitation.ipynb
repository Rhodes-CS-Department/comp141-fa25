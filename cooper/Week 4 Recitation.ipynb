{
 "cells": [
  {
   "cell_type": "markdown",
   "id": "61ebbd7a",
   "metadata": {},
   "source": [
    "## Week 4 Recitation\n",
    "\n"
   ]
  },
  {
   "cell_type": "markdown",
   "id": "a7380cec",
   "metadata": {},
   "source": [
    "# Review: printing"
   ]
  },
  {
   "cell_type": "code",
   "execution_count": null,
   "id": "d0dfb2ee",
   "metadata": {},
   "outputs": [
    {
     "name": "stdout",
     "output_type": "stream",
     "text": [
      "\n",
      "hello\n",
      "10 goodbye False\n",
      "hellogoodbye\n",
      "1010\n",
      "5050\n"
     ]
    }
   ],
   "source": [
    "# how to print things\n",
    "# print syntax:\n",
    "what_you_want_to_print = 'hello'\n",
    "print() # prints a new line\n",
    "print(what_you_want_to_print) # what_you_want_to_print is called an argument\n",
    "\n",
    "thing1 = 10 # data type: int\n",
    "thing2 = 'goodbye' # data type: string\n",
    "thing3 = False # data type: boolean\n",
    "print(thing1, thing2, thing3) # print can take multiple arguments, separates them with a space, can mix data types\n",
    "print(what_you_want_to_print + thing2) # join \"addable\" things with a +, but you can't add strings and numbers\n",
    "\n",
    "num1 = 10\n",
    "num2 = 10\n",
    "# want: 1010\n",
    "print(str(num1) + str(num2)) # this is called string \"concatenation\"\n",
    "new_string = str(num1) + str(num2) # string concatenation\n",
    "\n",
    "new_num = 5 * int(new_string) # we can convert strings to ints (or floats!)\n",
    "print(new_num)"
   ]
  },
  {
   "cell_type": "markdown",
   "id": "eaf17b85",
   "metadata": {},
   "source": [
    "## Practice\n",
    "__desserts program__\n",
    "* You are in charge of desserts at Thanksgiving dinner. You decide to make 2 pumpkin pies and 1 apple pie. \n",
    "* Write a program that defines these functions:\n",
    "<ul>\n",
    "    <li> make_apple() should print a description of how to make 1 apple pie </li>\n",
    "    <li> make_pumpkin() should print a description of how to make 1 pumpkin pie </li>\n",
    "    <li> main() should call make_apple() and make_pumpkin() appropriately to make all the pies. </li>\n",
    "</ul>\n",
    "* Don’t forget to call main() at the end of your code!\n",
    "* If you get done early, modify main() to ask the user for how many people are coming to dinner. If the number of people is more than 6, make 1 extra apple pie and 1 extra pumpkin pie."
   ]
  },
  {
   "cell_type": "code",
   "execution_count": null,
   "id": "9b67440d",
   "metadata": {},
   "outputs": [],
   "source": [
    "#Write code for your desserts program here"
   ]
  },
  {
   "cell_type": "markdown",
   "id": "baa6b674",
   "metadata": {},
   "source": [
    "**collatz.py**\n",
    "\n",
    "Write a function called `collatz` which takes in one argument called `n`. If `n` is even, divide it by 2. If `n` is odd, multiply by 3 and add 1. Print out the new number.\n",
    "\n",
    "*Hint: `n % 2 == 0` checks whether `n` is even!*"
   ]
  },
  {
   "cell_type": "code",
   "execution_count": null,
   "id": "dcd541ea",
   "metadata": {},
   "outputs": [],
   "source": [
    "# collatz"
   ]
  },
  {
   "cell_type": "markdown",
   "id": "86d5c440",
   "metadata": {},
   "source": [
    "**activity.py**\n",
    "\n",
    "Write a function which takes in the type of weather outside (eg, hot, cool, cold, rainy, windy) and prints out a good activity for the day. Use if-elif-else statements."
   ]
  },
  {
   "cell_type": "code",
   "execution_count": null,
   "id": "812c4d49",
   "metadata": {},
   "outputs": [],
   "source": [
    "# activity"
   ]
  },
  {
   "cell_type": "code",
   "execution_count": null,
   "id": "3c9c53e8",
   "metadata": {},
   "outputs": [],
   "source": [
    "#Description: This program 'sings' Happy birthday to you and your twin\n",
    "#Input: Your name and your twin's name\n",
    "#Output: Happy birthday song for both you and your twin.\n",
    "\n",
    "def sing_song(name):\n",
    "    print(\"Happy birthday to you!\\\n",
    "          \\nHappy birthday to you!\")\n",
    "    print(\"Happy birthday dear\", name, \\\n",
    "          \"\\nHappy birthday to you!\")\n",
    "    print(\"You are \", age, \"years old now!\") # I have added this line\n",
    "\n",
    "def main():\n",
    "    my_name = input(\"What is your name? \")\n",
    "    sing_song(my_name)\n",
    "    twin_name = input(\"What is your twin's name? \")\n",
    "    sing_song(twin_name)\n",
    "\n",
    "main()"
   ]
  },
  {
   "cell_type": "markdown",
   "id": "225fd8be",
   "metadata": {},
   "source": [
    "## Practice\n",
    "**collatz.py**\n",
    "\n",
    "Write a function called `collatz` which takes in one argument called `n`. If `n` is even, divide it by 2. If `n` is odd, multiply by 3 and add 1. Print out the new number.\n",
    "\n",
    "*Hint: `n % 2 == 0` checks whether `n` is even!*"
   ]
  },
  {
   "cell_type": "code",
   "execution_count": null,
   "id": "b2035bdc",
   "metadata": {},
   "outputs": [
    {
     "name": "stdout",
     "output_type": "stream",
     "text": [
      "2.0\n",
      "5.0\n",
      "46\n"
     ]
    }
   ],
   "source": [
    "# collatz\n",
    "def collatz(n):\n",
    "    if n % 2 == 0:\n",
    "        n = n / 2\n",
    "    else:\n",
    "        n = 3 * n + 1\n",
    "    print(n)\n",
    "\n",
    "collatz(4)\n",
    "collatz(10)\n",
    "collatz(15)"
   ]
  },
  {
   "cell_type": "markdown",
   "id": "0a98fa6f",
   "metadata": {},
   "source": [
    "**activity.py**\n",
    "\n",
    "Write a function which takes in the type of weather outside (eg, hot, cool, cold, rainy, windy) and prints out a good activity for the day. Use if-elif-else statements."
   ]
  },
  {
   "cell_type": "code",
   "execution_count": null,
   "id": "ec7d1f61",
   "metadata": {},
   "outputs": [],
   "source": [
    "# activity\n",
    "def activity(weather):\n",
    "    if weather == \"hot\":\n",
    "        print('swim')\n",
    "    elif weather == \"rainy\":\n",
    "        print('board games')\n",
    "    elif weather == \"windy\":\n",
    "        print(\"sailing\")\n",
    "\n",
    "activity(\"hot\")\n",
    "activity(\"rainy\")"
   ]
  },
  {
   "cell_type": "markdown",
   "id": "1923f686",
   "metadata": {},
   "source": [
    "## Practice\n",
    "1. Write a function called `direction` that takes two float arguments, `x` and `y`. Consider an arrow  on the Cartesian plane pointing from (0,0) to (x, y). This function should return the string \"NE\", \"SE\", \"SW\", or \"NW\" depending on the direction that the arrow points. Assume `x` and `y` will never be 0. The def line will be: `def direction(x, y):`"
   ]
  },
  {
   "cell_type": "code",
   "execution_count": null,
   "id": "9ec095aa",
   "metadata": {},
   "outputs": [],
   "source": [
    "def direction(x, y):\n",
    "    #your code here that returns one of the four directions\n",
    "    pass"
   ]
  },
  {
   "cell_type": "code",
   "execution_count": 3,
   "id": "f541c8e2",
   "metadata": {},
   "outputs": [
    {
     "name": "stdout",
     "output_type": "stream",
     "text": [
      "The direction is  SE\n"
     ]
    }
   ],
   "source": [
    "def direction(x, y):\n",
    "    if (x > 0 and y > 0):\n",
    "        return \"NE\"\n",
    "    elif (x > 0 and y < 0):\n",
    "        return \"SE\"\n",
    "    elif (x < 0 and y > 0):\n",
    "        return \"NW\"\n",
    "    elif (x < 0 and y < 0):\n",
    "        return \"SW\"\n",
    "    else:\n",
    "        return \"X and Y should not be zero\"\n",
    "    \n",
    "def main():\n",
    "    x = int(input(\"Enter x coordinate: \"))\n",
    "    y = int(input(\"Enter y coordinate: \"))\n",
    "    print (\"The direction is \", direction(x, y))\n",
    "\n",
    "main()\n"
   ]
  },
  {
   "cell_type": "markdown",
   "id": "6c56a38f",
   "metadata": {},
   "source": [
    "2. Write a function called `area_of_circle` that takes in one float argument `radius`. This function should return the area of a circle with that radius ($area= \\pi ∗ 𝑟^2$). The def line will be: `def area_of_circle(radius):`"
   ]
  },
  {
   "cell_type": "code",
   "execution_count": 5,
   "id": "b38109a3",
   "metadata": {},
   "outputs": [],
   "source": [
    "def area_of_circle(r):\n",
    "    # your code which calculate and returns the area of a circle with radius r\n",
    "    pass"
   ]
  },
  {
   "cell_type": "code",
   "execution_count": null,
   "id": "a2da227a",
   "metadata": {},
   "outputs": [
    {
     "name": "stdout",
     "output_type": "stream",
     "text": [
      "The radius is  78.53981633974483\n"
     ]
    }
   ],
   "source": [
    "import math\n",
    "\n",
    "def area_of_circle(r):\n",
    "    # your code which calculate and returns the area of a circle with radius r\n",
    "    return math.pi * r**2\n",
    "\n",
    "def main():\n",
    "    radius = int(input(\"Enter radius of circle: \"))\n",
    "    print(\"The radius is \", area_of_circle(radius))\n",
    "\n",
    "main()"
   ]
  },
  {
   "cell_type": "code",
   "execution_count": null,
   "id": "7be59718",
   "metadata": {},
   "outputs": [],
   "source": []
  }
 ],
 "metadata": {
  "kernelspec": {
   "display_name": "Python 3",
   "language": "python",
   "name": "python3"
  },
  "language_info": {
   "codemirror_mode": {
    "name": "ipython",
    "version": 3
   },
   "file_extension": ".py",
   "mimetype": "text/x-python",
   "name": "python",
   "nbconvert_exporter": "python",
   "pygments_lexer": "ipython3",
   "version": "3.12.2"
  }
 },
 "nbformat": 4,
 "nbformat_minor": 5
}
