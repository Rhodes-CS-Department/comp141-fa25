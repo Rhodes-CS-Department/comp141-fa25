{
 "cells": [
  {
   "cell_type": "markdown",
   "metadata": {},
   "source": [
    "## Welcome to Day 1 of CS 141! \n",
    "You'll do a lab next time that will spend more time explaining notebooks. For now, all you really need to know is to run the code in a cell, you should type `Shift + Enter` while your cursor is in the cell.\n",
    "\n",
    "Most computer programs perform three main steps.\n",
    "\n",
    "__Step 1:__ Receive input  (any data that the program receives while it is running)\n",
    "\n",
    "__Step 2:__ Perform some process on the input (Example: mathematical calculation)\n",
    "\n",
    "__Step 3:__ Produce output\n"
   ]
  },
  {
   "cell_type": "markdown",
   "metadata": {},
   "source": [
    "### Displaying Output with the `print` Function\n",
    "* __Function:__ piece of prewritten code that performs an operation\n",
    "* __Argument:__ data given to a function\n",
    "* Statements in a program execute in the order that they appear (from top to bottom)\n",
    "* Example: `print(\"Hello World\")`\n",
    "\n",
    "`print` is a built-in function in Python that will display output. Whatever you put inside the parenthesis, will be displayed.\n"
   ]
  },
  {
   "cell_type": "code",
   "execution_count": null,
   "metadata": {},
   "outputs": [],
   "source": [
    "print(\"Hello World\")\n",
    "print(1+2+3)"
   ]
  },
  {
   "cell_type": "code",
   "execution_count": 4,
   "metadata": {},
   "outputs": [
    {
     "data": {
      "text/plain": [
       "'COMP141 Student'"
      ]
     },
     "execution_count": 4,
     "metadata": {},
     "output_type": "execute_result"
    }
   ],
   "source": [
    "name = \"COMP141 Student\"\n",
    "name"
   ]
  },
  {
   "cell_type": "markdown",
   "metadata": {},
   "source": [
    "In the following cell, write Python code to do the following.\n",
    "* Write a statement that displays your name.\n",
    "* Write a statement that displays “I am 100 years old!”\n",
    "* Write a statement that displays the value of multiplying 322 * 35."
   ]
  },
  {
   "cell_type": "code",
   "execution_count": null,
   "metadata": {},
   "outputs": [],
   "source": []
  },
  {
   "cell_type": "markdown",
   "metadata": {},
   "source": [
    "## Comments\n",
    "* Notes of explanation within a program\n",
    "* Ignored by Python interpreter\n",
    "* Intended for a person reading the program’s code\n",
    "* Begin with a # character\n",
    "\n",
    "The following cell is an example. Feel free to run it yourself as I am demoing."
   ]
  },
  {
   "cell_type": "code",
   "execution_count": null,
   "metadata": {},
   "outputs": [],
   "source": [
    "# Mark Cooper\n",
    "# COMP 141\n",
    "# This program display's a person's name and address.\n",
    "\n",
    "\n",
    "#Printing name and address here\n",
    "print(\"Mark Cooper\")\n",
    "print(\"123 Main Street\") #Address starts here\n",
    "print(\"Memphis, TN 38104\")"
   ]
  },
  {
   "cell_type": "markdown",
   "metadata": {},
   "source": [
    "Please do the following:\n",
    "1. Complete the Course Survey (on Canvas)"
   ]
  },
  {
   "cell_type": "code",
   "execution_count": null,
   "metadata": {},
   "outputs": [],
   "source": []
  }
 ],
 "metadata": {
  "kernelspec": {
   "display_name": "Python 3 (ipykernel)",
   "language": "python",
   "name": "python3"
  },
  "language_info": {
   "codemirror_mode": {
    "name": "ipython",
    "version": 3
   },
   "file_extension": ".py",
   "mimetype": "text/x-python",
   "name": "python",
   "nbconvert_exporter": "python",
   "pygments_lexer": "ipython3",
   "version": "3.12.3"
  },
  "varInspector": {
   "cols": {
    "lenName": 16,
    "lenType": 16,
    "lenVar": 40
   },
   "kernels_config": {
    "python": {
     "delete_cmd_postfix": "",
     "delete_cmd_prefix": "del ",
     "library": "var_list.py",
     "varRefreshCmd": "print(var_dic_list())"
    },
    "r": {
     "delete_cmd_postfix": ") ",
     "delete_cmd_prefix": "rm(",
     "library": "var_list.r",
     "varRefreshCmd": "cat(var_dic_list()) "
    }
   },
   "types_to_exclude": [
    "module",
    "function",
    "builtin_function_or_method",
    "instance",
    "_Feature"
   ],
   "window_display": false
  }
 },
 "nbformat": 4,
 "nbformat_minor": 4
}
