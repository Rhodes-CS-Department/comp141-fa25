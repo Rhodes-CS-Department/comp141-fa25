{
 "cells": [
  {
   "cell_type": "markdown",
   "metadata": {},
   "source": [
    "# Day 23: Strings Practice"
   ]
  },
  {
   "cell_type": "markdown",
   "metadata": {},
   "source": [
    "Here's a summary of everything you should be able to do with strings so far:\n",
    "* `len(s)`: get the length of a string\n",
    "* `s[i]`: get the ith character of a string\n",
    "* `s[i:j]`: slice a string from i to j\n",
    "* `s[i:j:step]`: slice a string from i to j, skipping step characters in between\n",
    "* string testing methods, eg `isdigit`, `isalnum`, etc (see [string reference](https://rhodes.box.com/s/3kkkxgmikkw5a5vduqoroimjjkyz731c) )\n",
    "* string modificiation methods, eg `rstrip`, `lower`, `upper`, etc (see [string reference](https://rhodes.box.com/s/3kkkxgmikkw5a5vduqoroimjjkyz731c) )\n",
    "\n",
    "You also need to familiarize yourself with the rest of the string methods in the reference, including:\n",
    "* `find`: returns the first index of a substring\n",
    "* `replace`: returns a copy of the string with a substring replaced"
   ]
  },
  {
   "cell_type": "markdown",
   "metadata": {},
   "source": [
    "## Practice Set #1"
   ]
  },
  {
   "cell_type": "markdown",
   "metadata": {},
   "source": [
    "Write a program that will strip away every character in a string, leaving behind an empty string. Print the results at each step of the program. For example:\n",
    "\n",
    "Hint 1: what is `my_string[0]`?\n",
    "Hint 2: what does `my_string = my_string.strip(\"a\")` do?\n",
    "\n",
    "```\n",
    "original_string = \"hello everyone\"\n",
    "\n",
    "example output:\n",
    "ello everyone\n",
    "llo everyon\n",
    "o everyon\n",
    " everyon\n",
    "everyon\n",
    "veryon\n",
    "eryon\n",
    "ryon\n",
    "yon\n",
    "on\n",
    "o\n",
    "\n",
    "```\n",
    "It turns out there's an error in this example above. Do you see it?"
   ]
  },
  {
   "cell_type": "code",
   "execution_count": null,
   "metadata": {},
   "outputs": [],
   "source": [
    "myString = \"hello everyone\"\n",
    "# for m in range(len(myString) - 1): This won't work. Why?\n",
    "while len(myString) > 0:\n",
    "    print(\"Removing\", myString[0] + \":\", end=\" \")\n",
    "    myString = myString.strip(myString[0])\n",
    "    print(myString)"
   ]
  },
  {
   "cell_type": "markdown",
   "metadata": {},
   "source": [
    "## Practice Set #2\n",
    "1. Write a loop to count the number of capital letter A's in a string.\n",
    "2. Write a loop to count capital or lowercase A's.\n",
    "3. Write a loop to print every other character in a string, starting with the first.\n",
    "4. Write a loop to print all the letters in a string in reverse order\n",
    "5. __Challenge:__ Write a loop to print the letters of a string in forward order intermixed with backward order (alternating between forward/backward). e.g., for “abcde” you would print aebdccdbea\n"
   ]
  },
  {
   "cell_type": "code",
   "execution_count": null,
   "metadata": {},
   "outputs": [],
   "source": [
    "#Counts capital A's\n",
    "\n"
   ]
  },
  {
   "cell_type": "code",
   "execution_count": null,
   "metadata": {},
   "outputs": [],
   "source": [
    "#Counts all A's\n",
    "\n"
   ]
  },
  {
   "cell_type": "code",
   "execution_count": null,
   "metadata": {},
   "outputs": [],
   "source": [
    "#Prints every other letter\n"
   ]
  },
  {
   "cell_type": "code",
   "execution_count": null,
   "metadata": {},
   "outputs": [],
   "source": [
    "#Print characters in reverse order\n"
   ]
  },
  {
   "cell_type": "code",
   "execution_count": null,
   "metadata": {},
   "outputs": [],
   "source": [
    "#Challenge\n"
   ]
  },
  {
   "cell_type": "markdown",
   "metadata": {},
   "source": [
    "## Practice Set #2 Solutions\n",
    "### (Don't Peek)"
   ]
  },
  {
   "cell_type": "code",
   "execution_count": null,
   "metadata": {},
   "outputs": [
    {
     "name": "stdout",
     "output_type": "stream",
     "text": [
      "1\n",
      "2\n",
      "ABCDE\n",
      "ABCDE\n",
      "eEdDcCbBaA\n",
      "AeaEBdbDCccCDbdBEaeA\n"
     ]
    }
   ],
   "source": [
    "# practice solutions:\n",
    "def count_As(s):\n",
    "    count = 0\n",
    "    for c in s:\n",
    "        if c == \"A\":\n",
    "            count += 1\n",
    "    return count\n",
    "\n",
    "def count_Aas(s):\n",
    "    count = 0\n",
    "    for c in s:\n",
    "        if c == \"A\" or c == \"a\":\n",
    "            count += 1\n",
    "    return count\n",
    "\n",
    "def every_other_character_using_range(s):\n",
    "    for i in range(0, len(s), 2):\n",
    "        print(s[i], end='')\n",
    "    print()\n",
    "        \n",
    "def every_other_character_using_flag(s):\n",
    "    printing = True\n",
    "    for c in s:\n",
    "        if printing:\n",
    "            print(c, end='')\n",
    "        printing = not printing\n",
    "    print()\n",
    "\n",
    "def reverse_string(s):\n",
    "    for i in range(len(s) - 1, -1, -1):\n",
    "        print(s[i], end='')\n",
    "    print()\n",
    "        \n",
    "def interleaved_string(s):\n",
    "    j = len(s) - 1\n",
    "    for i in range(len(s)):\n",
    "        print(s[i], end='')\n",
    "        print(s[j], end='')\n",
    "        j -= 1\n",
    "    print()\n",
    "\n",
    "test_string = \"AaBbCcDdEe\"\n",
    "print(count_As(test_string))\n",
    "print(count_Aas(test_string))\n",
    "every_other_character_using_range(test_string)\n",
    "every_other_character_using_flag(test_string)\n",
    "reverse_string(test_string)\n",
    "interleaved_string(test_string)"
   ]
  },
  {
   "cell_type": "markdown",
   "metadata": {},
   "source": [
    "## Practice Set #3\n",
    "\n",
    "1. Write a function called `total_seconds` that takes one string argument.  This argument will be a string of the form `M:SS` where M is a number of minutes  (a single digit) and SS is a number of seconds  (2 digits).  This function should calculate the total number of seconds in this amount of time and return it as an integer.  (__Hint__: Either use `split` or slicing/indexing. For a challenge, try doing it both ways.)\n",
    "\n",
    "2. Write a function called `count_digits` that returns the number of digits in a string.\n",
    "`count_digits(\"abc123def5\")` returns 4\n",
    "3. Write a function called `sum_digits` that returns the sum of all the digits in a string.\n",
    "`sum_digits(\"abc123def5\")` returns 11  (because 1 + 2 + 3 + 5 = 11)"
   ]
  },
  {
   "cell_type": "code",
   "execution_count": null,
   "metadata": {},
   "outputs": [],
   "source": [
    "#Write total_seconds here\n",
    "def total_seconds(s):\n",
    "    pass #remove this line once you start adding your own code\n",
    "\n",
    "#Below is an example call to your function that you should uncomment to test your function.\n",
    "#total_seconds(\"5:22\")"
   ]
  },
  {
   "cell_type": "code",
   "execution_count": null,
   "metadata": {},
   "outputs": [],
   "source": [
    "#Write count_digits here\n",
    "\n",
    "\n",
    "#Below is an example call to your function that you should uncomment to test your function.\n",
    "#count_digits(\"abc123def5\")"
   ]
  },
  {
   "cell_type": "code",
   "execution_count": null,
   "metadata": {},
   "outputs": [],
   "source": [
    "#Write sum_digits here, don't forget to test it!\n",
    "\n",
    "#Below is an example call to your function that you should uncomment to test your function.\n",
    "#sum_digits(\"abc123def5\")"
   ]
  },
  {
   "cell_type": "code",
   "execution_count": null,
   "metadata": {},
   "outputs": [
    {
     "data": {
      "text/plain": [
       "322"
      ]
     },
     "metadata": {},
     "output_type": "display_data"
    }
   ],
   "source": [
    "#Write total_seconds here\n",
    "def total_seconds(s):\n",
    "    minutes = int(s[0])\n",
    "    seconds = int(s[2:])\n",
    "    return minutes * 60 + seconds\n",
    "\n",
    "#Below is an example call to your function that you should uncomment to test your function.\n",
    "total_seconds(\"5:22\")"
   ]
  },
  {
   "cell_type": "code",
   "execution_count": null,
   "metadata": {},
   "outputs": [
    {
     "data": {
      "text/plain": [
       "4"
      ]
     },
     "metadata": {},
     "output_type": "display_data"
    }
   ],
   "source": [
    "#Write count_digits here\n",
    "def count_digits(s):\n",
    "    count = 0\n",
    "    for i in range(len(s)):\n",
    "        character = s[i]\n",
    "        if character.isdigit():\n",
    "            count += 1\n",
    "    return count\n",
    "\n",
    "#Below is an example call to your function that you should uncomment to test your function.\n",
    "count_digits(\"abc123def5\")"
   ]
  },
  {
   "cell_type": "code",
   "execution_count": null,
   "metadata": {},
   "outputs": [
    {
     "data": {
      "text/plain": [
       "11"
      ]
     },
     "metadata": {},
     "output_type": "display_data"
    }
   ],
   "source": [
    "#Write sum_digits here, don't forget to test it!\n",
    "def sum_digits(s):\n",
    "    total = 0\n",
    "    for i in range(len(s)):\n",
    "        character = s[i]\n",
    "        if character.isdigit():\n",
    "            total += int(character)\n",
    "    return total\n",
    "\n",
    "#Below is an example call to your function that you should uncomment to test your function.\n",
    "sum_digits(\"abc123def5\")"
   ]
  }
 ],
 "metadata": {
  "kernelspec": {
   "display_name": "Python 3",
   "language": "python",
   "name": "python3"
  },
  "language_info": {
   "codemirror_mode": {
    "name": "ipython",
    "version": 3
   },
   "file_extension": ".py",
   "mimetype": "text/x-python",
   "name": "python",
   "nbconvert_exporter": "python",
   "pygments_lexer": "ipython3",
   "version": "3.12.2"
  },
  "varInspector": {
   "cols": {
    "lenName": 16,
    "lenType": 16,
    "lenVar": 40
   },
   "kernels_config": {
    "python": {
     "delete_cmd_postfix": "",
     "delete_cmd_prefix": "del ",
     "library": "var_list.py",
     "varRefreshCmd": "print(var_dic_list())"
    },
    "r": {
     "delete_cmd_postfix": ") ",
     "delete_cmd_prefix": "rm(",
     "library": "var_list.r",
     "varRefreshCmd": "cat(var_dic_list()) "
    }
   },
   "types_to_exclude": [
    "module",
    "function",
    "builtin_function_or_method",
    "instance",
    "_Feature"
   ],
   "window_display": false
  }
 },
 "nbformat": 4,
 "nbformat_minor": 2
}
