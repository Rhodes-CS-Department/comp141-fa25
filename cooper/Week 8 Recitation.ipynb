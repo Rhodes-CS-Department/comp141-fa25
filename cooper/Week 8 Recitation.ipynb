{
 "cells": [
  {
   "cell_type": "markdown",
   "metadata": {},
   "source": [
    "# Week 8 Recitation\n"
   ]
  },
  {
   "cell_type": "markdown",
   "metadata": {},
   "source": [
    "Lab 06 Soutions"
   ]
  },
  {
   "cell_type": "code",
   "execution_count": 11,
   "metadata": {},
   "outputs": [
    {
     "name": "stdout",
     "output_type": "stream",
     "text": [
      "123456\n",
      "12345\n",
      "1234\n",
      "123\n",
      "12\n",
      "1\n"
     ]
    }
   ],
   "source": [
    "# Exercise 1\n",
    "\n",
    "def upper_left(size):\n",
    "    for i in range(size):\n",
    "        for j in range(size - i):\n",
    "            print(j+1, end=\"\")\n",
    "        print()\n",
    "\n",
    "upper_left(6)"
   ]
  },
  {
   "cell_type": "code",
   "execution_count": 16,
   "metadata": {},
   "outputs": [
    {
     "name": "stdout",
     "output_type": "stream",
     "text": [
      ".....1\n",
      "....12\n",
      "...123\n",
      "..1234\n",
      ".12345\n",
      "123456\n"
     ]
    }
   ],
   "source": [
    "# Exercise 2\n",
    "\n",
    "def lower_right(size):\n",
    "    for i in range(size):\n",
    "        for j in range(size-i-1):\n",
    "            print(\".\", end=\"\")\n",
    "        for k in range(i+1):\n",
    "            print(k+1, end=\"\")\n",
    "        print()\n",
    "\n",
    "lower_right(6)"
   ]
  },
  {
   "cell_type": "code",
   "execution_count": null,
   "metadata": {},
   "outputs": [
    {
     "name": "stdout",
     "output_type": "stream",
     "text": [
      "123456\n",
      " 12345\n",
      "  1234\n",
      "   123\n",
      "    12\n",
      "     1\n"
     ]
    }
   ],
   "source": [
    "# Exercise 3\n",
    "\n",
    "def upper_right(size):\n",
    "    for i in range (size, 0, -1):\n",
    "        for k in range(size-i):\n",
    "            print(' ', end='')\n",
    "        for j in range (1, i+1):\n",
    "            print(j, end = \"\")\n",
    "        print()\n",
    "    \n",
    "upper_right(6)"
   ]
  },
  {
   "cell_type": "code",
   "execution_count": null,
   "metadata": {},
   "outputs": [
    {
     "name": "stdout",
     "output_type": "stream",
     "text": [
      "123456\n",
      " 12345\n",
      "  1234\n",
      "   123\n",
      "    12\n",
      "     1\n"
     ]
    }
   ],
   "source": [
    "# Exercise 3\n",
    "\n",
    "def upper_right(size):\n",
    "    for i in range(size):\n",
    "        for j in range(i):\n",
    "            print(\" \", end=\"\")\n",
    "        for j in range(size - i):\n",
    "            print(j+1, end=\"\")\n",
    "        print()\n",
    "    \n",
    "upper_right(6)"
   ]
  },
  {
   "cell_type": "code",
   "execution_count": 18,
   "metadata": {},
   "outputs": [
    {
     "name": "stdout",
     "output_type": "stream",
     "text": [
      "Is 12 prime?  False\n",
      "Is 2 prime?  True\n",
      "Is 5 prime?  True\n"
     ]
    }
   ],
   "source": [
    "#Exercise 4 - is_prime function\n",
    "\n",
    "def is_prime(num):\n",
    "    \n",
    "    for i in range(2, num):\n",
    "        if num % i == 0:\n",
    "            return False\n",
    "            \n",
    "    return True\n",
    "\n",
    "print(\"Is 12 prime? \", is_prime(12))\n",
    "print(\"Is 2 prime? \", is_prime(2))\n",
    "print(\"Is 5 prime? \", is_prime(5))"
   ]
  },
  {
   "cell_type": "code",
   "execution_count": 19,
   "metadata": {},
   "outputs": [
    {
     "name": "stdout",
     "output_type": "stream",
     "text": [
      "2 is prime\n",
      "3 is prime\n",
      "5 is prime\n",
      "7 is prime\n",
      "11 is prime\n",
      "13 is prime\n",
      "17 is prime\n",
      "19 is prime\n",
      "23 is prime\n",
      "29 is prime\n",
      "31 is prime\n",
      "37 is prime\n",
      "41 is prime\n",
      "43 is prime\n",
      "47 is prime\n",
      "53 is prime\n",
      "59 is prime\n",
      "61 is prime\n",
      "67 is prime\n",
      "71 is prime\n",
      "73 is prime\n",
      "79 is prime\n",
      "83 is prime\n",
      "89 is prime\n",
      "97 is prime\n"
     ]
    }
   ],
   "source": [
    "# Exercise 5 - print all prime numbers less than 100\n",
    "\n",
    "def main():\n",
    "    for x in range(2, 100):\n",
    "        if is_prime(x):\n",
    "            print(x, \"is prime\")\n",
    "        \n",
    "main()"
   ]
  },
  {
   "cell_type": "code",
   "execution_count": 20,
   "metadata": {},
   "outputs": [
    {
     "name": "stdout",
     "output_type": "stream",
     "text": [
      "2\n",
      "3\n",
      "5\n",
      "7\n",
      "11\n",
      "13\n",
      "17\n",
      "19\n",
      "23\n",
      "29\n",
      "31\n",
      "37\n",
      "41\n",
      "43\n",
      "47\n",
      "53\n",
      "59\n",
      "61\n",
      "67\n",
      "71\n",
      "73\n",
      "79\n",
      "83\n",
      "89\n",
      "97\n",
      "101\n",
      "103\n",
      "107\n",
      "109\n",
      "113\n",
      "127\n",
      "131\n",
      "137\n",
      "139\n",
      "149\n",
      "151\n",
      "157\n",
      "163\n",
      "167\n",
      "173\n",
      "179\n",
      "181\n",
      "191\n",
      "193\n",
      "197\n",
      "199\n",
      "211\n",
      "223\n",
      "227\n",
      "229\n"
     ]
    }
   ],
   "source": [
    "# Exercise 6 - print first 50 prime numbers - we'll do this together in class\n",
    "\n",
    "def main():\n",
    "    # code goes here\n",
    "    num_primes = 0\n",
    "    current_num = 2\n",
    "    while num_primes < 50:\n",
    "        if is_prime(current_num):\n",
    "            print(current_num)\n",
    "            num_primes += 1\n",
    "        current_num += 1\n",
    "\n",
    "main()"
   ]
  },
  {
   "cell_type": "code",
   "execution_count": 25,
   "metadata": {},
   "outputs": [],
   "source": [
    "run \"/Users/mgcooper/Documents/Current Documents/Teaching/Rhodes College/Assignments/graphics.py\"\n"
   ]
  },
  {
   "cell_type": "code",
   "execution_count": 26,
   "metadata": {},
   "outputs": [
    {
     "data": {
      "application/vnd.jupyter.widget-view+json": {
       "model_id": "b7e90b83397442fba10e975b0b57059c",
       "version_major": 2,
       "version_minor": 0
      },
      "text/plain": [
       "AppLayout(children=(MultiCanvas(height=400, layout=Layout(grid_area='center'), sync_image_data=True, width=400…"
      ]
     },
     "metadata": {},
     "output_type": "display_data"
    }
   ],
   "source": [
    "# Exercise 7\n",
    "\n",
    "# from cs1.graphics import *\n",
    "#Lab 6 - draw circles with nested loop\n",
    "def main():  \n",
    "    open_canvas(400, 400)\n",
    "    set_color(\"black\")\n",
    "    for i in range(10):\n",
    "        for j in range(10):\n",
    "            draw_circle(20 + j * 40, 20 + i*40, 10)\n",
    "\n",
    "main()"
   ]
  },
  {
   "cell_type": "markdown",
   "metadata": {},
   "source": [
    "## Practice 2\n",
    "\n",
    "Write a program that displays the multiplication tables from 0 to 12. Example output:\n",
    "\n",
    "\n",
    "```\n",
    " x |   0 |   1 |   2 |   3 |   4 |   5 |   6 |   7 |   8 |   9 |  10 |  11 |  12 |\n",
    "----------------------------------------------------------------------------------\n",
    " 0 |   0 |   0 |   0 |   0 |   0 |   0 |   0 |   0 |   0 |   0 |   0 |   0 |   0 |\n",
    " 1 |   0 |   1 |   2 |   3 |   4 |   5 |   6 |   7 |   8 |   9 |  10 |  11 |  12 |\n",
    " 2 |   0 |   2 |   4 |   6 |   8 |  10 |  12 |  14 |  16 |  18 |  20 |  22 |  24 |\n",
    " 3 |   0 |   3 |   6 |   9 |  12 |  15 |  18 |  21 |  24 |  27 |  30 |  33 |  36 |\n",
    " 4 |   0 |   4 |   8 |  12 |  16 |  20 |  24 |  28 |  32 |  36 |  40 |  44 |  48 |\n",
    " 5 |   0 |   5 |  10 |  15 |  20 |  25 |  30 |  35 |  40 |  45 |  50 |  55 |  60 |\n",
    " 6 |   0 |   6 |  12 |  18 |  24 |  30 |  36 |  42 |  48 |  54 |  60 |  66 |  72 |\n",
    " 7 |   0 |   7 |  14 |  21 |  28 |  35 |  42 |  49 |  56 |  63 |  70 |  77 |  84 |\n",
    " 8 |   0 |   8 |  16 |  24 |  32 |  40 |  48 |  56 |  64 |  72 |  80 |  88 |  96 |\n",
    " 9 |   0 |   9 |  18 |  27 |  36 |  45 |  54 |  63 |  72 |  81 |  90 |  99 | 108 |\n",
    "10 |   0 |  10 |  20 |  30 |  40 |  50 |  60 |  70 |  80 |  90 | 100 | 110 | 120 |\n",
    "11 |   0 |  11 |  22 |  33 |  44 |  55 |  66 |  77 |  88 |  99 | 110 | 121 | 132 |\n",
    "12 |   0 |  12 |  24 |  36 |  48 |  60 |  72 |  84 |  96 | 108 | 120 | 132 | 144 |\n",
    "```"
   ]
  },
  {
   "cell_type": "code",
   "execution_count": null,
   "metadata": {},
   "outputs": [],
   "source": []
  }
 ],
 "metadata": {
  "kernelspec": {
   "display_name": "Python 3",
   "language": "python",
   "name": "python3"
  },
  "language_info": {
   "codemirror_mode": {
    "name": "ipython",
    "version": 3
   },
   "file_extension": ".py",
   "mimetype": "text/x-python",
   "name": "python",
   "nbconvert_exporter": "python",
   "pygments_lexer": "ipython3",
   "version": "3.12.2"
  },
  "varInspector": {
   "cols": {
    "lenName": 16,
    "lenType": 16,
    "lenVar": 40
   },
   "kernels_config": {
    "python": {
     "delete_cmd_postfix": "",
     "delete_cmd_prefix": "del ",
     "library": "var_list.py",
     "varRefreshCmd": "print(var_dic_list())"
    },
    "r": {
     "delete_cmd_postfix": ") ",
     "delete_cmd_prefix": "rm(",
     "library": "var_list.r",
     "varRefreshCmd": "cat(var_dic_list()) "
    }
   },
   "types_to_exclude": [
    "module",
    "function",
    "builtin_function_or_method",
    "instance",
    "_Feature"
   ],
   "window_display": false
  }
 },
 "nbformat": 4,
 "nbformat_minor": 2
}
