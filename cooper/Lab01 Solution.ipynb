{
 "cells": [
  {
   "cell_type": "code",
   "execution_count": null,
   "id": "ccab6386",
   "metadata": {},
   "outputs": [
    {
     "name": "stdout",
     "output_type": "stream",
     "text": [
      "Cooper, Mark\n",
      "123 Main Street\n",
      "Memphis ,  TN   38119\n"
     ]
    }
   ],
   "source": [
    "#Lab-01 Address.py Solution\n",
    "\n",
    "#This program prompts the user for name and address and prints it out using proper formatting.\n",
    "\n",
    "#Get inputs from the user separately\n",
    "first = input(\"First name: \")\n",
    "last = input(\"Last name: \")\n",
    "street = input(\"Street address: \")\n",
    "city = input(\"City: \")\n",
    "state = input(\"State: \")\n",
    "zip = input(\"Zip code: \")\n",
    "\n",
    "#Output name and address with proper formatting\n",
    "print(last, first, sep=', ') #overwrite sep argument to remove spaces\n",
    "print(street)\n",
    "#Using \",\" in the print function adds a comma to the address label\n",
    "print(city, \", \", state, \" \", zip, sep='')"
   ]
  },
  {
   "cell_type": "code",
   "execution_count": null,
   "id": "8c4a1fcd",
   "metadata": {},
   "outputs": [
    {
     "name": "stdout",
     "output_type": "stream",
     "text": [
      "The 2 solutions are:  -0.6972243622680054 and -4.302775637731995\n"
     ]
    }
   ],
   "source": [
    "#Lab-01 Quadratic.py Solution\n",
    "import math # this imports all the math functions, or the math package\n",
    "\n",
    "a = int(input(\"Enter a: \"))\n",
    "b = int(input(\"Enter b: \"))\n",
    "c = int(input(\"Enter c: \"))\n",
    "sol1 = (-b + math.sqrt(b**2 - 4*a*c))/2*a # math.sqrt asks the math package for the sqrt function\n",
    "sol2 = (-b - math.sqrt(b**2 - 4*a*c))/2*a\n",
    "print(\"The 2 solutions are: \", sol1, \"and\", sol2) \n"
   ]
  },
  {
   "cell_type": "code",
   "execution_count": null,
   "id": "c86fb946",
   "metadata": {},
   "outputs": [],
   "source": [
    "#Understanding error messages you may have seen\n",
    "\n",
    "amt = 8.5 \n",
    "#The following line produces a 'float' object is not callable error message \n",
    "#callable refers to a function - the parentheses make Python assume it is looking for a function\n",
    "net_pay =  0.85 (amt) #to fix, add the * symbol\n",
    "print(net_pay)"
   ]
  },
  {
   "cell_type": "markdown",
   "id": "ac791952",
   "metadata": {},
   "source": [
    "## Challenge question\n",
    "The following problem is __not__ required to get full credit for the lab. It is __optional__ practice.\n",
    "\n",
    "You win a small lottery and suddenly have $50,000 to invest. You decide to put it in the stock market, which historically average about a 7\\% annual return (in other words, your money will increase by 7\\% each year).\n",
    "\n",
    "Write a program which allows the user to enter an amount of money they hope to earn, and your program should print the number of years it will take to earn that amount, compounding 7\\% annually.\n",
    "\n",
    "The formula for calculating the amount of money you'll have after Y years, if you start with P dollars, with an interest rate of r, with compound interest is:\n",
    "\n",
    "$$Value = P[(1+r)^Y]$$\n",
    "\n",
    "Hint: Use import math again, along with the function math.log(x). This calculates the natural logarithm of x. \n",
    "\n",
    "Assuming you need one million dollars to retire, how many years will it take you? What if you need two million? What if the initial amount is increased to $60,000? (Change your program to let the user input an amount). What if the stock market only averages 6\\%?\t"
   ]
  },
  {
   "cell_type": "code",
   "execution_count": null,
   "id": "4bd948b3",
   "metadata": {},
   "outputs": [
    {
     "name": "stdout",
     "output_type": "stream",
     "text": [
      "Years:  44.27715216205352\n"
     ]
    }
   ],
   "source": [
    "#Lab-01 Challenge Question Solution\n",
    "import math\n",
    "\n",
    "# Assuming 7% annual return\n",
    "r = 0.07\n",
    "\n",
    "#Asssuming we have $50,000 to invest\n",
    "P = 50000\n",
    "\n",
    "Value = float(input(\"How much money do you hope to earn? \"))\n",
    "\n",
    "#Need to rearrange the equation to solve for Years\n",
    "\n",
    "years = (math.log(Value/P, 1+r))\n",
    "print(\"Years: \", years)\n"
   ]
  },
  {
   "cell_type": "markdown",
   "id": "a11a8fb6",
   "metadata": {},
   "source": [
    "# Review\n",
    "\n",
    "`print()` always **ends** with a new line after by default, and it  **separates** with a space. Sometimes you don't want that behavior.\n",
    "\n",
    "`print(stuff, end=what_to_end_with, sep=what_to_separate_with)` is how you control that behavior."
   ]
  },
  {
   "cell_type": "code",
   "execution_count": null,
   "id": "5578653a",
   "metadata": {},
   "outputs": [
    {
     "name": "stdout",
     "output_type": "stream",
     "text": [
      "hello goodbye\n",
      "what's next?\n",
      "hellogoodbye;what's next?\n"
     ]
    }
   ],
   "source": [
    "print(\"hello\", \"goodbye\")\n",
    "print(\"what's next?\")\n",
    "\n",
    "print(\"hello\", \"goodbye\", end=\";\", sep=\"\")\n",
    "print(\"what's next?\")"
   ]
  }
 ],
 "metadata": {
  "language_info": {
   "name": "python"
  }
 },
 "nbformat": 4,
 "nbformat_minor": 5
}
