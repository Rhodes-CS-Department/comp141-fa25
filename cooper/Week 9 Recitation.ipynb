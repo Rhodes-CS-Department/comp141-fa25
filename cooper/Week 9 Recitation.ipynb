{
 "cells": [
  {
   "cell_type": "markdown",
   "metadata": {},
   "source": [
    "# Week 9 Recitation\n",
    "\n",
    "## Lab 07: File Reading with the Billboard Hot 100"
   ]
  },
  {
   "cell_type": "markdown",
   "metadata": {},
   "source": [
    "## File Reading and Writing Practice"
   ]
  },
  {
   "cell_type": "markdown",
   "metadata": {},
   "source": [
    "## Practice 1\n",
    "* Write a program that writes a series of random numbers to a file. \n",
    "* Each random number should be in the range of 1 through 100. \n",
    "* Write at least 5 random numbers to the file – 1 number per line.\n",
    "* Call your output file __randomNums.txt__"
   ]
  },
  {
   "cell_type": "code",
   "execution_count": null,
   "metadata": {},
   "outputs": [],
   "source": []
  },
  {
   "cell_type": "code",
   "execution_count": null,
   "metadata": {},
   "outputs": [
    {
     "name": "stdout",
     "output_type": "stream",
     "text": [
      "Done writing file.\n"
     ]
    }
   ],
   "source": [
    "import random\n",
    "\n",
    "def main():\n",
    "    #Open/Create a new file called randomNums.txt for writing\n",
    "    file = open(\"randomNums.txt\", 'w')\n",
    "    \n",
    "    \n",
    "    #Use a loop to easily generate as many random numbers as you want\n",
    "    for i in range(100):\n",
    "        #Generate a random number between 1 and 100\n",
    "        num = random.randint(1, 100)\n",
    "        \n",
    "        #Write that random number out to your file on its own line\n",
    "        file.write(str(num) + '\\n')\n",
    "    \n",
    "    \n",
    "    #Don't forget to close the file!\n",
    "    file.close()\n",
    "    \n",
    "    #Not necessary, but helps to see when your program is done running.\n",
    "    print(\"Done writing file.\")\n",
    "    \n",
    "main()"
   ]
  },
  {
   "cell_type": "markdown",
   "metadata": {},
   "source": [
    "## Practice 2\n",
    "* Write a program that lets the user create their own shopping list, writing it to a file called __shopping_list.txt__."
   ]
  },
  {
   "cell_type": "code",
   "execution_count": null,
   "metadata": {},
   "outputs": [],
   "source": []
  },
  {
   "cell_type": "code",
   "execution_count": null,
   "metadata": {},
   "outputs": [],
   "source": [
    "# shopping_list\n",
    "\n",
    "def main():\n",
    "    file = open(\"shopping_list.txt\", 'w')\n",
    "    \n",
    "    new_item = input(\"What do you want to add to the shopping list? (Enter to quit)\")\n",
    "    while new_item != '':\n",
    "        file.write(new_item) + '\\n')\n",
    "        new_item = input(\"What do you want to add to the shopping list? (Enter to quit)\")\n",
    "\n",
    "    #Don't forget to close the file!\n",
    "    file.close()\n",
    "    \n",
    "    #Not necessary, but helps to see when your program is done running.\n",
    "    print(\"Done writing file.\")\n",
    "    \n",
    "main()"
   ]
  },
  {
   "cell_type": "markdown",
   "metadata": {},
   "source": [
    "## Practice 3\n",
    "* Write a program that lets a user enter the scores from the games of their favorite sports team this season. So each line should be \"team_a_score, team_b_score\". Let the user continue entering input until they type -1. Put the scores into a file called __season_performance.txt__."
   ]
  },
  {
   "cell_type": "code",
   "execution_count": null,
   "metadata": {},
   "outputs": [],
   "source": []
  },
  {
   "cell_type": "code",
   "execution_count": 19,
   "metadata": {},
   "outputs": [
    {
     "name": "stdout",
     "output_type": "stream",
     "text": [
      "Done writing file.\n"
     ]
    }
   ],
   "source": [
    "# season_performance\n",
    "\n",
    "def main():\n",
    "    file = open(\"season_performance.txt\", 'w')\n",
    "    \n",
    "    team_a_score = input(\"Enter Team A's Score: (Enter to quit) \")\n",
    "    while team_a_score != '':\n",
    "        team_b_score = input(\"Enter Team B's Score: \")\n",
    "        new_line = team_a_score + \", \" + team_b_score\n",
    "        file.write(new_line + '\\n')\n",
    "        team_a_score = input(\"Enter Team A's Score: (Enter to quit) \")\n",
    "    \n",
    "    #Don't forget to close the file!\n",
    "    file.close()\n",
    "    \n",
    "    #Not necessary, but helps to see when your program is done running.\n",
    "    print(\"Done writing file.\")\n",
    "    \n",
    "main()"
   ]
  },
  {
   "cell_type": "markdown",
   "metadata": {},
   "source": [
    "## More Examples\n",
    "Open your __randomNums.txt__ file that you created previously and read in each number.\n",
    "1. Write a program that outputs the sum and average of the numbers in your file.\n",
    "2. Write a program that calculates the consecutive differences between numbers in the file. (Hint: use the previous value technique)\n",
    "3. __Challenge:__ Write a program to print out the largest value in the file. \n"
   ]
  },
  {
   "cell_type": "code",
   "execution_count": null,
   "metadata": {},
   "outputs": [],
   "source": []
  },
  {
   "cell_type": "code",
   "execution_count": 15,
   "metadata": {},
   "outputs": [
    {
     "name": "stdout",
     "output_type": "stream",
     "text": [
      "The sum is:  5216\n",
      "The average is:  52.16\n"
     ]
    }
   ],
   "source": [
    "#Finds and outputs the sum and average of the numbers in the randomNums.txt file\n",
    "def main():\n",
    "    file = open(\"randomNums.txt\", 'r')\n",
    "    total = 0\n",
    "    cnt = 0\n",
    "    for line in file:\n",
    "        value = int(line)\n",
    "        total += value\n",
    "        cnt += 1\n",
    "        \n",
    "    file.close()\n",
    "    print(\"The sum is: \", total)\n",
    "    print(\"The average is: \", total/cnt)\n",
    "    \n",
    "main()"
   ]
  },
  {
   "cell_type": "code",
   "execution_count": null,
   "metadata": {},
   "outputs": [],
   "source": []
  },
  {
   "cell_type": "code",
   "execution_count": 16,
   "metadata": {},
   "outputs": [
    {
     "name": "stdout",
     "output_type": "stream",
     "text": [
      "Difference is:  17\n",
      "Difference is:  -32\n",
      "Difference is:  1\n",
      "Difference is:  95\n",
      "Difference is:  -57\n",
      "Difference is:  -35\n",
      "Difference is:  58\n",
      "Difference is:  -59\n",
      "Difference is:  67\n",
      "Difference is:  -34\n",
      "Difference is:  -15\n",
      "Difference is:  70\n",
      "Difference is:  -64\n",
      "Difference is:  -4\n",
      "Difference is:  14\n",
      "Difference is:  -26\n",
      "Difference is:  83\n",
      "Difference is:  -88\n",
      "Difference is:  59\n",
      "Difference is:  -47\n",
      "Difference is:  -10\n",
      "Difference is:  67\n",
      "Difference is:  -49\n",
      "Difference is:  56\n",
      "Difference is:  12\n",
      "Difference is:  -3\n",
      "Difference is:  -13\n",
      "Difference is:  -78\n",
      "Difference is:  88\n",
      "Difference is:  -36\n",
      "Difference is:  -26\n",
      "Difference is:  42\n",
      "Difference is:  8\n",
      "Difference is:  15\n",
      "Difference is:  -4\n",
      "Difference is:  0\n",
      "Difference is:  -58\n",
      "Difference is:  -23\n",
      "Difference is:  6\n",
      "Difference is:  23\n",
      "Difference is:  37\n",
      "Difference is:  -56\n",
      "Difference is:  54\n",
      "Difference is:  -23\n",
      "Difference is:  -42\n",
      "Difference is:  91\n",
      "Difference is:  -24\n",
      "Difference is:  -15\n",
      "Difference is:  -56\n",
      "Difference is:  58\n",
      "Difference is:  34\n",
      "Difference is:  -18\n",
      "Difference is:  -32\n",
      "Difference is:  -9\n",
      "Difference is:  12\n",
      "Difference is:  -1\n",
      "Difference is:  34\n",
      "Difference is:  18\n",
      "Difference is:  -40\n",
      "Difference is:  -3\n",
      "Difference is:  22\n",
      "Difference is:  -37\n",
      "Difference is:  46\n",
      "Difference is:  -84\n",
      "Difference is:  61\n",
      "Difference is:  -60\n",
      "Difference is:  64\n",
      "Difference is:  20\n",
      "Difference is:  -35\n",
      "Difference is:  18\n",
      "Difference is:  -21\n",
      "Difference is:  -30\n",
      "Difference is:  -4\n",
      "Difference is:  47\n",
      "Difference is:  -28\n",
      "Difference is:  22\n",
      "Difference is:  -19\n",
      "Difference is:  54\n",
      "Difference is:  8\n",
      "Difference is:  -68\n",
      "Difference is:  53\n",
      "Difference is:  -9\n",
      "Difference is:  -7\n",
      "Difference is:  -44\n",
      "Difference is:  34\n",
      "Difference is:  -37\n",
      "Difference is:  77\n",
      "Difference is:  -90\n",
      "Difference is:  76\n",
      "Difference is:  -61\n",
      "Difference is:  0\n",
      "Difference is:  38\n",
      "Difference is:  31\n",
      "Difference is:  -16\n",
      "Difference is:  -23\n",
      "Difference is:  42\n",
      "Difference is:  -19\n",
      "Difference is:  -22\n",
      "Difference is:  8\n"
     ]
    }
   ],
   "source": [
    "#Calculates the consecutive differences between numbers in the randomNums.txt file\n",
    "def main():\n",
    "    file = open(\"randomNums.txt\", 'r')\n",
    "    prev = file.readline()\n",
    "    prev = int(prev)\n",
    "    for curr in file:\n",
    "        curr = int(curr)\n",
    "        print(\"Difference is: \", curr - prev)\n",
    "        prev = curr\n",
    "    file.close()\n",
    "main()"
   ]
  },
  {
   "cell_type": "markdown",
   "metadata": {},
   "source": [
    "__Pseudocode for finding the maximum__\n",
    "* __largest__ = [smallest possible number that you could ever see]\n",
    "* look at each number once (loop over all values):\n",
    "        if the current number > largest, then\n",
    "            largest = current number\n",
    "\n",
    "* after this loop, __largest__ will have the maximum number in it!"
   ]
  },
  {
   "cell_type": "code",
   "execution_count": 17,
   "metadata": {},
   "outputs": [
    {
     "name": "stdout",
     "output_type": "stream",
     "text": [
      "The maximum value in the file is:  99\n"
     ]
    }
   ],
   "source": [
    "# Finds the maximum value in the randomNums.txt file\n",
    "def main():\n",
    "    file = open(\"randomNums.txt\", 'r')\n",
    "    maxVal = 0\n",
    "    for line in file:\n",
    "        value = int(line)\n",
    "        if value > maxVal:\n",
    "            maxVal = value\n",
    "    file.close()\n",
    "    print(\"The maximum value in the file is: \", maxVal)\n",
    "main()   "
   ]
  },
  {
   "cell_type": "code",
   "execution_count": null,
   "metadata": {},
   "outputs": [
    {
     "name": "stdout",
     "output_type": "stream",
     "text": [
      "Average: 6.333333333333333\n",
      "Highest: 12\n"
     ]
    }
   ],
   "source": [
    " # calculate the average and max score for Team A\n",
    " \n",
    "def main():\n",
    "    file = open(\"season_performance.txt\")\n",
    "    total = 0\n",
    "    count = 0\n",
    "    highest_score = 0\n",
    "    for line in file:\n",
    "        # print(line)\n",
    "        score_1, score_2 = line.split(',')\n",
    "        total += int(score_1)\n",
    "        count += 1\n",
    "        if int(score_1) > highest_score:\n",
    "            highest_score = int(score_1)\n",
    "    print(\"Average:\", total / count)\n",
    "    print(\"Highest:\", highest_score)\n",
    "main()"
   ]
  }
 ],
 "metadata": {
  "kernelspec": {
   "display_name": "Python 3",
   "language": "python",
   "name": "python3"
  },
  "language_info": {
   "codemirror_mode": {
    "name": "ipython",
    "version": 3
   },
   "file_extension": ".py",
   "mimetype": "text/x-python",
   "name": "python",
   "nbconvert_exporter": "python",
   "pygments_lexer": "ipython3",
   "version": "3.13.1"
  },
  "varInspector": {
   "cols": {
    "lenName": 16,
    "lenType": 16,
    "lenVar": 40
   },
   "kernels_config": {
    "python": {
     "delete_cmd_postfix": "",
     "delete_cmd_prefix": "del ",
     "library": "var_list.py",
     "varRefreshCmd": "print(var_dic_list())"
    },
    "r": {
     "delete_cmd_postfix": ") ",
     "delete_cmd_prefix": "rm(",
     "library": "var_list.r",
     "varRefreshCmd": "cat(var_dic_list()) "
    }
   },
   "types_to_exclude": [
    "module",
    "function",
    "builtin_function_or_method",
    "instance",
    "_Feature"
   ],
   "window_display": false
  }
 },
 "nbformat": 4,
 "nbformat_minor": 2
}
