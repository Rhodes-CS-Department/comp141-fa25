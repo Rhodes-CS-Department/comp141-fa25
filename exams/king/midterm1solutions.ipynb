{
 "cells": [
  {
   "cell_type": "markdown",
   "id": "standing-heater",
   "metadata": {},
   "source": [
    "# Midterm 1: Coding\n",
    "\n",
    "* **You may not use any other assistance besides the Jupyter Notebook itself.**\n",
    "* Submissions will **lock** at the end of class: be sure you have submitted before that!\n",
    "* If you are having trouble, move on. **Make sure you do the most basic parts of every question.**\n",
    "* Do your best! Ask questions if you need to."
   ]
  },
  {
   "cell_type": "markdown",
   "id": "embedded-german",
   "metadata": {},
   "source": [
    "### Before you begin:\n",
    "\n",
    "\n",
    "\n",
    "Assign a fair numberic (out of 100) to each of the following possiblities:\n",
    "\n",
    "* 0 parts with correct output:\n",
    "* at least 1 part of each question with correct output: \n",
    "* at least 2 parts of each question with correct output:\n",
    "* at least 3 parts of each question with correct output:\n",
    "* all parts of all questions with correct output:\n",
    "\n",
    "Your grade on this portion of the exam will be averaged with your grade on the other portion according to a fair weighting scheme."
   ]
  },
  {
   "cell_type": "markdown",
   "id": "882422a3",
   "metadata": {},
   "source": [
    "### Question 1: Calculating Averages with Functions"
   ]
  },
  {
   "cell_type": "code",
   "execution_count": 1,
   "id": "c1fc273c",
   "metadata": {},
   "outputs": [
    {
     "name": "stdout",
     "output_type": "stream",
     "text": [
      "7\n",
      "14\n",
      "21\n",
      "28\n",
      "35\n",
      "42\n",
      "49\n",
      "56\n",
      "63\n",
      "70\n",
      "77\n",
      "84\n",
      "91\n",
      "98\n"
     ]
    }
   ],
   "source": [
    "# Part 1:\n",
    "# Write a for loop that prints out all of the multiples of 7 up to 100.\n",
    "# Use the range function.\n",
    "# correct output: 7, 14, 21, 28, 35, 42, 49, 56, 63, 70, 77, 84, 91, 98\n",
    "for i in range(7, 100, 7):\n",
    "    print(i)"
   ]
  },
  {
   "cell_type": "code",
   "execution_count": 2,
   "id": "3019b20f",
   "metadata": {},
   "outputs": [
    {
     "name": "stdout",
     "output_type": "stream",
     "text": [
      "735\n"
     ]
    }
   ],
   "source": [
    "# Part 2:\n",
    "# Copy (ctrl+c) and paste (ctrl+v) your above code. Modify it so that:\n",
    "#   1) it no longer prints out the multiples of 7 but instead adds up the multiples of 7\n",
    "#   2) prints out the total sum of multiples of 7\n",
    "# correct output: 735\n",
    "total = 0\n",
    "for i in range(7, 100, 7):\n",
    "    total += i\n",
    "print(total)"
   ]
  },
  {
   "cell_type": "code",
   "execution_count": 3,
   "id": "6179fceb",
   "metadata": {},
   "outputs": [
    {
     "name": "stdout",
     "output_type": "stream",
     "text": [
      "52.5\n"
     ]
    }
   ],
   "source": [
    "# Part 3:\n",
    "# Copy (ctrl+c) and paste (ctrl+v) your above code. Modify it so that:\n",
    "#   1) it no longer prints out the multiples of 7 but also counts the number of iterations of the loop\n",
    "#   2) prints out the average of the multiples of 7 up to 100\n",
    "# Remember: average = total / count\n",
    "# correct output: 52.5\n",
    "total = 0\n",
    "count = 0\n",
    "for i in range(7, 100, 7):\n",
    "    total += i\n",
    "    count += 1\n",
    "print(total/count)"
   ]
  },
  {
   "cell_type": "code",
   "execution_count": 6,
   "id": "7535de67",
   "metadata": {},
   "outputs": [],
   "source": [
    "# Part 4:\n",
    "# Using Part 3 as a guide, write a function: average_of_multiples(n)\n",
    "# which takes in a number n and returns the average of the multiples of n up to but excluding 100.\n",
    "\n",
    "# your function should NOT print anything!\n",
    "\n",
    "# Hint: you may have difficulty reconciling the start of your range function and your count of multiples. Figure it out!\n",
    "def average_of_multiples(n):\n",
    "    total = 0\n",
    "    count = 0\n",
    "    for i in range(n, 100, n):\n",
    "        total += i\n",
    "        count += 1\n",
    "    return total/count"
   ]
  },
  {
   "cell_type": "code",
   "execution_count": 7,
   "id": "21703d3a",
   "metadata": {},
   "outputs": [
    {
     "name": "stdout",
     "output_type": "stream",
     "text": [
      "52.5\n",
      "50.0\n",
      "51.0\n"
     ]
    }
   ],
   "source": [
    "# testing Part 4\n",
    "answer = average_of_multiples(7)\n",
    "print(answer) # should be 52.5\n",
    "answer = average_of_multiples(10)\n",
    "print(answer) # should be 50\n",
    "answer = average_of_multiples(3)\n",
    "print(answer) # should be 51"
   ]
  },
  {
   "cell_type": "code",
   "execution_count": 12,
   "id": "65de0204",
   "metadata": {},
   "outputs": [
    {
     "name": "stdout",
     "output_type": "stream",
     "text": [
      "Larger Result Found: 50.0 for multiples of 1\n",
      "Larger Result Found: 51.0 for multiples of 3\n",
      "Larger Result Found: 52.5 for multiples of 7\n",
      "Larger Result Found: 54.0 for multiples of 9\n",
      "Larger Result Found: 55.0 for multiples of 11\n",
      "Larger Result Found: 56.0 for multiples of 14\n",
      "Larger Result Found: 57.0 for multiples of 19\n",
      "Larger Result Found: 57.5 for multiples of 23\n",
      "Larger Result Found: 60.0 for multiples of 24\n",
      "Larger Result Found: 62.0 for multiples of 31\n",
      "Larger Result Found: 64.0 for multiples of 32\n",
      "Larger Result Found: 66.0 for multiples of 33\n",
      "Larger Result Found: 67.5 for multiples of 45\n",
      "Larger Result Found: 69.0 for multiples of 46\n",
      "Larger Result Found: 70.5 for multiples of 47\n",
      "Larger Result Found: 72.0 for multiples of 48\n",
      "Larger Result Found: 73.5 for multiples of 49\n",
      "Larger Result Found: 74.0 for multiples of 74\n",
      "Larger Result Found: 75.0 for multiples of 75\n",
      "Larger Result Found: 76.0 for multiples of 76\n",
      "Larger Result Found: 77.0 for multiples of 77\n",
      "Larger Result Found: 78.0 for multiples of 78\n",
      "Larger Result Found: 79.0 for multiples of 79\n",
      "Larger Result Found: 80.0 for multiples of 80\n",
      "Larger Result Found: 81.0 for multiples of 81\n",
      "Larger Result Found: 82.0 for multiples of 82\n",
      "Larger Result Found: 83.0 for multiples of 83\n",
      "Larger Result Found: 84.0 for multiples of 84\n",
      "Larger Result Found: 85.0 for multiples of 85\n",
      "Larger Result Found: 86.0 for multiples of 86\n",
      "Larger Result Found: 87.0 for multiples of 87\n",
      "Larger Result Found: 88.0 for multiples of 88\n",
      "Larger Result Found: 89.0 for multiples of 89\n",
      "Larger Result Found: 90.0 for multiples of 90\n",
      "Larger Result Found: 91.0 for multiples of 91\n",
      "Larger Result Found: 92.0 for multiples of 92\n",
      "Larger Result Found: 93.0 for multiples of 93\n",
      "Larger Result Found: 94.0 for multiples of 94\n",
      "Larger Result Found: 95.0 for multiples of 95\n",
      "Larger Result Found: 96.0 for multiples of 96\n",
      "Larger Result Found: 97.0 for multiples of 97\n",
      "Larger Result Found: 98.0 for multiples of 98\n",
      "Larger Result Found: 99.0 for multiples of 99\n"
     ]
    }
   ],
   "source": [
    "# Optional Challenge:\n",
    "# Write a loop which determines the value of n for which average_of_multiples returns the largest value.\n",
    "# For example, average_of_multiples(7) returns 52.5 but average_of_multiples(10) returns 50.\n",
    "# What's the highest number we can get?\n",
    "largest_result = 0\n",
    "for i in range(1, 100):\n",
    "    result = average_of_multiples(i)\n",
    "    if result > largest_result:\n",
    "        print(\"Larger Result Found:\", result, \"for multiples of\", i)\n",
    "        largest_result = result"
   ]
  },
  {
   "cell_type": "markdown",
   "id": "a688b0d1",
   "metadata": {},
   "source": [
    "### Question 2: Marching Ants\n",
    "\n",
    "* `open_canvas(width, height)` Opens a new canvas with the given size and displays it. It will be filled with the current background color.\n",
    "\n",
    "* `set_color(color_name)` Given a string like black, blue, etc., will set the current drawing color.\n",
    "\n",
    "* `set_background_color(color_name)` Given a string like black, blue, etc., will set the current background color.\n",
    "\n",
    "* `set_color_rgb(red, blue, green)` Given red, blue, and green between 0 and 255, will set the current drawing color to that value.\n",
    "\n",
    "* `set_background_color_rgb(red, blue, green)` Given red, blue, and green between 0 and 255, will set the current background color to that value.\n",
    "\n",
    "* `set_line_thickness(thickness)` Sets the thickness of the lines that are drawn.\n",
    "\n",
    "* `clear_canvas()` Clears the canvas with the current background color.\n",
    "\n",
    "* `draw_line(x0, y0, x1, y1)` Draws a line between (x0, y0) and (x1, y1).\n",
    "\n",
    "* `draw_polyline(x0, y0, x1, y1, ...)`Draws a sequence of lines where each point is connected to the previous.\n",
    "\n",
    "* `draw_circle(centerx, centery, radius)` Draws a circle at the given point, with the given radius.\n",
    "\n",
    "* `draw_filled_circle(centerx, centery, radius)` Like draw_circle but fills the circle.\n",
    "\n",
    "* `draw_oval(centerx, centery, radiusx, radiusy)` Draws an ellipse at the given center point with the provided radii.\n",
    "\n",
    "* `draw_filled_oval(centerx, centery, radiusx, radiusy)` Like draw_oval but fills the oval.\n",
    "\n",
    "* `draw_rect(x, y, width, height)` Draws a rectangle with upper corner at x, y. \n",
    "\n",
    "* `draw_filled_rect(x, y, width, height)` Like draw_rect but fills the rectangle.\n",
    "\n",
    "* `draw_polygon(x1, y1, x2, y2, ...)` Like draw_polyline but connects the last point to the first.\n",
    "\n",
    "* `draw_filled_polygon(x1, y1, x2, y2, ...)` Like draw_polygon but fills the polygon.\n",
    "\n",
    "* `draw_string(message, x, y, text_size)` Draws the given string centered at x, y with the given text size."
   ]
  },
  {
   "cell_type": "code",
   "execution_count": null,
   "id": "d5aceb1c",
   "metadata": {},
   "outputs": [
    {
     "ename": "ModuleNotFoundError",
     "evalue": "No module named 'cs1'",
     "output_type": "error",
     "traceback": [
      "\u001b[31m---------------------------------------------------------------------------\u001b[39m",
      "\u001b[31mModuleNotFoundError\u001b[39m                       Traceback (most recent call last)",
      "\u001b[36mCell\u001b[39m\u001b[36m \u001b[39m\u001b[32mIn[13]\u001b[39m\u001b[32m, line 4\u001b[39m\n\u001b[32m      1\u001b[39m \u001b[38;5;66;03m# Part 1:\u001b[39;00m\n\u001b[32m      2\u001b[39m \u001b[38;5;66;03m# Write a function draw_ant() which draws a single ant at position (100, 100) in as much or as little detail (including just a single circle) as you like.\u001b[39;00m\n\u001b[32m      3\u001b[39m \u001b[38;5;66;03m# Test and run your function.\u001b[39;00m\n\u001b[32m----> \u001b[39m\u001b[32m4\u001b[39m \u001b[38;5;28;01mfrom\u001b[39;00m\u001b[38;5;250m \u001b[39m\u001b[34;01mcs1\u001b[39;00m\u001b[34;01m.\u001b[39;00m\u001b[34;01mgraphics\u001b[39;00m\u001b[38;5;250m \u001b[39m\u001b[38;5;28;01mimport\u001b[39;00m *\n\u001b[32m      5\u001b[39m \u001b[38;5;28;01mdef\u001b[39;00m\u001b[38;5;250m \u001b[39m\u001b[34mdraw_ant\u001b[39m(x, y):\n\u001b[32m      6\u001b[39m     draw_circle(x, y, \u001b[32m10\u001b[39m)\n",
      "\u001b[31mModuleNotFoundError\u001b[39m: No module named 'cs1'"
     ]
    }
   ],
   "source": [
    "# Part 1:\n",
    "# Write a function draw_ant() which draws a single ant at position (100, 100) in as much or as little detail (including just a single circle) as you like.\n",
    "# Test and run your function.\n",
    "from cs1.graphics import *\n",
    "def draw_ant():\n",
    "    x = 50\n",
    "    y = 50\n",
    "    draw_circle(x, y, 10)\n",
    "    draw_circle(x - 10, y, 10)\n",
    "    draw_circle(x + 10, y)\n",
    "\n",
    "open_canvas(500, 300)\n",
    "draw_ant()"
   ]
  },
  {
   "cell_type": "code",
   "execution_count": null,
   "id": "24d3e99f",
   "metadata": {},
   "outputs": [],
   "source": [
    "# Part 2:\n",
    "# Modify your function so that it takes an x and y as inputs and draws the ant on or near that coordinate.\n",
    "from cs1.graphics import *\n",
    "def draw_ant(x, y):\n",
    "    draw_circle(x, y, 10)\n",
    "    draw_circle(x - 10, y, 10)\n",
    "    draw_circle(x + 10, y)\n",
    "    \n",
    "open_canvas(500, 300)\n",
    "draw_ant(30, 200)\n",
    "draw_ant(300, 20)"
   ]
  },
  {
   "cell_type": "code",
   "execution_count": null,
   "id": "4b427c2b",
   "metadata": {},
   "outputs": [],
   "source": [
    "# Part 3:\n",
    "# Write a new function draw_ants() which repeatedly asks the user if they want a new ant or not.\n",
    "# If the user says \"yes\", draw a new ant somewhere new on the screen, preferably just \"ahead\" of the last ant.\n",
    "# Hint: you will want a variable to \"remember\" where the last ant was so you can increment it for the next ant.\n",
    "from cs1.graphics import *\n",
    "def draw_ants():\n",
    "    x = 10\n",
    "    y = 10\n",
    "    draw_ant(x, y)\n",
    "    response = input(\"Draw an ant? (yes/no) \")\n",
    "    while response == \"yes\":\n",
    "        draw_ant(x, y)\n",
    "        x += 10\n",
    "        y += 10\n",
    "        response = input(\"Draw an ant? (yes/no) \")\n",
    "\n",
    "open_canvas(500, 300)\n",
    "draw_ants()"
   ]
  },
  {
   "cell_type": "code",
   "execution_count": null,
   "id": "f4cf0437",
   "metadata": {},
   "outputs": [],
   "source": [
    "# Optional Challenge:\n",
    "# Write a new function animate_ant() which makes it appear as though a single ant is moving across the screen.\n",
    "# The old ant should disappear when you draw the new ant.\n",
    "# If you get an error about \"too many function calls\", don't worry about it. Just run it again.\n",
    "def animate_ant():\n",
    "    for i in range(10):\n",
    "        clear_canvas()\n",
    "        draw_ant(10 + i*30, 100)\n",
    "\n",
    "open_canvas(500, 300)\n",
    "animate_ant()"
   ]
  },
  {
   "cell_type": "markdown",
   "id": "66ed8db5",
   "metadata": {},
   "source": [
    "### Question 3: Debugging\n",
    "\n",
    "The following function is meant to:\n",
    "* ask the user for numbers until they enter a number divisible by 51\n",
    "* remember the biggest number seen so far\n",
    "* remember the smallest number seen so far\n",
    "* return the difference between the biggest and smallest numbers\n",
    "\n",
    "But the function doesn't work! Can you fix it?\n",
    "\n",
    "Run the `# tests` cell to test the code."
   ]
  },
  {
   "cell_type": "code",
   "execution_count": null,
   "id": "db19fab9",
   "metadata": {},
   "outputs": [],
   "source": [
    "# Part 1: Make sure the program runs without error.\n",
    "# Part 2: Make sure the program does what it's supposed to.\n",
    "def biggest_difference(): # added :\n",
    "    num = int(input(\"Enter a number: \")) # change to input, cast as integer\n",
    "    biggest = num\n",
    "    smallest = num\n",
    "    while num % 51 != 0: # = needs to be !=, needs a colon\n",
    "        if biggest < num:\n",
    "            biggest = num # can't be ==\n",
    "        if smallest > num:\n",
    "            smallest = num\n",
    "        num = int(input(\"Enter a number: \")) # cast as integer\n",
    "    return biggest - smallest # should be biggest - smallest, should return not print"
   ]
  },
  {
   "cell_type": "code",
   "execution_count": 31,
   "id": "ef436e6c",
   "metadata": {},
   "outputs": [
    {
     "name": "stdout",
     "output_type": "stream",
     "text": [
      "184\n"
     ]
    },
    {
     "data": {
      "text/plain": [
       "0"
      ]
     },
     "execution_count": 31,
     "metadata": {},
     "output_type": "execute_result"
    }
   ],
   "source": [
    "# tests\n",
    "answer = biggest_difference() # enter: 16, 200, 91, 44, 101, 204\n",
    "print(answer) # should be 184\n",
    "204 % 51"
   ]
  },
  {
   "cell_type": "code",
   "execution_count": 27,
   "id": "933189fc",
   "metadata": {},
   "outputs": [
    {
     "data": {
      "text/plain": [
       "0"
      ]
     },
     "execution_count": 27,
     "metadata": {},
     "output_type": "execute_result"
    }
   ],
   "source": [
    "204 % 51"
   ]
  },
  {
   "cell_type": "markdown",
   "id": "intelligent-japan",
   "metadata": {},
   "source": [
    "# Submitting\n",
    "\n",
    "To submit this portion of the midterm, run the cell below. **Verify that your notebook submitted.**"
   ]
  },
  {
   "cell_type": "code",
   "execution_count": null,
   "id": "c57d3541",
   "metadata": {},
   "outputs": [],
   "source": [
    "# Run this cell to submit\n",
    "from cs1.notebooks import *\n",
    "ok_submit('midterm1.ok')"
   ]
  }
 ],
 "metadata": {
  "kernelspec": {
   "display_name": "Python 3",
   "language": "python",
   "name": "python3"
  },
  "language_info": {
   "codemirror_mode": {
    "name": "ipython",
    "version": 3
   },
   "file_extension": ".py",
   "mimetype": "text/x-python",
   "name": "python",
   "nbconvert_exporter": "python",
   "pygments_lexer": "ipython3",
   "version": "3.13.1"
  },
  "varInspector": {
   "cols": {
    "lenName": 16,
    "lenType": 16,
    "lenVar": 40
   },
   "kernels_config": {
    "python": {
     "delete_cmd_postfix": "",
     "delete_cmd_prefix": "del ",
     "library": "var_list.py",
     "varRefreshCmd": "print(var_dic_list())"
    },
    "r": {
     "delete_cmd_postfix": ") ",
     "delete_cmd_prefix": "rm(",
     "library": "var_list.r",
     "varRefreshCmd": "cat(var_dic_list()) "
    }
   },
   "types_to_exclude": [
    "module",
    "function",
    "builtin_function_or_method",
    "instance",
    "_Feature"
   ],
   "window_display": false
  }
 },
 "nbformat": 4,
 "nbformat_minor": 5
}
