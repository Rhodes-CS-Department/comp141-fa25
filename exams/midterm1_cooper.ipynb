{
 "cells": [
  {
   "cell_type": "markdown",
   "id": "standing-heater",
   "metadata": {},
   "source": [
    "# Midterm 1 - COMP 141-3 (Cooper)\n",
    "\n",
    "## Write Code\n",
    "\n",
    "Instructions:\n",
    "\n",
    " -> Put your name in the comment section at the beginning of each program.\n",
    "\n",
    " -> Complete the two programs below. \n",
    "\n",
    " -> Demonstrate their correctness by running the given test cases. \n",
    "\n",
    " -> Save your notebook (File menu > Save and Checkpoint).\n",
    "\n",
    " -> Submit your notebook using the okpy function at the bottom. \n",
    "\n",
    " -> Make sure that it submits successfully before logging out.\n",
    "\n",
    "**You may only submit your notebook once**"
   ]
  },
  {
   "cell_type": "code",
   "execution_count": null,
   "id": "ca921632",
   "metadata": {},
   "outputs": [],
   "source": []
  },
  {
   "cell_type": "markdown",
   "id": "embedded-german",
   "metadata": {},
   "source": [
    "### 25. (10 points)"
   ]
  },
  {
   "cell_type": "code",
   "execution_count": null,
   "id": "needed-peninsula",
   "metadata": {},
   "outputs": [],
   "source": [
    "# Author: FILL IN\n",
    "# Class: COMP 141-3\n",
    "# Problem 25\n",
    "\n"
   ]
  },
  {
   "cell_type": "markdown",
   "id": "882422a3",
   "metadata": {},
   "source": [
    "### 26. (15 points)"
   ]
  },
  {
   "cell_type": "code",
   "execution_count": null,
   "id": "c1fc273c",
   "metadata": {},
   "outputs": [],
   "source": [
    "# Author: FILL IN\n",
    "# Class: COMP 141-3\n",
    "# Problem 26\n",
    "\n"
   ]
  },
  {
   "cell_type": "markdown",
   "id": "intelligent-japan",
   "metadata": {},
   "source": [
    "# Submitting\n",
    "\n",
    "To submit this portion of the midterm, run the cell below. YOU CAN ONLY SUBMIT ONCE. Make sure that you click the link returned to you by okpy to verify that your notebook submitted correctly."
   ]
  },
  {
   "cell_type": "code",
   "execution_count": null,
   "id": "16b6550e",
   "metadata": {},
   "outputs": [],
   "source": [
    "# Run this cell to log in to okpy.org so that you can submit\n",
    "# at the end of the lab.\n",
    "from cs1.notebooks import *\n",
    "ok_submit('midterm1.ok')"
   ]
  }
 ],
 "metadata": {
  "kernelspec": {
   "display_name": "Python 3 (ipykernel)",
   "language": "python",
   "name": "python3"
  },
  "language_info": {
   "codemirror_mode": {
    "name": "ipython",
    "version": 3
   },
   "file_extension": ".py",
   "mimetype": "text/x-python",
   "name": "python",
   "nbconvert_exporter": "python",
   "pygments_lexer": "ipython3",
   "version": "3.12.3"
  },
  "varInspector": {
   "cols": {
    "lenName": 16,
    "lenType": 16,
    "lenVar": 40
   },
   "kernels_config": {
    "python": {
     "delete_cmd_postfix": "",
     "delete_cmd_prefix": "del ",
     "library": "var_list.py",
     "varRefreshCmd": "print(var_dic_list())"
    },
    "r": {
     "delete_cmd_postfix": ") ",
     "delete_cmd_prefix": "rm(",
     "library": "var_list.r",
     "varRefreshCmd": "cat(var_dic_list()) "
    }
   },
   "types_to_exclude": [
    "module",
    "function",
    "builtin_function_or_method",
    "instance",
    "_Feature"
   ],
   "window_display": false
  }
 },
 "nbformat": 4,
 "nbformat_minor": 5
}
